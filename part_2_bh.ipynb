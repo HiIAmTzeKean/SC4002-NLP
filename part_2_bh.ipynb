{
 "cells": [
  {
   "cell_type": "markdown",
   "metadata": {},
   "source": [
    "## Part 2. Model Training & Evaluation - RNN   \n",
    "Now with the pretrained word embeddings acquired from Part 1 and the dataset acquired from\n",
    "Part 0, you need to train a deep learning model for sentiment classification using the training set,\n",
    "conforming to these requirements:\n"
   ]
  },
  {
   "cell_type": "markdown",
   "metadata": {},
   "source": [
    "• Use the pretrained word embeddings from Part 1 as inputs; do not update them during training\n",
    "(they are “frozen”).   \n",
    "\n",
    "• Design a simple recurrent neural network (RNN), taking the input word embeddings, and\n",
    "predicting a sentiment label for each sentence. To do that, you need to consider how to\n",
    "aggregate the word representations to represent a sentence.   \n",
    "\n",
    "• Use the validation set to gauge the performance of the model for each epoch during training.\n",
    "You are required to use accuracy as the performance metric during validation and evaluation. \n",
    "   \n",
    "• Use the mini-batch strategy during training. You may choose any preferred optimizer (e.g.,\n",
    "SGD, Adagrad, Adam, RMSprop). Be careful when you choose your initial learning rate and\n",
    "mini-batch size. (You should use the validation set to determine the optimal configuration.)\n",
    "Train the model until the accuracy score on the validation set is not increasing for a few\n",
    "epochs.\n",
    "   \n",
    "• Evaluate your trained model on the test dataset, observing the accuracy score."
   ]
  },
  {
   "cell_type": "code",
   "execution_count": 2,
   "metadata": {},
   "outputs": [],
   "source": [
    "import os\n",
    "import json\n",
    "import torch\n",
    "import torch.nn as nn\n",
    "import torch.nn.functional as F\n",
    "import numpy as np\n",
    "import time\n",
    "from datasets import load_dataset"
   ]
  },
  {
   "cell_type": "code",
   "execution_count": 3,
   "metadata": {},
   "outputs": [],
   "source": [
    "# We omit warnings to keep the output clean\n",
    "import warnings\n",
    "warnings.simplefilter(action='ignore', category=UserWarning)"
   ]
  },
  {
   "cell_type": "code",
   "execution_count": 4,
   "metadata": {},
   "outputs": [],
   "source": [
    "from common_utils import load_glove_embeddings, set_seed\n",
    "import nltk"
   ]
  },
  {
   "cell_type": "code",
   "execution_count": 5,
   "metadata": {},
   "outputs": [],
   "source": [
    "# set seed \n",
    "set_seed()"
   ]
  },
  {
   "cell_type": "code",
   "execution_count": 6,
   "metadata": {},
   "outputs": [],
   "source": [
    "# initialize parameters\n",
    "BATCH_SIZE = 32\n",
    "INPUT_SIZE = 100 # word embedding size \n",
    "HIDDEN_SIZE = 128 # just as a starter to see \n",
    "NUM_EPOCHS = 100 "
   ]
  },
  {
   "cell_type": "code",
   "execution_count": 7,
   "metadata": {},
   "outputs": [],
   "source": [
    "EMBEDDING_DIM=100"
   ]
  },
  {
   "cell_type": "code",
   "execution_count": 8,
   "metadata": {},
   "outputs": [
    {
     "name": "stdout",
     "output_type": "stream",
     "text": [
      "Loading GloVe embeddings...\n"
     ]
    },
    {
     "name": "stderr",
     "output_type": "stream",
     "text": [
      "Repo card metadata block was not found. Setting CardData to empty.\n"
     ]
    },
    {
     "name": "stdout",
     "output_type": "stream",
     "text": [
      "Total GloVe words loaded: 400000\n"
     ]
    }
   ],
   "source": [
    "# initialize word embeddings\n",
    "word_embeddings = load_glove_embeddings()"
   ]
  },
  {
   "cell_type": "code",
   "execution_count": 41,
   "metadata": {},
   "outputs": [],
   "source": [
    "class vanillaRNN(nn.Module):\n",
    "  def __init__(self, input_size, hidden_size, num_layers, num_classes):\n",
    "    super().__init__()\n",
    "    self.num_layers = num_layers \n",
    "    self.hidden_size = hidden_size \n",
    "    self.rnn = nn.RNN(input_size, hidden_size, num_layers, batch_first=True) # this is the num rows of the input matrix \n",
    "    self.fc = nn.Linear(hidden_size, num_classes)\n",
    "    self.sigmoid = nn.Sigmoid()\n",
    "\n",
    "  def forward(self, x):\n",
    "    h0 = torch.zeros(self.num_layers, x.size(0), self.hidden_size).to(x.device)\n",
    "    output, h_t = self.rnn(x, h0) # we can just use the last hidden state output as the \n",
    "    last_hidden = h_t[-1]\n",
    "    logits = self.sigmoid(self.fc(last_hidden))\n",
    "    return logits "
   ]
  },
  {
   "cell_type": "code",
   "execution_count": 10,
   "metadata": {},
   "outputs": [],
   "source": [
    "# load dataset from huggingface first \n",
    "dataset = load_dataset(\"rotten_tomatoes\")\n",
    "train_dataset = dataset['train']\n",
    "validation_dataset = dataset['validation']\n",
    "test_dataset = dataset['test']"
   ]
  },
  {
   "cell_type": "code",
   "execution_count": 9,
   "metadata": {},
   "outputs": [
    {
     "data": {
      "text/plain": [
       "Dataset({\n",
       "    features: ['text', 'label'],\n",
       "    num_rows: 8530\n",
       "})"
      ]
     },
     "execution_count": 9,
     "metadata": {},
     "output_type": "execute_result"
    }
   ],
   "source": [
    "train_dataset"
   ]
  },
  {
   "cell_type": "code",
   "execution_count": 11,
   "metadata": {},
   "outputs": [],
   "source": [
    "with open('result/word2idx.json', \"r\") as file:\n",
    "    word2idx = json.load(file)"
   ]
  },
  {
   "cell_type": "code",
   "execution_count": null,
   "metadata": {},
   "outputs": [],
   "source": [
    "# create train, validate and test datasets and dataloaders \n",
    "from torch.utils.data import Dataset, DataLoader \n",
    "\n",
    "# TODO: change the num_tokens \n",
    "class EmbeddingsDataset(Dataset):\n",
    "  def __init__(self, X, y, num_tokens_per_sentence=12, word_embeddings=word_embeddings):\n",
    "    self.num_tokens_per_sentence = 8\n",
    "    self.word_embeddings = word_embeddings\n",
    "    self.X = X # train_dataset['text']\n",
    "    self.y = y # train_dataset['label']\n",
    "    self.len = len(self.X)\n",
    "    \n",
    "  def __getitem__(self, index):\n",
    "    # tokenize the sentence \n",
    "    tokens = self.tokenize_sentence(self.X[index])\n",
    "    # convert each token to embeddings \n",
    "    sentence_tensor = self.convert_sentence_into_embedding_tensor(tokens)\n",
    "    label = torch.tensor(self.y[index], dtype=torch.float)\n",
    "    return sentence_tensor, label \n",
    "\n",
    "  def __len__(self):\n",
    "    return self.len \n",
    "\n",
    "  def tokenize_sentence(self, x): \n",
    "    '''\n",
    "    returns a list containing the embeddings of each token \n",
    "    '''\n",
    "    tokens = nltk.word_tokenize(x)\n",
    "    return tokens \n",
    "\n",
    "  def convert_sentence_into_embedding_tensor(self, tokens):\n",
    "    sentence_embeddings = [] \n",
    "    num_tokens_used = 0\n",
    "    for i, token in enumerate(tokens): \n",
    "      if num_tokens_used == self.num_tokens_per_sentence:\n",
    "        break # we have enough of tokens from the sentence \n",
    "\n",
    "      if token in self.word_embeddings: # only use words that are in the word_embeddings matrix, otherwise skip\n",
    "        embedding_tensor = torch.tensor(self.word_embeddings[token], dtype=torch.float)\n",
    "        sentence_embeddings.append(embedding_tensor)\n",
    "      num_tokens_used += 1 \n",
    "\n",
    "    # if not enough tokens in the sentence, pad with zero tensors \n",
    "    if len(sentence_embeddings) < self.num_tokens_per_sentence:\n",
    "            # Padding with zero vectors if less than 8 embeddings\n",
    "            padding = [torch.zeros(EMBEDDING_DIM) for _ in range(self.num_tokens_per_sentence - len(sentence_embeddings))]\n",
    "            sentence_embeddings.extend(padding)\n",
    "\n",
    "    sentence_tensor = torch.stack(sentence_embeddings)\n",
    "    return sentence_tensor \n",
    "  \n",
    "\n"
   ]
  },
  {
   "cell_type": "code",
   "execution_count": 79,
   "metadata": {},
   "outputs": [],
   "source": [
    "train_dataset_ed = EmbeddingsDataset(train_dataset['text'], train_dataset['label'])\n",
    "validation_dataset_ed = EmbeddingsDataset(validation_dataset['text'], validation_dataset['label'])\n",
    "test_dataset_ed = EmbeddingsDataset(test_dataset['text'], test_dataset['label'])\n",
    "\n",
    "\n",
    "\n",
    "# implement minibatch training \n",
    "train_dataloader = DataLoader(train_dataset_ed, batch_size=BATCH_SIZE, shuffle=True)\n",
    "\n",
    "# prepare validation and test dataloaders \n",
    "validation_dataloader = DataLoader(validation_dataset_ed, batch_size=BATCH_SIZE, shuffle=True)\n",
    "test_dataloader = DataLoader(test_dataset_ed, batch_size=BATCH_SIZE, shuffle=True)"
   ]
  },
  {
   "cell_type": "code",
   "execution_count": 72,
   "metadata": {},
   "outputs": [],
   "source": [
    "# word_embeddings['the'].shape # get the size of the embeddings, so that we can use this as input_size"
   ]
  },
  {
   "cell_type": "code",
   "execution_count": 67,
   "metadata": {},
   "outputs": [],
   "source": [
    "def train_loop(train_dataloader, model, loss_fn, optimizer):\n",
    "    model.train()\n",
    "    num_batches = len(train_dataloader)\n",
    "    size = len(train_dataloader.dataset)\n",
    "    train_loss, train_correct = 0, 0\n",
    "    for batch_no, (X_batch, y_batch) in enumerate(train_dataloader):\n",
    "        X_batch = torch.tensor(X_batch, dtype=torch.float)\n",
    "        y_batch = torch.tensor(y_batch, dtype=torch.float)\n",
    "        # Forward pass\n",
    "        pred = model(X_batch)\n",
    "        pred = pred.squeeze(1)\n",
    "        y_val = y_batch\n",
    "        loss = loss_fn(pred, y_val)\n",
    "        train_loss += loss.item() \n",
    "        train_correct += ((pred >= 0.5).float()==y_batch).sum().item() \n",
    "        # Backpropagation\n",
    "        optimizer.zero_grad()\n",
    "        loss.backward()\n",
    "        optimizer.step()\n",
    "        \n",
    "    train_loss /= num_batches \n",
    "    train_correct /= size \n",
    "\n",
    "    return train_loss, train_correct \n",
    "   \n",
    "\n",
    "def test_loop(validate_dataloader, model, loss_fn):\n",
    "    model.eval()\n",
    "    num_batches = len(validate_dataloader)\n",
    "    size = len(validate_dataloader.dataset)\n",
    "    test_loss, test_correct = 0, 0\n",
    "\n",
    "    with torch.no_grad():\n",
    "        for X_batch, y_batch in validate_dataloader:\n",
    "            X_batch = torch.tensor(X_batch, dtype=torch.float)\n",
    "            y_batch = torch.tensor(y_batch, dtype=torch.float)\n",
    "\n",
    "            pred = model(X_batch)\n",
    "            pred = pred.squeeze(1)\n",
    "            pred_binary = (pred >= 0.5).float()\n",
    "            test_loss += loss_fn(pred, y_batch).item()\n",
    "            test_correct += (pred_binary == y_batch).sum().item()\n",
    "\n",
    "    test_loss /= num_batches\n",
    "    test_correct /= size\n",
    "    return test_loss, test_correct"
   ]
  },
  {
   "cell_type": "code",
   "execution_count": 10,
   "metadata": {},
   "outputs": [
    {
     "ename": "NameError",
     "evalue": "name 'vanillaRNN' is not defined",
     "output_type": "error",
     "traceback": [
      "\u001b[0;31m---------------------------------------------------------------------------\u001b[0m",
      "\u001b[0;31mNameError\u001b[0m                                 Traceback (most recent call last)",
      "Cell \u001b[0;32mIn[10], line 2\u001b[0m\n\u001b[1;32m      1\u001b[0m \u001b[38;5;66;03m# initialize the model\u001b[39;00m\n\u001b[0;32m----> 2\u001b[0m RNN_model \u001b[38;5;241m=\u001b[39m vanillaRNN(input_size\u001b[38;5;241m=\u001b[39mINPUT_SIZE, hidden_size\u001b[38;5;241m=\u001b[39mHIDDEN_SIZE, num_layers\u001b[38;5;241m=\u001b[39m\u001b[38;5;241m4\u001b[39m, num_classes\u001b[38;5;241m=\u001b[39m\u001b[38;5;241m1\u001b[39m) \n\u001b[1;32m      3\u001b[0m   \u001b[38;5;66;03m# num_classes==1 because binary classification\u001b[39;00m\n\u001b[1;32m      4\u001b[0m   \u001b[38;5;66;03m# TODO: can try to increase num_layers > 1, that might perform better \u001b[39;00m\n\u001b[1;32m      5\u001b[0m \u001b[38;5;66;03m# initialize training params \u001b[39;00m\n\u001b[1;32m      6\u001b[0m optim \u001b[38;5;241m=\u001b[39m torch\u001b[38;5;241m.\u001b[39moptim\u001b[38;5;241m.\u001b[39mAdam(RNN_model\u001b[38;5;241m.\u001b[39mparameters(), lr\u001b[38;5;241m=\u001b[39m\u001b[38;5;241m0.001\u001b[39m)\n",
      "\u001b[0;31mNameError\u001b[0m: name 'vanillaRNN' is not defined"
     ]
    }
   ],
   "source": [
    "# initialize the model\n",
    "RNN_model = vanillaRNN(input_size=INPUT_SIZE, hidden_size=HIDDEN_SIZE, num_layers=4, num_classes=1) \n",
    "  # num_classes==1 because binary classification\n",
    "  # TODO: can try to increase num_layers > 1, that might perform better \n",
    "# initialize training params \n",
    "optim = torch.optim.Adam(RNN_model.parameters(), lr=0.001)"
   ]
  },
  {
   "cell_type": "code",
   "execution_count": 11,
   "metadata": {},
   "outputs": [],
   "source": [
    "criterion = nn.BCELoss()\n"
   ]
  },
  {
   "cell_type": "markdown",
   "metadata": {},
   "source": [
    "# Testing the model, just using epoch = 100 "
   ]
  },
  {
   "cell_type": "code",
   "execution_count": 110,
   "metadata": {},
   "outputs": [
    {
     "name": "stderr",
     "output_type": "stream",
     "text": [
      "/var/folders/sx/8nz4dts119bfc1svlcbykndr0000gn/T/ipykernel_2892/987989442.py:7: UserWarning: To copy construct from a tensor, it is recommended to use sourceTensor.clone().detach() or sourceTensor.clone().detach().requires_grad_(True), rather than torch.tensor(sourceTensor).\n",
      "  X_batch = torch.tensor(X_batch, dtype=torch.float)\n",
      "/var/folders/sx/8nz4dts119bfc1svlcbykndr0000gn/T/ipykernel_2892/987989442.py:8: UserWarning: To copy construct from a tensor, it is recommended to use sourceTensor.clone().detach() or sourceTensor.clone().detach().requires_grad_(True), rather than torch.tensor(sourceTensor).\n",
      "  y_batch = torch.tensor(y_batch, dtype=torch.float)\n",
      "/var/folders/sx/8nz4dts119bfc1svlcbykndr0000gn/T/ipykernel_2892/987989442.py:35: UserWarning: To copy construct from a tensor, it is recommended to use sourceTensor.clone().detach() or sourceTensor.clone().detach().requires_grad_(True), rather than torch.tensor(sourceTensor).\n",
      "  X_batch = torch.tensor(X_batch, dtype=torch.float)\n",
      "/var/folders/sx/8nz4dts119bfc1svlcbykndr0000gn/T/ipykernel_2892/987989442.py:36: UserWarning: To copy construct from a tensor, it is recommended to use sourceTensor.clone().detach() or sourceTensor.clone().detach().requires_grad_(True), rather than torch.tensor(sourceTensor).\n",
      "  y_batch = torch.tensor(y_batch, dtype=torch.float)\n"
     ]
    },
    {
     "name": "stdout",
     "output_type": "stream",
     "text": [
      "Epoch:1 \tValidation Acc:0.6294559099437148 \tTrain Acc:0.6021101992966003\n",
      "Epoch:11 \tValidation Acc:0.6857410881801126 \tTrain Acc:0.7083235638921453\n",
      "Epoch:21 \tValidation Acc:0.6791744840525328 \tTrain Acc:0.8248534583821805\n",
      "Epoch:31 \tValidation Acc:0.6575984990619137 \tTrain Acc:0.9331770222743259\n"
     ]
    },
    {
     "ename": "KeyboardInterrupt",
     "evalue": "",
     "output_type": "error",
     "traceback": [
      "\u001b[0;31m---------------------------------------------------------------------------\u001b[0m",
      "\u001b[0;31mKeyboardInterrupt\u001b[0m                         Traceback (most recent call last)",
      "Cell \u001b[0;32mIn[110], line 4\u001b[0m\n\u001b[1;32m      2\u001b[0m train_acc \u001b[38;5;241m=\u001b[39m []\n\u001b[1;32m      3\u001b[0m \u001b[38;5;28;01mfor\u001b[39;00m i \u001b[38;5;129;01min\u001b[39;00m \u001b[38;5;28mrange\u001b[39m(NUM_EPOCHS):\n\u001b[0;32m----> 4\u001b[0m   train_loss, train_correct \u001b[38;5;241m=\u001b[39m train_loop(train_dataloader, RNN_model, criterion, optim) \n\u001b[1;32m      5\u001b[0m   validate_loss, validate_correct \u001b[38;5;241m=\u001b[39m test_loop(validation_dataloader, RNN_model, criterion)\n\u001b[1;32m      6\u001b[0m   validation_acc\u001b[38;5;241m.\u001b[39mappend(validate_correct)\n",
      "Cell \u001b[0;32mIn[105], line 10\u001b[0m, in \u001b[0;36mtrain_loop\u001b[0;34m(train_dataloader, model, loss_fn, optimizer)\u001b[0m\n\u001b[1;32m      8\u001b[0m y_batch \u001b[38;5;241m=\u001b[39m torch\u001b[38;5;241m.\u001b[39mtensor(y_batch, dtype\u001b[38;5;241m=\u001b[39mtorch\u001b[38;5;241m.\u001b[39mfloat)\n\u001b[1;32m      9\u001b[0m \u001b[38;5;66;03m# Forward pass\u001b[39;00m\n\u001b[0;32m---> 10\u001b[0m pred \u001b[38;5;241m=\u001b[39m model(X_batch)\n\u001b[1;32m     11\u001b[0m pred \u001b[38;5;241m=\u001b[39m pred\u001b[38;5;241m.\u001b[39msqueeze(\u001b[38;5;241m1\u001b[39m)\n\u001b[1;32m     12\u001b[0m y_val \u001b[38;5;241m=\u001b[39m y_batch\n",
      "File \u001b[0;32m~/opt/anaconda3/envs/nn/lib/python3.12/site-packages/torch/nn/modules/module.py:1532\u001b[0m, in \u001b[0;36mModule._wrapped_call_impl\u001b[0;34m(self, *args, **kwargs)\u001b[0m\n\u001b[1;32m   1530\u001b[0m     \u001b[38;5;28;01mreturn\u001b[39;00m \u001b[38;5;28mself\u001b[39m\u001b[38;5;241m.\u001b[39m_compiled_call_impl(\u001b[38;5;241m*\u001b[39margs, \u001b[38;5;241m*\u001b[39m\u001b[38;5;241m*\u001b[39mkwargs)  \u001b[38;5;66;03m# type: ignore[misc]\u001b[39;00m\n\u001b[1;32m   1531\u001b[0m \u001b[38;5;28;01melse\u001b[39;00m:\n\u001b[0;32m-> 1532\u001b[0m     \u001b[38;5;28;01mreturn\u001b[39;00m \u001b[38;5;28mself\u001b[39m\u001b[38;5;241m.\u001b[39m_call_impl(\u001b[38;5;241m*\u001b[39margs, \u001b[38;5;241m*\u001b[39m\u001b[38;5;241m*\u001b[39mkwargs)\n",
      "File \u001b[0;32m~/opt/anaconda3/envs/nn/lib/python3.12/site-packages/torch/nn/modules/module.py:1541\u001b[0m, in \u001b[0;36mModule._call_impl\u001b[0;34m(self, *args, **kwargs)\u001b[0m\n\u001b[1;32m   1536\u001b[0m \u001b[38;5;66;03m# If we don't have any hooks, we want to skip the rest of the logic in\u001b[39;00m\n\u001b[1;32m   1537\u001b[0m \u001b[38;5;66;03m# this function, and just call forward.\u001b[39;00m\n\u001b[1;32m   1538\u001b[0m \u001b[38;5;28;01mif\u001b[39;00m \u001b[38;5;129;01mnot\u001b[39;00m (\u001b[38;5;28mself\u001b[39m\u001b[38;5;241m.\u001b[39m_backward_hooks \u001b[38;5;129;01mor\u001b[39;00m \u001b[38;5;28mself\u001b[39m\u001b[38;5;241m.\u001b[39m_backward_pre_hooks \u001b[38;5;129;01mor\u001b[39;00m \u001b[38;5;28mself\u001b[39m\u001b[38;5;241m.\u001b[39m_forward_hooks \u001b[38;5;129;01mor\u001b[39;00m \u001b[38;5;28mself\u001b[39m\u001b[38;5;241m.\u001b[39m_forward_pre_hooks\n\u001b[1;32m   1539\u001b[0m         \u001b[38;5;129;01mor\u001b[39;00m _global_backward_pre_hooks \u001b[38;5;129;01mor\u001b[39;00m _global_backward_hooks\n\u001b[1;32m   1540\u001b[0m         \u001b[38;5;129;01mor\u001b[39;00m _global_forward_hooks \u001b[38;5;129;01mor\u001b[39;00m _global_forward_pre_hooks):\n\u001b[0;32m-> 1541\u001b[0m     \u001b[38;5;28;01mreturn\u001b[39;00m forward_call(\u001b[38;5;241m*\u001b[39margs, \u001b[38;5;241m*\u001b[39m\u001b[38;5;241m*\u001b[39mkwargs)\n\u001b[1;32m   1543\u001b[0m \u001b[38;5;28;01mtry\u001b[39;00m:\n\u001b[1;32m   1544\u001b[0m     result \u001b[38;5;241m=\u001b[39m \u001b[38;5;28;01mNone\u001b[39;00m\n",
      "Cell \u001b[0;32mIn[41], line 12\u001b[0m, in \u001b[0;36mvanillaRNN.forward\u001b[0;34m(self, x)\u001b[0m\n\u001b[1;32m     10\u001b[0m \u001b[38;5;28;01mdef\u001b[39;00m \u001b[38;5;21mforward\u001b[39m(\u001b[38;5;28mself\u001b[39m, x):\n\u001b[1;32m     11\u001b[0m   h0 \u001b[38;5;241m=\u001b[39m torch\u001b[38;5;241m.\u001b[39mzeros(\u001b[38;5;28mself\u001b[39m\u001b[38;5;241m.\u001b[39mnum_layers, x\u001b[38;5;241m.\u001b[39msize(\u001b[38;5;241m0\u001b[39m), \u001b[38;5;28mself\u001b[39m\u001b[38;5;241m.\u001b[39mhidden_size)\u001b[38;5;241m.\u001b[39mto(x\u001b[38;5;241m.\u001b[39mdevice)\n\u001b[0;32m---> 12\u001b[0m   output, h_t \u001b[38;5;241m=\u001b[39m \u001b[38;5;28mself\u001b[39m\u001b[38;5;241m.\u001b[39mrnn(x, h0) \u001b[38;5;66;03m# we can just use the last hidden state output as the \u001b[39;00m\n\u001b[1;32m     13\u001b[0m   last_hidden \u001b[38;5;241m=\u001b[39m h_t[\u001b[38;5;241m-\u001b[39m\u001b[38;5;241m1\u001b[39m]\n\u001b[1;32m     14\u001b[0m   logits \u001b[38;5;241m=\u001b[39m \u001b[38;5;28mself\u001b[39m\u001b[38;5;241m.\u001b[39msigmoid(\u001b[38;5;28mself\u001b[39m\u001b[38;5;241m.\u001b[39mfc(last_hidden))\n",
      "File \u001b[0;32m~/opt/anaconda3/envs/nn/lib/python3.12/site-packages/torch/nn/modules/module.py:1532\u001b[0m, in \u001b[0;36mModule._wrapped_call_impl\u001b[0;34m(self, *args, **kwargs)\u001b[0m\n\u001b[1;32m   1530\u001b[0m     \u001b[38;5;28;01mreturn\u001b[39;00m \u001b[38;5;28mself\u001b[39m\u001b[38;5;241m.\u001b[39m_compiled_call_impl(\u001b[38;5;241m*\u001b[39margs, \u001b[38;5;241m*\u001b[39m\u001b[38;5;241m*\u001b[39mkwargs)  \u001b[38;5;66;03m# type: ignore[misc]\u001b[39;00m\n\u001b[1;32m   1531\u001b[0m \u001b[38;5;28;01melse\u001b[39;00m:\n\u001b[0;32m-> 1532\u001b[0m     \u001b[38;5;28;01mreturn\u001b[39;00m \u001b[38;5;28mself\u001b[39m\u001b[38;5;241m.\u001b[39m_call_impl(\u001b[38;5;241m*\u001b[39margs, \u001b[38;5;241m*\u001b[39m\u001b[38;5;241m*\u001b[39mkwargs)\n",
      "File \u001b[0;32m~/opt/anaconda3/envs/nn/lib/python3.12/site-packages/torch/nn/modules/module.py:1541\u001b[0m, in \u001b[0;36mModule._call_impl\u001b[0;34m(self, *args, **kwargs)\u001b[0m\n\u001b[1;32m   1536\u001b[0m \u001b[38;5;66;03m# If we don't have any hooks, we want to skip the rest of the logic in\u001b[39;00m\n\u001b[1;32m   1537\u001b[0m \u001b[38;5;66;03m# this function, and just call forward.\u001b[39;00m\n\u001b[1;32m   1538\u001b[0m \u001b[38;5;28;01mif\u001b[39;00m \u001b[38;5;129;01mnot\u001b[39;00m (\u001b[38;5;28mself\u001b[39m\u001b[38;5;241m.\u001b[39m_backward_hooks \u001b[38;5;129;01mor\u001b[39;00m \u001b[38;5;28mself\u001b[39m\u001b[38;5;241m.\u001b[39m_backward_pre_hooks \u001b[38;5;129;01mor\u001b[39;00m \u001b[38;5;28mself\u001b[39m\u001b[38;5;241m.\u001b[39m_forward_hooks \u001b[38;5;129;01mor\u001b[39;00m \u001b[38;5;28mself\u001b[39m\u001b[38;5;241m.\u001b[39m_forward_pre_hooks\n\u001b[1;32m   1539\u001b[0m         \u001b[38;5;129;01mor\u001b[39;00m _global_backward_pre_hooks \u001b[38;5;129;01mor\u001b[39;00m _global_backward_hooks\n\u001b[1;32m   1540\u001b[0m         \u001b[38;5;129;01mor\u001b[39;00m _global_forward_hooks \u001b[38;5;129;01mor\u001b[39;00m _global_forward_pre_hooks):\n\u001b[0;32m-> 1541\u001b[0m     \u001b[38;5;28;01mreturn\u001b[39;00m forward_call(\u001b[38;5;241m*\u001b[39margs, \u001b[38;5;241m*\u001b[39m\u001b[38;5;241m*\u001b[39mkwargs)\n\u001b[1;32m   1543\u001b[0m \u001b[38;5;28;01mtry\u001b[39;00m:\n\u001b[1;32m   1544\u001b[0m     result \u001b[38;5;241m=\u001b[39m \u001b[38;5;28;01mNone\u001b[39;00m\n",
      "File \u001b[0;32m~/opt/anaconda3/envs/nn/lib/python3.12/site-packages/torch/nn/modules/rnn.py:586\u001b[0m, in \u001b[0;36mRNN.forward\u001b[0;34m(self, input, hx)\u001b[0m\n\u001b[1;32m    584\u001b[0m \u001b[38;5;28;01mif\u001b[39;00m batch_sizes \u001b[38;5;129;01mis\u001b[39;00m \u001b[38;5;28;01mNone\u001b[39;00m:\n\u001b[1;32m    585\u001b[0m     \u001b[38;5;28;01mif\u001b[39;00m \u001b[38;5;28mself\u001b[39m\u001b[38;5;241m.\u001b[39mmode \u001b[38;5;241m==\u001b[39m \u001b[38;5;124m'\u001b[39m\u001b[38;5;124mRNN_TANH\u001b[39m\u001b[38;5;124m'\u001b[39m:\n\u001b[0;32m--> 586\u001b[0m         result \u001b[38;5;241m=\u001b[39m _VF\u001b[38;5;241m.\u001b[39mrnn_tanh(\u001b[38;5;28minput\u001b[39m, hx, \u001b[38;5;28mself\u001b[39m\u001b[38;5;241m.\u001b[39m_flat_weights, \u001b[38;5;28mself\u001b[39m\u001b[38;5;241m.\u001b[39mbias, \u001b[38;5;28mself\u001b[39m\u001b[38;5;241m.\u001b[39mnum_layers,\n\u001b[1;32m    587\u001b[0m                               \u001b[38;5;28mself\u001b[39m\u001b[38;5;241m.\u001b[39mdropout, \u001b[38;5;28mself\u001b[39m\u001b[38;5;241m.\u001b[39mtraining, \u001b[38;5;28mself\u001b[39m\u001b[38;5;241m.\u001b[39mbidirectional,\n\u001b[1;32m    588\u001b[0m                               \u001b[38;5;28mself\u001b[39m\u001b[38;5;241m.\u001b[39mbatch_first)\n\u001b[1;32m    589\u001b[0m     \u001b[38;5;28;01melse\u001b[39;00m:\n\u001b[1;32m    590\u001b[0m         result \u001b[38;5;241m=\u001b[39m _VF\u001b[38;5;241m.\u001b[39mrnn_relu(\u001b[38;5;28minput\u001b[39m, hx, \u001b[38;5;28mself\u001b[39m\u001b[38;5;241m.\u001b[39m_flat_weights, \u001b[38;5;28mself\u001b[39m\u001b[38;5;241m.\u001b[39mbias, \u001b[38;5;28mself\u001b[39m\u001b[38;5;241m.\u001b[39mnum_layers,\n\u001b[1;32m    591\u001b[0m                               \u001b[38;5;28mself\u001b[39m\u001b[38;5;241m.\u001b[39mdropout, \u001b[38;5;28mself\u001b[39m\u001b[38;5;241m.\u001b[39mtraining, \u001b[38;5;28mself\u001b[39m\u001b[38;5;241m.\u001b[39mbidirectional,\n\u001b[1;32m    592\u001b[0m                               \u001b[38;5;28mself\u001b[39m\u001b[38;5;241m.\u001b[39mbatch_first)\n",
      "\u001b[0;31mKeyboardInterrupt\u001b[0m: "
     ]
    }
   ],
   "source": [
    "validation_acc = [] \n",
    "train_acc = []\n",
    "for i in range(NUM_EPOCHS):\n",
    "  train_loss, train_correct = train_loop(train_dataloader, RNN_model, criterion, optim) \n",
    "  validate_loss, validate_correct = test_loop(validation_dataloader, RNN_model, criterion)\n",
    "  validation_acc.append(validate_correct)\n",
    "  train_acc.append(train_correct)\n",
    "  if i%10 == 0:\n",
    "    print(f\"Epoch:{i+1} \\tValidation Acc:{validate_correct} \\tTrain Acc:{train_correct}\")\n",
    "  \n",
    "\n"
   ]
  },
  {
   "cell_type": "code",
   "execution_count": 108,
   "metadata": {},
   "outputs": [
    {
     "data": {
      "image/png": "[encoded data removed]",
      "text/plain": [
       "<Figure size 640x480 with 1 Axes>"
      ]
     },
     "metadata": {},
     "output_type": "display_data"
    }
   ],
   "source": [
    "import matplotlib.pyplot as plt \n",
    "\n",
    "plt.plot(train_acc, label=\"train acc\")\n",
    "plt.plot(validation_acc, label=\"validation acc\")\n",
    "\n",
    "plt.xlabel(\"epoch\")\n",
    "plt.ylabel(\"accuracies\")\n",
    "plt.title(\"train vs validation accs\")\n",
    "plt.legend()\n",
    "plt.show()"
   ]
  },
  {
   "cell_type": "markdown",
   "metadata": {},
   "source": [
    "# Hyperparameter Tuning\n",
    "We will perform grid search on the no. of training epochs, lr, optimizer and batch sizes\n",
    "\n"
   ]
  },
  {
   "cell_type": "markdown",
   "metadata": {},
   "source": []
  },
  {
   "cell_type": "markdown",
   "metadata": {},
   "source": [
    "Question 2. RNN\n",
    "(a) Report the final configuration of your best model, namely the number of training epochs,\n",
    "learning rate, optimizer, batch size.\n",
    "  - Implement Bayesian search\n",
    "(b) Report the accuracy score on the test set, as well as the accuracy score on the validation\n",
    "set for each epoch during training.\n",
    "(c) RNNs produce a hidden vector for each word, instead of the entire sentence. Which methods\n",
    "have you tried in deriving the final sentence representation to perform sentiment classification?\n",
    "Describe all the strategies you have implemented, together with their accuracy scores on the\n",
    "test set"
   ]
  },
  {
   "cell_type": "markdown",
   "metadata": {},
   "source": [
    "Embedding with \"the\" token"
   ]
  },
  {
   "cell_type": "code",
   "execution_count": null,
   "metadata": {},
   "outputs": [],
   "source": [
    "# use \"the\" as pad \n",
    "word2idx[\"<pad>\"]"
   ]
  },
  {
   "cell_type": "markdown",
   "metadata": {},
   "source": [
    "Others:"
   ]
  },
  {
   "cell_type": "markdown",
   "metadata": {},
   "source": [
    "Helper function"
   ]
  },
  {
   "cell_type": "code",
   "execution_count": null,
   "metadata": {},
   "outputs": [
    {
     "name": "stdout",
     "output_type": "stream",
     "text": [
      "Training on GPU.\n"
     ]
    }
   ],
   "source": [
    "# First checking if GPU is available\n",
    "train_on_gpu=torch.cuda.is_available()\n",
    "\n",
    "if(train_on_gpu):\n",
    "    print('Training on GPU.')\n",
    "else:\n",
    "    print('No GPU available, training on CPU.')"
   ]
  },
  {
   "cell_type": "code",
   "execution_count": null,
   "metadata": {},
   "outputs": [
    {
     "data": {
      "text/plain": [
       "(400000, 100)"
      ]
     },
     "execution_count": 29,
     "metadata": {},
     "output_type": "execute_result"
    }
   ],
   "source": [
    "embeddings = [word_embeddings[word] for word in word_embeddings.keys()]\n",
    "\n",
    "embedding_matrix_np = np.array(embeddings)\n",
    "embedding_matrix_np = np.vstack((np.zeros((1, 100)), embedding_matrix_np))\n",
    "\n",
    "embedding_matrix_np.shape\n"
   ]
  },
  {
   "cell_type": "code",
   "execution_count": 30,
   "metadata": {},
   "outputs": [],
   "source": [
    "# load dataset from huggingface first \n",
    "dataset = load_dataset(\"rotten_tomatoes\")\n",
    "train_dataset = dataset['train']\n",
    "validation_dataset = dataset['validation']\n",
    "test_dataset = dataset['test']\n",
    "\n",
    "with open('result/word2idx.json', \"r\") as file:\n",
    "    word2idx = json.load(file)"
   ]
  },
  {
   "cell_type": "code",
   "execution_count": 141,
   "metadata": {},
   "outputs": [],
   "source": [
    "def train_loop2(train_dataloader, model, loss_fn, optimizer):\n",
    "    if train_on_gpu:\n",
    "        model.cuda()\n",
    "    model.train()\n",
    "    num_batches = len(train_dataloader)\n",
    "    size = len(train_dataloader.dataset)\n",
    "    train_loss, train_correct = 0, 0\n",
    "    for batch_no, (X_batch, y_batch) in enumerate(train_dataloader):\n",
    "        y_batch = y_batch.long()\n",
    "        if train_on_gpu:\n",
    "            X_batch = X_batch.cuda()\n",
    "            y_batch = y_batch.cuda()\n",
    "        \n",
    "        # Forward pass\n",
    "        pred = model(X_batch)\n",
    "\n",
    "        #print(pred, y_batch)\n",
    "        loss = loss_fn(pred.squeeze(), y_batch.float())\n",
    "        train_loss += loss.item() \n",
    "\n",
    "        probabilities = torch.sigmoid(pred.squeeze())\n",
    "        pred_binary = (probabilities >= 0.5).long()\n",
    "        train_correct += (pred_binary == y_batch.long()).sum().item()\n",
    "\n",
    "        # Backpropagation\n",
    "        optimizer.zero_grad()\n",
    "        loss.backward()\n",
    "        optimizer.step()\n",
    "    \n",
    "    train_loss /= num_batches \n",
    "    train_correct /= size \n",
    "\n",
    "    return train_loss, train_correct \n",
    "   \n",
    "\n",
    "def test_loop2(validate_dataloader, model, loss_fn):\n",
    "    if train_on_gpu:\n",
    "        model.cuda()\n",
    "    model.eval()\n",
    "    num_batches = len(validate_dataloader)\n",
    "    size = len(validate_dataloader.dataset)\n",
    "    test_loss, test_correct = 0, 0\n",
    "\n",
    "    with torch.no_grad():\n",
    "        for X_batch, y_batch in validate_dataloader:\n",
    "            y_batch = y_batch.long()\n",
    "            if train_on_gpu:\n",
    "                X_batch = X_batch.cuda()\n",
    "                y_batch = y_batch.cuda()\n",
    "\n",
    "            pred = model(X_batch)\n",
    "            \n",
    "            test_loss += loss_fn(pred.squeeze(), y_batch.float()).item()\n",
    "            \n",
    "            probabilities = torch.sigmoid(pred.squeeze())\n",
    "            pred_binary = (probabilities >= 0.5).long()\n",
    "            test_correct += (pred_binary == y_batch.long()).sum().item()\n",
    "\n",
    "    test_loss /= num_batches\n",
    "    test_correct /= size\n",
    "    return test_loss, test_correct"
   ]
  },
  {
   "cell_type": "code",
   "execution_count": 149,
   "metadata": {},
   "outputs": [],
   "source": [
    "def train_loop(train_dataloader, model, loss_fn, optimizer):\n",
    "    if train_on_gpu:\n",
    "        model.cuda()\n",
    "    model.train()\n",
    "    num_batches = len(train_dataloader)\n",
    "    size = len(train_dataloader.dataset)\n",
    "    train_loss, train_correct = 0, 0\n",
    "    for batch_no, (X_batch, y_batch) in enumerate(train_dataloader):\n",
    "        y_batch = y_batch.long()\n",
    "        if train_on_gpu:\n",
    "            X_batch = X_batch.cuda()\n",
    "            y_batch = y_batch.cuda()\n",
    "        \n",
    "        # Forward pass\n",
    "        pred = model(X_batch)\n",
    "        #print(pred, y_batch)\n",
    "        pred = pred.squeeze(1)\n",
    "        y_val = y_batch\n",
    "        loss = loss_fn(pred, y_val.float())\n",
    "        train_loss += loss.item() \n",
    "        train_correct += ((pred >= 0.5).long()==y_batch).sum().item() \n",
    "        \n",
    "        # Backpropagation\n",
    "        optimizer.zero_grad()\n",
    "        loss.backward()\n",
    "        optimizer.step()\n",
    "    \n",
    "    train_loss /= num_batches \n",
    "    train_correct /= size \n",
    "\n",
    "    return train_loss, train_correct \n",
    "   \n",
    "\n",
    "def test_loop(validate_dataloader, model, loss_fn):\n",
    "    if train_on_gpu:\n",
    "        model.cuda()\n",
    "    model.eval()\n",
    "    num_batches = len(validate_dataloader)\n",
    "    size = len(validate_dataloader.dataset)\n",
    "    test_loss, test_correct = 0, 0\n",
    "\n",
    "    with torch.no_grad():\n",
    "        for X_batch, y_batch in validate_dataloader:\n",
    "            y_batch = y_batch.long()\n",
    "            if train_on_gpu:\n",
    "                X_batch = X_batch.cuda()\n",
    "                y_batch = y_batch.cuda()\n",
    "\n",
    "            pred = model(X_batch)\n",
    "            pred = pred.squeeze(1)\n",
    "            pred_binary = (pred >= 0.5).long()\n",
    "            test_loss += loss_fn(pred, y_batch.float()).item()\n",
    "            test_correct += (pred_binary == y_batch).sum().item()\n",
    "\n",
    "    test_loss /= num_batches\n",
    "    test_correct /= size\n",
    "    return test_loss, test_correct"
   ]
  },
  {
   "cell_type": "code",
   "execution_count": 68,
   "metadata": {},
   "outputs": [],
   "source": [
    "from torch.utils.data import Dataset, DataLoader \n",
    "\n",
    "# TODO: change the num_tokens \n",
    "class EmbeddingsDataset2(Dataset):\n",
    "  def __init__(self, X, y, num_tokens_per_sentence=8, word_embeddings=word_embeddings):\n",
    "    self.num_tokens_per_sentence = num_tokens_per_sentence\n",
    "    self.word_embeddings = word_embeddings\n",
    "    self.X = X # train_dataset['text']\n",
    "    self.y = y # train_dataset['label']\n",
    "    self.len = len(self.X)\n",
    "\n",
    "  def __getitem__(self, index):\n",
    "    # tokenize the sentence \n",
    "    tokens = self.tokenize_sentence(self.X[index])\n",
    "    # convert each token to embeddings \n",
    "    sentence_tensor = self.convert_sentence_into_indices(tokens)\n",
    "    label = torch.tensor(self.y[index], dtype=torch.long)\n",
    "    return sentence_tensor, label \n",
    "\n",
    "  def __len__(self):\n",
    "    return self.len \n",
    "\n",
    "  def tokenize_sentence(self, x): \n",
    "    '''\n",
    "    returns a list containing the embeddings of each token \n",
    "    '''\n",
    "    tokens = nltk.word_tokenize(x.lower())\n",
    "    return tokens \n",
    "  \n",
    "  def convert_sentence_into_indices(self, tokens):\n",
    "    indices = []\n",
    "    num_tokens_used = 0 \n",
    "    for token in tokens:\n",
    "      if num_tokens_used == self.num_tokens_per_sentence:\n",
    "        break # we have enough of tokens from the sentence \n",
    "      if token in word2idx:\n",
    "        indices.append(word2idx[token])\n",
    "        num_tokens_used += 1 \n",
    "    # # if not enough tokens in the sentence, use index of ?? \n",
    "    if len(indices) < self.num_tokens_per_sentence:\n",
    "      padding = [0 for _ in range(self.num_tokens_per_sentence - len(indices))]\n",
    "      indices.extend(padding)\n",
    "    #print(indices)\n",
    "    indices = torch.tensor(indices, dtype=torch.long)\n",
    "    return indices\n",
    "  "
   ]
  },
  {
   "cell_type": "markdown",
   "metadata": {},
   "source": [
    "Vanilla RNN with \\<pad\\>"
   ]
  },
  {
   "cell_type": "code",
   "execution_count": null,
   "metadata": {},
   "outputs": [],
   "source": [
    "# using nn.Embeddings \n",
    "import torch\n",
    "import torch.nn as nn\n",
    "\n",
    "\n",
    "\n",
    "class VanillaRNNWithEmbedding(nn.Module):\n",
    "    def __init__(self, input_size, hidden_size, num_layers, num_classes, embedding_matrix_torch=torch.tensor(embedding_matrix_np, dtype=torch.float)):\n",
    "        super(VanillaRNNWithEmbedding, self).__init__()\n",
    "        # Embedding layer\n",
    "        self.embedding = nn.Embedding.from_pretrained(embedding_matrix_torch, freeze=True)\n",
    "        self.num_layers = num_layers \n",
    "        self.hidden_size = hidden_size \n",
    "        self.rnn = nn.RNN(input_size, hidden_size, num_layers, batch_first=True, dropout=0.3) # this is the num rows of the input matrix \n",
    "        self.fc = nn.Linear(hidden_size, num_classes)\n",
    "        self.sigmoid = nn.Sigmoid()\n",
    "\n",
    " \n",
    "    def forward(self, x):\n",
    "        # Pass input through embedding layer\n",
    "        x = self.embedding(x)\n",
    "        h0 = torch.zeros(self.num_layers, x.size(0), self.hidden_size, dtype=torch.float).to(x.device)\n",
    "        # Pass the embeddings through the RNN layer\n",
    "        out, _ = self.rnn(x, h0)\n",
    "        # Max pooling\n",
    "        out, _ = torch.max(out, dim=1)\n",
    "        # Only take the last output for each sequence\n",
    "        #out = out[:, -1, :]\n",
    "        # Pass through the fully connected layer\n",
    "        out = self.fc(out)\n",
    "        # Apply sigmoid activation (for binary classification)\n",
    "        #out = self.sigmoid(out)\n",
    "        \n",
    "        return out\n"
   ]
  },
  {
   "cell_type": "code",
   "execution_count": 153,
   "metadata": {},
   "outputs": [],
   "source": [
    "# using nn.Embeddings \n",
    "import torch\n",
    "import torch.nn as nn\n",
    "\n",
    "\n",
    "\n",
    "class VanillaRNNWithEmbedding(nn.Module):\n",
    "    def __init__(self, input_size, hidden_size, num_layers, num_classes, embedding_matrix_torch=torch.tensor(embedding_matrix_np, dtype=torch.float)):\n",
    "        super(VanillaRNNWithEmbedding, self).__init__()\n",
    "        # Embedding layer\n",
    "        self.embedding = nn.Embedding.from_pretrained(embedding_matrix_torch, freeze=True, padding_idx=0)\n",
    "        self.num_layers = num_layers \n",
    "        self.hidden_size = hidden_size \n",
    "        self.rnn = nn.RNN(input_size, hidden_size, num_layers, batch_first=True) # this is the num rows of the input matrix \n",
    "        self.fc = nn.Linear(hidden_size, num_classes)\n",
    "        self.sigmoid = nn.Sigmoid()\n",
    "\n",
    " \n",
    "    def forward(self, x):\n",
    "        # Pass input through embedding layer\n",
    "        x = self.embedding(x)\n",
    "        h0 = torch.zeros(self.num_layers, x.size(0), self.hidden_size, dtype=torch.float).to(x.device)\n",
    "        # Pass the embeddings through the RNN layer\n",
    "        out, _ = self.rnn(x, h0)\n",
    "        \n",
    "        # Max pooling\n",
    "        #print(\"before max pooling\", hidden.size())\n",
    "        \n",
    "        res, _ = torch.max(out, dim=1)\n",
    "        #print(res, hidden, hidden.size(), res.size())\n",
    "         \n",
    "        #print(\"after max pooling\", res.size())\n",
    "        # Only take the last output for each sequence\n",
    "        #out = out[:, -1, :]\n",
    "        # Pass through the fully connected layer\n",
    "        res = self.fc(res)\n",
    "        # Apply sigmoid activation (for binary classification)\n",
    "        res = self.sigmoid(res)\n",
    "\n",
    "        return res\n"
   ]
  },
  {
   "cell_type": "code",
   "execution_count": 142,
   "metadata": {},
   "outputs": [
    {
     "name": "stdout",
     "output_type": "stream",
     "text": [
      "Epoch 1, Train Loss: 0.6990, Validate Loss: 0.6954\n",
      "Epoch:1 \tValidation Acc:0.4915572232645403 \tTrain Acc:0.505158264947245\n",
      "Epoch 2, Train Loss: 0.6920, Validate Loss: 0.6935\n",
      "Epoch:2 \tValidation Acc:0.5168855534709194 \tTrain Acc:0.5259085580304806\n",
      "Epoch 3, Train Loss: 0.6887, Validate Loss: 0.6969\n",
      "Epoch:3 \tValidation Acc:0.49343339587242024 \tTrain Acc:0.5229777256740914\n",
      "Epoch 4, Train Loss: 0.6814, Validate Loss: 0.7067\n",
      "Epoch:4 \tValidation Acc:0.5056285178236398 \tTrain Acc:0.5479484173505276\n",
      "Epoch 5, Train Loss: 0.6794, Validate Loss: 0.6961\n",
      "Epoch:5 \tValidation Acc:0.5131332082551595 \tTrain Acc:0.5527549824150059\n",
      "Epoch 6, Train Loss: 0.6724, Validate Loss: 0.7006\n",
      "Epoch:6 \tValidation Acc:0.5178236397748592 \tTrain Acc:0.5640093786635404\n",
      "Epoch 7, Train Loss: 0.6643, Validate Loss: 0.7176\n",
      "Epoch:7 \tValidation Acc:0.5093808630393997 \tTrain Acc:0.5723329425556858\n",
      "Epoch 8, Train Loss: 0.6511, Validate Loss: 0.7288\n",
      "Epoch:8 \tValidation Acc:0.5121951219512195 \tTrain Acc:0.585345838218054\n",
      "Epoch 9, Train Loss: 0.6356, Validate Loss: 0.7336\n",
      "Epoch:9 \tValidation Acc:0.5056285178236398 \tTrain Acc:0.6036342321219226\n",
      "Epoch 10, Train Loss: 0.6191, Validate Loss: 0.7276\n",
      "Epoch:10 \tValidation Acc:0.5347091932457786 \tTrain Acc:0.6174677608440797\n",
      "Epoch 11, Train Loss: 0.5973, Validate Loss: 0.7448\n",
      "Epoch:11 \tValidation Acc:0.5075046904315197 \tTrain Acc:0.6310668229777256\n",
      "Epoch 12, Train Loss: 0.5736, Validate Loss: 0.7718\n",
      "Epoch:12 \tValidation Acc:0.5234521575984991 \tTrain Acc:0.6451348182883939\n",
      "Epoch 13, Train Loss: 0.5509, Validate Loss: 0.8053\n",
      "Epoch:13 \tValidation Acc:0.5215759849906192 \tTrain Acc:0.6739742086752638\n",
      "Epoch 14, Train Loss: 0.5166, Validate Loss: 0.8445\n",
      "Epoch:14 \tValidation Acc:0.5178236397748592 \tTrain Acc:0.6879249706916765\n",
      "Epoch 15, Train Loss: 0.4829, Validate Loss: 0.8830\n",
      "Epoch:15 \tValidation Acc:0.5234521575984991 \tTrain Acc:0.7090269636576788\n",
      "Epoch 16, Train Loss: 0.4629, Validate Loss: 0.9302\n",
      "Epoch:16 \tValidation Acc:0.5300187617260788 \tTrain Acc:0.7276670574443141\n",
      "Epoch 17, Train Loss: 0.4379, Validate Loss: 0.9812\n",
      "Epoch:17 \tValidation Acc:0.5215759849906192 \tTrain Acc:0.741031652989449\n",
      "Epoch 18, Train Loss: 0.4116, Validate Loss: 1.0686\n",
      "Epoch:18 \tValidation Acc:0.5375234521575984 \tTrain Acc:0.7608440797186401\n"
     ]
    },
    {
     "ename": "KeyboardInterrupt",
     "evalue": "",
     "output_type": "error",
     "traceback": [
      "\u001b[1;31m---------------------------------------------------------------------------\u001b[0m",
      "\u001b[1;31mKeyboardInterrupt\u001b[0m                         Traceback (most recent call last)",
      "Cell \u001b[1;32mIn[142], line 19\u001b[0m\n\u001b[0;32m     17\u001b[0m train_losses, validate_losses \u001b[38;5;241m=\u001b[39m [], []\n\u001b[0;32m     18\u001b[0m \u001b[38;5;28;01mfor\u001b[39;00m i \u001b[38;5;129;01min\u001b[39;00m \u001b[38;5;28mrange\u001b[39m(NUM_EPOCHS):\n\u001b[1;32m---> 19\u001b[0m   train_loss, train_correct \u001b[38;5;241m=\u001b[39m \u001b[43mtrain_loop2\u001b[49m\u001b[43m(\u001b[49m\u001b[43mtrain_dataloader2\u001b[49m\u001b[43m,\u001b[49m\u001b[43m \u001b[49m\u001b[43mRNN_embeddings_model\u001b[49m\u001b[43m,\u001b[49m\u001b[43m \u001b[49m\u001b[43mcriterion\u001b[49m\u001b[43m,\u001b[49m\u001b[43m \u001b[49m\u001b[43moptim\u001b[49m\u001b[43m)\u001b[49m \n\u001b[0;32m     20\u001b[0m   validate_loss, validate_correct \u001b[38;5;241m=\u001b[39m test_loop2(validation_dataloader2, RNN_embeddings_model, criterion)\n\u001b[0;32m     21\u001b[0m   validation_acc\u001b[38;5;241m.\u001b[39mappend(validate_correct)\n",
      "Cell \u001b[1;32mIn[141], line 28\u001b[0m, in \u001b[0;36mtrain_loop2\u001b[1;34m(train_dataloader, model, loss_fn, optimizer)\u001b[0m\n\u001b[0;32m     26\u001b[0m     optimizer\u001b[38;5;241m.\u001b[39mzero_grad()\n\u001b[0;32m     27\u001b[0m     loss\u001b[38;5;241m.\u001b[39mbackward()\n\u001b[1;32m---> 28\u001b[0m     \u001b[43moptimizer\u001b[49m\u001b[38;5;241;43m.\u001b[39;49m\u001b[43mstep\u001b[49m\u001b[43m(\u001b[49m\u001b[43m)\u001b[49m\n\u001b[0;32m     30\u001b[0m train_loss \u001b[38;5;241m/\u001b[39m\u001b[38;5;241m=\u001b[39m num_batches \n\u001b[0;32m     31\u001b[0m train_correct \u001b[38;5;241m/\u001b[39m\u001b[38;5;241m=\u001b[39m size \n",
      "File \u001b[1;32mc:\\Users\\USER\\Documents\\Github\\school\\nlp-2\\venv\\Lib\\site-packages\\torch\\optim\\optimizer.py:487\u001b[0m, in \u001b[0;36mOptimizer.profile_hook_step.<locals>.wrapper\u001b[1;34m(*args, **kwargs)\u001b[0m\n\u001b[0;32m    482\u001b[0m         \u001b[38;5;28;01melse\u001b[39;00m:\n\u001b[0;32m    483\u001b[0m             \u001b[38;5;28;01mraise\u001b[39;00m \u001b[38;5;167;01mRuntimeError\u001b[39;00m(\n\u001b[0;32m    484\u001b[0m                 \u001b[38;5;124mf\u001b[39m\u001b[38;5;124m\"\u001b[39m\u001b[38;5;132;01m{\u001b[39;00mfunc\u001b[38;5;132;01m}\u001b[39;00m\u001b[38;5;124m must return None or a tuple of (new_args, new_kwargs), but got \u001b[39m\u001b[38;5;132;01m{\u001b[39;00mresult\u001b[38;5;132;01m}\u001b[39;00m\u001b[38;5;124m.\u001b[39m\u001b[38;5;124m\"\u001b[39m\n\u001b[0;32m    485\u001b[0m             )\n\u001b[1;32m--> 487\u001b[0m out \u001b[38;5;241m=\u001b[39m \u001b[43mfunc\u001b[49m\u001b[43m(\u001b[49m\u001b[38;5;241;43m*\u001b[39;49m\u001b[43margs\u001b[49m\u001b[43m,\u001b[49m\u001b[43m \u001b[49m\u001b[38;5;241;43m*\u001b[39;49m\u001b[38;5;241;43m*\u001b[39;49m\u001b[43mkwargs\u001b[49m\u001b[43m)\u001b[49m\n\u001b[0;32m    488\u001b[0m \u001b[38;5;28mself\u001b[39m\u001b[38;5;241m.\u001b[39m_optimizer_step_code()\n\u001b[0;32m    490\u001b[0m \u001b[38;5;66;03m# call optimizer step post hooks\u001b[39;00m\n",
      "File \u001b[1;32mc:\\Users\\USER\\Documents\\Github\\school\\nlp-2\\venv\\Lib\\site-packages\\torch\\optim\\optimizer.py:91\u001b[0m, in \u001b[0;36m_use_grad_for_differentiable.<locals>._use_grad\u001b[1;34m(self, *args, **kwargs)\u001b[0m\n\u001b[0;32m     89\u001b[0m     torch\u001b[38;5;241m.\u001b[39mset_grad_enabled(\u001b[38;5;28mself\u001b[39m\u001b[38;5;241m.\u001b[39mdefaults[\u001b[38;5;124m\"\u001b[39m\u001b[38;5;124mdifferentiable\u001b[39m\u001b[38;5;124m\"\u001b[39m])\n\u001b[0;32m     90\u001b[0m     torch\u001b[38;5;241m.\u001b[39m_dynamo\u001b[38;5;241m.\u001b[39mgraph_break()\n\u001b[1;32m---> 91\u001b[0m     ret \u001b[38;5;241m=\u001b[39m \u001b[43mfunc\u001b[49m\u001b[43m(\u001b[49m\u001b[38;5;28;43mself\u001b[39;49m\u001b[43m,\u001b[49m\u001b[43m \u001b[49m\u001b[38;5;241;43m*\u001b[39;49m\u001b[43margs\u001b[49m\u001b[43m,\u001b[49m\u001b[43m \u001b[49m\u001b[38;5;241;43m*\u001b[39;49m\u001b[38;5;241;43m*\u001b[39;49m\u001b[43mkwargs\u001b[49m\u001b[43m)\u001b[49m\n\u001b[0;32m     92\u001b[0m \u001b[38;5;28;01mfinally\u001b[39;00m:\n\u001b[0;32m     93\u001b[0m     torch\u001b[38;5;241m.\u001b[39m_dynamo\u001b[38;5;241m.\u001b[39mgraph_break()\n",
      "File \u001b[1;32mc:\\Users\\USER\\Documents\\Github\\school\\nlp-2\\venv\\Lib\\site-packages\\torch\\optim\\adam.py:223\u001b[0m, in \u001b[0;36mAdam.step\u001b[1;34m(self, closure)\u001b[0m\n\u001b[0;32m    211\u001b[0m     beta1, beta2 \u001b[38;5;241m=\u001b[39m group[\u001b[38;5;124m\"\u001b[39m\u001b[38;5;124mbetas\u001b[39m\u001b[38;5;124m\"\u001b[39m]\n\u001b[0;32m    213\u001b[0m     has_complex \u001b[38;5;241m=\u001b[39m \u001b[38;5;28mself\u001b[39m\u001b[38;5;241m.\u001b[39m_init_group(\n\u001b[0;32m    214\u001b[0m         group,\n\u001b[0;32m    215\u001b[0m         params_with_grad,\n\u001b[1;32m   (...)\u001b[0m\n\u001b[0;32m    220\u001b[0m         state_steps,\n\u001b[0;32m    221\u001b[0m     )\n\u001b[1;32m--> 223\u001b[0m     \u001b[43madam\u001b[49m\u001b[43m(\u001b[49m\n\u001b[0;32m    224\u001b[0m \u001b[43m        \u001b[49m\u001b[43mparams_with_grad\u001b[49m\u001b[43m,\u001b[49m\n\u001b[0;32m    225\u001b[0m \u001b[43m        \u001b[49m\u001b[43mgrads\u001b[49m\u001b[43m,\u001b[49m\n\u001b[0;32m    226\u001b[0m \u001b[43m        \u001b[49m\u001b[43mexp_avgs\u001b[49m\u001b[43m,\u001b[49m\n\u001b[0;32m    227\u001b[0m \u001b[43m        \u001b[49m\u001b[43mexp_avg_sqs\u001b[49m\u001b[43m,\u001b[49m\n\u001b[0;32m    228\u001b[0m \u001b[43m        \u001b[49m\u001b[43mmax_exp_avg_sqs\u001b[49m\u001b[43m,\u001b[49m\n\u001b[0;32m    229\u001b[0m \u001b[43m        \u001b[49m\u001b[43mstate_steps\u001b[49m\u001b[43m,\u001b[49m\n\u001b[0;32m    230\u001b[0m \u001b[43m        \u001b[49m\u001b[43mamsgrad\u001b[49m\u001b[38;5;241;43m=\u001b[39;49m\u001b[43mgroup\u001b[49m\u001b[43m[\u001b[49m\u001b[38;5;124;43m\"\u001b[39;49m\u001b[38;5;124;43mamsgrad\u001b[39;49m\u001b[38;5;124;43m\"\u001b[39;49m\u001b[43m]\u001b[49m\u001b[43m,\u001b[49m\n\u001b[0;32m    231\u001b[0m \u001b[43m        \u001b[49m\u001b[43mhas_complex\u001b[49m\u001b[38;5;241;43m=\u001b[39;49m\u001b[43mhas_complex\u001b[49m\u001b[43m,\u001b[49m\n\u001b[0;32m    232\u001b[0m \u001b[43m        \u001b[49m\u001b[43mbeta1\u001b[49m\u001b[38;5;241;43m=\u001b[39;49m\u001b[43mbeta1\u001b[49m\u001b[43m,\u001b[49m\n\u001b[0;32m    233\u001b[0m \u001b[43m        \u001b[49m\u001b[43mbeta2\u001b[49m\u001b[38;5;241;43m=\u001b[39;49m\u001b[43mbeta2\u001b[49m\u001b[43m,\u001b[49m\n\u001b[0;32m    234\u001b[0m \u001b[43m        \u001b[49m\u001b[43mlr\u001b[49m\u001b[38;5;241;43m=\u001b[39;49m\u001b[43mgroup\u001b[49m\u001b[43m[\u001b[49m\u001b[38;5;124;43m\"\u001b[39;49m\u001b[38;5;124;43mlr\u001b[39;49m\u001b[38;5;124;43m\"\u001b[39;49m\u001b[43m]\u001b[49m\u001b[43m,\u001b[49m\n\u001b[0;32m    235\u001b[0m \u001b[43m        \u001b[49m\u001b[43mweight_decay\u001b[49m\u001b[38;5;241;43m=\u001b[39;49m\u001b[43mgroup\u001b[49m\u001b[43m[\u001b[49m\u001b[38;5;124;43m\"\u001b[39;49m\u001b[38;5;124;43mweight_decay\u001b[39;49m\u001b[38;5;124;43m\"\u001b[39;49m\u001b[43m]\u001b[49m\u001b[43m,\u001b[49m\n\u001b[0;32m    236\u001b[0m \u001b[43m        \u001b[49m\u001b[43meps\u001b[49m\u001b[38;5;241;43m=\u001b[39;49m\u001b[43mgroup\u001b[49m\u001b[43m[\u001b[49m\u001b[38;5;124;43m\"\u001b[39;49m\u001b[38;5;124;43meps\u001b[39;49m\u001b[38;5;124;43m\"\u001b[39;49m\u001b[43m]\u001b[49m\u001b[43m,\u001b[49m\n\u001b[0;32m    237\u001b[0m \u001b[43m        \u001b[49m\u001b[43mmaximize\u001b[49m\u001b[38;5;241;43m=\u001b[39;49m\u001b[43mgroup\u001b[49m\u001b[43m[\u001b[49m\u001b[38;5;124;43m\"\u001b[39;49m\u001b[38;5;124;43mmaximize\u001b[39;49m\u001b[38;5;124;43m\"\u001b[39;49m\u001b[43m]\u001b[49m\u001b[43m,\u001b[49m\n\u001b[0;32m    238\u001b[0m \u001b[43m        \u001b[49m\u001b[43mforeach\u001b[49m\u001b[38;5;241;43m=\u001b[39;49m\u001b[43mgroup\u001b[49m\u001b[43m[\u001b[49m\u001b[38;5;124;43m\"\u001b[39;49m\u001b[38;5;124;43mforeach\u001b[39;49m\u001b[38;5;124;43m\"\u001b[39;49m\u001b[43m]\u001b[49m\u001b[43m,\u001b[49m\n\u001b[0;32m    239\u001b[0m \u001b[43m        \u001b[49m\u001b[43mcapturable\u001b[49m\u001b[38;5;241;43m=\u001b[39;49m\u001b[43mgroup\u001b[49m\u001b[43m[\u001b[49m\u001b[38;5;124;43m\"\u001b[39;49m\u001b[38;5;124;43mcapturable\u001b[39;49m\u001b[38;5;124;43m\"\u001b[39;49m\u001b[43m]\u001b[49m\u001b[43m,\u001b[49m\n\u001b[0;32m    240\u001b[0m \u001b[43m        \u001b[49m\u001b[43mdifferentiable\u001b[49m\u001b[38;5;241;43m=\u001b[39;49m\u001b[43mgroup\u001b[49m\u001b[43m[\u001b[49m\u001b[38;5;124;43m\"\u001b[39;49m\u001b[38;5;124;43mdifferentiable\u001b[39;49m\u001b[38;5;124;43m\"\u001b[39;49m\u001b[43m]\u001b[49m\u001b[43m,\u001b[49m\n\u001b[0;32m    241\u001b[0m \u001b[43m        \u001b[49m\u001b[43mfused\u001b[49m\u001b[38;5;241;43m=\u001b[39;49m\u001b[43mgroup\u001b[49m\u001b[43m[\u001b[49m\u001b[38;5;124;43m\"\u001b[39;49m\u001b[38;5;124;43mfused\u001b[39;49m\u001b[38;5;124;43m\"\u001b[39;49m\u001b[43m]\u001b[49m\u001b[43m,\u001b[49m\n\u001b[0;32m    242\u001b[0m \u001b[43m        \u001b[49m\u001b[43mgrad_scale\u001b[49m\u001b[38;5;241;43m=\u001b[39;49m\u001b[38;5;28;43mgetattr\u001b[39;49m\u001b[43m(\u001b[49m\u001b[38;5;28;43mself\u001b[39;49m\u001b[43m,\u001b[49m\u001b[43m \u001b[49m\u001b[38;5;124;43m\"\u001b[39;49m\u001b[38;5;124;43mgrad_scale\u001b[39;49m\u001b[38;5;124;43m\"\u001b[39;49m\u001b[43m,\u001b[49m\u001b[43m \u001b[49m\u001b[38;5;28;43;01mNone\u001b[39;49;00m\u001b[43m)\u001b[49m\u001b[43m,\u001b[49m\n\u001b[0;32m    243\u001b[0m \u001b[43m        \u001b[49m\u001b[43mfound_inf\u001b[49m\u001b[38;5;241;43m=\u001b[39;49m\u001b[38;5;28;43mgetattr\u001b[39;49m\u001b[43m(\u001b[49m\u001b[38;5;28;43mself\u001b[39;49m\u001b[43m,\u001b[49m\u001b[43m \u001b[49m\u001b[38;5;124;43m\"\u001b[39;49m\u001b[38;5;124;43mfound_inf\u001b[39;49m\u001b[38;5;124;43m\"\u001b[39;49m\u001b[43m,\u001b[49m\u001b[43m \u001b[49m\u001b[38;5;28;43;01mNone\u001b[39;49;00m\u001b[43m)\u001b[49m\u001b[43m,\u001b[49m\n\u001b[0;32m    244\u001b[0m \u001b[43m    \u001b[49m\u001b[43m)\u001b[49m\n\u001b[0;32m    246\u001b[0m \u001b[38;5;28;01mreturn\u001b[39;00m loss\n",
      "File \u001b[1;32mc:\\Users\\USER\\Documents\\Github\\school\\nlp-2\\venv\\Lib\\site-packages\\torch\\optim\\optimizer.py:154\u001b[0m, in \u001b[0;36m_disable_dynamo_if_unsupported.<locals>.wrapper.<locals>.maybe_fallback\u001b[1;34m(*args, **kwargs)\u001b[0m\n\u001b[0;32m    152\u001b[0m     \u001b[38;5;28;01mreturn\u001b[39;00m disabled_func(\u001b[38;5;241m*\u001b[39margs, \u001b[38;5;241m*\u001b[39m\u001b[38;5;241m*\u001b[39mkwargs)\n\u001b[0;32m    153\u001b[0m \u001b[38;5;28;01melse\u001b[39;00m:\n\u001b[1;32m--> 154\u001b[0m     \u001b[38;5;28;01mreturn\u001b[39;00m \u001b[43mfunc\u001b[49m\u001b[43m(\u001b[49m\u001b[38;5;241;43m*\u001b[39;49m\u001b[43margs\u001b[49m\u001b[43m,\u001b[49m\u001b[43m \u001b[49m\u001b[38;5;241;43m*\u001b[39;49m\u001b[38;5;241;43m*\u001b[39;49m\u001b[43mkwargs\u001b[49m\u001b[43m)\u001b[49m\n",
      "File \u001b[1;32mc:\\Users\\USER\\Documents\\Github\\school\\nlp-2\\venv\\Lib\\site-packages\\torch\\optim\\adam.py:784\u001b[0m, in \u001b[0;36madam\u001b[1;34m(params, grads, exp_avgs, exp_avg_sqs, max_exp_avg_sqs, state_steps, foreach, capturable, differentiable, fused, grad_scale, found_inf, has_complex, amsgrad, beta1, beta2, lr, weight_decay, eps, maximize)\u001b[0m\n\u001b[0;32m    781\u001b[0m \u001b[38;5;28;01melse\u001b[39;00m:\n\u001b[0;32m    782\u001b[0m     func \u001b[38;5;241m=\u001b[39m _single_tensor_adam\n\u001b[1;32m--> 784\u001b[0m \u001b[43mfunc\u001b[49m\u001b[43m(\u001b[49m\n\u001b[0;32m    785\u001b[0m \u001b[43m    \u001b[49m\u001b[43mparams\u001b[49m\u001b[43m,\u001b[49m\n\u001b[0;32m    786\u001b[0m \u001b[43m    \u001b[49m\u001b[43mgrads\u001b[49m\u001b[43m,\u001b[49m\n\u001b[0;32m    787\u001b[0m \u001b[43m    \u001b[49m\u001b[43mexp_avgs\u001b[49m\u001b[43m,\u001b[49m\n\u001b[0;32m    788\u001b[0m \u001b[43m    \u001b[49m\u001b[43mexp_avg_sqs\u001b[49m\u001b[43m,\u001b[49m\n\u001b[0;32m    789\u001b[0m \u001b[43m    \u001b[49m\u001b[43mmax_exp_avg_sqs\u001b[49m\u001b[43m,\u001b[49m\n\u001b[0;32m    790\u001b[0m \u001b[43m    \u001b[49m\u001b[43mstate_steps\u001b[49m\u001b[43m,\u001b[49m\n\u001b[0;32m    791\u001b[0m \u001b[43m    \u001b[49m\u001b[43mamsgrad\u001b[49m\u001b[38;5;241;43m=\u001b[39;49m\u001b[43mamsgrad\u001b[49m\u001b[43m,\u001b[49m\n\u001b[0;32m    792\u001b[0m \u001b[43m    \u001b[49m\u001b[43mhas_complex\u001b[49m\u001b[38;5;241;43m=\u001b[39;49m\u001b[43mhas_complex\u001b[49m\u001b[43m,\u001b[49m\n\u001b[0;32m    793\u001b[0m \u001b[43m    \u001b[49m\u001b[43mbeta1\u001b[49m\u001b[38;5;241;43m=\u001b[39;49m\u001b[43mbeta1\u001b[49m\u001b[43m,\u001b[49m\n\u001b[0;32m    794\u001b[0m \u001b[43m    \u001b[49m\u001b[43mbeta2\u001b[49m\u001b[38;5;241;43m=\u001b[39;49m\u001b[43mbeta2\u001b[49m\u001b[43m,\u001b[49m\n\u001b[0;32m    795\u001b[0m \u001b[43m    \u001b[49m\u001b[43mlr\u001b[49m\u001b[38;5;241;43m=\u001b[39;49m\u001b[43mlr\u001b[49m\u001b[43m,\u001b[49m\n\u001b[0;32m    796\u001b[0m \u001b[43m    \u001b[49m\u001b[43mweight_decay\u001b[49m\u001b[38;5;241;43m=\u001b[39;49m\u001b[43mweight_decay\u001b[49m\u001b[43m,\u001b[49m\n\u001b[0;32m    797\u001b[0m \u001b[43m    \u001b[49m\u001b[43meps\u001b[49m\u001b[38;5;241;43m=\u001b[39;49m\u001b[43meps\u001b[49m\u001b[43m,\u001b[49m\n\u001b[0;32m    798\u001b[0m \u001b[43m    \u001b[49m\u001b[43mmaximize\u001b[49m\u001b[38;5;241;43m=\u001b[39;49m\u001b[43mmaximize\u001b[49m\u001b[43m,\u001b[49m\n\u001b[0;32m    799\u001b[0m \u001b[43m    \u001b[49m\u001b[43mcapturable\u001b[49m\u001b[38;5;241;43m=\u001b[39;49m\u001b[43mcapturable\u001b[49m\u001b[43m,\u001b[49m\n\u001b[0;32m    800\u001b[0m \u001b[43m    \u001b[49m\u001b[43mdifferentiable\u001b[49m\u001b[38;5;241;43m=\u001b[39;49m\u001b[43mdifferentiable\u001b[49m\u001b[43m,\u001b[49m\n\u001b[0;32m    801\u001b[0m \u001b[43m    \u001b[49m\u001b[43mgrad_scale\u001b[49m\u001b[38;5;241;43m=\u001b[39;49m\u001b[43mgrad_scale\u001b[49m\u001b[43m,\u001b[49m\n\u001b[0;32m    802\u001b[0m \u001b[43m    \u001b[49m\u001b[43mfound_inf\u001b[49m\u001b[38;5;241;43m=\u001b[39;49m\u001b[43mfound_inf\u001b[49m\u001b[43m,\u001b[49m\n\u001b[0;32m    803\u001b[0m \u001b[43m\u001b[49m\u001b[43m)\u001b[49m\n",
      "File \u001b[1;32mc:\\Users\\USER\\Documents\\Github\\school\\nlp-2\\venv\\Lib\\site-packages\\torch\\optim\\adam.py:542\u001b[0m, in \u001b[0;36m_multi_tensor_adam\u001b[1;34m(params, grads, exp_avgs, exp_avg_sqs, max_exp_avg_sqs, state_steps, grad_scale, found_inf, amsgrad, has_complex, beta1, beta2, lr, weight_decay, eps, maximize, capturable, differentiable)\u001b[0m\n\u001b[0;32m    539\u001b[0m \u001b[38;5;66;03m# Decay the first and second moment running average coefficient\u001b[39;00m\n\u001b[0;32m    540\u001b[0m torch\u001b[38;5;241m.\u001b[39m_foreach_lerp_(device_exp_avgs, device_grads, \u001b[38;5;241m1\u001b[39m \u001b[38;5;241m-\u001b[39m beta1)\n\u001b[1;32m--> 542\u001b[0m \u001b[43mtorch\u001b[49m\u001b[38;5;241;43m.\u001b[39;49m\u001b[43m_foreach_mul_\u001b[49m\u001b[43m(\u001b[49m\u001b[43mdevice_exp_avg_sqs\u001b[49m\u001b[43m,\u001b[49m\u001b[43m \u001b[49m\u001b[43mbeta2\u001b[49m\u001b[43m)\u001b[49m\n\u001b[0;32m    543\u001b[0m torch\u001b[38;5;241m.\u001b[39m_foreach_addcmul_(\n\u001b[0;32m    544\u001b[0m     device_exp_avg_sqs, device_grads, device_grads, \u001b[38;5;241m1\u001b[39m \u001b[38;5;241m-\u001b[39m beta2\n\u001b[0;32m    545\u001b[0m )\n\u001b[0;32m    547\u001b[0m \u001b[38;5;66;03m# Delete the local intermediate since it won't be used anymore to save on peak memory\u001b[39;00m\n",
      "\u001b[1;31mKeyboardInterrupt\u001b[0m: "
     ]
    }
   ],
   "source": [
    "RNN_embeddings_model = VanillaRNNWithEmbedding(input_size=EMBEDDING_DIM, hidden_size=HIDDEN_SIZE, num_layers=2, num_classes=1)\n",
    "optim = torch.optim.Adam(RNN_embeddings_model.parameters(), lr=0.001)\n",
    "\n",
    "\n",
    "train_dataset_ed2 = EmbeddingsDataset2(train_dataset['text'], train_dataset['label'], num_tokens_per_sentence=25)\n",
    "validation_dataset_ed2 = EmbeddingsDataset2(validation_dataset['text'], validation_dataset['label'], num_tokens_per_sentence=25)\n",
    "# test_dataset_ed2 = EmbeddingsDataset(test_dataset['text'], test_dataset['label'])\n",
    "\n",
    "\n",
    "train_dataloader2 = DataLoader(train_dataset_ed2, batch_size=BATCH_SIZE, shuffle=True)\n",
    "validation_dataloader2 = DataLoader(validation_dataset_ed2, batch_size=BATCH_SIZE, shuffle=True)\n",
    "\n",
    "criterion = nn.BCEWithLogitsLoss()\n",
    "\n",
    "validation_acc = [] \n",
    "train_acc = []\n",
    "train_losses, validate_losses = [], []\n",
    "for i in range(NUM_EPOCHS):\n",
    "  train_loss, train_correct = train_loop2(train_dataloader2, RNN_embeddings_model, criterion, optim) \n",
    "  validate_loss, validate_correct = test_loop2(validation_dataloader2, RNN_embeddings_model, criterion)\n",
    "  validation_acc.append(validate_correct)\n",
    "  train_acc.append(train_correct)\n",
    "  train_losses.append(train_loss)\n",
    "  validate_losses.append(validate_loss)\n",
    "\n",
    "  print(f\"Epoch {i+1}, Train Loss: {train_loss:.4f}, Validate Loss: {validate_loss:.4f}\")\n",
    "  #if i%10 == 0:\n",
    "  print(f\"Epoch:{i+1} \\tValidation Acc:{validate_correct} \\tTrain Acc:{train_correct}\")\n",
    "  \n",
    "  \n"
   ]
  },
  {
   "cell_type": "code",
   "execution_count": null,
   "metadata": {},
   "outputs": [
    {
     "name": "stdout",
     "output_type": "stream",
     "text": [
      "Epoch 1, Train Loss: 0.6951, Validate Loss: 0.6895\n",
      "Epoch:1 \tValidation Acc:0.5619136960600375 \tTrain Acc:0.5073856975381008\n",
      "Epoch 2, Train Loss: 0.6906, Validate Loss: 0.6854\n",
      "Epoch:2 \tValidation Acc:0.5412757973733584 \tTrain Acc:0.5262602579132474\n",
      "Epoch 3, Train Loss: 0.6844, Validate Loss: 0.6773\n",
      "Epoch:3 \tValidation Acc:0.5881801125703565 \tTrain Acc:0.5610785463071513\n",
      "Epoch 4, Train Loss: 0.6770, Validate Loss: 0.6703\n",
      "Epoch:4 \tValidation Acc:0.5956848030018762 \tTrain Acc:0.5722157092614303\n",
      "Epoch 5, Train Loss: 0.6722, Validate Loss: 0.6682\n",
      "Epoch:5 \tValidation Acc:0.6031894934333959 \tTrain Acc:0.5835873388042204\n",
      "Epoch 6, Train Loss: 0.6673, Validate Loss: 0.6689\n",
      "Epoch:6 \tValidation Acc:0.5975609756097561 \tTrain Acc:0.5951934349355217\n",
      "Epoch 7, Train Loss: 0.6653, Validate Loss: 0.6681\n",
      "Epoch:7 \tValidation Acc:0.5928705440900562 \tTrain Acc:0.5984759671746777\n",
      "Epoch 8, Train Loss: 0.6623, Validate Loss: 0.6761\n",
      "Epoch:8 \tValidation Acc:0.5675422138836773 \tTrain Acc:0.6026963657678781\n",
      "Epoch 9, Train Loss: 0.6605, Validate Loss: 0.6606\n",
      "Epoch:9 \tValidation Acc:0.6116322701688556 \tTrain Acc:0.6073856975381008\n",
      "Epoch 10, Train Loss: 0.6577, Validate Loss: 0.6623\n",
      "Epoch:10 \tValidation Acc:0.6060037523452158 \tTrain Acc:0.6076201641266119\n",
      "Epoch 11, Train Loss: 0.6548, Validate Loss: 0.6678\n",
      "Epoch:11 \tValidation Acc:0.6050656660412758 \tTrain Acc:0.6153575615474794\n",
      "Epoch 12, Train Loss: 0.6537, Validate Loss: 0.6653\n",
      "Epoch:12 \tValidation Acc:0.6031894934333959 \tTrain Acc:0.6187573270808909\n",
      "Epoch 13, Train Loss: 0.6509, Validate Loss: 0.6609\n",
      "Epoch:13 \tValidation Acc:0.6116322701688556 \tTrain Acc:0.6228604923798359\n",
      "Epoch 14, Train Loss: 0.6463, Validate Loss: 0.6634\n",
      "Epoch:14 \tValidation Acc:0.6013133208255159 \tTrain Acc:0.6266119577960141\n",
      "Epoch 15, Train Loss: 0.6433, Validate Loss: 0.6617\n",
      "Epoch:15 \tValidation Acc:0.6078799249530957 \tTrain Acc:0.6328253223915592\n",
      "Epoch 16, Train Loss: 0.6419, Validate Loss: 0.6584\n",
      "Epoch:16 \tValidation Acc:0.6088180112570356 \tTrain Acc:0.6329425556858148\n",
      "Epoch 17, Train Loss: 0.6378, Validate Loss: 0.6561\n",
      "Epoch:17 \tValidation Acc:0.6106941838649156 \tTrain Acc:0.6406799531066822\n",
      "Epoch 18, Train Loss: 0.6333, Validate Loss: 0.6617\n",
      "Epoch:18 \tValidation Acc:0.5881801125703565 \tTrain Acc:0.6411488862837046\n",
      "Epoch 19, Train Loss: 0.6294, Validate Loss: 0.6626\n",
      "Epoch:19 \tValidation Acc:0.6050656660412758 \tTrain Acc:0.6438452520515826\n",
      "Epoch 20, Train Loss: 0.6274, Validate Loss: 0.6610\n",
      "Epoch:20 \tValidation Acc:0.6106941838649156 \tTrain Acc:0.6495896834701055\n",
      "Epoch 21, Train Loss: 0.6231, Validate Loss: 0.6608\n",
      "Epoch:21 \tValidation Acc:0.6050656660412758 \tTrain Acc:0.6506447831184057\n",
      "Epoch 22, Train Loss: 0.6189, Validate Loss: 0.6582\n",
      "Epoch:22 \tValidation Acc:0.6022514071294559 \tTrain Acc:0.6599062133645955\n",
      "Epoch 23, Train Loss: 0.6148, Validate Loss: 0.6657\n",
      "Epoch:23 \tValidation Acc:0.5938086303939962 \tTrain Acc:0.6609613130128956\n",
      "Epoch 24, Train Loss: 0.6091, Validate Loss: 0.6650\n",
      "Epoch:24 \tValidation Acc:0.6013133208255159 \tTrain Acc:0.6671746776084408\n",
      "Epoch 25, Train Loss: 0.6077, Validate Loss: 0.6572\n",
      "Epoch:25 \tValidation Acc:0.6088180112570356 \tTrain Acc:0.6681125439624853\n",
      "Epoch 26, Train Loss: 0.6015, Validate Loss: 0.6622\n",
      "Epoch:26 \tValidation Acc:0.6144465290806754 \tTrain Acc:0.6726846424384525\n",
      "Epoch 27, Train Loss: 0.5947, Validate Loss: 0.6589\n",
      "Epoch:27 \tValidation Acc:0.6125703564727955 \tTrain Acc:0.6833528722157093\n",
      "Epoch 28, Train Loss: 0.5903, Validate Loss: 0.6699\n",
      "Epoch:28 \tValidation Acc:0.6135084427767354 \tTrain Acc:0.6849941383352872\n",
      "Epoch 29, Train Loss: 0.5877, Validate Loss: 0.6695\n",
      "Epoch:29 \tValidation Acc:0.6135084427767354 \tTrain Acc:0.6887456037514654\n",
      "Epoch 30, Train Loss: 0.5849, Validate Loss: 0.6637\n",
      "Epoch:30 \tValidation Acc:0.6116322701688556 \tTrain Acc:0.6879249706916765\n",
      "Epoch 31, Train Loss: 0.5801, Validate Loss: 0.6778\n",
      "Epoch:31 \tValidation Acc:0.6116322701688556 \tTrain Acc:0.6978898007033998\n",
      "Epoch 32, Train Loss: 0.5766, Validate Loss: 0.6678\n",
      "Epoch:32 \tValidation Acc:0.6088180112570356 \tTrain Acc:0.6967174677608441\n",
      "Epoch 33, Train Loss: 0.5710, Validate Loss: 0.6815\n",
      "Epoch:33 \tValidation Acc:0.599437148217636 \tTrain Acc:0.7082063305978898\n",
      "Epoch 34, Train Loss: 0.5671, Validate Loss: 0.6740\n",
      "Epoch:34 \tValidation Acc:0.6210131332082551 \tTrain Acc:0.7023446658851114\n",
      "Epoch 35, Train Loss: 0.5631, Validate Loss: 0.6863\n",
      "Epoch:35 \tValidation Acc:0.6088180112570356 \tTrain Acc:0.7087924970691677\n",
      "Epoch 36, Train Loss: 0.5611, Validate Loss: 0.6755\n",
      "Epoch:36 \tValidation Acc:0.6125703564727955 \tTrain Acc:0.7134818288393904\n",
      "Epoch 37, Train Loss: 0.5556, Validate Loss: 0.6852\n",
      "Epoch:37 \tValidation Acc:0.6135084427767354 \tTrain Acc:0.7174677608440797\n",
      "Epoch 38, Train Loss: 0.5503, Validate Loss: 0.6930\n",
      "Epoch:38 \tValidation Acc:0.6144465290806754 \tTrain Acc:0.7172332942555686\n",
      "Epoch 39, Train Loss: 0.5482, Validate Loss: 0.6908\n",
      "Epoch:39 \tValidation Acc:0.6078799249530957 \tTrain Acc:0.7184056271981243\n",
      "Epoch 40, Train Loss: 0.5417, Validate Loss: 0.6958\n",
      "Epoch:40 \tValidation Acc:0.6106941838649156 \tTrain Acc:0.7304806565064478\n",
      "Epoch 41, Train Loss: 0.5386, Validate Loss: 0.6882\n",
      "Epoch:41 \tValidation Acc:0.6097560975609756 \tTrain Acc:0.7283704572098476\n",
      "Epoch 42, Train Loss: 0.5333, Validate Loss: 0.7040\n",
      "Epoch:42 \tValidation Acc:0.6088180112570356 \tTrain Acc:0.7343493552168816\n",
      "Epoch 43, Train Loss: 0.5315, Validate Loss: 0.7025\n",
      "Epoch:43 \tValidation Acc:0.6144465290806754 \tTrain Acc:0.7365767878077374\n",
      "Epoch 44, Train Loss: 0.5242, Validate Loss: 0.6984\n",
      "Epoch:44 \tValidation Acc:0.6097560975609756 \tTrain Acc:0.7400937866354045\n",
      "Epoch 45, Train Loss: 0.5212, Validate Loss: 0.7070\n",
      "Epoch:45 \tValidation Acc:0.6144465290806754 \tTrain Acc:0.7429073856975381\n",
      "Epoch 46, Train Loss: 0.5189, Validate Loss: 0.7336\n",
      "Epoch:46 \tValidation Acc:0.5881801125703565 \tTrain Acc:0.7439624853458382\n",
      "Epoch 47, Train Loss: 0.5157, Validate Loss: 0.7136\n",
      "Epoch:47 \tValidation Acc:0.6125703564727955 \tTrain Acc:0.7444314185228605\n",
      "Epoch 48, Train Loss: 0.5065, Validate Loss: 0.7163\n",
      "Epoch:48 \tValidation Acc:0.6041275797373359 \tTrain Acc:0.7532239155920282\n",
      "Epoch 49, Train Loss: 0.5060, Validate Loss: 0.7265\n",
      "Epoch:49 \tValidation Acc:0.6022514071294559 \tTrain Acc:0.7497069167643611\n",
      "Epoch 50, Train Loss: 0.5057, Validate Loss: 0.7219\n",
      "Epoch:50 \tValidation Acc:0.5956848030018762 \tTrain Acc:0.7552168815943728\n",
      "Epoch 51, Train Loss: 0.4988, Validate Loss: 0.7300\n",
      "Epoch:51 \tValidation Acc:0.5909943714821764 \tTrain Acc:0.7539273153575615\n",
      "Epoch 52, Train Loss: 0.4923, Validate Loss: 0.7284\n",
      "Epoch:52 \tValidation Acc:0.6210131332082551 \tTrain Acc:0.7626025791324736\n",
      "Epoch 53, Train Loss: 0.4931, Validate Loss: 0.7313\n",
      "Epoch:53 \tValidation Acc:0.6125703564727955 \tTrain Acc:0.7608440797186401\n",
      "Epoch 54, Train Loss: 0.4868, Validate Loss: 0.7236\n",
      "Epoch:54 \tValidation Acc:0.6181988742964353 \tTrain Acc:0.7627198124267291\n",
      "Epoch 55, Train Loss: 0.4820, Validate Loss: 0.7454\n",
      "Epoch:55 \tValidation Acc:0.599437148217636 \tTrain Acc:0.763305978898007\n",
      "Epoch 56, Train Loss: 0.4796, Validate Loss: 0.7451\n",
      "Epoch:56 \tValidation Acc:0.6060037523452158 \tTrain Acc:0.7661195779601406\n",
      "Epoch 57, Train Loss: 0.4737, Validate Loss: 0.7529\n",
      "Epoch:57 \tValidation Acc:0.6041275797373359 \tTrain Acc:0.7699882766705745\n",
      "Epoch 58, Train Loss: 0.4674, Validate Loss: 0.7800\n",
      "Epoch:58 \tValidation Acc:0.6031894934333959 \tTrain Acc:0.782883939038687\n",
      "Epoch 59, Train Loss: 0.4652, Validate Loss: 0.7681\n",
      "Epoch:59 \tValidation Acc:0.6097560975609756 \tTrain Acc:0.7813599062133646\n",
      "Epoch 60, Train Loss: 0.4586, Validate Loss: 0.7579\n",
      "Epoch:60 \tValidation Acc:0.6125703564727955 \tTrain Acc:0.7865181711606096\n",
      "Epoch 61, Train Loss: 0.4549, Validate Loss: 0.7769\n",
      "Epoch:61 \tValidation Acc:0.5891181988742964 \tTrain Acc:0.7861664712778429\n",
      "Epoch 62, Train Loss: 0.4561, Validate Loss: 0.7742\n",
      "Epoch:62 \tValidation Acc:0.6069418386491557 \tTrain Acc:0.7874560375146542\n",
      "Epoch 63, Train Loss: 0.4550, Validate Loss: 0.7854\n",
      "Epoch:63 \tValidation Acc:0.5984990619136961 \tTrain Acc:0.7852286049237983\n",
      "Epoch 64, Train Loss: 0.4437, Validate Loss: 0.7720\n",
      "Epoch:64 \tValidation Acc:0.6013133208255159 \tTrain Acc:0.7927315357561547\n",
      "Epoch 65, Train Loss: 0.4443, Validate Loss: 0.7832\n",
      "Epoch:65 \tValidation Acc:0.6041275797373359 \tTrain Acc:0.7900351699882767\n",
      "Epoch 66, Train Loss: 0.4373, Validate Loss: 0.7954\n",
      "Epoch:66 \tValidation Acc:0.5881801125703565 \tTrain Acc:0.7974208675263775\n",
      "Epoch 67, Train Loss: 0.4329, Validate Loss: 0.8136\n",
      "Epoch:67 \tValidation Acc:0.5975609756097561 \tTrain Acc:0.8028135990621337\n",
      "Epoch 68, Train Loss: 0.4303, Validate Loss: 0.8067\n",
      "Epoch:68 \tValidation Acc:0.6022514071294559 \tTrain Acc:0.8038686987104338\n",
      "Epoch 69, Train Loss: 0.4233, Validate Loss: 0.8333\n",
      "Epoch:69 \tValidation Acc:0.6097560975609756 \tTrain Acc:0.7980070339976554\n",
      "Epoch 70, Train Loss: 0.4167, Validate Loss: 0.8366\n",
      "Epoch:70 \tValidation Acc:0.5966228893058161 \tTrain Acc:0.8106682297772567\n",
      "Epoch 71, Train Loss: 0.4159, Validate Loss: 0.8341\n",
      "Epoch:71 \tValidation Acc:0.6041275797373359 \tTrain Acc:0.8138335287221571\n",
      "Epoch 72, Train Loss: 0.4075, Validate Loss: 0.8316\n",
      "Epoch:72 \tValidation Acc:0.5816135084427767 \tTrain Acc:0.8141852286049238\n",
      "Epoch 73, Train Loss: 0.4060, Validate Loss: 0.8358\n",
      "Epoch:73 \tValidation Acc:0.6050656660412758 \tTrain Acc:0.8200468933177022\n",
      "Epoch 74, Train Loss: 0.4029, Validate Loss: 0.8669\n",
      "Epoch:74 \tValidation Acc:0.5834896810506567 \tTrain Acc:0.8212192262602579\n",
      "Epoch 75, Train Loss: 0.4025, Validate Loss: 0.8522\n",
      "Epoch:75 \tValidation Acc:0.5900562851782364 \tTrain Acc:0.82063305978898\n",
      "Epoch 76, Train Loss: 0.3926, Validate Loss: 0.8954\n",
      "Epoch:76 \tValidation Acc:0.5797373358348968 \tTrain Acc:0.8213364595545135\n",
      "Epoch 77, Train Loss: 0.3924, Validate Loss: 0.8926\n",
      "Epoch:77 \tValidation Acc:0.5909943714821764 \tTrain Acc:0.81957796014068\n",
      "Epoch 78, Train Loss: 0.3859, Validate Loss: 0.8873\n",
      "Epoch:78 \tValidation Acc:0.599437148217636 \tTrain Acc:0.8233294255568582\n",
      "Epoch 79, Train Loss: 0.3832, Validate Loss: 0.9299\n",
      "Epoch:79 \tValidation Acc:0.5919324577861164 \tTrain Acc:0.826611957796014\n",
      "Epoch 80, Train Loss: 0.3830, Validate Loss: 0.9029\n",
      "Epoch:80 \tValidation Acc:0.5947467166979362 \tTrain Acc:0.8273153575615475\n",
      "Epoch 81, Train Loss: 0.3781, Validate Loss: 0.9181\n",
      "Epoch:81 \tValidation Acc:0.5984990619136961 \tTrain Acc:0.8310668229777257\n",
      "Epoch 82, Train Loss: 0.3699, Validate Loss: 0.9081\n",
      "Epoch:82 \tValidation Acc:0.5909943714821764 \tTrain Acc:0.8348182883939038\n",
      "Epoch 83, Train Loss: 0.3709, Validate Loss: 0.9065\n",
      "Epoch:83 \tValidation Acc:0.5863039399624765 \tTrain Acc:0.8330597889800704\n",
      "Epoch 84, Train Loss: 0.3622, Validate Loss: 0.9624\n",
      "Epoch:84 \tValidation Acc:0.5872420262664165 \tTrain Acc:0.8364595545134819\n",
      "Epoch 85, Train Loss: 0.3581, Validate Loss: 0.9230\n",
      "Epoch:85 \tValidation Acc:0.5900562851782364 \tTrain Acc:0.8458382180539273\n",
      "Epoch 86, Train Loss: 0.3531, Validate Loss: 0.9154\n",
      "Epoch:86 \tValidation Acc:0.5956848030018762 \tTrain Acc:0.8471277842907385\n",
      "Epoch 87, Train Loss: 0.3480, Validate Loss: 0.9085\n",
      "Epoch:87 \tValidation Acc:0.5900562851782364 \tTrain Acc:0.8475967174677609\n",
      "Epoch 88, Train Loss: 0.3481, Validate Loss: 0.9535\n",
      "Epoch:88 \tValidation Acc:0.6013133208255159 \tTrain Acc:0.845369284876905\n",
      "Epoch 89, Train Loss: 0.3390, Validate Loss: 1.0026\n",
      "Epoch:89 \tValidation Acc:0.5844277673545967 \tTrain Acc:0.8474794841735053\n",
      "Epoch 90, Train Loss: 0.3401, Validate Loss: 1.0012\n",
      "Epoch:90 \tValidation Acc:0.5928705440900562 \tTrain Acc:0.8485345838218054\n",
      "Epoch 91, Train Loss: 0.3371, Validate Loss: 1.0113\n",
      "Epoch:91 \tValidation Acc:0.5797373358348968 \tTrain Acc:0.8498241500586167\n",
      "Epoch 92, Train Loss: 0.3346, Validate Loss: 1.0142\n",
      "Epoch:92 \tValidation Acc:0.5881801125703565 \tTrain Acc:0.8542790152403282\n",
      "Epoch 93, Train Loss: 0.3234, Validate Loss: 0.9915\n",
      "Epoch:93 \tValidation Acc:0.5900562851782364 \tTrain Acc:0.8637749120750293\n",
      "Epoch 94, Train Loss: 0.3237, Validate Loss: 1.0179\n",
      "Epoch:94 \tValidation Acc:0.6022514071294559 \tTrain Acc:0.8579132473622508\n",
      "Epoch 95, Train Loss: 0.3180, Validate Loss: 1.0886\n",
      "Epoch:95 \tValidation Acc:0.5797373358348968 \tTrain Acc:0.8623681125439625\n",
      "Epoch 96, Train Loss: 0.3150, Validate Loss: 1.0471\n",
      "Epoch:96 \tValidation Acc:0.5975609756097561 \tTrain Acc:0.865767878077374\n",
      "Epoch 97, Train Loss: 0.3060, Validate Loss: 1.0533\n",
      "Epoch:97 \tValidation Acc:0.5769230769230769 \tTrain Acc:0.8670574443141852\n",
      "Epoch 98, Train Loss: 0.3029, Validate Loss: 1.0706\n",
      "Epoch:98 \tValidation Acc:0.5872420262664165 \tTrain Acc:0.87010550996483\n",
      "Epoch 99, Train Loss: 0.3014, Validate Loss: 1.1181\n",
      "Epoch:99 \tValidation Acc:0.5816135084427767 \tTrain Acc:0.8688159437280187\n",
      "Epoch 100, Train Loss: 0.2990, Validate Loss: 1.0939\n",
      "Epoch:100 \tValidation Acc:0.5872420262664165 \tTrain Acc:0.8732708089097304\n"
     ]
    }
   ],
   "source": [
    "RNN_embeddings_model = VanillaRNNWithEmbedding(input_size=EMBEDDING_DIM, hidden_size=HIDDEN_SIZE, num_layers=2, num_classes=1)\n",
    "optim = torch.optim.Adam(RNN_embeddings_model.parameters(), lr=0.0001)\n",
    "\n",
    "\n",
    "train_dataset_ed2 = EmbeddingsDataset2(train_dataset['text'], train_dataset['label'], num_tokens_per_sentence=25)\n",
    "validation_dataset_ed2 = EmbeddingsDataset2(validation_dataset['text'], validation_dataset['label'], num_tokens_per_sentence=25)\n",
    "# test_dataset_ed2 = EmbeddingsDataset(test_dataset['text'], test_dataset['label'])\n",
    "\n",
    "\n",
    "train_dataloader2 = DataLoader(train_dataset_ed2, batch_size=BATCH_SIZE, shuffle=True)\n",
    "validation_dataloader2 = DataLoader(validation_dataset_ed2, batch_size=BATCH_SIZE, shuffle=True)\n",
    "\n",
    "criterion = nn.BCEWithLogitsLoss()\n",
    "\n",
    "validation_acc = [] \n",
    "train_acc = []\n",
    "train_losses, validate_losses = [], []\n",
    "for i in range(NUM_EPOCHS):\n",
    "  train_loss, train_correct = train_loop2(train_dataloader2, RNN_embeddings_model, criterion, optim) \n",
    "  validate_loss, validate_correct = test_loop2(validation_dataloader2, RNN_embeddings_model, criterion)\n",
    "  validation_acc.append(validate_correct)\n",
    "  train_acc.append(train_correct)\n",
    "  train_losses.append(train_loss)\n",
    "  validate_losses.append(validate_loss)\n",
    "\n",
    "  print(f\"Epoch {i+1}, Train Loss: {train_loss:.4f}, Validate Loss: {validate_loss:.4f}\")\n",
    "  #if i%10 == 0:\n",
    "  print(f\"Epoch:{i+1} \\tValidation Acc:{validate_correct} \\tTrain Acc:{train_correct}\")\n",
    "  \n",
    "  \n"
   ]
  },
  {
   "cell_type": "code",
   "execution_count": 154,
   "metadata": {},
   "outputs": [
    {
     "name": "stdout",
     "output_type": "stream",
     "text": [
      "Epoch 1, Train Loss: 0.6817, Validate Loss: 0.6627\n",
      "Epoch:1 \tValidation Acc:0.5928705440900562 \tTrain Acc:0.564947245017585\n",
      "Epoch 2, Train Loss: 0.6484, Validate Loss: 0.6533\n",
      "Epoch:2 \tValidation Acc:0.626641651031895 \tTrain Acc:0.623915592028136\n",
      "Epoch 3, Train Loss: 0.6185, Validate Loss: 0.6524\n",
      "Epoch:3 \tValidation Acc:0.6285178236397748 \tTrain Acc:0.658968347010551\n",
      "Epoch 4, Train Loss: 0.5926, Validate Loss: 0.6490\n",
      "Epoch:4 \tValidation Acc:0.6407129455909943 \tTrain Acc:0.688042203985932\n",
      "Epoch 5, Train Loss: 0.5549, Validate Loss: 0.7002\n",
      "Epoch:5 \tValidation Acc:0.6116322701688556 \tTrain Acc:0.7188745603751465\n",
      "Epoch 6, Train Loss: 0.5269, Validate Loss: 0.6591\n",
      "Epoch:6 \tValidation Acc:0.651031894934334 \tTrain Acc:0.7363423212192263\n",
      "Epoch 7, Train Loss: 0.4780, Validate Loss: 0.6812\n",
      "Epoch:7 \tValidation Acc:0.6191369606003753 \tTrain Acc:0.7726846424384525\n",
      "Epoch 8, Train Loss: 0.4395, Validate Loss: 0.7087\n",
      "Epoch:8 \tValidation Acc:0.6163227016885553 \tTrain Acc:0.8024618991793669\n",
      "Epoch 9, Train Loss: 0.3793, Validate Loss: 0.7088\n",
      "Epoch:9 \tValidation Acc:0.6350844277673546 \tTrain Acc:0.8405627198124267\n",
      "Epoch 10, Train Loss: 0.3343, Validate Loss: 0.7733\n",
      "Epoch:10 \tValidation Acc:0.6350844277673546 \tTrain Acc:0.8647127784290739\n",
      "Epoch 11, Train Loss: 0.2681, Validate Loss: 0.8049\n",
      "Epoch:11 \tValidation Acc:0.6425891181988743 \tTrain Acc:0.9024618991793669\n",
      "Epoch 12, Train Loss: 0.2156, Validate Loss: 0.8936\n",
      "Epoch:12 \tValidation Acc:0.625703564727955 \tTrain Acc:0.9295427901524033\n",
      "Epoch 13, Train Loss: 0.1620, Validate Loss: 0.8837\n",
      "Epoch:13 \tValidation Acc:0.6303939962476548 \tTrain Acc:0.9532239155920281\n",
      "Epoch 14, Train Loss: 0.1134, Validate Loss: 0.9623\n",
      "Epoch:14 \tValidation Acc:0.6181988742964353 \tTrain Acc:0.976084407971864\n",
      "Epoch 15, Train Loss: 0.0892, Validate Loss: 1.0407\n",
      "Epoch:15 \tValidation Acc:0.6200750469043153 \tTrain Acc:0.9814771395076202\n"
     ]
    },
    {
     "ename": "KeyboardInterrupt",
     "evalue": "",
     "output_type": "error",
     "traceback": [
      "\u001b[1;31m---------------------------------------------------------------------------\u001b[0m",
      "\u001b[1;31mKeyboardInterrupt\u001b[0m                         Traceback (most recent call last)",
      "Cell \u001b[1;32mIn[154], line 19\u001b[0m\n\u001b[0;32m     17\u001b[0m train_losses, validate_losses \u001b[38;5;241m=\u001b[39m [], []\n\u001b[0;32m     18\u001b[0m \u001b[38;5;28;01mfor\u001b[39;00m i \u001b[38;5;129;01min\u001b[39;00m \u001b[38;5;28mrange\u001b[39m(NUM_EPOCHS):\n\u001b[1;32m---> 19\u001b[0m   train_loss, train_correct \u001b[38;5;241m=\u001b[39m \u001b[43mtrain_loop\u001b[49m\u001b[43m(\u001b[49m\u001b[43mtrain_dataloader2\u001b[49m\u001b[43m,\u001b[49m\u001b[43m \u001b[49m\u001b[43mRNN_embeddings_model\u001b[49m\u001b[43m,\u001b[49m\u001b[43m \u001b[49m\u001b[43mcriterion\u001b[49m\u001b[43m,\u001b[49m\u001b[43m \u001b[49m\u001b[43moptim\u001b[49m\u001b[43m)\u001b[49m \n\u001b[0;32m     20\u001b[0m   validate_loss, validate_correct \u001b[38;5;241m=\u001b[39m test_loop(validation_dataloader2, RNN_embeddings_model, criterion)\n\u001b[0;32m     21\u001b[0m   validation_acc\u001b[38;5;241m.\u001b[39mappend(validate_correct)\n",
      "Cell \u001b[1;32mIn[149], line 8\u001b[0m, in \u001b[0;36mtrain_loop\u001b[1;34m(train_dataloader, model, loss_fn, optimizer)\u001b[0m\n\u001b[0;32m      6\u001b[0m size \u001b[38;5;241m=\u001b[39m \u001b[38;5;28mlen\u001b[39m(train_dataloader\u001b[38;5;241m.\u001b[39mdataset)\n\u001b[0;32m      7\u001b[0m train_loss, train_correct \u001b[38;5;241m=\u001b[39m \u001b[38;5;241m0\u001b[39m, \u001b[38;5;241m0\u001b[39m\n\u001b[1;32m----> 8\u001b[0m \u001b[43m\u001b[49m\u001b[38;5;28;43;01mfor\u001b[39;49;00m\u001b[43m \u001b[49m\u001b[43mbatch_no\u001b[49m\u001b[43m,\u001b[49m\u001b[43m \u001b[49m\u001b[43m(\u001b[49m\u001b[43mX_batch\u001b[49m\u001b[43m,\u001b[49m\u001b[43m \u001b[49m\u001b[43my_batch\u001b[49m\u001b[43m)\u001b[49m\u001b[43m \u001b[49m\u001b[38;5;129;43;01min\u001b[39;49;00m\u001b[43m \u001b[49m\u001b[38;5;28;43menumerate\u001b[39;49m\u001b[43m(\u001b[49m\u001b[43mtrain_dataloader\u001b[49m\u001b[43m)\u001b[49m\u001b[43m:\u001b[49m\n\u001b[0;32m      9\u001b[0m \u001b[43m    \u001b[49m\u001b[43my_batch\u001b[49m\u001b[43m \u001b[49m\u001b[38;5;241;43m=\u001b[39;49m\u001b[43m \u001b[49m\u001b[43my_batch\u001b[49m\u001b[38;5;241;43m.\u001b[39;49m\u001b[43mlong\u001b[49m\u001b[43m(\u001b[49m\u001b[43m)\u001b[49m\n\u001b[0;32m     10\u001b[0m \u001b[43m    \u001b[49m\u001b[38;5;28;43;01mif\u001b[39;49;00m\u001b[43m \u001b[49m\u001b[43mtrain_on_gpu\u001b[49m\u001b[43m:\u001b[49m\n",
      "File \u001b[1;32mc:\\Users\\USER\\Documents\\Github\\school\\nlp-2\\venv\\Lib\\site-packages\\torch\\utils\\data\\dataloader.py:701\u001b[0m, in \u001b[0;36m_BaseDataLoaderIter.__next__\u001b[1;34m(self)\u001b[0m\n\u001b[0;32m    698\u001b[0m \u001b[38;5;28;01mif\u001b[39;00m \u001b[38;5;28mself\u001b[39m\u001b[38;5;241m.\u001b[39m_sampler_iter \u001b[38;5;129;01mis\u001b[39;00m \u001b[38;5;28;01mNone\u001b[39;00m:\n\u001b[0;32m    699\u001b[0m     \u001b[38;5;66;03m# TODO(https://github.com/pytorch/pytorch/issues/76750)\u001b[39;00m\n\u001b[0;32m    700\u001b[0m     \u001b[38;5;28mself\u001b[39m\u001b[38;5;241m.\u001b[39m_reset()  \u001b[38;5;66;03m# type: ignore[call-arg]\u001b[39;00m\n\u001b[1;32m--> 701\u001b[0m data \u001b[38;5;241m=\u001b[39m \u001b[38;5;28;43mself\u001b[39;49m\u001b[38;5;241;43m.\u001b[39;49m\u001b[43m_next_data\u001b[49m\u001b[43m(\u001b[49m\u001b[43m)\u001b[49m\n\u001b[0;32m    702\u001b[0m \u001b[38;5;28mself\u001b[39m\u001b[38;5;241m.\u001b[39m_num_yielded \u001b[38;5;241m+\u001b[39m\u001b[38;5;241m=\u001b[39m \u001b[38;5;241m1\u001b[39m\n\u001b[0;32m    703\u001b[0m \u001b[38;5;28;01mif\u001b[39;00m (\n\u001b[0;32m    704\u001b[0m     \u001b[38;5;28mself\u001b[39m\u001b[38;5;241m.\u001b[39m_dataset_kind \u001b[38;5;241m==\u001b[39m _DatasetKind\u001b[38;5;241m.\u001b[39mIterable\n\u001b[0;32m    705\u001b[0m     \u001b[38;5;129;01mand\u001b[39;00m \u001b[38;5;28mself\u001b[39m\u001b[38;5;241m.\u001b[39m_IterableDataset_len_called \u001b[38;5;129;01mis\u001b[39;00m \u001b[38;5;129;01mnot\u001b[39;00m \u001b[38;5;28;01mNone\u001b[39;00m\n\u001b[0;32m    706\u001b[0m     \u001b[38;5;129;01mand\u001b[39;00m \u001b[38;5;28mself\u001b[39m\u001b[38;5;241m.\u001b[39m_num_yielded \u001b[38;5;241m>\u001b[39m \u001b[38;5;28mself\u001b[39m\u001b[38;5;241m.\u001b[39m_IterableDataset_len_called\n\u001b[0;32m    707\u001b[0m ):\n",
      "File \u001b[1;32mc:\\Users\\USER\\Documents\\Github\\school\\nlp-2\\venv\\Lib\\site-packages\\torch\\utils\\data\\dataloader.py:757\u001b[0m, in \u001b[0;36m_SingleProcessDataLoaderIter._next_data\u001b[1;34m(self)\u001b[0m\n\u001b[0;32m    755\u001b[0m \u001b[38;5;28;01mdef\u001b[39;00m \u001b[38;5;21m_next_data\u001b[39m(\u001b[38;5;28mself\u001b[39m):\n\u001b[0;32m    756\u001b[0m     index \u001b[38;5;241m=\u001b[39m \u001b[38;5;28mself\u001b[39m\u001b[38;5;241m.\u001b[39m_next_index()  \u001b[38;5;66;03m# may raise StopIteration\u001b[39;00m\n\u001b[1;32m--> 757\u001b[0m     data \u001b[38;5;241m=\u001b[39m \u001b[38;5;28;43mself\u001b[39;49m\u001b[38;5;241;43m.\u001b[39;49m\u001b[43m_dataset_fetcher\u001b[49m\u001b[38;5;241;43m.\u001b[39;49m\u001b[43mfetch\u001b[49m\u001b[43m(\u001b[49m\u001b[43mindex\u001b[49m\u001b[43m)\u001b[49m  \u001b[38;5;66;03m# may raise StopIteration\u001b[39;00m\n\u001b[0;32m    758\u001b[0m     \u001b[38;5;28;01mif\u001b[39;00m \u001b[38;5;28mself\u001b[39m\u001b[38;5;241m.\u001b[39m_pin_memory:\n\u001b[0;32m    759\u001b[0m         data \u001b[38;5;241m=\u001b[39m _utils\u001b[38;5;241m.\u001b[39mpin_memory\u001b[38;5;241m.\u001b[39mpin_memory(data, \u001b[38;5;28mself\u001b[39m\u001b[38;5;241m.\u001b[39m_pin_memory_device)\n",
      "File \u001b[1;32mc:\\Users\\USER\\Documents\\Github\\school\\nlp-2\\venv\\Lib\\site-packages\\torch\\utils\\data\\_utils\\fetch.py:55\u001b[0m, in \u001b[0;36m_MapDatasetFetcher.fetch\u001b[1;34m(self, possibly_batched_index)\u001b[0m\n\u001b[0;32m     53\u001b[0m \u001b[38;5;28;01melse\u001b[39;00m:\n\u001b[0;32m     54\u001b[0m     data \u001b[38;5;241m=\u001b[39m \u001b[38;5;28mself\u001b[39m\u001b[38;5;241m.\u001b[39mdataset[possibly_batched_index]\n\u001b[1;32m---> 55\u001b[0m \u001b[38;5;28;01mreturn\u001b[39;00m \u001b[38;5;28;43mself\u001b[39;49m\u001b[38;5;241;43m.\u001b[39;49m\u001b[43mcollate_fn\u001b[49m\u001b[43m(\u001b[49m\u001b[43mdata\u001b[49m\u001b[43m)\u001b[49m\n",
      "File \u001b[1;32mc:\\Users\\USER\\Documents\\Github\\school\\nlp-2\\venv\\Lib\\site-packages\\torch\\utils\\data\\_utils\\collate.py:398\u001b[0m, in \u001b[0;36mdefault_collate\u001b[1;34m(batch)\u001b[0m\n\u001b[0;32m    337\u001b[0m \u001b[38;5;28;01mdef\u001b[39;00m \u001b[38;5;21mdefault_collate\u001b[39m(batch):\n\u001b[0;32m    338\u001b[0m \u001b[38;5;250m    \u001b[39m\u001b[38;5;124mr\u001b[39m\u001b[38;5;124;03m\"\"\"\u001b[39;00m\n\u001b[0;32m    339\u001b[0m \u001b[38;5;124;03m    Take in a batch of data and put the elements within the batch into a tensor with an additional outer dimension - batch size.\u001b[39;00m\n\u001b[0;32m    340\u001b[0m \n\u001b[1;32m   (...)\u001b[0m\n\u001b[0;32m    396\u001b[0m \u001b[38;5;124;03m        >>> default_collate(batch)  # Handle `CustomType` automatically\u001b[39;00m\n\u001b[0;32m    397\u001b[0m \u001b[38;5;124;03m    \"\"\"\u001b[39;00m\n\u001b[1;32m--> 398\u001b[0m     \u001b[38;5;28;01mreturn\u001b[39;00m \u001b[43mcollate\u001b[49m\u001b[43m(\u001b[49m\u001b[43mbatch\u001b[49m\u001b[43m,\u001b[49m\u001b[43m \u001b[49m\u001b[43mcollate_fn_map\u001b[49m\u001b[38;5;241;43m=\u001b[39;49m\u001b[43mdefault_collate_fn_map\u001b[49m\u001b[43m)\u001b[49m\n",
      "File \u001b[1;32mc:\\Users\\USER\\Documents\\Github\\school\\nlp-2\\venv\\Lib\\site-packages\\torch\\utils\\data\\_utils\\collate.py:212\u001b[0m, in \u001b[0;36mcollate\u001b[1;34m(batch, collate_fn_map)\u001b[0m\n\u001b[0;32m    208\u001b[0m transposed \u001b[38;5;241m=\u001b[39m \u001b[38;5;28mlist\u001b[39m(\u001b[38;5;28mzip\u001b[39m(\u001b[38;5;241m*\u001b[39mbatch))  \u001b[38;5;66;03m# It may be accessed twice, so we use a list.\u001b[39;00m\n\u001b[0;32m    210\u001b[0m \u001b[38;5;28;01mif\u001b[39;00m \u001b[38;5;28misinstance\u001b[39m(elem, \u001b[38;5;28mtuple\u001b[39m):\n\u001b[0;32m    211\u001b[0m     \u001b[38;5;28;01mreturn\u001b[39;00m [\n\u001b[1;32m--> 212\u001b[0m         \u001b[43mcollate\u001b[49m\u001b[43m(\u001b[49m\u001b[43msamples\u001b[49m\u001b[43m,\u001b[49m\u001b[43m \u001b[49m\u001b[43mcollate_fn_map\u001b[49m\u001b[38;5;241;43m=\u001b[39;49m\u001b[43mcollate_fn_map\u001b[49m\u001b[43m)\u001b[49m\n\u001b[0;32m    213\u001b[0m         \u001b[38;5;28;01mfor\u001b[39;00m samples \u001b[38;5;129;01min\u001b[39;00m transposed\n\u001b[0;32m    214\u001b[0m     ]  \u001b[38;5;66;03m# Backwards compatibility.\u001b[39;00m\n\u001b[0;32m    215\u001b[0m \u001b[38;5;28;01melse\u001b[39;00m:\n\u001b[0;32m    216\u001b[0m     \u001b[38;5;28;01mtry\u001b[39;00m:\n",
      "File \u001b[1;32mc:\\Users\\USER\\Documents\\Github\\school\\nlp-2\\venv\\Lib\\site-packages\\torch\\utils\\data\\_utils\\collate.py:155\u001b[0m, in \u001b[0;36mcollate\u001b[1;34m(batch, collate_fn_map)\u001b[0m\n\u001b[0;32m    153\u001b[0m \u001b[38;5;28;01mif\u001b[39;00m collate_fn_map \u001b[38;5;129;01mis\u001b[39;00m \u001b[38;5;129;01mnot\u001b[39;00m \u001b[38;5;28;01mNone\u001b[39;00m:\n\u001b[0;32m    154\u001b[0m     \u001b[38;5;28;01mif\u001b[39;00m elem_type \u001b[38;5;129;01min\u001b[39;00m collate_fn_map:\n\u001b[1;32m--> 155\u001b[0m         \u001b[38;5;28;01mreturn\u001b[39;00m \u001b[43mcollate_fn_map\u001b[49m\u001b[43m[\u001b[49m\u001b[43melem_type\u001b[49m\u001b[43m]\u001b[49m\u001b[43m(\u001b[49m\u001b[43mbatch\u001b[49m\u001b[43m,\u001b[49m\u001b[43m \u001b[49m\u001b[43mcollate_fn_map\u001b[49m\u001b[38;5;241;43m=\u001b[39;49m\u001b[43mcollate_fn_map\u001b[49m\u001b[43m)\u001b[49m\n\u001b[0;32m    157\u001b[0m     \u001b[38;5;28;01mfor\u001b[39;00m collate_type \u001b[38;5;129;01min\u001b[39;00m collate_fn_map:\n\u001b[0;32m    158\u001b[0m         \u001b[38;5;28;01mif\u001b[39;00m \u001b[38;5;28misinstance\u001b[39m(elem, collate_type):\n",
      "File \u001b[1;32mc:\\Users\\USER\\Documents\\Github\\school\\nlp-2\\venv\\Lib\\site-packages\\torch\\utils\\data\\_utils\\collate.py:272\u001b[0m, in \u001b[0;36mcollate_tensor_fn\u001b[1;34m(batch, collate_fn_map)\u001b[0m\n\u001b[0;32m    270\u001b[0m     storage \u001b[38;5;241m=\u001b[39m elem\u001b[38;5;241m.\u001b[39m_typed_storage()\u001b[38;5;241m.\u001b[39m_new_shared(numel, device\u001b[38;5;241m=\u001b[39melem\u001b[38;5;241m.\u001b[39mdevice)\n\u001b[0;32m    271\u001b[0m     out \u001b[38;5;241m=\u001b[39m elem\u001b[38;5;241m.\u001b[39mnew(storage)\u001b[38;5;241m.\u001b[39mresize_(\u001b[38;5;28mlen\u001b[39m(batch), \u001b[38;5;241m*\u001b[39m\u001b[38;5;28mlist\u001b[39m(elem\u001b[38;5;241m.\u001b[39msize()))\n\u001b[1;32m--> 272\u001b[0m \u001b[38;5;28;01mreturn\u001b[39;00m \u001b[43mtorch\u001b[49m\u001b[38;5;241;43m.\u001b[39;49m\u001b[43mstack\u001b[49m\u001b[43m(\u001b[49m\u001b[43mbatch\u001b[49m\u001b[43m,\u001b[49m\u001b[43m \u001b[49m\u001b[38;5;241;43m0\u001b[39;49m\u001b[43m,\u001b[49m\u001b[43m \u001b[49m\u001b[43mout\u001b[49m\u001b[38;5;241;43m=\u001b[39;49m\u001b[43mout\u001b[49m\u001b[43m)\u001b[49m\n",
      "\u001b[1;31mKeyboardInterrupt\u001b[0m: "
     ]
    }
   ],
   "source": [
    "RNN_embeddings_model = VanillaRNNWithEmbedding(input_size=EMBEDDING_DIM, hidden_size=HIDDEN_SIZE, num_layers=2, num_classes=1)\n",
    "optim = torch.optim.Adam(RNN_embeddings_model.parameters(), lr=0.001)\n",
    "\n",
    "\n",
    "train_dataset_ed2 = EmbeddingsDataset2(train_dataset['text'], train_dataset['label'], num_tokens_per_sentence=25)\n",
    "validation_dataset_ed2 = EmbeddingsDataset2(validation_dataset['text'], validation_dataset['label'], num_tokens_per_sentence=25)\n",
    "# test_dataset_ed2 = EmbeddingsDataset(test_dataset['text'], test_dataset['label'])\n",
    "\n",
    "\n",
    "train_dataloader2 = DataLoader(train_dataset_ed2, batch_size=BATCH_SIZE, shuffle=True)\n",
    "validation_dataloader2 = DataLoader(validation_dataset_ed2, batch_size=BATCH_SIZE, shuffle=True)\n",
    "\n",
    "criterion = nn.BCELoss()\n",
    "\n",
    "validation_acc = [] \n",
    "train_acc = []\n",
    "train_losses, validate_losses = [], []\n",
    "for i in range(NUM_EPOCHS):\n",
    "  train_loss, train_correct = train_loop(train_dataloader2, RNN_embeddings_model, criterion, optim) \n",
    "  validate_loss, validate_correct = test_loop(validation_dataloader2, RNN_embeddings_model, criterion)\n",
    "  validation_acc.append(validate_correct)\n",
    "  train_acc.append(train_correct)\n",
    "  train_losses.append(train_loss)\n",
    "  validate_losses.append(validate_loss)\n",
    "\n",
    "  print(f\"Epoch {i+1}, Train Loss: {train_loss:.4f}, Validate Loss: {validate_loss:.4f}\")\n",
    "  #if i%10 == 0:\n",
    "  print(f\"Epoch:{i+1} \\tValidation Acc:{validate_correct} \\tTrain Acc:{train_correct}\")\n",
    "  \n",
    "  \n"
   ]
  },
  {
   "cell_type": "code",
   "execution_count": 151,
   "metadata": {},
   "outputs": [
    {
     "data": {
      "image/png": "[encoded data removed]",
      "text/plain": [
       "<Figure size 640x480 with 1 Axes>"
      ]
     },
     "metadata": {},
     "output_type": "display_data"
    }
   ],
   "source": [
    "import matplotlib.pyplot as plt \n",
    "\n",
    "plt.plot(train_acc, label=\"train acc\")\n",
    "plt.plot(validation_acc, label=\"validation acc\")\n",
    "\n",
    "plt.xlabel(\"epoch\")\n",
    "plt.ylabel(\"accuracies\")\n",
    "plt.title(\"Max pooling: train vs validation accs\")\n",
    "plt.legend()\n",
    "plt.show()"
   ]
  },
  {
   "cell_type": "code",
   "execution_count": 152,
   "metadata": {},
   "outputs": [
    {
     "data": {
      "image/png": "[encoded data removed]",
      "text/plain": [
       "<Figure size 640x480 with 1 Axes>"
      ]
     },
     "metadata": {},
     "output_type": "display_data"
    }
   ],
   "source": [
    "import matplotlib.pyplot as plt \n",
    "\n",
    "plt.plot(train_losses, label=\"train loss\")\n",
    "plt.plot(validate_losses, label=\"validation loss\")\n",
    "\n",
    "plt.xlabel(\"epoch\")\n",
    "plt.ylabel(\"accuracies\")\n",
    "plt.title(\"train vs validation loss\")\n",
    "plt.legend()\n",
    "plt.show()"
   ]
  },
  {
   "cell_type": "markdown",
   "metadata": {},
   "source": [
    "Bayesian search!"
   ]
  },
  {
   "cell_type": "code",
   "execution_count": 135,
   "metadata": {},
   "outputs": [],
   "source": [
    "def black_box(learning_rate, epoch, batch_size, num_layers): # A list of hyperparameters to optimize\n",
    "    validation_acc = [] \n",
    "    train_acc = []\n",
    "    train_correct, validate_correct = 0, 0\n",
    "\n",
    "    epoch = int(epoch)\n",
    "    batch_size = int(batch_size)\n",
    "    num_layers = int(num_layers)\n",
    "\n",
    "    criterion = nn.BCELoss()\n",
    "\n",
    "    RNN_embeddings_model = VanillaRNNWithEmbedding(input_size=EMBEDDING_DIM, hidden_size=HIDDEN_SIZE, num_layers=num_layers, num_classes=1)\n",
    "    optim = torch.optim.Adam(RNN_embeddings_model.parameters(), lr=learning_rate)\n",
    "\n",
    "    train_dataset_ed2 = EmbeddingsDataset2(train_dataset['text'], train_dataset['label'])\n",
    "    validation_dataset_ed2 = EmbeddingsDataset2(validation_dataset['text'], validation_dataset['label'])\n",
    "    # test_dataset_ed2 = EmbeddingsDataset(test_dataset['text'], test_dataset['label'])\n",
    "\n",
    "    train_dataloader2 = DataLoader(train_dataset_ed2, batch_size=batch_size, shuffle=True)\n",
    "    validation_dataloader2 = DataLoader(validation_dataset_ed2, batch_size=batch_size, shuffle=True)\n",
    "    for _ in range(epoch):\n",
    "        train_loss, train_correct = train_loop(train_dataloader2, RNN_embeddings_model, criterion, optim) \n",
    "        validate_loss, validate_correct = test_loop(validation_dataloader2, RNN_embeddings_model, criterion)\n",
    "        #validation_acc.append(validate_correct)\n",
    "        #train_acc.append(train_correct)\n",
    "    return validate_correct"
   ]
  },
  {
   "cell_type": "code",
   "execution_count": null,
   "metadata": {},
   "outputs": [],
   "source": [
    "from bayes_opt import BayesianOptimization\n",
    "optimizer = BayesianOptimization(\n",
    "    f=black_box,\n",
    "    pbounds={\"learning_rate\": (0.0001, 0.01), \"epoch\": (1, 60), \"batch_size\": (5, 64), \"num_layers\": (1, 8)},\n",
    "    random_state=1,\n",
    "    verbose=2\n",
    ")\n"
   ]
  },
  {
   "cell_type": "code",
   "execution_count": 20,
   "metadata": {},
   "outputs": [
    {
     "name": "stdout",
     "output_type": "stream",
     "text": [
      "|   iter    |  target   | batch_... |   epoch   | learni... | num_la... |\n",
      "-------------------------------------------------------------------------\n"
     ]
    },
    {
     "name": "stderr",
     "output_type": "stream",
     "text": [
      "C:\\Users\\USER\\AppData\\Local\\Temp\\ipykernel_101968\\4173132243.py:9: UserWarning: To copy construct from a tensor, it is recommended to use sourceTensor.clone().detach() or sourceTensor.clone().detach().requires_grad_(True), rather than torch.tensor(sourceTensor).\n",
      "  X_batch = torch.tensor(X_batch)\n",
      "C:\\Users\\USER\\AppData\\Local\\Temp\\ipykernel_101968\\4173132243.py:10: UserWarning: To copy construct from a tensor, it is recommended to use sourceTensor.clone().detach() or sourceTensor.clone().detach().requires_grad_(True), rather than torch.tensor(sourceTensor).\n",
      "  y_batch = torch.tensor(y_batch, dtype=torch.float)\n",
      "C:\\Users\\USER\\AppData\\Local\\Temp\\ipykernel_101968\\4173132243.py:43: UserWarning: To copy construct from a tensor, it is recommended to use sourceTensor.clone().detach() or sourceTensor.clone().detach().requires_grad_(True), rather than torch.tensor(sourceTensor).\n",
      "  X_batch = torch.tensor(X_batch)\n",
      "C:\\Users\\USER\\AppData\\Local\\Temp\\ipykernel_101968\\4173132243.py:44: UserWarning: To copy construct from a tensor, it is recommended to use sourceTensor.clone().detach() or sourceTensor.clone().detach().requires_grad_(True), rather than torch.tensor(sourceTensor).\n",
      "  y_batch = torch.tensor(y_batch, dtype=torch.float)\n"
     ]
    },
    {
     "name": "stdout",
     "output_type": "stream",
     "text": [
      "| \u001b[39m1        \u001b[39m | \u001b[39m0.5385   \u001b[39m | \u001b[39m29.6     \u001b[39m | \u001b[39m72.31    \u001b[39m | \u001b[39m0.0001114\u001b[39m | \u001b[39m3.116    \u001b[39m |\n",
      "| \u001b[39m2        \u001b[39m | \u001b[39m0.5      \u001b[39m | \u001b[39m13.66    \u001b[39m | \u001b[39m10.14    \u001b[39m | \u001b[39m0.01871  \u001b[39m | \u001b[39m3.419    \u001b[39m |\n",
      "| \u001b[39m3        \u001b[39m | \u001b[39m0.5      \u001b[39m | \u001b[39m28.41    \u001b[39m | \u001b[39m54.34    \u001b[39m | \u001b[39m0.04198  \u001b[39m | \u001b[39m5.797    \u001b[39m |\n",
      "| \u001b[39m4        \u001b[39m | \u001b[39m0.5      \u001b[39m | \u001b[39m17.06    \u001b[39m | \u001b[39m87.93    \u001b[39m | \u001b[39m0.002836 \u001b[39m | \u001b[39m5.693    \u001b[39m |\n",
      "| \u001b[39m5        \u001b[39m | \u001b[39m0.5      \u001b[39m | \u001b[39m29.62    \u001b[39m | \u001b[39m56.31    \u001b[39m | \u001b[39m0.01412  \u001b[39m | \u001b[39m2.387    \u001b[39m |\n",
      "| \u001b[39m6        \u001b[39m | \u001b[39m0.5      \u001b[39m | \u001b[39m52.24    \u001b[39m | \u001b[39m96.86    \u001b[39m | \u001b[39m0.03141  \u001b[39m | \u001b[39m5.846    \u001b[39m |\n",
      "| \u001b[39m7        \u001b[39m | \u001b[39m0.4944   \u001b[39m | \u001b[39m56.71    \u001b[39m | \u001b[39m89.57    \u001b[39m | \u001b[39m0.008596 \u001b[39m | \u001b[39m1.273    \u001b[39m |\n",
      "| \u001b[39m8        \u001b[39m | \u001b[39m0.5      \u001b[39m | \u001b[39m15.02    \u001b[39m | \u001b[39m87.94    \u001b[39m | \u001b[39m0.009925 \u001b[39m | \u001b[39m3.948    \u001b[39m |\n",
      "| \u001b[39m9        \u001b[39m | \u001b[39m0.5      \u001b[39m | \u001b[39m61.52    \u001b[39m | \u001b[39m53.78    \u001b[39m | \u001b[39m0.06922  \u001b[39m | \u001b[39m3.209    \u001b[39m |\n",
      "| \u001b[35m10       \u001b[39m | \u001b[35m0.5394   \u001b[39m | \u001b[35m45.5     \u001b[39m | \u001b[35m83.63    \u001b[39m | \u001b[35m0.001927 \u001b[39m | \u001b[35m6.251    \u001b[39m |\n"
     ]
    },
    {
     "name": "stderr",
     "output_type": "stream",
     "text": [
      "C:\\Users\\USER\\AppData\\Local\\Temp\\ipykernel_101968\\4173132243.py:9: UserWarning: To copy construct from a tensor, it is recommended to use sourceTensor.clone().detach() or sourceTensor.clone().detach().requires_grad_(True), rather than torch.tensor(sourceTensor).\n",
      "  X_batch = torch.tensor(X_batch)\n",
      "C:\\Users\\USER\\AppData\\Local\\Temp\\ipykernel_101968\\4173132243.py:10: UserWarning: To copy construct from a tensor, it is recommended to use sourceTensor.clone().detach() or sourceTensor.clone().detach().requires_grad_(True), rather than torch.tensor(sourceTensor).\n",
      "  y_batch = torch.tensor(y_batch, dtype=torch.float)\n",
      "C:\\Users\\USER\\AppData\\Local\\Temp\\ipykernel_101968\\4173132243.py:43: UserWarning: To copy construct from a tensor, it is recommended to use sourceTensor.clone().detach() or sourceTensor.clone().detach().requires_grad_(True), rather than torch.tensor(sourceTensor).\n",
      "  X_batch = torch.tensor(X_batch)\n",
      "C:\\Users\\USER\\AppData\\Local\\Temp\\ipykernel_101968\\4173132243.py:44: UserWarning: To copy construct from a tensor, it is recommended to use sourceTensor.clone().detach() or sourceTensor.clone().detach().requires_grad_(True), rather than torch.tensor(sourceTensor).\n",
      "  y_batch = torch.tensor(y_batch, dtype=torch.float)\n"
     ]
    },
    {
     "name": "stdout",
     "output_type": "stream",
     "text": [
      "| \u001b[39m11       \u001b[39m | \u001b[39m0.5009   \u001b[39m | \u001b[39m38.32    \u001b[39m | \u001b[39m78.24    \u001b[39m | \u001b[39m0.03072  \u001b[39m | \u001b[39m5.91     \u001b[39m |\n"
     ]
    },
    {
     "name": "stderr",
     "output_type": "stream",
     "text": [
      "C:\\Users\\USER\\AppData\\Local\\Temp\\ipykernel_101968\\4173132243.py:9: UserWarning: To copy construct from a tensor, it is recommended to use sourceTensor.clone().detach() or sourceTensor.clone().detach().requires_grad_(True), rather than torch.tensor(sourceTensor).\n",
      "  X_batch = torch.tensor(X_batch)\n",
      "C:\\Users\\USER\\AppData\\Local\\Temp\\ipykernel_101968\\4173132243.py:10: UserWarning: To copy construct from a tensor, it is recommended to use sourceTensor.clone().detach() or sourceTensor.clone().detach().requires_grad_(True), rather than torch.tensor(sourceTensor).\n",
      "  y_batch = torch.tensor(y_batch, dtype=torch.float)\n",
      "C:\\Users\\USER\\AppData\\Local\\Temp\\ipykernel_101968\\4173132243.py:43: UserWarning: To copy construct from a tensor, it is recommended to use sourceTensor.clone().detach() or sourceTensor.clone().detach().requires_grad_(True), rather than torch.tensor(sourceTensor).\n",
      "  X_batch = torch.tensor(X_batch)\n",
      "C:\\Users\\USER\\AppData\\Local\\Temp\\ipykernel_101968\\4173132243.py:44: UserWarning: To copy construct from a tensor, it is recommended to use sourceTensor.clone().detach() or sourceTensor.clone().detach().requires_grad_(True), rather than torch.tensor(sourceTensor).\n",
      "  y_batch = torch.tensor(y_batch, dtype=torch.float)\n"
     ]
    },
    {
     "name": "stdout",
     "output_type": "stream",
     "text": [
      "| \u001b[39m12       \u001b[39m | \u001b[39m0.5      \u001b[39m | \u001b[39m48.27    \u001b[39m | \u001b[39m82.71    \u001b[39m | \u001b[39m0.01068  \u001b[39m | \u001b[39m7.913    \u001b[39m |\n"
     ]
    },
    {
     "name": "stderr",
     "output_type": "stream",
     "text": [
      "C:\\Users\\USER\\AppData\\Local\\Temp\\ipykernel_101968\\4173132243.py:9: UserWarning: To copy construct from a tensor, it is recommended to use sourceTensor.clone().detach() or sourceTensor.clone().detach().requires_grad_(True), rather than torch.tensor(sourceTensor).\n",
      "  X_batch = torch.tensor(X_batch)\n",
      "C:\\Users\\USER\\AppData\\Local\\Temp\\ipykernel_101968\\4173132243.py:10: UserWarning: To copy construct from a tensor, it is recommended to use sourceTensor.clone().detach() or sourceTensor.clone().detach().requires_grad_(True), rather than torch.tensor(sourceTensor).\n",
      "  y_batch = torch.tensor(y_batch, dtype=torch.float)\n",
      "C:\\Users\\USER\\AppData\\Local\\Temp\\ipykernel_101968\\4173132243.py:43: UserWarning: To copy construct from a tensor, it is recommended to use sourceTensor.clone().detach() or sourceTensor.clone().detach().requires_grad_(True), rather than torch.tensor(sourceTensor).\n",
      "  X_batch = torch.tensor(X_batch)\n",
      "C:\\Users\\USER\\AppData\\Local\\Temp\\ipykernel_101968\\4173132243.py:44: UserWarning: To copy construct from a tensor, it is recommended to use sourceTensor.clone().detach() or sourceTensor.clone().detach().requires_grad_(True), rather than torch.tensor(sourceTensor).\n",
      "  y_batch = torch.tensor(y_batch, dtype=torch.float)\n"
     ]
    },
    {
     "name": "stdout",
     "output_type": "stream",
     "text": [
      "| \u001b[39m13       \u001b[39m | \u001b[39m0.5      \u001b[39m | \u001b[39m46.25    \u001b[39m | \u001b[39m83.35    \u001b[39m | \u001b[39m0.07759  \u001b[39m | \u001b[39m7.262    \u001b[39m |\n"
     ]
    },
    {
     "name": "stderr",
     "output_type": "stream",
     "text": [
      "C:\\Users\\USER\\AppData\\Local\\Temp\\ipykernel_101968\\4173132243.py:9: UserWarning: To copy construct from a tensor, it is recommended to use sourceTensor.clone().detach() or sourceTensor.clone().detach().requires_grad_(True), rather than torch.tensor(sourceTensor).\n",
      "  X_batch = torch.tensor(X_batch)\n",
      "C:\\Users\\USER\\AppData\\Local\\Temp\\ipykernel_101968\\4173132243.py:10: UserWarning: To copy construct from a tensor, it is recommended to use sourceTensor.clone().detach() or sourceTensor.clone().detach().requires_grad_(True), rather than torch.tensor(sourceTensor).\n",
      "  y_batch = torch.tensor(y_batch, dtype=torch.float)\n",
      "C:\\Users\\USER\\AppData\\Local\\Temp\\ipykernel_101968\\4173132243.py:43: UserWarning: To copy construct from a tensor, it is recommended to use sourceTensor.clone().detach() or sourceTensor.clone().detach().requires_grad_(True), rather than torch.tensor(sourceTensor).\n",
      "  X_batch = torch.tensor(X_batch)\n",
      "C:\\Users\\USER\\AppData\\Local\\Temp\\ipykernel_101968\\4173132243.py:44: UserWarning: To copy construct from a tensor, it is recommended to use sourceTensor.clone().detach() or sourceTensor.clone().detach().requires_grad_(True), rather than torch.tensor(sourceTensor).\n",
      "  y_batch = torch.tensor(y_batch, dtype=torch.float)\n"
     ]
    },
    {
     "name": "stdout",
     "output_type": "stream",
     "text": [
      "| \u001b[39m14       \u001b[39m | \u001b[39m0.5      \u001b[39m | \u001b[39m6.251    \u001b[39m | \u001b[39m80.98    \u001b[39m | \u001b[39m0.09649  \u001b[39m | \u001b[39m5.915    \u001b[39m |\n"
     ]
    },
    {
     "name": "stderr",
     "output_type": "stream",
     "text": [
      "C:\\Users\\USER\\AppData\\Local\\Temp\\ipykernel_101968\\4173132243.py:9: UserWarning: To copy construct from a tensor, it is recommended to use sourceTensor.clone().detach() or sourceTensor.clone().detach().requires_grad_(True), rather than torch.tensor(sourceTensor).\n",
      "  X_batch = torch.tensor(X_batch)\n",
      "C:\\Users\\USER\\AppData\\Local\\Temp\\ipykernel_101968\\4173132243.py:10: UserWarning: To copy construct from a tensor, it is recommended to use sourceTensor.clone().detach() or sourceTensor.clone().detach().requires_grad_(True), rather than torch.tensor(sourceTensor).\n",
      "  y_batch = torch.tensor(y_batch, dtype=torch.float)\n",
      "C:\\Users\\USER\\AppData\\Local\\Temp\\ipykernel_101968\\4173132243.py:43: UserWarning: To copy construct from a tensor, it is recommended to use sourceTensor.clone().detach() or sourceTensor.clone().detach().requires_grad_(True), rather than torch.tensor(sourceTensor).\n",
      "  X_batch = torch.tensor(X_batch)\n",
      "C:\\Users\\USER\\AppData\\Local\\Temp\\ipykernel_101968\\4173132243.py:44: UserWarning: To copy construct from a tensor, it is recommended to use sourceTensor.clone().detach() or sourceTensor.clone().detach().requires_grad_(True), rather than torch.tensor(sourceTensor).\n",
      "  y_batch = torch.tensor(y_batch, dtype=torch.float)\n"
     ]
    },
    {
     "name": "stdout",
     "output_type": "stream",
     "text": [
      "| \u001b[39m15       \u001b[39m | \u001b[39m0.5      \u001b[39m | \u001b[39m26.5     \u001b[39m | \u001b[39m3.217    \u001b[39m | \u001b[39m0.01533  \u001b[39m | \u001b[39m7.801    \u001b[39m |\n"
     ]
    },
    {
     "name": "stderr",
     "output_type": "stream",
     "text": [
      "C:\\Users\\USER\\AppData\\Local\\Temp\\ipykernel_101968\\4173132243.py:9: UserWarning: To copy construct from a tensor, it is recommended to use sourceTensor.clone().detach() or sourceTensor.clone().detach().requires_grad_(True), rather than torch.tensor(sourceTensor).\n",
      "  X_batch = torch.tensor(X_batch)\n",
      "C:\\Users\\USER\\AppData\\Local\\Temp\\ipykernel_101968\\4173132243.py:10: UserWarning: To copy construct from a tensor, it is recommended to use sourceTensor.clone().detach() or sourceTensor.clone().detach().requires_grad_(True), rather than torch.tensor(sourceTensor).\n",
      "  y_batch = torch.tensor(y_batch, dtype=torch.float)\n",
      "C:\\Users\\USER\\AppData\\Local\\Temp\\ipykernel_101968\\4173132243.py:43: UserWarning: To copy construct from a tensor, it is recommended to use sourceTensor.clone().detach() or sourceTensor.clone().detach().requires_grad_(True), rather than torch.tensor(sourceTensor).\n",
      "  X_batch = torch.tensor(X_batch)\n",
      "C:\\Users\\USER\\AppData\\Local\\Temp\\ipykernel_101968\\4173132243.py:44: UserWarning: To copy construct from a tensor, it is recommended to use sourceTensor.clone().detach() or sourceTensor.clone().detach().requires_grad_(True), rather than torch.tensor(sourceTensor).\n",
      "  y_batch = torch.tensor(y_batch, dtype=torch.float)\n"
     ]
    },
    {
     "name": "stdout",
     "output_type": "stream",
     "text": [
      "| \u001b[39m16       \u001b[39m | \u001b[39m0.5      \u001b[39m | \u001b[39m29.39    \u001b[39m | \u001b[39m71.92    \u001b[39m | \u001b[39m0.07659  \u001b[39m | \u001b[39m3.316    \u001b[39m |\n"
     ]
    },
    {
     "name": "stderr",
     "output_type": "stream",
     "text": [
      "C:\\Users\\USER\\AppData\\Local\\Temp\\ipykernel_101968\\4173132243.py:9: UserWarning: To copy construct from a tensor, it is recommended to use sourceTensor.clone().detach() or sourceTensor.clone().detach().requires_grad_(True), rather than torch.tensor(sourceTensor).\n",
      "  X_batch = torch.tensor(X_batch)\n",
      "C:\\Users\\USER\\AppData\\Local\\Temp\\ipykernel_101968\\4173132243.py:10: UserWarning: To copy construct from a tensor, it is recommended to use sourceTensor.clone().detach() or sourceTensor.clone().detach().requires_grad_(True), rather than torch.tensor(sourceTensor).\n",
      "  y_batch = torch.tensor(y_batch, dtype=torch.float)\n",
      "C:\\Users\\USER\\AppData\\Local\\Temp\\ipykernel_101968\\4173132243.py:43: UserWarning: To copy construct from a tensor, it is recommended to use sourceTensor.clone().detach() or sourceTensor.clone().detach().requires_grad_(True), rather than torch.tensor(sourceTensor).\n",
      "  X_batch = torch.tensor(X_batch)\n",
      "C:\\Users\\USER\\AppData\\Local\\Temp\\ipykernel_101968\\4173132243.py:44: UserWarning: To copy construct from a tensor, it is recommended to use sourceTensor.clone().detach() or sourceTensor.clone().detach().requires_grad_(True), rather than torch.tensor(sourceTensor).\n",
      "  y_batch = torch.tensor(y_batch, dtype=torch.float)\n"
     ]
    },
    {
     "name": "stdout",
     "output_type": "stream",
     "text": [
      "| \u001b[39m17       \u001b[39m | \u001b[39m0.5      \u001b[39m | \u001b[39m62.89    \u001b[39m | \u001b[39m27.77    \u001b[39m | \u001b[39m0.0809   \u001b[39m | \u001b[39m4.126    \u001b[39m |\n"
     ]
    },
    {
     "name": "stderr",
     "output_type": "stream",
     "text": [
      "C:\\Users\\USER\\AppData\\Local\\Temp\\ipykernel_101968\\4173132243.py:9: UserWarning: To copy construct from a tensor, it is recommended to use sourceTensor.clone().detach() or sourceTensor.clone().detach().requires_grad_(True), rather than torch.tensor(sourceTensor).\n",
      "  X_batch = torch.tensor(X_batch)\n",
      "C:\\Users\\USER\\AppData\\Local\\Temp\\ipykernel_101968\\4173132243.py:10: UserWarning: To copy construct from a tensor, it is recommended to use sourceTensor.clone().detach() or sourceTensor.clone().detach().requires_grad_(True), rather than torch.tensor(sourceTensor).\n",
      "  y_batch = torch.tensor(y_batch, dtype=torch.float)\n",
      "C:\\Users\\USER\\AppData\\Local\\Temp\\ipykernel_101968\\4173132243.py:43: UserWarning: To copy construct from a tensor, it is recommended to use sourceTensor.clone().detach() or sourceTensor.clone().detach().requires_grad_(True), rather than torch.tensor(sourceTensor).\n",
      "  X_batch = torch.tensor(X_batch)\n",
      "C:\\Users\\USER\\AppData\\Local\\Temp\\ipykernel_101968\\4173132243.py:44: UserWarning: To copy construct from a tensor, it is recommended to use sourceTensor.clone().detach() or sourceTensor.clone().detach().requires_grad_(True), rather than torch.tensor(sourceTensor).\n",
      "  y_batch = torch.tensor(y_batch, dtype=torch.float)\n"
     ]
    },
    {
     "name": "stdout",
     "output_type": "stream",
     "text": [
      "| \u001b[39m18       \u001b[39m | \u001b[39m0.5      \u001b[39m | \u001b[39m24.17    \u001b[39m | \u001b[39m63.94    \u001b[39m | \u001b[39m0.04011  \u001b[39m | \u001b[39m6.261    \u001b[39m |\n"
     ]
    },
    {
     "name": "stderr",
     "output_type": "stream",
     "text": [
      "C:\\Users\\USER\\AppData\\Local\\Temp\\ipykernel_101968\\4173132243.py:9: UserWarning: To copy construct from a tensor, it is recommended to use sourceTensor.clone().detach() or sourceTensor.clone().detach().requires_grad_(True), rather than torch.tensor(sourceTensor).\n",
      "  X_batch = torch.tensor(X_batch)\n",
      "C:\\Users\\USER\\AppData\\Local\\Temp\\ipykernel_101968\\4173132243.py:10: UserWarning: To copy construct from a tensor, it is recommended to use sourceTensor.clone().detach() or sourceTensor.clone().detach().requires_grad_(True), rather than torch.tensor(sourceTensor).\n",
      "  y_batch = torch.tensor(y_batch, dtype=torch.float)\n",
      "C:\\Users\\USER\\AppData\\Local\\Temp\\ipykernel_101968\\4173132243.py:43: UserWarning: To copy construct from a tensor, it is recommended to use sourceTensor.clone().detach() or sourceTensor.clone().detach().requires_grad_(True), rather than torch.tensor(sourceTensor).\n",
      "  X_batch = torch.tensor(X_batch)\n",
      "C:\\Users\\USER\\AppData\\Local\\Temp\\ipykernel_101968\\4173132243.py:44: UserWarning: To copy construct from a tensor, it is recommended to use sourceTensor.clone().detach() or sourceTensor.clone().detach().requires_grad_(True), rather than torch.tensor(sourceTensor).\n",
      "  y_batch = torch.tensor(y_batch, dtype=torch.float)\n"
     ]
    },
    {
     "name": "stdout",
     "output_type": "stream",
     "text": [
      "| \u001b[39m19       \u001b[39m | \u001b[39m0.5      \u001b[39m | \u001b[39m23.05    \u001b[39m | \u001b[39m67.99    \u001b[39m | \u001b[39m0.05518  \u001b[39m | \u001b[39m3.211    \u001b[39m |\n"
     ]
    },
    {
     "name": "stderr",
     "output_type": "stream",
     "text": [
      "C:\\Users\\USER\\AppData\\Local\\Temp\\ipykernel_101968\\4173132243.py:9: UserWarning: To copy construct from a tensor, it is recommended to use sourceTensor.clone().detach() or sourceTensor.clone().detach().requires_grad_(True), rather than torch.tensor(sourceTensor).\n",
      "  X_batch = torch.tensor(X_batch)\n",
      "C:\\Users\\USER\\AppData\\Local\\Temp\\ipykernel_101968\\4173132243.py:10: UserWarning: To copy construct from a tensor, it is recommended to use sourceTensor.clone().detach() or sourceTensor.clone().detach().requires_grad_(True), rather than torch.tensor(sourceTensor).\n",
      "  y_batch = torch.tensor(y_batch, dtype=torch.float)\n",
      "C:\\Users\\USER\\AppData\\Local\\Temp\\ipykernel_101968\\4173132243.py:43: UserWarning: To copy construct from a tensor, it is recommended to use sourceTensor.clone().detach() or sourceTensor.clone().detach().requires_grad_(True), rather than torch.tensor(sourceTensor).\n",
      "  X_batch = torch.tensor(X_batch)\n",
      "C:\\Users\\USER\\AppData\\Local\\Temp\\ipykernel_101968\\4173132243.py:44: UserWarning: To copy construct from a tensor, it is recommended to use sourceTensor.clone().detach() or sourceTensor.clone().detach().requires_grad_(True), rather than torch.tensor(sourceTensor).\n",
      "  y_batch = torch.tensor(y_batch, dtype=torch.float)\n"
     ]
    },
    {
     "name": "stdout",
     "output_type": "stream",
     "text": [
      "| \u001b[39m20       \u001b[39m | \u001b[39m0.5      \u001b[39m | \u001b[39m28.43    \u001b[39m | \u001b[39m20.22    \u001b[39m | \u001b[39m0.00538  \u001b[39m | \u001b[39m3.415    \u001b[39m |\n"
     ]
    },
    {
     "name": "stderr",
     "output_type": "stream",
     "text": [
      "C:\\Users\\USER\\AppData\\Local\\Temp\\ipykernel_101968\\4173132243.py:9: UserWarning: To copy construct from a tensor, it is recommended to use sourceTensor.clone().detach() or sourceTensor.clone().detach().requires_grad_(True), rather than torch.tensor(sourceTensor).\n",
      "  X_batch = torch.tensor(X_batch)\n",
      "C:\\Users\\USER\\AppData\\Local\\Temp\\ipykernel_101968\\4173132243.py:10: UserWarning: To copy construct from a tensor, it is recommended to use sourceTensor.clone().detach() or sourceTensor.clone().detach().requires_grad_(True), rather than torch.tensor(sourceTensor).\n",
      "  y_batch = torch.tensor(y_batch, dtype=torch.float)\n",
      "C:\\Users\\USER\\AppData\\Local\\Temp\\ipykernel_101968\\4173132243.py:43: UserWarning: To copy construct from a tensor, it is recommended to use sourceTensor.clone().detach() or sourceTensor.clone().detach().requires_grad_(True), rather than torch.tensor(sourceTensor).\n",
      "  X_batch = torch.tensor(X_batch)\n",
      "C:\\Users\\USER\\AppData\\Local\\Temp\\ipykernel_101968\\4173132243.py:44: UserWarning: To copy construct from a tensor, it is recommended to use sourceTensor.clone().detach() or sourceTensor.clone().detach().requires_grad_(True), rather than torch.tensor(sourceTensor).\n",
      "  y_batch = torch.tensor(y_batch, dtype=torch.float)\n"
     ]
    },
    {
     "name": "stdout",
     "output_type": "stream",
     "text": [
      "| \u001b[39m21       \u001b[39m | \u001b[39m0.4991   \u001b[39m | \u001b[39m5.558    \u001b[39m | \u001b[39m55.47    \u001b[39m | \u001b[39m0.01628  \u001b[39m | \u001b[39m4.345    \u001b[39m |\n"
     ]
    },
    {
     "name": "stderr",
     "output_type": "stream",
     "text": [
      "C:\\Users\\USER\\AppData\\Local\\Temp\\ipykernel_101968\\4173132243.py:9: UserWarning: To copy construct from a tensor, it is recommended to use sourceTensor.clone().detach() or sourceTensor.clone().detach().requires_grad_(True), rather than torch.tensor(sourceTensor).\n",
      "  X_batch = torch.tensor(X_batch)\n",
      "C:\\Users\\USER\\AppData\\Local\\Temp\\ipykernel_101968\\4173132243.py:10: UserWarning: To copy construct from a tensor, it is recommended to use sourceTensor.clone().detach() or sourceTensor.clone().detach().requires_grad_(True), rather than torch.tensor(sourceTensor).\n",
      "  y_batch = torch.tensor(y_batch, dtype=torch.float)\n",
      "C:\\Users\\USER\\AppData\\Local\\Temp\\ipykernel_101968\\4173132243.py:43: UserWarning: To copy construct from a tensor, it is recommended to use sourceTensor.clone().detach() or sourceTensor.clone().detach().requires_grad_(True), rather than torch.tensor(sourceTensor).\n",
      "  X_batch = torch.tensor(X_batch)\n",
      "C:\\Users\\USER\\AppData\\Local\\Temp\\ipykernel_101968\\4173132243.py:44: UserWarning: To copy construct from a tensor, it is recommended to use sourceTensor.clone().detach() or sourceTensor.clone().detach().requires_grad_(True), rather than torch.tensor(sourceTensor).\n",
      "  y_batch = torch.tensor(y_batch, dtype=torch.float)\n"
     ]
    },
    {
     "name": "stdout",
     "output_type": "stream",
     "text": [
      "| \u001b[39m22       \u001b[39m | \u001b[39m0.5      \u001b[39m | \u001b[39m24.61    \u001b[39m | \u001b[39m48.99    \u001b[39m | \u001b[39m0.04174  \u001b[39m | \u001b[39m6.746    \u001b[39m |\n"
     ]
    },
    {
     "name": "stderr",
     "output_type": "stream",
     "text": [
      "C:\\Users\\USER\\AppData\\Local\\Temp\\ipykernel_101968\\4173132243.py:9: UserWarning: To copy construct from a tensor, it is recommended to use sourceTensor.clone().detach() or sourceTensor.clone().detach().requires_grad_(True), rather than torch.tensor(sourceTensor).\n",
      "  X_batch = torch.tensor(X_batch)\n",
      "C:\\Users\\USER\\AppData\\Local\\Temp\\ipykernel_101968\\4173132243.py:10: UserWarning: To copy construct from a tensor, it is recommended to use sourceTensor.clone().detach() or sourceTensor.clone().detach().requires_grad_(True), rather than torch.tensor(sourceTensor).\n",
      "  y_batch = torch.tensor(y_batch, dtype=torch.float)\n",
      "C:\\Users\\USER\\AppData\\Local\\Temp\\ipykernel_101968\\4173132243.py:43: UserWarning: To copy construct from a tensor, it is recommended to use sourceTensor.clone().detach() or sourceTensor.clone().detach().requires_grad_(True), rather than torch.tensor(sourceTensor).\n",
      "  X_batch = torch.tensor(X_batch)\n",
      "C:\\Users\\USER\\AppData\\Local\\Temp\\ipykernel_101968\\4173132243.py:44: UserWarning: To copy construct from a tensor, it is recommended to use sourceTensor.clone().detach() or sourceTensor.clone().detach().requires_grad_(True), rather than torch.tensor(sourceTensor).\n",
      "  y_batch = torch.tensor(y_batch, dtype=torch.float)\n"
     ]
    },
    {
     "name": "stdout",
     "output_type": "stream",
     "text": [
      "| \u001b[39m23       \u001b[39m | \u001b[39m0.5      \u001b[39m | \u001b[39m18.81    \u001b[39m | \u001b[39m45.25    \u001b[39m | \u001b[39m0.05506  \u001b[39m | \u001b[39m7.644    \u001b[39m |\n"
     ]
    },
    {
     "name": "stderr",
     "output_type": "stream",
     "text": [
      "C:\\Users\\USER\\AppData\\Local\\Temp\\ipykernel_101968\\4173132243.py:9: UserWarning: To copy construct from a tensor, it is recommended to use sourceTensor.clone().detach() or sourceTensor.clone().detach().requires_grad_(True), rather than torch.tensor(sourceTensor).\n",
      "  X_batch = torch.tensor(X_batch)\n",
      "C:\\Users\\USER\\AppData\\Local\\Temp\\ipykernel_101968\\4173132243.py:10: UserWarning: To copy construct from a tensor, it is recommended to use sourceTensor.clone().detach() or sourceTensor.clone().detach().requires_grad_(True), rather than torch.tensor(sourceTensor).\n",
      "  y_batch = torch.tensor(y_batch, dtype=torch.float)\n",
      "C:\\Users\\USER\\AppData\\Local\\Temp\\ipykernel_101968\\4173132243.py:43: UserWarning: To copy construct from a tensor, it is recommended to use sourceTensor.clone().detach() or sourceTensor.clone().detach().requires_grad_(True), rather than torch.tensor(sourceTensor).\n",
      "  X_batch = torch.tensor(X_batch)\n",
      "C:\\Users\\USER\\AppData\\Local\\Temp\\ipykernel_101968\\4173132243.py:44: UserWarning: To copy construct from a tensor, it is recommended to use sourceTensor.clone().detach() or sourceTensor.clone().detach().requires_grad_(True), rather than torch.tensor(sourceTensor).\n",
      "  y_batch = torch.tensor(y_batch, dtype=torch.float)\n"
     ]
    },
    {
     "name": "stdout",
     "output_type": "stream",
     "text": [
      "| \u001b[39m24       \u001b[39m | \u001b[39m0.5      \u001b[39m | \u001b[39m11.95    \u001b[39m | \u001b[39m55.5     \u001b[39m | \u001b[39m0.0492   \u001b[39m | \u001b[39m2.022    \u001b[39m |\n"
     ]
    },
    {
     "name": "stderr",
     "output_type": "stream",
     "text": [
      "C:\\Users\\USER\\AppData\\Local\\Temp\\ipykernel_101968\\4173132243.py:9: UserWarning: To copy construct from a tensor, it is recommended to use sourceTensor.clone().detach() or sourceTensor.clone().detach().requires_grad_(True), rather than torch.tensor(sourceTensor).\n",
      "  X_batch = torch.tensor(X_batch)\n",
      "C:\\Users\\USER\\AppData\\Local\\Temp\\ipykernel_101968\\4173132243.py:10: UserWarning: To copy construct from a tensor, it is recommended to use sourceTensor.clone().detach() or sourceTensor.clone().detach().requires_grad_(True), rather than torch.tensor(sourceTensor).\n",
      "  y_batch = torch.tensor(y_batch, dtype=torch.float)\n",
      "C:\\Users\\USER\\AppData\\Local\\Temp\\ipykernel_101968\\4173132243.py:43: UserWarning: To copy construct from a tensor, it is recommended to use sourceTensor.clone().detach() or sourceTensor.clone().detach().requires_grad_(True), rather than torch.tensor(sourceTensor).\n",
      "  X_batch = torch.tensor(X_batch)\n",
      "C:\\Users\\USER\\AppData\\Local\\Temp\\ipykernel_101968\\4173132243.py:44: UserWarning: To copy construct from a tensor, it is recommended to use sourceTensor.clone().detach() or sourceTensor.clone().detach().requires_grad_(True), rather than torch.tensor(sourceTensor).\n",
      "  y_batch = torch.tensor(y_batch, dtype=torch.float)\n"
     ]
    },
    {
     "name": "stdout",
     "output_type": "stream",
     "text": [
      "| \u001b[39m25       \u001b[39m | \u001b[39m0.5169   \u001b[39m | \u001b[39m20.5     \u001b[39m | \u001b[39m3.162    \u001b[39m | \u001b[39m0.01683  \u001b[39m | \u001b[39m5.491    \u001b[39m |\n"
     ]
    },
    {
     "name": "stderr",
     "output_type": "stream",
     "text": [
      "C:\\Users\\USER\\AppData\\Local\\Temp\\ipykernel_101968\\4173132243.py:9: UserWarning: To copy construct from a tensor, it is recommended to use sourceTensor.clone().detach() or sourceTensor.clone().detach().requires_grad_(True), rather than torch.tensor(sourceTensor).\n",
      "  X_batch = torch.tensor(X_batch)\n",
      "C:\\Users\\USER\\AppData\\Local\\Temp\\ipykernel_101968\\4173132243.py:10: UserWarning: To copy construct from a tensor, it is recommended to use sourceTensor.clone().detach() or sourceTensor.clone().detach().requires_grad_(True), rather than torch.tensor(sourceTensor).\n",
      "  y_batch = torch.tensor(y_batch, dtype=torch.float)\n",
      "C:\\Users\\USER\\AppData\\Local\\Temp\\ipykernel_101968\\4173132243.py:43: UserWarning: To copy construct from a tensor, it is recommended to use sourceTensor.clone().detach() or sourceTensor.clone().detach().requires_grad_(True), rather than torch.tensor(sourceTensor).\n",
      "  X_batch = torch.tensor(X_batch)\n",
      "C:\\Users\\USER\\AppData\\Local\\Temp\\ipykernel_101968\\4173132243.py:44: UserWarning: To copy construct from a tensor, it is recommended to use sourceTensor.clone().detach() or sourceTensor.clone().detach().requires_grad_(True), rather than torch.tensor(sourceTensor).\n",
      "  y_batch = torch.tensor(y_batch, dtype=torch.float)\n"
     ]
    },
    {
     "name": "stdout",
     "output_type": "stream",
     "text": [
      "| \u001b[39m26       \u001b[39m | \u001b[39m0.5      \u001b[39m | \u001b[39m16.57    \u001b[39m | \u001b[39m40.64    \u001b[39m | \u001b[39m0.05158  \u001b[39m | \u001b[39m1.491    \u001b[39m |\n"
     ]
    },
    {
     "name": "stderr",
     "output_type": "stream",
     "text": [
      "C:\\Users\\USER\\AppData\\Local\\Temp\\ipykernel_101968\\4173132243.py:9: UserWarning: To copy construct from a tensor, it is recommended to use sourceTensor.clone().detach() or sourceTensor.clone().detach().requires_grad_(True), rather than torch.tensor(sourceTensor).\n",
      "  X_batch = torch.tensor(X_batch)\n",
      "C:\\Users\\USER\\AppData\\Local\\Temp\\ipykernel_101968\\4173132243.py:10: UserWarning: To copy construct from a tensor, it is recommended to use sourceTensor.clone().detach() or sourceTensor.clone().detach().requires_grad_(True), rather than torch.tensor(sourceTensor).\n",
      "  y_batch = torch.tensor(y_batch, dtype=torch.float)\n",
      "C:\\Users\\USER\\AppData\\Local\\Temp\\ipykernel_101968\\4173132243.py:43: UserWarning: To copy construct from a tensor, it is recommended to use sourceTensor.clone().detach() or sourceTensor.clone().detach().requires_grad_(True), rather than torch.tensor(sourceTensor).\n",
      "  X_batch = torch.tensor(X_batch)\n",
      "C:\\Users\\USER\\AppData\\Local\\Temp\\ipykernel_101968\\4173132243.py:44: UserWarning: To copy construct from a tensor, it is recommended to use sourceTensor.clone().detach() or sourceTensor.clone().detach().requires_grad_(True), rather than torch.tensor(sourceTensor).\n",
      "  y_batch = torch.tensor(y_batch, dtype=torch.float)\n"
     ]
    },
    {
     "name": "stdout",
     "output_type": "stream",
     "text": [
      "| \u001b[39m27       \u001b[39m | \u001b[39m0.5      \u001b[39m | \u001b[39m15.67    \u001b[39m | \u001b[39m27.91    \u001b[39m | \u001b[39m0.08037  \u001b[39m | \u001b[39m5.536    \u001b[39m |\n"
     ]
    },
    {
     "name": "stderr",
     "output_type": "stream",
     "text": [
      "C:\\Users\\USER\\AppData\\Local\\Temp\\ipykernel_101968\\4173132243.py:9: UserWarning: To copy construct from a tensor, it is recommended to use sourceTensor.clone().detach() or sourceTensor.clone().detach().requires_grad_(True), rather than torch.tensor(sourceTensor).\n",
      "  X_batch = torch.tensor(X_batch)\n",
      "C:\\Users\\USER\\AppData\\Local\\Temp\\ipykernel_101968\\4173132243.py:10: UserWarning: To copy construct from a tensor, it is recommended to use sourceTensor.clone().detach() or sourceTensor.clone().detach().requires_grad_(True), rather than torch.tensor(sourceTensor).\n",
      "  y_batch = torch.tensor(y_batch, dtype=torch.float)\n",
      "C:\\Users\\USER\\AppData\\Local\\Temp\\ipykernel_101968\\4173132243.py:43: UserWarning: To copy construct from a tensor, it is recommended to use sourceTensor.clone().detach() or sourceTensor.clone().detach().requires_grad_(True), rather than torch.tensor(sourceTensor).\n",
      "  X_batch = torch.tensor(X_batch)\n",
      "C:\\Users\\USER\\AppData\\Local\\Temp\\ipykernel_101968\\4173132243.py:44: UserWarning: To copy construct from a tensor, it is recommended to use sourceTensor.clone().detach() or sourceTensor.clone().detach().requires_grad_(True), rather than torch.tensor(sourceTensor).\n",
      "  y_batch = torch.tensor(y_batch, dtype=torch.float)\n"
     ]
    },
    {
     "name": "stdout",
     "output_type": "stream",
     "text": [
      "| \u001b[39m28       \u001b[39m | \u001b[39m0.5      \u001b[39m | \u001b[39m12.89    \u001b[39m | \u001b[39m51.28    \u001b[39m | \u001b[39m0.08892  \u001b[39m | \u001b[39m4.97     \u001b[39m |\n"
     ]
    },
    {
     "name": "stderr",
     "output_type": "stream",
     "text": [
      "C:\\Users\\USER\\AppData\\Local\\Temp\\ipykernel_101968\\4173132243.py:9: UserWarning: To copy construct from a tensor, it is recommended to use sourceTensor.clone().detach() or sourceTensor.clone().detach().requires_grad_(True), rather than torch.tensor(sourceTensor).\n",
      "  X_batch = torch.tensor(X_batch)\n",
      "C:\\Users\\USER\\AppData\\Local\\Temp\\ipykernel_101968\\4173132243.py:10: UserWarning: To copy construct from a tensor, it is recommended to use sourceTensor.clone().detach() or sourceTensor.clone().detach().requires_grad_(True), rather than torch.tensor(sourceTensor).\n",
      "  y_batch = torch.tensor(y_batch, dtype=torch.float)\n",
      "C:\\Users\\USER\\AppData\\Local\\Temp\\ipykernel_101968\\4173132243.py:43: UserWarning: To copy construct from a tensor, it is recommended to use sourceTensor.clone().detach() or sourceTensor.clone().detach().requires_grad_(True), rather than torch.tensor(sourceTensor).\n",
      "  X_batch = torch.tensor(X_batch)\n",
      "C:\\Users\\USER\\AppData\\Local\\Temp\\ipykernel_101968\\4173132243.py:44: UserWarning: To copy construct from a tensor, it is recommended to use sourceTensor.clone().detach() or sourceTensor.clone().detach().requires_grad_(True), rather than torch.tensor(sourceTensor).\n",
      "  y_batch = torch.tensor(y_batch, dtype=torch.float)\n"
     ]
    },
    {
     "name": "stdout",
     "output_type": "stream",
     "text": [
      "| \u001b[39m29       \u001b[39m | \u001b[39m0.5      \u001b[39m | \u001b[39m13.95    \u001b[39m | \u001b[39m21.22    \u001b[39m | \u001b[39m0.06728  \u001b[39m | \u001b[39m7.124    \u001b[39m |\n"
     ]
    },
    {
     "name": "stderr",
     "output_type": "stream",
     "text": [
      "C:\\Users\\USER\\AppData\\Local\\Temp\\ipykernel_101968\\4173132243.py:9: UserWarning: To copy construct from a tensor, it is recommended to use sourceTensor.clone().detach() or sourceTensor.clone().detach().requires_grad_(True), rather than torch.tensor(sourceTensor).\n",
      "  X_batch = torch.tensor(X_batch)\n",
      "C:\\Users\\USER\\AppData\\Local\\Temp\\ipykernel_101968\\4173132243.py:10: UserWarning: To copy construct from a tensor, it is recommended to use sourceTensor.clone().detach() or sourceTensor.clone().detach().requires_grad_(True), rather than torch.tensor(sourceTensor).\n",
      "  y_batch = torch.tensor(y_batch, dtype=torch.float)\n",
      "C:\\Users\\USER\\AppData\\Local\\Temp\\ipykernel_101968\\4173132243.py:43: UserWarning: To copy construct from a tensor, it is recommended to use sourceTensor.clone().detach() or sourceTensor.clone().detach().requires_grad_(True), rather than torch.tensor(sourceTensor).\n",
      "  X_batch = torch.tensor(X_batch)\n",
      "C:\\Users\\USER\\AppData\\Local\\Temp\\ipykernel_101968\\4173132243.py:44: UserWarning: To copy construct from a tensor, it is recommended to use sourceTensor.clone().detach() or sourceTensor.clone().detach().requires_grad_(True), rather than torch.tensor(sourceTensor).\n",
      "  y_batch = torch.tensor(y_batch, dtype=torch.float)\n"
     ]
    },
    {
     "name": "stdout",
     "output_type": "stream",
     "text": [
      "| \u001b[35m30       \u001b[39m | \u001b[35m0.5638   \u001b[39m | \u001b[35m53.26    \u001b[39m | \u001b[35m17.19    \u001b[39m | \u001b[35m0.001602 \u001b[39m | \u001b[35m2.127    \u001b[39m |\n"
     ]
    },
    {
     "name": "stderr",
     "output_type": "stream",
     "text": [
      "C:\\Users\\USER\\AppData\\Local\\Temp\\ipykernel_101968\\4173132243.py:9: UserWarning: To copy construct from a tensor, it is recommended to use sourceTensor.clone().detach() or sourceTensor.clone().detach().requires_grad_(True), rather than torch.tensor(sourceTensor).\n",
      "  X_batch = torch.tensor(X_batch)\n",
      "C:\\Users\\USER\\AppData\\Local\\Temp\\ipykernel_101968\\4173132243.py:10: UserWarning: To copy construct from a tensor, it is recommended to use sourceTensor.clone().detach() or sourceTensor.clone().detach().requires_grad_(True), rather than torch.tensor(sourceTensor).\n",
      "  y_batch = torch.tensor(y_batch, dtype=torch.float)\n",
      "C:\\Users\\USER\\AppData\\Local\\Temp\\ipykernel_101968\\4173132243.py:43: UserWarning: To copy construct from a tensor, it is recommended to use sourceTensor.clone().detach() or sourceTensor.clone().detach().requires_grad_(True), rather than torch.tensor(sourceTensor).\n",
      "  X_batch = torch.tensor(X_batch)\n",
      "C:\\Users\\USER\\AppData\\Local\\Temp\\ipykernel_101968\\4173132243.py:44: UserWarning: To copy construct from a tensor, it is recommended to use sourceTensor.clone().detach() or sourceTensor.clone().detach().requires_grad_(True), rather than torch.tensor(sourceTensor).\n",
      "  y_batch = torch.tensor(y_batch, dtype=torch.float)\n"
     ]
    },
    {
     "name": "stdout",
     "output_type": "stream",
     "text": [
      "| \u001b[39m31       \u001b[39m | \u001b[39m0.5      \u001b[39m | \u001b[39m63.17    \u001b[39m | \u001b[39m71.12    \u001b[39m | \u001b[39m0.05829  \u001b[39m | \u001b[39m6.223    \u001b[39m |\n"
     ]
    },
    {
     "name": "stderr",
     "output_type": "stream",
     "text": [
      "C:\\Users\\USER\\AppData\\Local\\Temp\\ipykernel_101968\\4173132243.py:9: UserWarning: To copy construct from a tensor, it is recommended to use sourceTensor.clone().detach() or sourceTensor.clone().detach().requires_grad_(True), rather than torch.tensor(sourceTensor).\n",
      "  X_batch = torch.tensor(X_batch)\n",
      "C:\\Users\\USER\\AppData\\Local\\Temp\\ipykernel_101968\\4173132243.py:10: UserWarning: To copy construct from a tensor, it is recommended to use sourceTensor.clone().detach() or sourceTensor.clone().detach().requires_grad_(True), rather than torch.tensor(sourceTensor).\n",
      "  y_batch = torch.tensor(y_batch, dtype=torch.float)\n",
      "C:\\Users\\USER\\AppData\\Local\\Temp\\ipykernel_101968\\4173132243.py:43: UserWarning: To copy construct from a tensor, it is recommended to use sourceTensor.clone().detach() or sourceTensor.clone().detach().requires_grad_(True), rather than torch.tensor(sourceTensor).\n",
      "  X_batch = torch.tensor(X_batch)\n",
      "C:\\Users\\USER\\AppData\\Local\\Temp\\ipykernel_101968\\4173132243.py:44: UserWarning: To copy construct from a tensor, it is recommended to use sourceTensor.clone().detach() or sourceTensor.clone().detach().requires_grad_(True), rather than torch.tensor(sourceTensor).\n",
      "  y_batch = torch.tensor(y_batch, dtype=torch.float)\n"
     ]
    },
    {
     "name": "stdout",
     "output_type": "stream",
     "text": [
      "| \u001b[39m32       \u001b[39m | \u001b[39m0.5      \u001b[39m | \u001b[39m58.04    \u001b[39m | \u001b[39m45.77    \u001b[39m | \u001b[39m0.03998  \u001b[39m | \u001b[39m3.181    \u001b[39m |\n"
     ]
    },
    {
     "name": "stderr",
     "output_type": "stream",
     "text": [
      "C:\\Users\\USER\\AppData\\Local\\Temp\\ipykernel_101968\\4173132243.py:9: UserWarning: To copy construct from a tensor, it is recommended to use sourceTensor.clone().detach() or sourceTensor.clone().detach().requires_grad_(True), rather than torch.tensor(sourceTensor).\n",
      "  X_batch = torch.tensor(X_batch)\n",
      "C:\\Users\\USER\\AppData\\Local\\Temp\\ipykernel_101968\\4173132243.py:10: UserWarning: To copy construct from a tensor, it is recommended to use sourceTensor.clone().detach() or sourceTensor.clone().detach().requires_grad_(True), rather than torch.tensor(sourceTensor).\n",
      "  y_batch = torch.tensor(y_batch, dtype=torch.float)\n",
      "C:\\Users\\USER\\AppData\\Local\\Temp\\ipykernel_101968\\4173132243.py:43: UserWarning: To copy construct from a tensor, it is recommended to use sourceTensor.clone().detach() or sourceTensor.clone().detach().requires_grad_(True), rather than torch.tensor(sourceTensor).\n",
      "  X_batch = torch.tensor(X_batch)\n",
      "C:\\Users\\USER\\AppData\\Local\\Temp\\ipykernel_101968\\4173132243.py:44: UserWarning: To copy construct from a tensor, it is recommended to use sourceTensor.clone().detach() or sourceTensor.clone().detach().requires_grad_(True), rather than torch.tensor(sourceTensor).\n",
      "  y_batch = torch.tensor(y_batch, dtype=torch.float)\n"
     ]
    },
    {
     "name": "stdout",
     "output_type": "stream",
     "text": [
      "| \u001b[39m33       \u001b[39m | \u001b[39m0.5      \u001b[39m | \u001b[39m46.4     \u001b[39m | \u001b[39m39.04    \u001b[39m | \u001b[39m0.02691  \u001b[39m | \u001b[39m4.424    \u001b[39m |\n"
     ]
    },
    {
     "name": "stderr",
     "output_type": "stream",
     "text": [
      "C:\\Users\\USER\\AppData\\Local\\Temp\\ipykernel_101968\\4173132243.py:9: UserWarning: To copy construct from a tensor, it is recommended to use sourceTensor.clone().detach() or sourceTensor.clone().detach().requires_grad_(True), rather than torch.tensor(sourceTensor).\n",
      "  X_batch = torch.tensor(X_batch)\n",
      "C:\\Users\\USER\\AppData\\Local\\Temp\\ipykernel_101968\\4173132243.py:10: UserWarning: To copy construct from a tensor, it is recommended to use sourceTensor.clone().detach() or sourceTensor.clone().detach().requires_grad_(True), rather than torch.tensor(sourceTensor).\n",
      "  y_batch = torch.tensor(y_batch, dtype=torch.float)\n",
      "C:\\Users\\USER\\AppData\\Local\\Temp\\ipykernel_101968\\4173132243.py:43: UserWarning: To copy construct from a tensor, it is recommended to use sourceTensor.clone().detach() or sourceTensor.clone().detach().requires_grad_(True), rather than torch.tensor(sourceTensor).\n",
      "  X_batch = torch.tensor(X_batch)\n",
      "C:\\Users\\USER\\AppData\\Local\\Temp\\ipykernel_101968\\4173132243.py:44: UserWarning: To copy construct from a tensor, it is recommended to use sourceTensor.clone().detach() or sourceTensor.clone().detach().requires_grad_(True), rather than torch.tensor(sourceTensor).\n",
      "  y_batch = torch.tensor(y_batch, dtype=torch.float)\n"
     ]
    },
    {
     "name": "stdout",
     "output_type": "stream",
     "text": [
      "| \u001b[39m34       \u001b[39m | \u001b[39m0.5      \u001b[39m | \u001b[39m63.66    \u001b[39m | \u001b[39m26.33    \u001b[39m | \u001b[39m0.0619   \u001b[39m | \u001b[39m3.589    \u001b[39m |\n"
     ]
    },
    {
     "name": "stderr",
     "output_type": "stream",
     "text": [
      "C:\\Users\\USER\\AppData\\Local\\Temp\\ipykernel_101968\\4173132243.py:9: UserWarning: To copy construct from a tensor, it is recommended to use sourceTensor.clone().detach() or sourceTensor.clone().detach().requires_grad_(True), rather than torch.tensor(sourceTensor).\n",
      "  X_batch = torch.tensor(X_batch)\n",
      "C:\\Users\\USER\\AppData\\Local\\Temp\\ipykernel_101968\\4173132243.py:10: UserWarning: To copy construct from a tensor, it is recommended to use sourceTensor.clone().detach() or sourceTensor.clone().detach().requires_grad_(True), rather than torch.tensor(sourceTensor).\n",
      "  y_batch = torch.tensor(y_batch, dtype=torch.float)\n",
      "C:\\Users\\USER\\AppData\\Local\\Temp\\ipykernel_101968\\4173132243.py:43: UserWarning: To copy construct from a tensor, it is recommended to use sourceTensor.clone().detach() or sourceTensor.clone().detach().requires_grad_(True), rather than torch.tensor(sourceTensor).\n",
      "  X_batch = torch.tensor(X_batch)\n",
      "C:\\Users\\USER\\AppData\\Local\\Temp\\ipykernel_101968\\4173132243.py:44: UserWarning: To copy construct from a tensor, it is recommended to use sourceTensor.clone().detach() or sourceTensor.clone().detach().requires_grad_(True), rather than torch.tensor(sourceTensor).\n",
      "  y_batch = torch.tensor(y_batch, dtype=torch.float)\n"
     ]
    },
    {
     "name": "stdout",
     "output_type": "stream",
     "text": [
      "| \u001b[39m35       \u001b[39m | \u001b[39m0.5      \u001b[39m | \u001b[39m55.21    \u001b[39m | \u001b[39m78.51    \u001b[39m | \u001b[39m0.09023  \u001b[39m | \u001b[39m1.654    \u001b[39m |\n"
     ]
    },
    {
     "name": "stderr",
     "output_type": "stream",
     "text": [
      "C:\\Users\\USER\\AppData\\Local\\Temp\\ipykernel_101968\\4173132243.py:9: UserWarning: To copy construct from a tensor, it is recommended to use sourceTensor.clone().detach() or sourceTensor.clone().detach().requires_grad_(True), rather than torch.tensor(sourceTensor).\n",
      "  X_batch = torch.tensor(X_batch)\n",
      "C:\\Users\\USER\\AppData\\Local\\Temp\\ipykernel_101968\\4173132243.py:10: UserWarning: To copy construct from a tensor, it is recommended to use sourceTensor.clone().detach() or sourceTensor.clone().detach().requires_grad_(True), rather than torch.tensor(sourceTensor).\n",
      "  y_batch = torch.tensor(y_batch, dtype=torch.float)\n",
      "C:\\Users\\USER\\AppData\\Local\\Temp\\ipykernel_101968\\4173132243.py:43: UserWarning: To copy construct from a tensor, it is recommended to use sourceTensor.clone().detach() or sourceTensor.clone().detach().requires_grad_(True), rather than torch.tensor(sourceTensor).\n",
      "  X_batch = torch.tensor(X_batch)\n",
      "C:\\Users\\USER\\AppData\\Local\\Temp\\ipykernel_101968\\4173132243.py:44: UserWarning: To copy construct from a tensor, it is recommended to use sourceTensor.clone().detach() or sourceTensor.clone().detach().requires_grad_(True), rather than torch.tensor(sourceTensor).\n",
      "  y_batch = torch.tensor(y_batch, dtype=torch.float)\n"
     ]
    },
    {
     "name": "stdout",
     "output_type": "stream",
     "text": [
      "| \u001b[39m36       \u001b[39m | \u001b[39m0.5028   \u001b[39m | \u001b[39m28.28    \u001b[39m | \u001b[39m65.22    \u001b[39m | \u001b[39m0.01577  \u001b[39m | \u001b[39m3.921    \u001b[39m |\n"
     ]
    },
    {
     "name": "stderr",
     "output_type": "stream",
     "text": [
      "C:\\Users\\USER\\AppData\\Local\\Temp\\ipykernel_101968\\4173132243.py:9: UserWarning: To copy construct from a tensor, it is recommended to use sourceTensor.clone().detach() or sourceTensor.clone().detach().requires_grad_(True), rather than torch.tensor(sourceTensor).\n",
      "  X_batch = torch.tensor(X_batch)\n",
      "C:\\Users\\USER\\AppData\\Local\\Temp\\ipykernel_101968\\4173132243.py:10: UserWarning: To copy construct from a tensor, it is recommended to use sourceTensor.clone().detach() or sourceTensor.clone().detach().requires_grad_(True), rather than torch.tensor(sourceTensor).\n",
      "  y_batch = torch.tensor(y_batch, dtype=torch.float)\n",
      "C:\\Users\\USER\\AppData\\Local\\Temp\\ipykernel_101968\\4173132243.py:43: UserWarning: To copy construct from a tensor, it is recommended to use sourceTensor.clone().detach() or sourceTensor.clone().detach().requires_grad_(True), rather than torch.tensor(sourceTensor).\n",
      "  X_batch = torch.tensor(X_batch)\n",
      "C:\\Users\\USER\\AppData\\Local\\Temp\\ipykernel_101968\\4173132243.py:44: UserWarning: To copy construct from a tensor, it is recommended to use sourceTensor.clone().detach() or sourceTensor.clone().detach().requires_grad_(True), rather than torch.tensor(sourceTensor).\n",
      "  y_batch = torch.tensor(y_batch, dtype=torch.float)\n"
     ]
    },
    {
     "name": "stdout",
     "output_type": "stream",
     "text": [
      "| \u001b[39m37       \u001b[39m | \u001b[39m0.5      \u001b[39m | \u001b[39m36.82    \u001b[39m | \u001b[39m39.82    \u001b[39m | \u001b[39m0.09373  \u001b[39m | \u001b[39m3.952    \u001b[39m |\n"
     ]
    },
    {
     "name": "stderr",
     "output_type": "stream",
     "text": [
      "C:\\Users\\USER\\AppData\\Local\\Temp\\ipykernel_101968\\4173132243.py:9: UserWarning: To copy construct from a tensor, it is recommended to use sourceTensor.clone().detach() or sourceTensor.clone().detach().requires_grad_(True), rather than torch.tensor(sourceTensor).\n",
      "  X_batch = torch.tensor(X_batch)\n",
      "C:\\Users\\USER\\AppData\\Local\\Temp\\ipykernel_101968\\4173132243.py:10: UserWarning: To copy construct from a tensor, it is recommended to use sourceTensor.clone().detach() or sourceTensor.clone().detach().requires_grad_(True), rather than torch.tensor(sourceTensor).\n",
      "  y_batch = torch.tensor(y_batch, dtype=torch.float)\n",
      "C:\\Users\\USER\\AppData\\Local\\Temp\\ipykernel_101968\\4173132243.py:43: UserWarning: To copy construct from a tensor, it is recommended to use sourceTensor.clone().detach() or sourceTensor.clone().detach().requires_grad_(True), rather than torch.tensor(sourceTensor).\n",
      "  X_batch = torch.tensor(X_batch)\n",
      "C:\\Users\\USER\\AppData\\Local\\Temp\\ipykernel_101968\\4173132243.py:44: UserWarning: To copy construct from a tensor, it is recommended to use sourceTensor.clone().detach() or sourceTensor.clone().detach().requires_grad_(True), rather than torch.tensor(sourceTensor).\n",
      "  y_batch = torch.tensor(y_batch, dtype=torch.float)\n"
     ]
    },
    {
     "name": "stdout",
     "output_type": "stream",
     "text": [
      "| \u001b[39m38       \u001b[39m | \u001b[39m0.4991   \u001b[39m | \u001b[39m33.82    \u001b[39m | \u001b[39m7.355    \u001b[39m | \u001b[39m0.03303  \u001b[39m | \u001b[39m5.481    \u001b[39m |\n"
     ]
    },
    {
     "name": "stderr",
     "output_type": "stream",
     "text": [
      "C:\\Users\\USER\\AppData\\Local\\Temp\\ipykernel_101968\\4173132243.py:9: UserWarning: To copy construct from a tensor, it is recommended to use sourceTensor.clone().detach() or sourceTensor.clone().detach().requires_grad_(True), rather than torch.tensor(sourceTensor).\n",
      "  X_batch = torch.tensor(X_batch)\n",
      "C:\\Users\\USER\\AppData\\Local\\Temp\\ipykernel_101968\\4173132243.py:10: UserWarning: To copy construct from a tensor, it is recommended to use sourceTensor.clone().detach() or sourceTensor.clone().detach().requires_grad_(True), rather than torch.tensor(sourceTensor).\n",
      "  y_batch = torch.tensor(y_batch, dtype=torch.float)\n",
      "C:\\Users\\USER\\AppData\\Local\\Temp\\ipykernel_101968\\4173132243.py:43: UserWarning: To copy construct from a tensor, it is recommended to use sourceTensor.clone().detach() or sourceTensor.clone().detach().requires_grad_(True), rather than torch.tensor(sourceTensor).\n",
      "  X_batch = torch.tensor(X_batch)\n",
      "C:\\Users\\USER\\AppData\\Local\\Temp\\ipykernel_101968\\4173132243.py:44: UserWarning: To copy construct from a tensor, it is recommended to use sourceTensor.clone().detach() or sourceTensor.clone().detach().requires_grad_(True), rather than torch.tensor(sourceTensor).\n",
      "  y_batch = torch.tensor(y_batch, dtype=torch.float)\n"
     ]
    },
    {
     "name": "stdout",
     "output_type": "stream",
     "text": [
      "| \u001b[39m39       \u001b[39m | \u001b[39m0.5056   \u001b[39m | \u001b[39m28.93    \u001b[39m | \u001b[39m2.383    \u001b[39m | \u001b[39m0.04087  \u001b[39m | \u001b[39m6.515    \u001b[39m |\n"
     ]
    },
    {
     "name": "stderr",
     "output_type": "stream",
     "text": [
      "C:\\Users\\USER\\AppData\\Local\\Temp\\ipykernel_101968\\4173132243.py:9: UserWarning: To copy construct from a tensor, it is recommended to use sourceTensor.clone().detach() or sourceTensor.clone().detach().requires_grad_(True), rather than torch.tensor(sourceTensor).\n",
      "  X_batch = torch.tensor(X_batch)\n",
      "C:\\Users\\USER\\AppData\\Local\\Temp\\ipykernel_101968\\4173132243.py:10: UserWarning: To copy construct from a tensor, it is recommended to use sourceTensor.clone().detach() or sourceTensor.clone().detach().requires_grad_(True), rather than torch.tensor(sourceTensor).\n",
      "  y_batch = torch.tensor(y_batch, dtype=torch.float)\n",
      "C:\\Users\\USER\\AppData\\Local\\Temp\\ipykernel_101968\\4173132243.py:43: UserWarning: To copy construct from a tensor, it is recommended to use sourceTensor.clone().detach() or sourceTensor.clone().detach().requires_grad_(True), rather than torch.tensor(sourceTensor).\n",
      "  X_batch = torch.tensor(X_batch)\n",
      "C:\\Users\\USER\\AppData\\Local\\Temp\\ipykernel_101968\\4173132243.py:44: UserWarning: To copy construct from a tensor, it is recommended to use sourceTensor.clone().detach() or sourceTensor.clone().detach().requires_grad_(True), rather than torch.tensor(sourceTensor).\n",
      "  y_batch = torch.tensor(y_batch, dtype=torch.float)\n"
     ]
    },
    {
     "name": "stdout",
     "output_type": "stream",
     "text": [
      "| \u001b[39m40       \u001b[39m | \u001b[39m0.5      \u001b[39m | \u001b[39m43.65    \u001b[39m | \u001b[39m22.56    \u001b[39m | \u001b[39m0.0703   \u001b[39m | \u001b[39m7.349    \u001b[39m |\n"
     ]
    },
    {
     "name": "stderr",
     "output_type": "stream",
     "text": [
      "C:\\Users\\USER\\AppData\\Local\\Temp\\ipykernel_101968\\4173132243.py:9: UserWarning: To copy construct from a tensor, it is recommended to use sourceTensor.clone().detach() or sourceTensor.clone().detach().requires_grad_(True), rather than torch.tensor(sourceTensor).\n",
      "  X_batch = torch.tensor(X_batch)\n",
      "C:\\Users\\USER\\AppData\\Local\\Temp\\ipykernel_101968\\4173132243.py:10: UserWarning: To copy construct from a tensor, it is recommended to use sourceTensor.clone().detach() or sourceTensor.clone().detach().requires_grad_(True), rather than torch.tensor(sourceTensor).\n",
      "  y_batch = torch.tensor(y_batch, dtype=torch.float)\n",
      "C:\\Users\\USER\\AppData\\Local\\Temp\\ipykernel_101968\\4173132243.py:43: UserWarning: To copy construct from a tensor, it is recommended to use sourceTensor.clone().detach() or sourceTensor.clone().detach().requires_grad_(True), rather than torch.tensor(sourceTensor).\n",
      "  X_batch = torch.tensor(X_batch)\n",
      "C:\\Users\\USER\\AppData\\Local\\Temp\\ipykernel_101968\\4173132243.py:44: UserWarning: To copy construct from a tensor, it is recommended to use sourceTensor.clone().detach() or sourceTensor.clone().detach().requires_grad_(True), rather than torch.tensor(sourceTensor).\n",
      "  y_batch = torch.tensor(y_batch, dtype=torch.float)\n"
     ]
    },
    {
     "name": "stdout",
     "output_type": "stream",
     "text": [
      "| \u001b[39m41       \u001b[39m | \u001b[39m0.5      \u001b[39m | \u001b[39m22.78    \u001b[39m | \u001b[39m63.6     \u001b[39m | \u001b[39m0.0893   \u001b[39m | \u001b[39m4.529    \u001b[39m |\n"
     ]
    },
    {
     "name": "stderr",
     "output_type": "stream",
     "text": [
      "C:\\Users\\USER\\AppData\\Local\\Temp\\ipykernel_101968\\4173132243.py:9: UserWarning: To copy construct from a tensor, it is recommended to use sourceTensor.clone().detach() or sourceTensor.clone().detach().requires_grad_(True), rather than torch.tensor(sourceTensor).\n",
      "  X_batch = torch.tensor(X_batch)\n",
      "C:\\Users\\USER\\AppData\\Local\\Temp\\ipykernel_101968\\4173132243.py:10: UserWarning: To copy construct from a tensor, it is recommended to use sourceTensor.clone().detach() or sourceTensor.clone().detach().requires_grad_(True), rather than torch.tensor(sourceTensor).\n",
      "  y_batch = torch.tensor(y_batch, dtype=torch.float)\n",
      "C:\\Users\\USER\\AppData\\Local\\Temp\\ipykernel_101968\\4173132243.py:43: UserWarning: To copy construct from a tensor, it is recommended to use sourceTensor.clone().detach() or sourceTensor.clone().detach().requires_grad_(True), rather than torch.tensor(sourceTensor).\n",
      "  X_batch = torch.tensor(X_batch)\n",
      "C:\\Users\\USER\\AppData\\Local\\Temp\\ipykernel_101968\\4173132243.py:44: UserWarning: To copy construct from a tensor, it is recommended to use sourceTensor.clone().detach() or sourceTensor.clone().detach().requires_grad_(True), rather than torch.tensor(sourceTensor).\n",
      "  y_batch = torch.tensor(y_batch, dtype=torch.float)\n"
     ]
    },
    {
     "name": "stdout",
     "output_type": "stream",
     "text": [
      "| \u001b[39m42       \u001b[39m | \u001b[39m0.4991   \u001b[39m | \u001b[39m48.67    \u001b[39m | \u001b[39m98.4     \u001b[39m | \u001b[39m0.01612  \u001b[39m | \u001b[39m6.188    \u001b[39m |\n"
     ]
    },
    {
     "name": "stderr",
     "output_type": "stream",
     "text": [
      "C:\\Users\\USER\\AppData\\Local\\Temp\\ipykernel_101968\\4173132243.py:9: UserWarning: To copy construct from a tensor, it is recommended to use sourceTensor.clone().detach() or sourceTensor.clone().detach().requires_grad_(True), rather than torch.tensor(sourceTensor).\n",
      "  X_batch = torch.tensor(X_batch)\n",
      "C:\\Users\\USER\\AppData\\Local\\Temp\\ipykernel_101968\\4173132243.py:10: UserWarning: To copy construct from a tensor, it is recommended to use sourceTensor.clone().detach() or sourceTensor.clone().detach().requires_grad_(True), rather than torch.tensor(sourceTensor).\n",
      "  y_batch = torch.tensor(y_batch, dtype=torch.float)\n",
      "C:\\Users\\USER\\AppData\\Local\\Temp\\ipykernel_101968\\4173132243.py:43: UserWarning: To copy construct from a tensor, it is recommended to use sourceTensor.clone().detach() or sourceTensor.clone().detach().requires_grad_(True), rather than torch.tensor(sourceTensor).\n",
      "  X_batch = torch.tensor(X_batch)\n",
      "C:\\Users\\USER\\AppData\\Local\\Temp\\ipykernel_101968\\4173132243.py:44: UserWarning: To copy construct from a tensor, it is recommended to use sourceTensor.clone().detach() or sourceTensor.clone().detach().requires_grad_(True), rather than torch.tensor(sourceTensor).\n",
      "  y_batch = torch.tensor(y_batch, dtype=torch.float)\n"
     ]
    },
    {
     "name": "stdout",
     "output_type": "stream",
     "text": [
      "| \u001b[39m43       \u001b[39m | \u001b[39m0.5      \u001b[39m | \u001b[39m26.22    \u001b[39m | \u001b[39m51.19    \u001b[39m | \u001b[39m0.07251  \u001b[39m | \u001b[39m4.647    \u001b[39m |\n"
     ]
    },
    {
     "name": "stderr",
     "output_type": "stream",
     "text": [
      "C:\\Users\\USER\\AppData\\Local\\Temp\\ipykernel_101968\\4173132243.py:9: UserWarning: To copy construct from a tensor, it is recommended to use sourceTensor.clone().detach() or sourceTensor.clone().detach().requires_grad_(True), rather than torch.tensor(sourceTensor).\n",
      "  X_batch = torch.tensor(X_batch)\n",
      "C:\\Users\\USER\\AppData\\Local\\Temp\\ipykernel_101968\\4173132243.py:10: UserWarning: To copy construct from a tensor, it is recommended to use sourceTensor.clone().detach() or sourceTensor.clone().detach().requires_grad_(True), rather than torch.tensor(sourceTensor).\n",
      "  y_batch = torch.tensor(y_batch, dtype=torch.float)\n",
      "C:\\Users\\USER\\AppData\\Local\\Temp\\ipykernel_101968\\4173132243.py:43: UserWarning: To copy construct from a tensor, it is recommended to use sourceTensor.clone().detach() or sourceTensor.clone().detach().requires_grad_(True), rather than torch.tensor(sourceTensor).\n",
      "  X_batch = torch.tensor(X_batch)\n",
      "C:\\Users\\USER\\AppData\\Local\\Temp\\ipykernel_101968\\4173132243.py:44: UserWarning: To copy construct from a tensor, it is recommended to use sourceTensor.clone().detach() or sourceTensor.clone().detach().requires_grad_(True), rather than torch.tensor(sourceTensor).\n",
      "  y_batch = torch.tensor(y_batch, dtype=torch.float)\n"
     ]
    },
    {
     "name": "stdout",
     "output_type": "stream",
     "text": [
      "| \u001b[39m44       \u001b[39m | \u001b[39m0.5      \u001b[39m | \u001b[39m33.65    \u001b[39m | \u001b[39m69.15    \u001b[39m | \u001b[39m0.0648   \u001b[39m | \u001b[39m6.607    \u001b[39m |\n"
     ]
    },
    {
     "name": "stderr",
     "output_type": "stream",
     "text": [
      "C:\\Users\\USER\\AppData\\Local\\Temp\\ipykernel_101968\\4173132243.py:9: UserWarning: To copy construct from a tensor, it is recommended to use sourceTensor.clone().detach() or sourceTensor.clone().detach().requires_grad_(True), rather than torch.tensor(sourceTensor).\n",
      "  X_batch = torch.tensor(X_batch)\n",
      "C:\\Users\\USER\\AppData\\Local\\Temp\\ipykernel_101968\\4173132243.py:10: UserWarning: To copy construct from a tensor, it is recommended to use sourceTensor.clone().detach() or sourceTensor.clone().detach().requires_grad_(True), rather than torch.tensor(sourceTensor).\n",
      "  y_batch = torch.tensor(y_batch, dtype=torch.float)\n",
      "C:\\Users\\USER\\AppData\\Local\\Temp\\ipykernel_101968\\4173132243.py:43: UserWarning: To copy construct from a tensor, it is recommended to use sourceTensor.clone().detach() or sourceTensor.clone().detach().requires_grad_(True), rather than torch.tensor(sourceTensor).\n",
      "  X_batch = torch.tensor(X_batch)\n",
      "C:\\Users\\USER\\AppData\\Local\\Temp\\ipykernel_101968\\4173132243.py:44: UserWarning: To copy construct from a tensor, it is recommended to use sourceTensor.clone().detach() or sourceTensor.clone().detach().requires_grad_(True), rather than torch.tensor(sourceTensor).\n",
      "  y_batch = torch.tensor(y_batch, dtype=torch.float)\n"
     ]
    },
    {
     "name": "stdout",
     "output_type": "stream",
     "text": [
      "| \u001b[39m45       \u001b[39m | \u001b[39m0.5      \u001b[39m | \u001b[39m59.91    \u001b[39m | \u001b[39m91.34    \u001b[39m | \u001b[39m0.07552  \u001b[39m | \u001b[39m5.825    \u001b[39m |\n"
     ]
    },
    {
     "name": "stderr",
     "output_type": "stream",
     "text": [
      "C:\\Users\\USER\\AppData\\Local\\Temp\\ipykernel_101968\\4173132243.py:9: UserWarning: To copy construct from a tensor, it is recommended to use sourceTensor.clone().detach() or sourceTensor.clone().detach().requires_grad_(True), rather than torch.tensor(sourceTensor).\n",
      "  X_batch = torch.tensor(X_batch)\n",
      "C:\\Users\\USER\\AppData\\Local\\Temp\\ipykernel_101968\\4173132243.py:10: UserWarning: To copy construct from a tensor, it is recommended to use sourceTensor.clone().detach() or sourceTensor.clone().detach().requires_grad_(True), rather than torch.tensor(sourceTensor).\n",
      "  y_batch = torch.tensor(y_batch, dtype=torch.float)\n",
      "C:\\Users\\USER\\AppData\\Local\\Temp\\ipykernel_101968\\4173132243.py:43: UserWarning: To copy construct from a tensor, it is recommended to use sourceTensor.clone().detach() or sourceTensor.clone().detach().requires_grad_(True), rather than torch.tensor(sourceTensor).\n",
      "  X_batch = torch.tensor(X_batch)\n",
      "C:\\Users\\USER\\AppData\\Local\\Temp\\ipykernel_101968\\4173132243.py:44: UserWarning: To copy construct from a tensor, it is recommended to use sourceTensor.clone().detach() or sourceTensor.clone().detach().requires_grad_(True), rather than torch.tensor(sourceTensor).\n",
      "  y_batch = torch.tensor(y_batch, dtype=torch.float)\n"
     ]
    },
    {
     "name": "stdout",
     "output_type": "stream",
     "text": [
      "| \u001b[39m46       \u001b[39m | \u001b[39m0.5      \u001b[39m | \u001b[39m28.21    \u001b[39m | \u001b[39m94.5     \u001b[39m | \u001b[39m0.07652  \u001b[39m | \u001b[39m6.504    \u001b[39m |\n"
     ]
    },
    {
     "name": "stderr",
     "output_type": "stream",
     "text": [
      "C:\\Users\\USER\\AppData\\Local\\Temp\\ipykernel_101968\\4173132243.py:9: UserWarning: To copy construct from a tensor, it is recommended to use sourceTensor.clone().detach() or sourceTensor.clone().detach().requires_grad_(True), rather than torch.tensor(sourceTensor).\n",
      "  X_batch = torch.tensor(X_batch)\n",
      "C:\\Users\\USER\\AppData\\Local\\Temp\\ipykernel_101968\\4173132243.py:10: UserWarning: To copy construct from a tensor, it is recommended to use sourceTensor.clone().detach() or sourceTensor.clone().detach().requires_grad_(True), rather than torch.tensor(sourceTensor).\n",
      "  y_batch = torch.tensor(y_batch, dtype=torch.float)\n",
      "C:\\Users\\USER\\AppData\\Local\\Temp\\ipykernel_101968\\4173132243.py:43: UserWarning: To copy construct from a tensor, it is recommended to use sourceTensor.clone().detach() or sourceTensor.clone().detach().requires_grad_(True), rather than torch.tensor(sourceTensor).\n",
      "  X_batch = torch.tensor(X_batch)\n",
      "C:\\Users\\USER\\AppData\\Local\\Temp\\ipykernel_101968\\4173132243.py:44: UserWarning: To copy construct from a tensor, it is recommended to use sourceTensor.clone().detach() or sourceTensor.clone().detach().requires_grad_(True), rather than torch.tensor(sourceTensor).\n",
      "  y_batch = torch.tensor(y_batch, dtype=torch.float)\n"
     ]
    },
    {
     "name": "stdout",
     "output_type": "stream",
     "text": [
      "| \u001b[39m47       \u001b[39m | \u001b[39m0.5      \u001b[39m | \u001b[39m25.66    \u001b[39m | \u001b[39m94.35    \u001b[39m | \u001b[39m0.038    \u001b[39m | \u001b[39m3.026    \u001b[39m |\n"
     ]
    },
    {
     "name": "stderr",
     "output_type": "stream",
     "text": [
      "C:\\Users\\USER\\AppData\\Local\\Temp\\ipykernel_101968\\4173132243.py:9: UserWarning: To copy construct from a tensor, it is recommended to use sourceTensor.clone().detach() or sourceTensor.clone().detach().requires_grad_(True), rather than torch.tensor(sourceTensor).\n",
      "  X_batch = torch.tensor(X_batch)\n",
      "C:\\Users\\USER\\AppData\\Local\\Temp\\ipykernel_101968\\4173132243.py:10: UserWarning: To copy construct from a tensor, it is recommended to use sourceTensor.clone().detach() or sourceTensor.clone().detach().requires_grad_(True), rather than torch.tensor(sourceTensor).\n",
      "  y_batch = torch.tensor(y_batch, dtype=torch.float)\n",
      "C:\\Users\\USER\\AppData\\Local\\Temp\\ipykernel_101968\\4173132243.py:43: UserWarning: To copy construct from a tensor, it is recommended to use sourceTensor.clone().detach() or sourceTensor.clone().detach().requires_grad_(True), rather than torch.tensor(sourceTensor).\n",
      "  X_batch = torch.tensor(X_batch)\n",
      "C:\\Users\\USER\\AppData\\Local\\Temp\\ipykernel_101968\\4173132243.py:44: UserWarning: To copy construct from a tensor, it is recommended to use sourceTensor.clone().detach() or sourceTensor.clone().detach().requires_grad_(True), rather than torch.tensor(sourceTensor).\n",
      "  y_batch = torch.tensor(y_batch, dtype=torch.float)\n"
     ]
    },
    {
     "name": "stdout",
     "output_type": "stream",
     "text": [
      "| \u001b[39m48       \u001b[39m | \u001b[39m0.5      \u001b[39m | \u001b[39m30.48    \u001b[39m | \u001b[39m68.21    \u001b[39m | \u001b[39m0.09317  \u001b[39m | \u001b[39m5.729    \u001b[39m |\n"
     ]
    },
    {
     "name": "stderr",
     "output_type": "stream",
     "text": [
      "C:\\Users\\USER\\AppData\\Local\\Temp\\ipykernel_101968\\4173132243.py:9: UserWarning: To copy construct from a tensor, it is recommended to use sourceTensor.clone().detach() or sourceTensor.clone().detach().requires_grad_(True), rather than torch.tensor(sourceTensor).\n",
      "  X_batch = torch.tensor(X_batch)\n",
      "C:\\Users\\USER\\AppData\\Local\\Temp\\ipykernel_101968\\4173132243.py:10: UserWarning: To copy construct from a tensor, it is recommended to use sourceTensor.clone().detach() or sourceTensor.clone().detach().requires_grad_(True), rather than torch.tensor(sourceTensor).\n",
      "  y_batch = torch.tensor(y_batch, dtype=torch.float)\n",
      "C:\\Users\\USER\\AppData\\Local\\Temp\\ipykernel_101968\\4173132243.py:43: UserWarning: To copy construct from a tensor, it is recommended to use sourceTensor.clone().detach() or sourceTensor.clone().detach().requires_grad_(True), rather than torch.tensor(sourceTensor).\n",
      "  X_batch = torch.tensor(X_batch)\n",
      "C:\\Users\\USER\\AppData\\Local\\Temp\\ipykernel_101968\\4173132243.py:44: UserWarning: To copy construct from a tensor, it is recommended to use sourceTensor.clone().detach() or sourceTensor.clone().detach().requires_grad_(True), rather than torch.tensor(sourceTensor).\n",
      "  y_batch = torch.tensor(y_batch, dtype=torch.float)\n"
     ]
    },
    {
     "name": "stdout",
     "output_type": "stream",
     "text": [
      "| \u001b[39m49       \u001b[39m | \u001b[39m0.5      \u001b[39m | \u001b[39m43.05    \u001b[39m | \u001b[39m13.4     \u001b[39m | \u001b[39m0.06798  \u001b[39m | \u001b[39m2.798    \u001b[39m |\n"
     ]
    },
    {
     "name": "stderr",
     "output_type": "stream",
     "text": [
      "C:\\Users\\USER\\AppData\\Local\\Temp\\ipykernel_101968\\4173132243.py:9: UserWarning: To copy construct from a tensor, it is recommended to use sourceTensor.clone().detach() or sourceTensor.clone().detach().requires_grad_(True), rather than torch.tensor(sourceTensor).\n",
      "  X_batch = torch.tensor(X_batch)\n",
      "C:\\Users\\USER\\AppData\\Local\\Temp\\ipykernel_101968\\4173132243.py:10: UserWarning: To copy construct from a tensor, it is recommended to use sourceTensor.clone().detach() or sourceTensor.clone().detach().requires_grad_(True), rather than torch.tensor(sourceTensor).\n",
      "  y_batch = torch.tensor(y_batch, dtype=torch.float)\n",
      "C:\\Users\\USER\\AppData\\Local\\Temp\\ipykernel_101968\\4173132243.py:43: UserWarning: To copy construct from a tensor, it is recommended to use sourceTensor.clone().detach() or sourceTensor.clone().detach().requires_grad_(True), rather than torch.tensor(sourceTensor).\n",
      "  X_batch = torch.tensor(X_batch)\n",
      "C:\\Users\\USER\\AppData\\Local\\Temp\\ipykernel_101968\\4173132243.py:44: UserWarning: To copy construct from a tensor, it is recommended to use sourceTensor.clone().detach() or sourceTensor.clone().detach().requires_grad_(True), rather than torch.tensor(sourceTensor).\n",
      "  y_batch = torch.tensor(y_batch, dtype=torch.float)\n"
     ]
    },
    {
     "name": "stdout",
     "output_type": "stream",
     "text": [
      "| \u001b[39m50       \u001b[39m | \u001b[39m0.5      \u001b[39m | \u001b[39m29.86    \u001b[39m | \u001b[39m42.39    \u001b[39m | \u001b[39m0.08251  \u001b[39m | \u001b[39m3.506    \u001b[39m |\n"
     ]
    },
    {
     "name": "stderr",
     "output_type": "stream",
     "text": [
      "C:\\Users\\USER\\AppData\\Local\\Temp\\ipykernel_101968\\4173132243.py:9: UserWarning: To copy construct from a tensor, it is recommended to use sourceTensor.clone().detach() or sourceTensor.clone().detach().requires_grad_(True), rather than torch.tensor(sourceTensor).\n",
      "  X_batch = torch.tensor(X_batch)\n",
      "C:\\Users\\USER\\AppData\\Local\\Temp\\ipykernel_101968\\4173132243.py:10: UserWarning: To copy construct from a tensor, it is recommended to use sourceTensor.clone().detach() or sourceTensor.clone().detach().requires_grad_(True), rather than torch.tensor(sourceTensor).\n",
      "  y_batch = torch.tensor(y_batch, dtype=torch.float)\n",
      "C:\\Users\\USER\\AppData\\Local\\Temp\\ipykernel_101968\\4173132243.py:43: UserWarning: To copy construct from a tensor, it is recommended to use sourceTensor.clone().detach() or sourceTensor.clone().detach().requires_grad_(True), rather than torch.tensor(sourceTensor).\n",
      "  X_batch = torch.tensor(X_batch)\n",
      "C:\\Users\\USER\\AppData\\Local\\Temp\\ipykernel_101968\\4173132243.py:44: UserWarning: To copy construct from a tensor, it is recommended to use sourceTensor.clone().detach() or sourceTensor.clone().detach().requires_grad_(True), rather than torch.tensor(sourceTensor).\n",
      "  y_batch = torch.tensor(y_batch, dtype=torch.float)\n"
     ]
    },
    {
     "name": "stdout",
     "output_type": "stream",
     "text": [
      "| \u001b[39m51       \u001b[39m | \u001b[39m0.5      \u001b[39m | \u001b[39m61.73    \u001b[39m | \u001b[39m68.52    \u001b[39m | \u001b[39m0.05952  \u001b[39m | \u001b[39m5.858    \u001b[39m |\n"
     ]
    },
    {
     "name": "stderr",
     "output_type": "stream",
     "text": [
      "C:\\Users\\USER\\AppData\\Local\\Temp\\ipykernel_101968\\4173132243.py:9: UserWarning: To copy construct from a tensor, it is recommended to use sourceTensor.clone().detach() or sourceTensor.clone().detach().requires_grad_(True), rather than torch.tensor(sourceTensor).\n",
      "  X_batch = torch.tensor(X_batch)\n",
      "C:\\Users\\USER\\AppData\\Local\\Temp\\ipykernel_101968\\4173132243.py:10: UserWarning: To copy construct from a tensor, it is recommended to use sourceTensor.clone().detach() or sourceTensor.clone().detach().requires_grad_(True), rather than torch.tensor(sourceTensor).\n",
      "  y_batch = torch.tensor(y_batch, dtype=torch.float)\n",
      "C:\\Users\\USER\\AppData\\Local\\Temp\\ipykernel_101968\\4173132243.py:43: UserWarning: To copy construct from a tensor, it is recommended to use sourceTensor.clone().detach() or sourceTensor.clone().detach().requires_grad_(True), rather than torch.tensor(sourceTensor).\n",
      "  X_batch = torch.tensor(X_batch)\n",
      "C:\\Users\\USER\\AppData\\Local\\Temp\\ipykernel_101968\\4173132243.py:44: UserWarning: To copy construct from a tensor, it is recommended to use sourceTensor.clone().detach() or sourceTensor.clone().detach().requires_grad_(True), rather than torch.tensor(sourceTensor).\n",
      "  y_batch = torch.tensor(y_batch, dtype=torch.float)\n"
     ]
    },
    {
     "name": "stdout",
     "output_type": "stream",
     "text": [
      "| \u001b[39m52       \u001b[39m | \u001b[39m0.4962   \u001b[39m | \u001b[39m63.43    \u001b[39m | \u001b[39m64.76    \u001b[39m | \u001b[39m0.008872 \u001b[39m | \u001b[39m1.494    \u001b[39m |\n"
     ]
    },
    {
     "name": "stderr",
     "output_type": "stream",
     "text": [
      "C:\\Users\\USER\\AppData\\Local\\Temp\\ipykernel_101968\\4173132243.py:9: UserWarning: To copy construct from a tensor, it is recommended to use sourceTensor.clone().detach() or sourceTensor.clone().detach().requires_grad_(True), rather than torch.tensor(sourceTensor).\n",
      "  X_batch = torch.tensor(X_batch)\n",
      "C:\\Users\\USER\\AppData\\Local\\Temp\\ipykernel_101968\\4173132243.py:10: UserWarning: To copy construct from a tensor, it is recommended to use sourceTensor.clone().detach() or sourceTensor.clone().detach().requires_grad_(True), rather than torch.tensor(sourceTensor).\n",
      "  y_batch = torch.tensor(y_batch, dtype=torch.float)\n",
      "C:\\Users\\USER\\AppData\\Local\\Temp\\ipykernel_101968\\4173132243.py:43: UserWarning: To copy construct from a tensor, it is recommended to use sourceTensor.clone().detach() or sourceTensor.clone().detach().requires_grad_(True), rather than torch.tensor(sourceTensor).\n",
      "  X_batch = torch.tensor(X_batch)\n",
      "C:\\Users\\USER\\AppData\\Local\\Temp\\ipykernel_101968\\4173132243.py:44: UserWarning: To copy construct from a tensor, it is recommended to use sourceTensor.clone().detach() or sourceTensor.clone().detach().requires_grad_(True), rather than torch.tensor(sourceTensor).\n",
      "  y_batch = torch.tensor(y_batch, dtype=torch.float)\n"
     ]
    },
    {
     "name": "stdout",
     "output_type": "stream",
     "text": [
      "| \u001b[39m53       \u001b[39m | \u001b[39m0.5      \u001b[39m | \u001b[39m30.29    \u001b[39m | \u001b[39m18.37    \u001b[39m | \u001b[39m0.04175  \u001b[39m | \u001b[39m6.959    \u001b[39m |\n"
     ]
    },
    {
     "name": "stderr",
     "output_type": "stream",
     "text": [
      "C:\\Users\\USER\\AppData\\Local\\Temp\\ipykernel_101968\\4173132243.py:9: UserWarning: To copy construct from a tensor, it is recommended to use sourceTensor.clone().detach() or sourceTensor.clone().detach().requires_grad_(True), rather than torch.tensor(sourceTensor).\n",
      "  X_batch = torch.tensor(X_batch)\n",
      "C:\\Users\\USER\\AppData\\Local\\Temp\\ipykernel_101968\\4173132243.py:10: UserWarning: To copy construct from a tensor, it is recommended to use sourceTensor.clone().detach() or sourceTensor.clone().detach().requires_grad_(True), rather than torch.tensor(sourceTensor).\n",
      "  y_batch = torch.tensor(y_batch, dtype=torch.float)\n",
      "C:\\Users\\USER\\AppData\\Local\\Temp\\ipykernel_101968\\4173132243.py:43: UserWarning: To copy construct from a tensor, it is recommended to use sourceTensor.clone().detach() or sourceTensor.clone().detach().requires_grad_(True), rather than torch.tensor(sourceTensor).\n",
      "  X_batch = torch.tensor(X_batch)\n",
      "C:\\Users\\USER\\AppData\\Local\\Temp\\ipykernel_101968\\4173132243.py:44: UserWarning: To copy construct from a tensor, it is recommended to use sourceTensor.clone().detach() or sourceTensor.clone().detach().requires_grad_(True), rather than torch.tensor(sourceTensor).\n",
      "  y_batch = torch.tensor(y_batch, dtype=torch.float)\n"
     ]
    },
    {
     "name": "stdout",
     "output_type": "stream",
     "text": [
      "| \u001b[39m54       \u001b[39m | \u001b[39m0.5      \u001b[39m | \u001b[39m45.66    \u001b[39m | \u001b[39m12.67    \u001b[39m | \u001b[39m0.0544   \u001b[39m | \u001b[39m5.896    \u001b[39m |\n"
     ]
    },
    {
     "name": "stderr",
     "output_type": "stream",
     "text": [
      "C:\\Users\\USER\\AppData\\Local\\Temp\\ipykernel_101968\\4173132243.py:9: UserWarning: To copy construct from a tensor, it is recommended to use sourceTensor.clone().detach() or sourceTensor.clone().detach().requires_grad_(True), rather than torch.tensor(sourceTensor).\n",
      "  X_batch = torch.tensor(X_batch)\n",
      "C:\\Users\\USER\\AppData\\Local\\Temp\\ipykernel_101968\\4173132243.py:10: UserWarning: To copy construct from a tensor, it is recommended to use sourceTensor.clone().detach() or sourceTensor.clone().detach().requires_grad_(True), rather than torch.tensor(sourceTensor).\n",
      "  y_batch = torch.tensor(y_batch, dtype=torch.float)\n",
      "C:\\Users\\USER\\AppData\\Local\\Temp\\ipykernel_101968\\4173132243.py:43: UserWarning: To copy construct from a tensor, it is recommended to use sourceTensor.clone().detach() or sourceTensor.clone().detach().requires_grad_(True), rather than torch.tensor(sourceTensor).\n",
      "  X_batch = torch.tensor(X_batch)\n",
      "C:\\Users\\USER\\AppData\\Local\\Temp\\ipykernel_101968\\4173132243.py:44: UserWarning: To copy construct from a tensor, it is recommended to use sourceTensor.clone().detach() or sourceTensor.clone().detach().requires_grad_(True), rather than torch.tensor(sourceTensor).\n",
      "  y_batch = torch.tensor(y_batch, dtype=torch.float)\n"
     ]
    },
    {
     "name": "stdout",
     "output_type": "stream",
     "text": [
      "| \u001b[39m55       \u001b[39m | \u001b[39m0.5      \u001b[39m | \u001b[39m27.43    \u001b[39m | \u001b[39m84.99    \u001b[39m | \u001b[39m0.04115  \u001b[39m | \u001b[39m3.61     \u001b[39m |\n"
     ]
    },
    {
     "name": "stderr",
     "output_type": "stream",
     "text": [
      "C:\\Users\\USER\\AppData\\Local\\Temp\\ipykernel_101968\\4173132243.py:9: UserWarning: To copy construct from a tensor, it is recommended to use sourceTensor.clone().detach() or sourceTensor.clone().detach().requires_grad_(True), rather than torch.tensor(sourceTensor).\n",
      "  X_batch = torch.tensor(X_batch)\n",
      "C:\\Users\\USER\\AppData\\Local\\Temp\\ipykernel_101968\\4173132243.py:10: UserWarning: To copy construct from a tensor, it is recommended to use sourceTensor.clone().detach() or sourceTensor.clone().detach().requires_grad_(True), rather than torch.tensor(sourceTensor).\n",
      "  y_batch = torch.tensor(y_batch, dtype=torch.float)\n",
      "C:\\Users\\USER\\AppData\\Local\\Temp\\ipykernel_101968\\4173132243.py:43: UserWarning: To copy construct from a tensor, it is recommended to use sourceTensor.clone().detach() or sourceTensor.clone().detach().requires_grad_(True), rather than torch.tensor(sourceTensor).\n",
      "  X_batch = torch.tensor(X_batch)\n",
      "C:\\Users\\USER\\AppData\\Local\\Temp\\ipykernel_101968\\4173132243.py:44: UserWarning: To copy construct from a tensor, it is recommended to use sourceTensor.clone().detach() or sourceTensor.clone().detach().requires_grad_(True), rather than torch.tensor(sourceTensor).\n",
      "  y_batch = torch.tensor(y_batch, dtype=torch.float)\n"
     ]
    },
    {
     "name": "stdout",
     "output_type": "stream",
     "text": [
      "| \u001b[39m56       \u001b[39m | \u001b[39m0.5      \u001b[39m | \u001b[39m50.99    \u001b[39m | \u001b[39m90.4     \u001b[39m | \u001b[39m0.05129  \u001b[39m | \u001b[39m3.067    \u001b[39m |\n"
     ]
    },
    {
     "name": "stderr",
     "output_type": "stream",
     "text": [
      "C:\\Users\\USER\\AppData\\Local\\Temp\\ipykernel_101968\\4173132243.py:9: UserWarning: To copy construct from a tensor, it is recommended to use sourceTensor.clone().detach() or sourceTensor.clone().detach().requires_grad_(True), rather than torch.tensor(sourceTensor).\n",
      "  X_batch = torch.tensor(X_batch)\n",
      "C:\\Users\\USER\\AppData\\Local\\Temp\\ipykernel_101968\\4173132243.py:10: UserWarning: To copy construct from a tensor, it is recommended to use sourceTensor.clone().detach() or sourceTensor.clone().detach().requires_grad_(True), rather than torch.tensor(sourceTensor).\n",
      "  y_batch = torch.tensor(y_batch, dtype=torch.float)\n",
      "C:\\Users\\USER\\AppData\\Local\\Temp\\ipykernel_101968\\4173132243.py:43: UserWarning: To copy construct from a tensor, it is recommended to use sourceTensor.clone().detach() or sourceTensor.clone().detach().requires_grad_(True), rather than torch.tensor(sourceTensor).\n",
      "  X_batch = torch.tensor(X_batch)\n",
      "C:\\Users\\USER\\AppData\\Local\\Temp\\ipykernel_101968\\4173132243.py:44: UserWarning: To copy construct from a tensor, it is recommended to use sourceTensor.clone().detach() or sourceTensor.clone().detach().requires_grad_(True), rather than torch.tensor(sourceTensor).\n",
      "  y_batch = torch.tensor(y_batch, dtype=torch.float)\n"
     ]
    },
    {
     "name": "stdout",
     "output_type": "stream",
     "text": [
      "| \u001b[39m57       \u001b[39m | \u001b[39m0.5      \u001b[39m | \u001b[39m44.15    \u001b[39m | \u001b[39m46.33    \u001b[39m | \u001b[39m0.03891  \u001b[39m | \u001b[39m1.568    \u001b[39m |\n"
     ]
    },
    {
     "name": "stderr",
     "output_type": "stream",
     "text": [
      "C:\\Users\\USER\\AppData\\Local\\Temp\\ipykernel_101968\\4173132243.py:9: UserWarning: To copy construct from a tensor, it is recommended to use sourceTensor.clone().detach() or sourceTensor.clone().detach().requires_grad_(True), rather than torch.tensor(sourceTensor).\n",
      "  X_batch = torch.tensor(X_batch)\n",
      "C:\\Users\\USER\\AppData\\Local\\Temp\\ipykernel_101968\\4173132243.py:10: UserWarning: To copy construct from a tensor, it is recommended to use sourceTensor.clone().detach() or sourceTensor.clone().detach().requires_grad_(True), rather than torch.tensor(sourceTensor).\n",
      "  y_batch = torch.tensor(y_batch, dtype=torch.float)\n",
      "C:\\Users\\USER\\AppData\\Local\\Temp\\ipykernel_101968\\4173132243.py:43: UserWarning: To copy construct from a tensor, it is recommended to use sourceTensor.clone().detach() or sourceTensor.clone().detach().requires_grad_(True), rather than torch.tensor(sourceTensor).\n",
      "  X_batch = torch.tensor(X_batch)\n",
      "C:\\Users\\USER\\AppData\\Local\\Temp\\ipykernel_101968\\4173132243.py:44: UserWarning: To copy construct from a tensor, it is recommended to use sourceTensor.clone().detach() or sourceTensor.clone().detach().requires_grad_(True), rather than torch.tensor(sourceTensor).\n",
      "  y_batch = torch.tensor(y_batch, dtype=torch.float)\n"
     ]
    },
    {
     "name": "stdout",
     "output_type": "stream",
     "text": [
      "| \u001b[39m58       \u001b[39m | \u001b[39m0.4991   \u001b[39m | \u001b[39m59.4     \u001b[39m | \u001b[39m31.25    \u001b[39m | \u001b[39m0.0541   \u001b[39m | \u001b[39m1.812    \u001b[39m |\n"
     ]
    },
    {
     "name": "stderr",
     "output_type": "stream",
     "text": [
      "C:\\Users\\USER\\AppData\\Local\\Temp\\ipykernel_101968\\4173132243.py:9: UserWarning: To copy construct from a tensor, it is recommended to use sourceTensor.clone().detach() or sourceTensor.clone().detach().requires_grad_(True), rather than torch.tensor(sourceTensor).\n",
      "  X_batch = torch.tensor(X_batch)\n",
      "C:\\Users\\USER\\AppData\\Local\\Temp\\ipykernel_101968\\4173132243.py:10: UserWarning: To copy construct from a tensor, it is recommended to use sourceTensor.clone().detach() or sourceTensor.clone().detach().requires_grad_(True), rather than torch.tensor(sourceTensor).\n",
      "  y_batch = torch.tensor(y_batch, dtype=torch.float)\n",
      "C:\\Users\\USER\\AppData\\Local\\Temp\\ipykernel_101968\\4173132243.py:43: UserWarning: To copy construct from a tensor, it is recommended to use sourceTensor.clone().detach() or sourceTensor.clone().detach().requires_grad_(True), rather than torch.tensor(sourceTensor).\n",
      "  X_batch = torch.tensor(X_batch)\n",
      "C:\\Users\\USER\\AppData\\Local\\Temp\\ipykernel_101968\\4173132243.py:44: UserWarning: To copy construct from a tensor, it is recommended to use sourceTensor.clone().detach() or sourceTensor.clone().detach().requires_grad_(True), rather than torch.tensor(sourceTensor).\n",
      "  y_batch = torch.tensor(y_batch, dtype=torch.float)\n"
     ]
    },
    {
     "name": "stdout",
     "output_type": "stream",
     "text": [
      "| \u001b[39m59       \u001b[39m | \u001b[39m0.5009   \u001b[39m | \u001b[39m21.91    \u001b[39m | \u001b[39m11.28    \u001b[39m | \u001b[39m0.08537  \u001b[39m | \u001b[39m1.988    \u001b[39m |\n"
     ]
    },
    {
     "name": "stderr",
     "output_type": "stream",
     "text": [
      "C:\\Users\\USER\\AppData\\Local\\Temp\\ipykernel_101968\\4173132243.py:9: UserWarning: To copy construct from a tensor, it is recommended to use sourceTensor.clone().detach() or sourceTensor.clone().detach().requires_grad_(True), rather than torch.tensor(sourceTensor).\n",
      "  X_batch = torch.tensor(X_batch)\n",
      "C:\\Users\\USER\\AppData\\Local\\Temp\\ipykernel_101968\\4173132243.py:10: UserWarning: To copy construct from a tensor, it is recommended to use sourceTensor.clone().detach() or sourceTensor.clone().detach().requires_grad_(True), rather than torch.tensor(sourceTensor).\n",
      "  y_batch = torch.tensor(y_batch, dtype=torch.float)\n",
      "C:\\Users\\USER\\AppData\\Local\\Temp\\ipykernel_101968\\4173132243.py:43: UserWarning: To copy construct from a tensor, it is recommended to use sourceTensor.clone().detach() or sourceTensor.clone().detach().requires_grad_(True), rather than torch.tensor(sourceTensor).\n",
      "  X_batch = torch.tensor(X_batch)\n",
      "C:\\Users\\USER\\AppData\\Local\\Temp\\ipykernel_101968\\4173132243.py:44: UserWarning: To copy construct from a tensor, it is recommended to use sourceTensor.clone().detach() or sourceTensor.clone().detach().requires_grad_(True), rather than torch.tensor(sourceTensor).\n",
      "  y_batch = torch.tensor(y_batch, dtype=torch.float)\n"
     ]
    },
    {
     "name": "stdout",
     "output_type": "stream",
     "text": [
      "| \u001b[39m60       \u001b[39m | \u001b[39m0.5      \u001b[39m | \u001b[39m47.47    \u001b[39m | \u001b[39m29.42    \u001b[39m | \u001b[39m0.02467  \u001b[39m | \u001b[39m2.23     \u001b[39m |\n",
      "=========================================================================\n"
     ]
    }
   ],
   "source": [
    "optimizer.maximize(init_points=5, n_iter=30)"
   ]
  },
  {
   "cell_type": "code",
   "execution_count": 21,
   "metadata": {},
   "outputs": [
    {
     "name": "stdout",
     "output_type": "stream",
     "text": [
      "{'target': np.float64(0.5637898686679175), 'params': {'batch_size': np.float64(53.26447499168856), 'epoch': np.float64(17.18914449561826), 'learning_rate': np.float64(0.0016018184281454636), 'num_layers': np.float64(2.1269209601583134)}}\n"
     ]
    }
   ],
   "source": [
    "print(optimizer.max)"
   ]
  },
  {
   "cell_type": "code",
   "execution_count": 23,
   "metadata": {},
   "outputs": [],
   "source": [
    "optimizer.set_bounds(new_bounds={\"learning_rate\": (0.0001, 0.01), \"epoch\": (1, 60), \"batch_size\": (5, 64), \"num_layers\": (1, 8)})"
   ]
  },
  {
   "cell_type": "code",
   "execution_count": 25,
   "metadata": {},
   "outputs": [],
   "source": [
    "from bayes_opt.logger import JSONLogger\n",
    "from bayes_opt.event import Events\n",
    "\n",
    "logger = JSONLogger(path=\"./logs.log\")\n",
    "optimizer.subscribe(Events.OPTIMIZATION_STEP, logger)"
   ]
  },
  {
   "cell_type": "code",
   "execution_count": 26,
   "metadata": {},
   "outputs": [
    {
     "name": "stdout",
     "output_type": "stream",
     "text": [
      "|   iter    |  target   | batch_... |   epoch   | learni... | num_la... |\n",
      "-------------------------------------------------------------------------\n",
      "| \u001b[39m62       \u001b[39m | \u001b[39m0.5      \u001b[39m | \u001b[39m33.12    \u001b[39m | \u001b[39m49.11    \u001b[39m | \u001b[39m0.006336 \u001b[39m | \u001b[39m7.38     \u001b[39m |\n",
      "| \u001b[39m63       \u001b[39m | \u001b[39m0.5      \u001b[39m | \u001b[39m47.49    \u001b[39m | \u001b[39m34.79    \u001b[39m | \u001b[39m0.006623 \u001b[39m | \u001b[39m7.939    \u001b[39m |\n",
      "| \u001b[39m64       \u001b[39m | \u001b[39m0.5      \u001b[39m | \u001b[39m14.38    \u001b[39m | \u001b[39m29.23    \u001b[39m | \u001b[39m0.005116 \u001b[39m | \u001b[39m1.848    \u001b[39m |\n",
      "| \u001b[39m65       \u001b[39m | \u001b[39m0.5028   \u001b[39m | \u001b[39m62.63    \u001b[39m | \u001b[39m32.79    \u001b[39m | \u001b[39m0.009846 \u001b[39m | \u001b[39m6.543    \u001b[39m |\n",
      "| \u001b[39m66       \u001b[39m | \u001b[39m0.5      \u001b[39m | \u001b[39m37.97    \u001b[39m | \u001b[39m12.79    \u001b[39m | \u001b[39m0.008052 \u001b[39m | \u001b[39m1.569    \u001b[39m |\n",
      "| \u001b[39m67       \u001b[39m | \u001b[39m0.485    \u001b[39m | \u001b[39m52.05    \u001b[39m | \u001b[39m11.81    \u001b[39m | \u001b[39m0.002247 \u001b[39m | \u001b[39m7.624    \u001b[39m |\n",
      "| \u001b[39m68       \u001b[39m | \u001b[39m0.5      \u001b[39m | \u001b[39m15.72    \u001b[39m | \u001b[39m53.75    \u001b[39m | \u001b[39m0.005095 \u001b[39m | \u001b[39m7.904    \u001b[39m |\n",
      "| \u001b[39m69       \u001b[39m | \u001b[39m0.4756   \u001b[39m | \u001b[39m45.07    \u001b[39m | \u001b[39m49.91    \u001b[39m | \u001b[39m0.003345 \u001b[39m | \u001b[39m3.658    \u001b[39m |\n",
      "| \u001b[39m70       \u001b[39m | \u001b[39m0.4841   \u001b[39m | \u001b[39m52.16    \u001b[39m | \u001b[39m17.05    \u001b[39m | \u001b[39m0.007017 \u001b[39m | \u001b[39m4.107    \u001b[39m |\n",
      "| \u001b[39m71       \u001b[39m | \u001b[39m0.5      \u001b[39m | \u001b[39m28.8     \u001b[39m | \u001b[39m59.24    \u001b[39m | \u001b[39m0.006845 \u001b[39m | \u001b[39m7.359    \u001b[39m |\n",
      "=========================================================================\n"
     ]
    }
   ],
   "source": [
    "optimizer.maximize(\n",
    "    init_points=0,\n",
    "    n_iter=10,\n",
    ")"
   ]
  },
  {
   "cell_type": "code",
   "execution_count": 27,
   "metadata": {},
   "outputs": [
    {
     "name": "stdout",
     "output_type": "stream",
     "text": [
      "|   iter    |  target   | batch_... |   epoch   | learni... | num_la... |\n",
      "-------------------------------------------------------------------------\n",
      "| \u001b[39m72       \u001b[39m | \u001b[39m0.5272   \u001b[39m | \u001b[39m42.96    \u001b[39m | \u001b[39m37.04    \u001b[39m | \u001b[39m0.008657 \u001b[39m | \u001b[39m2.45     \u001b[39m |\n",
      "| \u001b[39m73       \u001b[39m | \u001b[39m0.5047   \u001b[39m | \u001b[39m36.86    \u001b[39m | \u001b[39m19.95    \u001b[39m | \u001b[39m0.008388 \u001b[39m | \u001b[39m7.927    \u001b[39m |\n",
      "| \u001b[39m74       \u001b[39m | \u001b[39m0.4934   \u001b[39m | \u001b[39m52.18    \u001b[39m | \u001b[39m23.63    \u001b[39m | \u001b[39m0.007858 \u001b[39m | \u001b[39m5.999    \u001b[39m |\n",
      "| \u001b[39m75       \u001b[39m | \u001b[39m0.5      \u001b[39m | \u001b[39m63.94    \u001b[39m | \u001b[39m35.5     \u001b[39m | \u001b[39m0.004804 \u001b[39m | \u001b[39m7.199    \u001b[39m |\n",
      "| \u001b[39m76       \u001b[39m | \u001b[39m0.5516   \u001b[39m | \u001b[39m63.59    \u001b[39m | \u001b[39m16.72    \u001b[39m | \u001b[39m0.0005364\u001b[39m | \u001b[39m4.827    \u001b[39m |\n",
      "| \u001b[39m77       \u001b[39m | \u001b[39m0.5      \u001b[39m | \u001b[39m38.62    \u001b[39m | \u001b[39m3.055    \u001b[39m | \u001b[39m0.008401 \u001b[39m | \u001b[39m4.782    \u001b[39m |\n",
      "| \u001b[39m78       \u001b[39m | \u001b[39m0.5      \u001b[39m | \u001b[39m12.55    \u001b[39m | \u001b[39m9.951    \u001b[39m | \u001b[39m0.006469 \u001b[39m | \u001b[39m2.334    \u001b[39m |\n",
      "| \u001b[39m79       \u001b[39m | \u001b[39m0.5      \u001b[39m | \u001b[39m61.25    \u001b[39m | \u001b[39m46.2     \u001b[39m | \u001b[39m0.009997 \u001b[39m | \u001b[39m3.355    \u001b[39m |\n",
      "| \u001b[39m80       \u001b[39m | \u001b[39m0.5066   \u001b[39m | \u001b[39m7.714    \u001b[39m | \u001b[39m15.33    \u001b[39m | \u001b[39m0.003516 \u001b[39m | \u001b[39m1.604    \u001b[39m |\n",
      "| \u001b[39m81       \u001b[39m | \u001b[39m0.4878   \u001b[39m | \u001b[39m16.89    \u001b[39m | \u001b[39m14.01    \u001b[39m | \u001b[39m0.008163 \u001b[39m | \u001b[39m6.2      \u001b[39m |\n",
      "| \u001b[39m82       \u001b[39m | \u001b[39m0.4981   \u001b[39m | \u001b[39m36.11    \u001b[39m | \u001b[39m48.68    \u001b[39m | \u001b[39m0.007921 \u001b[39m | \u001b[39m5.503    \u001b[39m |\n",
      "| \u001b[39m83       \u001b[39m | \u001b[39m0.5      \u001b[39m | \u001b[39m58.9     \u001b[39m | \u001b[39m43.39    \u001b[39m | \u001b[39m0.005368 \u001b[39m | \u001b[39m4.232    \u001b[39m |\n",
      "| \u001b[39m84       \u001b[39m | \u001b[39m0.5      \u001b[39m | \u001b[39m9.08     \u001b[39m | \u001b[39m58.55    \u001b[39m | \u001b[39m0.00938  \u001b[39m | \u001b[39m2.945    \u001b[39m |\n",
      "| \u001b[39m85       \u001b[39m | \u001b[39m0.5      \u001b[39m | \u001b[39m55.78    \u001b[39m | \u001b[39m19.41    \u001b[39m | \u001b[39m0.006811 \u001b[39m | \u001b[39m7.255    \u001b[39m |\n",
      "| \u001b[39m86       \u001b[39m | \u001b[39m0.5      \u001b[39m | \u001b[39m16.94    \u001b[39m | \u001b[39m48.3     \u001b[39m | \u001b[39m0.004414 \u001b[39m | \u001b[39m3.21     \u001b[39m |\n",
      "| \u001b[39m87       \u001b[39m | \u001b[39m0.4859   \u001b[39m | \u001b[39m40.64    \u001b[39m | \u001b[39m41.71    \u001b[39m | \u001b[39m0.006557 \u001b[39m | \u001b[39m3.906    \u001b[39m |\n",
      "| \u001b[39m88       \u001b[39m | \u001b[39m0.5      \u001b[39m | \u001b[39m16.09    \u001b[39m | \u001b[39m6.764    \u001b[39m | \u001b[39m0.005817 \u001b[39m | \u001b[39m7.31     \u001b[39m |\n",
      "| \u001b[39m89       \u001b[39m | \u001b[39m0.5197   \u001b[39m | \u001b[39m21.26    \u001b[39m | \u001b[39m24.18    \u001b[39m | \u001b[39m0.005725 \u001b[39m | \u001b[39m1.837    \u001b[39m |\n",
      "| \u001b[39m90       \u001b[39m | \u001b[39m0.5094   \u001b[39m | \u001b[39m24.79    \u001b[39m | \u001b[39m23.38    \u001b[39m | \u001b[39m0.002118 \u001b[39m | \u001b[39m5.262    \u001b[39m |\n",
      "| \u001b[39m91       \u001b[39m | \u001b[39m0.5075   \u001b[39m | \u001b[39m50.0     \u001b[39m | \u001b[39m39.84    \u001b[39m | \u001b[39m0.00306  \u001b[39m | \u001b[39m5.804    \u001b[39m |\n",
      "=========================================================================\n"
     ]
    }
   ],
   "source": [
    "optimizer.maximize(\n",
    "    init_points=0,\n",
    "    n_iter=20,\n",
    ")"
   ]
  },
  {
   "cell_type": "code",
   "execution_count": 28,
   "metadata": {},
   "outputs": [
    {
     "name": "stdout",
     "output_type": "stream",
     "text": [
      "{'target': np.float64(0.5637898686679175), 'params': {'batch_size': np.float64(53.26447499168856), 'epoch': np.float64(17.18914449561826), 'learning_rate': np.float64(0.0016018184281454636), 'num_layers': np.float64(2.1269209601583134)}}\n"
     ]
    }
   ],
   "source": [
    "print(optimizer.max)"
   ]
  },
  {
   "cell_type": "markdown",
   "metadata": {},
   "source": [
    "RNN with dropout"
   ]
  },
  {
   "cell_type": "code",
   "execution_count": null,
   "metadata": {},
   "outputs": [],
   "source": [
    "# using nn.Embeddings \n",
    "import torch\n",
    "import torch.nn as nn\n",
    "\n",
    "class VanillaRNNWithDropout(nn.Module):\n",
    "    def __init__(self, input_size, hidden_size, num_layers, num_classes, embedding_matrix_torch=torch.tensor(embedding_matrix_np, dtype=torch.float)):\n",
    "        super(VanillaRNNWithDropout, self).__init__()\n",
    "        # Embedding layer\n",
    "        self.embedding = nn.Embedding.from_pretrained(embedding_matrix_torch, freeze=True, padding_idx=0)\n",
    "        self.num_layers = num_layers \n",
    "        self.hidden_size = hidden_size \n",
    "        self.rnn = nn.RNN(input_size, hidden_size, num_layers, batch_first=True) # this is the num rows of the input matrix \n",
    "        self.fc = nn.Linear(hidden_size, num_classes)\n",
    "        self.sigmoid = nn.Sigmoid()\n",
    "        self.dropout = nn.Dropout(0.3)\n",
    " \n",
    "    def forward(self, x):\n",
    "        # Pass input through embedding layer\n",
    "        x = self.embedding(x)\n",
    "        h0 = torch.zeros(self.num_layers, x.size(0), self.hidden_size, dtype=torch.float).to(x.device)\n",
    "        # Pass the embeddings through the RNN layer\n",
    "        out, _ = self.rnn(x, h0)\n",
    "        # Only take the last output for each sequence\n",
    "        out = out[:, -1, :]\n",
    "        # Dropout\n",
    "        out = self.dropout(out)\n",
    "        # Pass through the fully connected layer\n",
    "        out = self.fc(out)\n",
    "        # Apply sigmoid activation (for binary classification)\n",
    "        out = self.sigmoid(out)\n",
    "        \n",
    "        return out\n",
    "\n",
    "criterion = nn.BCELoss()\n"
   ]
  },
  {
   "cell_type": "code",
   "execution_count": null,
   "metadata": {},
   "outputs": [],
   "source": [
    "def black_box(learning_rate, epoch, batch_size, num_layers): # A list of hyperparameters to optimize\n",
    "    validation_acc = [] \n",
    "    train_acc = []\n",
    "    train_correct, validate_correct = 0, 0\n",
    "\n",
    "    epoch = int(epoch)\n",
    "    batch_size = int(batch_size)\n",
    "    num_layers = int(num_layers)\n",
    "\n",
    "    criterion = nn.BCELoss()\n",
    "\n",
    "    RNN_embeddings_model = VanillaRNNWithDropout(input_size=EMBEDDING_DIM, hidden_size=HIDDEN_SIZE, num_layers=num_layers, num_classes=1)\n",
    "    optim = torch.optim.Adam(RNN_embeddings_model.parameters(), lr=learning_rate)\n",
    "\n",
    "    train_dataset_ed2 = EmbeddingsDataset2(train_dataset['text'], train_dataset['label'])\n",
    "    validation_dataset_ed2 = EmbeddingsDataset2(validation_dataset['text'], validation_dataset['label'])\n",
    "    # test_dataset_ed2 = EmbeddingsDataset(test_dataset['text'], test_dataset['label'])\n",
    "\n",
    "    train_dataloader2 = DataLoader(train_dataset_ed2, batch_size=batch_size, shuffle=True)\n",
    "    validation_dataloader2 = DataLoader(validation_dataset_ed2, batch_size=batch_size, shuffle=True)\n",
    "    for _ in range(epoch):\n",
    "        train_loss, train_correct = train_loop(train_dataloader2, RNN_embeddings_model, criterion, optim) \n",
    "        validate_loss, validate_correct = test_loop(validation_dataloader2, RNN_embeddings_model, criterion)\n",
    "        #validation_acc.append(validate_correct)\n",
    "        #train_acc.append(train_correct)\n",
    "    return validate_correct"
   ]
  },
  {
   "cell_type": "code",
   "execution_count": null,
   "metadata": {},
   "outputs": [],
   "source": [
    "from bayes_opt import BayesianOptimization\n",
    "optimizer = BayesianOptimization(\n",
    "    f=black_box,\n",
    "    pbounds={\"learning_rate\": (0.0001, 0.01), \"epoch\": (1, 60), \"batch_size\": (5, 64), \"num_layers\": (1, 8)},\n",
    "    random_state=1,\n",
    "    verbose=2\n",
    ")\n",
    "from bayes_opt.logger import JSONLogger\n",
    "from bayes_opt.event import Events\n",
    "\n",
    "logger = JSONLogger(path=\"./logs_dropout.log\")\n",
    "optimizer.subscribe(Events.OPTIMIZATION_STEP, logger)"
   ]
  },
  {
   "cell_type": "code",
   "execution_count": 49,
   "metadata": {},
   "outputs": [],
   "source": [
    "optimizer.probe(\n",
    "    params={\"learning_rate\": 0.0016, \"epoch\": 17, \"batch_size\": 53, \"num_layers\": 2},\n",
    "    lazy = True\n",
    ")"
   ]
  },
  {
   "cell_type": "code",
   "execution_count": 50,
   "metadata": {},
   "outputs": [
    {
     "name": "stdout",
     "output_type": "stream",
     "text": [
      "test 0.5694183864915572\n",
      "test 0.5450281425891182\n",
      "test 0.5112570356472795\n",
      "test 0.5769230769230769\n",
      "test 0.5\n",
      "test 0.5\n",
      "test 0.5891181988742964\n",
      "test 0.5150093808630394\n",
      "test 0.5\n",
      "test 0.4896810506566604\n",
      "test 0.5234521575984991\n",
      "test 0.549718574108818\n",
      "test 0.5478424015009381\n",
      "test 0.5\n",
      "test 0.5046904315196998\n",
      "test 0.5\n",
      "test 0.49343339587242024\n",
      "test 0.5422138836772983\n",
      "test 0.5075046904315197\n",
      "test 0.5\n",
      "test 0.5\n",
      "test 0.5787992495309568\n",
      "test 0.5647279549718575\n",
      "test 0.5140712945590994\n",
      "test 0.5\n",
      "test 0.5\n",
      "test 0.49343339587242024\n",
      "test 0.5\n",
      "test 0.5797373358348968\n",
      "test 0.5\n",
      "test 0.4906191369606004\n",
      "test 0.5\n",
      "test 0.5103189493433395\n",
      "test 0.5121951219512195\n",
      "test 0.5\n",
      "test 0.5\n",
      "test 0.5553470919324578\n",
      "test 0.5\n",
      "test 0.50093808630394\n",
      "test 0.5\n",
      "test 0.5037523452157598\n",
      "test 0.50093808630394\n",
      "test 0.5\n",
      "test 0.5234521575984991\n",
      "test 0.5478424015009381\n",
      "test 0.5\n",
      "test 0.5\n",
      "test 0.49906191369606\n",
      "test 0.50187617260788\n",
      "test 0.5309568480300187\n",
      "test 0.49624765478424016\n",
      "test 0.5093808630393997\n",
      "test 0.5562851782363978\n",
      "test 0.5684803001876173\n",
      "test 0.5084427767354597\n",
      "test 0.5\n",
      "test 0.5\n",
      "test 0.5\n",
      "test 0.525328330206379\n",
      "test 0.5\n",
      "test 0.50093808630394\n",
      "test 0.5131332082551595\n",
      "test 0.5\n"
     ]
    }
   ],
   "source": [
    "optimizer.maximize(init_points=2, n_iter=60)"
   ]
  },
  {
   "cell_type": "code",
   "execution_count": 51,
   "metadata": {},
   "outputs": [
    {
     "data": {
      "text/plain": [
       "{'target': np.float64(0.5891181988742964),\n",
       " 'params': {'batch_size': np.float64(55.01782564205619),\n",
       "  'epoch': np.float64(17.216924152295988),\n",
       "  'learning_rate': np.float64(0.0029747238556237883),\n",
       "  'num_layers': np.float64(1.5953275626132635)}}"
      ]
     },
     "execution_count": 51,
     "metadata": {},
     "output_type": "execute_result"
    }
   ],
   "source": [
    "optimizer.max"
   ]
  },
  {
   "cell_type": "code",
   "execution_count": 52,
   "metadata": {},
   "outputs": [
    {
     "name": "stdout",
     "output_type": "stream",
     "text": [
      "Iteration 0: \n",
      "\t{'target': np.float64(0.5694183864915572), 'params': {'batch_size': np.float64(53.0), 'epoch': np.float64(17.0), 'learning_rate': np.float64(0.0016), 'num_layers': np.float64(2.0)}}\n",
      "Iteration 1: \n",
      "\t{'target': np.float64(0.5450281425891182), 'params': {'batch_size': np.float64(29.604298277451868), 'epoch': np.float64(43.49914511308733), 'learning_rate': np.float64(0.00010113231069171439), 'num_layers': np.float64(3.1163280084228786)}}\n",
      "Iteration 2: \n",
      "\t{'target': np.float64(0.5112570356472795), 'params': {'batch_size': np.float64(13.658597558209669), 'epoch': np.float64(6.44797709135907), 'learning_rate': np.float64(0.0019439760926389421), 'num_layers': np.float64(3.418925089301334)}}\n",
      "Iteration 3: \n",
      "\t{'target': np.float64(0.5769230769230769), 'params': {'batch_size': np.float64(53.865065176555866), 'epoch': np.float64(16.021065076802277), 'learning_rate': np.float64(0.0022729686141519097), 'num_layers': np.float64(2.322985558014845)}}\n",
      "Iteration 4: \n",
      "\t{'target': np.float64(0.5), 'params': {'batch_size': np.float64(59.38304080761811), 'epoch': np.float64(11.021215297921465), 'learning_rate': np.float64(0.009251637590092995), 'num_layers': np.float64(3.724442788339891)}}\n",
      "Iteration 5: \n",
      "\t{'target': np.float64(0.5), 'params': {'batch_size': np.float64(51.159192195311036), 'epoch': np.float64(13.528971753093774), 'learning_rate': np.float64(0.0022502328188345705), 'num_layers': np.float64(4.1368048842024665)}}\n",
      "Iteration 6: \n",
      "\t{'target': np.float64(0.5891181988742964), 'params': {'batch_size': np.float64(55.01782564205619), 'epoch': np.float64(17.216924152295988), 'learning_rate': np.float64(0.0029747238556237883), 'num_layers': np.float64(1.5953275626132635)}}\n",
      "Iteration 7: \n",
      "\t{'target': np.float64(0.5150093808630394), 'params': {'batch_size': np.float64(57.28100498593709), 'epoch': np.float64(19.08778956020952), 'learning_rate': np.float64(0.001713709600651785), 'num_layers': np.float64(4.121717495939463)}}\n",
      "Iteration 8: \n",
      "\t{'target': np.float64(0.5), 'params': {'batch_size': np.float64(56.32119319254185), 'epoch': np.float64(15.001044241283436), 'learning_rate': np.float64(0.005945720922266015), 'num_layers': np.float64(1.5976202858359598)}}\n",
      "Iteration 9: \n",
      "\t{'target': np.float64(0.4896810506566604), 'params': {'batch_size': np.float64(54.510736199928104), 'epoch': np.float64(17.263383732939324), 'learning_rate': np.float64(0.005326955872387043), 'num_layers': np.float64(2.821076942181391)}}\n",
      "Iteration 10: \n",
      "\t{'target': np.float64(0.5234521575984991), 'params': {'batch_size': np.float64(29.502342180516173), 'epoch': np.float64(43.093126104911626), 'learning_rate': np.float64(0.008963139268345402), 'num_layers': np.float64(3.622966064341308)}}\n",
      "Iteration 11: \n",
      "\t{'target': np.float64(0.549718574108818), 'params': {'batch_size': np.float64(53.83447218320983), 'epoch': np.float64(15.901444627141036), 'learning_rate': np.float64(0.0015358829494509507), 'num_layers': np.float64(2.37792621547061)}}\n",
      "Iteration 12: \n",
      "\t{'target': np.float64(0.5478424015009381), 'params': {'batch_size': np.float64(28.43388731841654), 'epoch': np.float64(12.456495888732382), 'learning_rate': np.float64(0.0006232741719578822), 'num_layers': np.float64(3.4146642182805804)}}\n",
      "Iteration 13: \n",
      "\t{'target': np.float64(0.5), 'params': {'batch_size': np.float64(5.55835547735852), 'epoch': np.float64(33.46204977400653), 'learning_rate': np.float64(0.001703683935436564), 'num_layers': np.float64(4.344594394207118)}}\n",
      "Iteration 14: \n",
      "\t{'target': np.float64(0.5046904315196998), 'params': {'batch_size': np.float64(24.608807250518403), 'epoch': np.float64(29.602757884304054), 'learning_rate': np.float64(0.0042265804560144594), 'num_layers': np.float64(6.74581195410718)}}\n",
      "Iteration 15: \n",
      "\t{'target': np.float64(0.5), 'params': {'batch_size': np.float64(18.809367377863072), 'epoch': np.float64(27.373109485044917), 'learning_rate': np.float64(0.0055460861591496245), 'num_layers': np.float64(7.644278811982074)}}\n",
      "Iteration 16: \n",
      "\t{'target': np.float64(0.49343339587242024), 'params': {'batch_size': np.float64(11.954392727801258), 'epoch': np.float64(33.481334650824024), 'learning_rate': np.float64(0.00496550489054661), 'num_layers': np.float64(2.0217239258016764)}}\n",
      "Iteration 17: \n",
      "\t{'target': np.float64(0.5422138836772983), 'params': {'batch_size': np.float64(54.050127077011894), 'epoch': np.float64(15.798545167862265), 'learning_rate': np.float64(0.0029554625567605837), 'num_layers': np.float64(2.670898832879527)}}\n",
      "Iteration 18: \n",
      "\t{'target': np.float64(0.5075046904315197), 'params': {'batch_size': np.float64(54.257069824709085), 'epoch': np.float64(15.542376909027555), 'learning_rate': np.float64(0.005851382019516044), 'num_layers': np.float64(2.563383024867282)}}\n",
      "Iteration 19: \n",
      "\t{'target': np.float64(0.5), 'params': {'batch_size': np.float64(15.666522660985207), 'epoch': np.float64(17.034506375180204), 'learning_rate': np.float64(0.008055052114754305), 'num_layers': np.float64(5.536269805153662)}}\n",
      "Iteration 20: \n",
      "\t{'target': np.float64(0.5), 'params': {'batch_size': np.float64(29.775444252135625), 'epoch': np.float64(43.6838659420433), 'learning_rate': np.float64(0.008901938788850941), 'num_layers': np.float64(2.996788711429435)}}\n",
      "Iteration 21: \n",
      "\t{'target': np.float64(0.5787992495309568), 'params': {'batch_size': np.float64(55.36505505119515), 'epoch': np.float64(16.98101242301825), 'learning_rate': np.float64(0.0016262741167851558), 'num_layers': np.float64(1.804861594835442)}}\n",
      "Iteration 22: \n",
      "\t{'target': np.float64(0.5647279549718575), 'params': {'batch_size': np.float64(53.26447499168856), 'epoch': np.float64(10.648076012540177), 'learning_rate': np.float64(0.00024882885323964055), 'num_layers': np.float64(2.1269209601583134)}}\n",
      "Iteration 23: \n",
      "\t{'target': np.float64(0.5140712945590994), 'params': {'batch_size': np.float64(63.174571676827135), 'epoch': np.float64(42.79133075399859), 'learning_rate': np.float64(0.00586687940135942), 'num_layers': np.float64(6.222870959423908)}}\n",
      "Iteration 24: \n",
      "\t{'target': np.float64(0.5), 'params': {'batch_size': np.float64(58.04094296656058), 'epoch': np.float64(27.680947479642406), 'learning_rate': np.float64(0.00405222716050925), 'num_layers': np.float64(3.1806974647086266)}}\n",
      "Iteration 25: \n",
      "\t{'target': np.float64(0.5), 'params': {'batch_size': np.float64(52.687802910120546), 'epoch': np.float64(16.82894860919011), 'learning_rate': np.float64(0.006493464666399643), 'num_layers': np.float64(1.7151762058313609)}}\n",
      "Iteration 26: \n",
      "\t{'target': np.float64(0.49343339587242024), 'params': {'batch_size': np.float64(53.473687486713146), 'epoch': np.float64(10.573351467453982), 'learning_rate': np.float64(0.004406503906259965), 'num_layers': np.float64(1.6560494574152687)}}\n",
      "Iteration 27: \n",
      "\t{'target': np.float64(0.5), 'params': {'batch_size': np.float64(28.354787951366834), 'epoch': np.float64(12.238173609544518), 'learning_rate': np.float64(0.009976129504029332), 'num_layers': np.float64(3.1194151747727297)}}\n",
      "Iteration 28: \n",
      "\t{'target': np.float64(0.5797373358348968), 'params': {'batch_size': np.float64(54.41475333779778), 'epoch': np.float64(15.922196251708971), 'learning_rate': np.float64(0.001300766114221012), 'num_layers': np.float64(1.7708123185491411)}}\n",
      "Iteration 29: \n",
      "\t{'target': np.float64(0.5), 'params': {'batch_size': np.float64(36.81660706756672), 'epoch': np.float64(24.132291614175806), 'learning_rate': np.float64(0.009378754148032577), 'num_layers': np.float64(3.951567491290912)}}\n",
      "Iteration 30: \n",
      "\t{'target': np.float64(0.4906191369606004), 'params': {'batch_size': np.float64(33.82144270224923), 'epoch': np.float64(4.78749560266928), 'learning_rate': np.float64(0.003363403665417363), 'num_layers': np.float64(5.481265768453364)}}\n",
      "Iteration 31: \n",
      "\t{'target': np.float64(0.5), 'params': {'batch_size': np.float64(54.76259306542409), 'epoch': np.float64(16.88570178606179), 'learning_rate': np.float64(0.005463800135524024), 'num_layers': np.float64(1.827638051916722)}}\n",
      "Iteration 32: \n",
      "\t{'target': np.float64(0.5103189493433395), 'params': {'batch_size': np.float64(43.648735783025685), 'epoch': np.float64(13.847291190546368), 'learning_rate': np.float64(0.007056286014839863), 'num_layers': np.float64(7.348983765907969)}}\n",
      "Iteration 33: \n",
      "\t{'target': np.float64(0.5121951219512195), 'params': {'batch_size': np.float64(28.072618386422423), 'epoch': np.float64(12.537719219240062), 'learning_rate': np.float64(0.003154695163584881), 'num_layers': np.float64(3.5284063988922343)}}\n",
      "Iteration 34: \n",
      "\t{'target': np.float64(0.5), 'params': {'batch_size': np.float64(54.518164535482406), 'epoch': np.float64(15.961678596424214), 'learning_rate': np.float64(0.00967284600389975), 'num_layers': np.float64(2.070589271859449)}}\n",
      "Iteration 35: \n",
      "\t{'target': np.float64(0.5), 'params': {'batch_size': np.float64(26.220203476672843), 'epoch': np.float64(30.909631260171434), 'learning_rate': np.float64(0.007275879010741873), 'num_layers': np.float64(4.64651488454857)}}\n",
      "Iteration 36: \n",
      "\t{'target': np.float64(0.5553470919324578), 'params': {'batch_size': np.float64(29.491243836284966), 'epoch': np.float64(43.43227124967311), 'learning_rate': np.float64(0.0018174177669482985), 'num_layers': np.float64(2.7400468134273086)}}\n",
      "Iteration 37: \n",
      "\t{'target': np.float64(0.5), 'params': {'batch_size': np.float64(59.91142868020695), 'epoch': np.float64(54.836934245553984), 'learning_rate': np.float64(0.007573933074583711), 'num_layers': np.float64(5.825441639687478)}}\n",
      "Iteration 38: \n",
      "\t{'target': np.float64(0.50093808630394), 'params': {'batch_size': np.float64(28.207727522495325), 'epoch': np.float64(56.72344481903019), 'learning_rate': np.float64(0.007672900022050824), 'num_layers': np.float64(6.503638567666743)}}\n",
      "Iteration 39: \n",
      "\t{'target': np.float64(0.5), 'params': {'batch_size': np.float64(25.658993128262654), 'epoch': np.float64(56.63219204044854), 'learning_rate': np.float64(0.003855537910819301), 'num_layers': np.float64(3.025724920277924)}}\n",
      "Iteration 40: \n",
      "\t{'target': np.float64(0.5037523452157598), 'params': {'batch_size': np.float64(28.752754588834378), 'epoch': np.float64(12.254120056855655), 'learning_rate': np.float64(0.002521905577946622), 'num_layers': np.float64(3.534198961935899)}}\n",
      "Iteration 41: \n",
      "\t{'target': np.float64(0.50093808630394), 'params': {'batch_size': np.float64(29.716373142471813), 'epoch': np.float64(43.455720836597074), 'learning_rate': np.float64(0.008459821982152102), 'num_layers': np.float64(3.2197069275670462)}}\n",
      "Iteration 42: \n",
      "\t{'target': np.float64(0.5), 'params': {'batch_size': np.float64(29.863303632405174), 'epoch': np.float64(25.66525650383247), 'learning_rate': np.float64(0.00826683239834308), 'num_layers': np.float64(3.5056895212573127)}}\n",
      "Iteration 43: \n",
      "\t{'target': np.float64(0.5234521575984991), 'params': {'batch_size': np.float64(53.93305241019763), 'epoch': np.float64(15.840013416439685), 'learning_rate': np.float64(0.003129862484795453), 'num_layers': np.float64(2.314090646899075)}}\n",
      "Iteration 44: \n",
      "\t{'target': np.float64(0.5478424015009381), 'params': {'batch_size': np.float64(63.428690592207765), 'epoch': np.float64(38.998345839653915), 'learning_rate': np.float64(0.0009693208403092987), 'num_layers': np.float64(1.4943316324673876)}}\n",
      "Iteration 45: \n",
      "\t{'target': np.float64(0.5), 'params': {'batch_size': np.float64(53.98552905654276), 'epoch': np.float64(16.146887130086398), 'learning_rate': np.float64(0.0075797606791300496), 'num_layers': np.float64(2.778510061203441)}}\n",
      "Iteration 46: \n",
      "\t{'target': np.float64(0.5), 'params': {'batch_size': np.float64(54.55050103942847), 'epoch': np.float64(15.691746747115712), 'learning_rate': np.float64(0.008347934771067534), 'num_layers': np.float64(1.70456344881278)}}\n",
      "Iteration 47: \n",
      "\t{'target': np.float64(0.49906191369606), 'params': {'batch_size': np.float64(27.429607948826593), 'epoch': np.float64(51.05535410766693), 'learning_rate': np.float64(0.004168285921199728), 'num_layers': np.float64(3.6098658130378727)}}\n",
      "Iteration 48: \n",
      "\t{'target': np.float64(0.50187617260788), 'params': {'batch_size': np.float64(29.28172672807823), 'epoch': np.float64(43.37118910522206), 'learning_rate': np.float64(0.00469213871957369), 'num_layers': np.float64(2.750705126300632)}}\n",
      "Iteration 49: \n",
      "\t{'target': np.float64(0.5309568480300187), 'params': {'batch_size': np.float64(29.67436599897116), 'epoch': np.float64(43.686757492290724), 'learning_rate': np.float64(0.0021300546288068227), 'num_layers': np.float64(2.5312599045587723)}}\n",
      "Iteration 50: \n",
      "\t{'target': np.float64(0.49624765478424016), 'params': {'batch_size': np.float64(63.321528970446785), 'epoch': np.float64(38.62071551483721), 'learning_rate': np.float64(0.007284755559346624), 'num_layers': np.float64(1.7630634822978415)}}\n",
      "Iteration 51: \n",
      "\t{'target': np.float64(0.5093808630393997), 'params': {'batch_size': np.float64(21.907355421248123), 'epoch': np.float64(7.128159552934867), 'learning_rate': np.float64(0.008550307427662612), 'num_layers': np.float64(1.9880678285051365)}}\n",
      "Iteration 52: \n",
      "\t{'target': np.float64(0.5562851782363978), 'params': {'batch_size': np.float64(47.46838147616159), 'epoch': np.float64(17.935208185059892), 'learning_rate': np.float64(0.002535354205965862), 'num_layers': np.float64(2.23000343280743)}}\n",
      "Iteration 53: \n",
      "\t{'target': np.float64(0.5684803001876173), 'params': {'batch_size': np.float64(60.41216426930936), 'epoch': np.float64(58.34160437124727), 'learning_rate': np.float64(0.002556975315957607), 'num_layers': np.float64(1.9692042502554803)}}\n",
      "Iteration 54: \n",
      "\t{'target': np.float64(0.5084427767354597), 'params': {'batch_size': np.float64(29.300156583860684), 'epoch': np.float64(43.27087178116993), 'learning_rate': np.float64(0.002870632448446767), 'num_layers': np.float64(3.109370046794006)}}\n",
      "Iteration 55: \n",
      "\t{'target': np.float64(0.5), 'params': {'batch_size': np.float64(33.12206266648725), 'epoch': np.float64(49.1116070056182), 'learning_rate': np.float64(0.00633582643485553), 'num_layers': np.float64(7.379959151655335)}}\n",
      "Iteration 56: \n",
      "\t{'target': np.float64(0.5), 'params': {'batch_size': np.float64(53.756925703625626), 'epoch': np.float64(15.825142997568493), 'learning_rate': np.float64(0.007003038655803392), 'num_layers': np.float64(2.7818105062339558)}}\n",
      "Iteration 57: \n",
      "\t{'target': np.float64(0.5), 'params': {'batch_size': np.float64(14.382118786113574), 'epoch': np.float64(29.22775059065728), 'learning_rate': np.float64(0.005116244937372004), 'num_layers': np.float64(1.8479687778061822)}}\n",
      "Iteration 58: \n",
      "\t{'target': np.float64(0.525328330206379), 'params': {'batch_size': np.float64(55.37740759401987), 'epoch': np.float64(16.730190982225754), 'learning_rate': np.float64(0.008371839155655349), 'num_layers': np.float64(1.57420015448823)}}\n",
      "Iteration 59: \n",
      "\t{'target': np.float64(0.5), 'params': {'batch_size': np.float64(53.30329377570177), 'epoch': np.float64(10.98043528184546), 'learning_rate': np.float64(0.006616610552740382), 'num_layers': np.float64(2.6451270815821477)}}\n",
      "Iteration 60: \n",
      "\t{'target': np.float64(0.50093808630394), 'params': {'batch_size': np.float64(60.47117521308193), 'epoch': np.float64(58.517296365420655), 'learning_rate': np.float64(0.0068766716813766495), 'num_layers': np.float64(2.2944149233516735)}}\n",
      "Iteration 61: \n",
      "\t{'target': np.float64(0.5131332082551595), 'params': {'batch_size': np.float64(55.39305694538), 'epoch': np.float64(16.92486020366672), 'learning_rate': np.float64(0.008903260325981438), 'num_layers': np.float64(1.6667159507617118)}}\n",
      "Iteration 62: \n",
      "\t{'target': np.float64(0.5), 'params': {'batch_size': np.float64(45.070464489581916), 'epoch': np.float64(49.907524483573525), 'learning_rate': np.float64(0.003344593947284045), 'num_layers': np.float64(3.6577114541604296)}}\n"
     ]
    }
   ],
   "source": [
    "for i, res in enumerate(optimizer.res):\n",
    "    print(\"Iteration {}: \\n\\t{}\".format(i, res))"
   ]
  },
  {
   "cell_type": "markdown",
   "metadata": {},
   "source": [
    "RNN with dropout & more token"
   ]
  },
  {
   "cell_type": "code",
   "execution_count": null,
   "metadata": {},
   "outputs": [],
   "source": [
    "def black_box_with_token(learning_rate, epoch, batch_size, num_layers, num_tokens): # A list of hyperparameters to optimize\n",
    "    validation_acc = [] \n",
    "    train_acc = []\n",
    "    train_correct, validate_correct = 0, 0\n",
    "\n",
    "    # make sure the parameters are integers, since bayesian optimization return float\n",
    "    # refer to: https://colab.research.google.com/github/bayesian-optimization/BayesianOptimization/blob/master/examples/advanced-tour.ipynb#scrollTo=QWqhKqCnvZmn\n",
    "    epoch = int(epoch)\n",
    "    batch_size = int(batch_size)\n",
    "    num_layers = int(num_layers)\n",
    "    num_tokens = int(num_tokens)\n",
    "\n",
    "    criterion = nn.BCELoss()\n",
    "\n",
    "    RNN_embeddings_model = VanillaRNNWithDropout(input_size=EMBEDDING_DIM, hidden_size=HIDDEN_SIZE, num_layers=num_layers, num_classes=1)\n",
    "    optim = torch.optim.Adam(RNN_embeddings_model.parameters(), lr=learning_rate)\n",
    "\n",
    "    train_dataset_ed2 = EmbeddingsDataset2(train_dataset['text'], train_dataset['label'], num_tokens_per_sentence=num_tokens)\n",
    "    validation_dataset_ed2 = EmbeddingsDataset2(validation_dataset['text'], validation_dataset['label'], num_tokens_per_sentence=num_tokens)\n",
    "    # test_dataset_ed2 = EmbeddingsDataset(test_dataset['text'], test_dataset['label'])\n",
    "\n",
    "    train_dataloader2 = DataLoader(train_dataset_ed2, batch_size=batch_size, shuffle=True)\n",
    "    validation_dataloader2 = DataLoader(validation_dataset_ed2, batch_size=batch_size, shuffle=True)\n",
    "    for _ in range(epoch):\n",
    "        train_loss, train_correct = train_loop(train_dataloader2, RNN_embeddings_model, criterion, optim) \n",
    "        validate_loss, validate_correct = test_loop(validation_dataloader2, RNN_embeddings_model, criterion)\n",
    "        #validation_acc.append(validate_correct)\n",
    "        #train_acc.append(train_correct)\n",
    "    return validate_correct"
   ]
  },
  {
   "cell_type": "code",
   "execution_count": null,
   "metadata": {},
   "outputs": [],
   "source": [
    "from bayes_opt import BayesianOptimization\n",
    "optimizer = BayesianOptimization(\n",
    "    f=black_box_with_token,\n",
    "    pbounds={\"learning_rate\": (0.0001, 0.01), \"epoch\": (1, 60), \"batch_size\": (5, 64), \"num_layers\": (1, 8), \"num_tokens\": (16, 26)},\n",
    "    random_state=1,\n",
    "    verbose=2\n",
    ")\n",
    "from bayes_opt.logger import JSONLogger\n",
    "from bayes_opt.event import Events\n",
    "\n",
    "logger = JSONLogger(path=\"./logs_dropout_token.log\")\n",
    "optimizer.subscribe(Events.OPTIMIZATION_STEP, logger)"
   ]
  },
  {
   "cell_type": "code",
   "execution_count": 55,
   "metadata": {},
   "outputs": [],
   "source": [
    "optimizer.probe(\n",
    "    params={\"learning_rate\": 0.0016, \"epoch\": 17, \"batch_size\": 53, \"num_layers\": 2, \"num_tokens\": 20},\n",
    "    lazy = True\n",
    ")"
   ]
  },
  {
   "cell_type": "code",
   "execution_count": 56,
   "metadata": {},
   "outputs": [],
   "source": [
    "optimizer.maximize(init_points=5, n_iter=100)"
   ]
  },
  {
   "cell_type": "code",
   "execution_count": 57,
   "metadata": {},
   "outputs": [
    {
     "data": {
      "text/plain": [
       "{'target': np.float64(0.5600375234521576),\n",
       " 'params': {'batch_size': np.float64(63.02362224905339),\n",
       "  'epoch': np.float64(6.191456753164534),\n",
       "  'learning_rate': np.float64(0.0006502875347645216),\n",
       "  'num_layers': np.float64(3.530788193240186),\n",
       "  'num_tokens': np.float64(24.5764309091781)}}"
      ]
     },
     "execution_count": 57,
     "metadata": {},
     "output_type": "execute_result"
    }
   ],
   "source": [
    "optimizer.max"
   ]
  },
  {
   "cell_type": "code",
   "execution_count": 58,
   "metadata": {},
   "outputs": [
    {
     "data": {
      "text/plain": [
       "[{'target': np.float64(0.5440900562851783),\n",
       "  'params': {'batch_size': np.float64(29.604298277451868),\n",
       "   'epoch': np.float64(43.49914511308733),\n",
       "   'learning_rate': np.float64(0.00010113231069171439),\n",
       "   'num_layers': np.float64(3.1163280084228786),\n",
       "   'num_tokens': np.float64(16.46755890817113)}},\n",
       " {'target': np.float64(0.5487804878048781),\n",
       "  'params': {'batch_size': np.float64(17.895131677247917),\n",
       "   'epoch': np.float64(17.931185536260774),\n",
       "   'learning_rate': np.float64(0.00019660957174913565),\n",
       "   'num_layers': np.float64(3.2833213709768443),\n",
       "   'num_tokens': np.float64(18.976001443018905)}},\n",
       " {'target': np.float64(0.551594746716698),\n",
       "  'params': {'batch_size': np.float64(62.28906779058867),\n",
       "   'epoch': np.float64(19.139926846575833),\n",
       "   'learning_rate': np.float64(0.00010016845106199955),\n",
       "   'num_layers': np.float64(7.370817526373162),\n",
       "   'num_tokens': np.float64(19.92278535746045)}},\n",
       " {'target': np.float64(0.5525328330206379),\n",
       "  'params': {'batch_size': np.float64(27.6912884571598),\n",
       "   'epoch': np.float64(32.40564746517945),\n",
       "   'learning_rate': np.float64(0.00040390272796158146),\n",
       "   'num_layers': np.float64(1.9354739940028254),\n",
       "   'num_tokens': np.float64(15.617791110282242)}},\n",
       " {'target': np.float64(0.5600375234521576),\n",
       "  'params': {'batch_size': np.float64(63.02362224905339),\n",
       "   'epoch': np.float64(6.191456753164534),\n",
       "   'learning_rate': np.float64(0.0006502875347645216),\n",
       "   'num_layers': np.float64(3.530788193240186),\n",
       "   'num_tokens': np.float64(24.5764309091781)}}]"
      ]
     },
     "execution_count": 58,
     "metadata": {},
     "output_type": "execute_result"
    }
   ],
   "source": [
    "sorted(optimizer.res, key=lambda x: x['target'])[-5:]"
   ]
  },
  {
   "cell_type": "markdown",
   "metadata": {},
   "source": [
    "Dropout + learnable hidden state"
   ]
  },
  {
   "cell_type": "code",
   "execution_count": 22,
   "metadata": {},
   "outputs": [],
   "source": [
    "# using nn.Embeddings \n",
    "import torch\n",
    "import torch.nn as nn\n",
    "\n",
    "class DropoutInitialRNN(nn.Module):\n",
    "    def __init__(self, input_size, hidden_size, num_layers, num_classes, embedding_matrix_torch=torch.tensor(embedding_matrix_np, dtype=torch.float)):\n",
    "        super(DropoutInitialRNN, self).__init__()\n",
    "        # Embedding layer\n",
    "        self.embedding = nn.Embedding.from_pretrained(embedding_matrix_torch, freeze=True, padding_idx=0)\n",
    "        self.num_layers = num_layers \n",
    "        self.hidden_size = hidden_size \n",
    "        self.rnn = nn.RNN(input_size, hidden_size, num_layers, batch_first=True) # this is the num rows of the input matrix \n",
    "        self.fc = nn.Linear(hidden_size, num_classes)\n",
    "        self.sigmoid = nn.Sigmoid()\n",
    "        self.dropout = nn.Dropout(0.3)\n",
    "        self.h0 = nn.Parameter(torch.zeros(self.num_layers, 1, self.hidden_size, dtype=torch.float))\n",
    " \n",
    "    def forward(self, x):\n",
    "        # Pass input through embedding layer\n",
    "        x = self.embedding(x)\n",
    "        h0 = self.h0.expand(-1, x.size(0), -1).contiguous().to(x.device)\n",
    "        # Pass the embeddings through the RNN layer\n",
    "        out, _ = self.rnn(x, h0)\n",
    "        # Only take the last output for each sequence\n",
    "        out = out[:, -1, :]\n",
    "        # Dropout\n",
    "        out = self.dropout(out)\n",
    "        # Pass through the fully connected layer\n",
    "        out = self.fc(out)\n",
    "        # Apply sigmoid activation (for binary classification)\n",
    "        out = self.sigmoid(out)\n",
    "        \n",
    "        return out\n",
    "\n",
    "criterion = nn.BCELoss()\n"
   ]
  },
  {
   "cell_type": "code",
   "execution_count": 23,
   "metadata": {},
   "outputs": [],
   "source": [
    "def black_box_with_token(learning_rate, epoch, batch_size, num_layers, num_tokens): # A list of hyperparameters to optimize\n",
    "    validation_acc = [] \n",
    "    train_acc = []\n",
    "    train_correct, validate_correct = 0, 0\n",
    "\n",
    "    # make sure the parameters are integers, since bayesian optimization return float\n",
    "    # refer to: https://colab.research.google.com/github/bayesian-optimization/BayesianOptimization/blob/master/examples/advanced-tour.ipynb#scrollTo=QWqhKqCnvZmn\n",
    "    epoch = int(epoch)\n",
    "    batch_size = int(batch_size)\n",
    "    num_layers = int(num_layers)\n",
    "    num_tokens = int(num_tokens)\n",
    "\n",
    "    criterion = nn.BCELoss()\n",
    "\n",
    "    RNN_embeddings_model = DropoutInitialRNN(input_size=EMBEDDING_DIM, hidden_size=HIDDEN_SIZE, num_layers=num_layers, num_classes=1)\n",
    "    optim = torch.optim.Adam(RNN_embeddings_model.parameters(), lr=learning_rate)\n",
    "\n",
    "    train_dataset_ed2 = EmbeddingsDataset2(train_dataset['text'], train_dataset['label'], num_tokens_per_sentence=num_tokens)\n",
    "    validation_dataset_ed2 = EmbeddingsDataset2(validation_dataset['text'], validation_dataset['label'], num_tokens_per_sentence=num_tokens)\n",
    "    # test_dataset_ed2 = EmbeddingsDataset(test_dataset['text'], test_dataset['label'])\n",
    "\n",
    "    train_dataloader2 = DataLoader(train_dataset_ed2, batch_size=batch_size, shuffle=True)\n",
    "    validation_dataloader2 = DataLoader(validation_dataset_ed2, batch_size=batch_size, shuffle=True)\n",
    "    for _ in range(epoch):\n",
    "        train_loss, train_correct = train_loop(train_dataloader2, RNN_embeddings_model, criterion, optim) \n",
    "        validate_loss, validate_correct = test_loop(validation_dataloader2, RNN_embeddings_model, criterion)\n",
    "        #validation_acc.append(validate_correct)\n",
    "        #train_acc.append(train_correct)\n",
    "    return validate_correct"
   ]
  },
  {
   "cell_type": "code",
   "execution_count": 27,
   "metadata": {},
   "outputs": [],
   "source": [
    "from bayes_opt import BayesianOptimization\n",
    "optimizer_dropout_initial = BayesianOptimization(\n",
    "    f=black_box_with_token,\n",
    "    pbounds={\"learning_rate\": (0.0001, 0.01), \"epoch\": (5, 60), \"batch_size\": (10, 64), \"num_layers\": (1, 4), \"num_tokens\": (16, 26)},\n",
    "    random_state=1,\n",
    "    verbose=2\n",
    ")\n",
    "from bayes_opt.logger import JSONLogger\n",
    "from bayes_opt.event import Events\n",
    "\n",
    "logger = JSONLogger(path=\"./logs_dropout_token_initial.log\")\n",
    "optimizer_dropout_initial.subscribe(Events.OPTIMIZATION_STEP, logger)"
   ]
  },
  {
   "cell_type": "code",
   "execution_count": 28,
   "metadata": {},
   "outputs": [],
   "source": [
    "optimizer_dropout_initial.probe(\n",
    "    params={\"learning_rate\": 0.00019, \"epoch\": 17, \"batch_size\": 17, \"num_layers\": 3, \"num_tokens\": 18},\n",
    "    lazy = True\n",
    ")"
   ]
  },
  {
   "cell_type": "code",
   "execution_count": null,
   "metadata": {},
   "outputs": [],
   "source": [
    "optimizer_dropout_initial.maximize(init_points=4, n_iter=100)"
   ]
  },
  {
   "cell_type": "code",
   "execution_count": null,
   "metadata": {},
   "outputs": [],
   "source": [
    "sorted(optimizer_dropout_initial.res, key=lambda x: x['target'])[-5:]"
   ]
  },
  {
   "cell_type": "markdown",
   "metadata": {},
   "source": [
    "Variable Dropout"
   ]
  },
  {
   "cell_type": "code",
   "execution_count": 125,
   "metadata": {},
   "outputs": [],
   "source": [
    "# using nn.Embeddings \n",
    "import torch\n",
    "import torch.nn as nn\n",
    "\n",
    "class VarDropoutInitialRNN(nn.Module):\n",
    "    def __init__(self, input_size, hidden_size, num_layers, num_classes, embedding_matrix_torch=torch.tensor(embedding_matrix_np, dtype=torch.float), drop_out = 0.3):\n",
    "        super(VarDropoutInitialRNN, self).__init__()\n",
    "        # Embedding layer\n",
    "        self.embedding = nn.Embedding.from_pretrained(embedding_matrix_torch, freeze=True, padding_idx=0)\n",
    "        self.num_layers = num_layers \n",
    "        self.hidden_size = hidden_size \n",
    "        self.rnn = nn.RNN(input_size, hidden_size, num_layers, batch_first=True) # this is the num rows of the input matrix \n",
    "        self.fc = nn.Linear(hidden_size, num_classes)\n",
    "        self.sigmoid = nn.Sigmoid()\n",
    "        self.dropout = nn.Dropout(drop_out)\n",
    "        self.h0 = nn.Parameter(torch.zeros(self.num_layers, 1, self.hidden_size, dtype=torch.float))\n",
    " \n",
    "    def forward(self, x):\n",
    "        # Pass input through embedding layer\n",
    "        x = self.embedding(x)\n",
    "        h0 = self.h0.expand(-1, x.size(0), -1).contiguous().to(x.device)\n",
    "        # Pass the embeddings through the RNN layer\n",
    "        out, hidden = self.rnn(x, h0)\n",
    "        # Only take the last output for each sequence\n",
    "        res = hidden[-1]\n",
    "        # Dropout\n",
    "        res = self.dropout(res)\n",
    "        # Pass through the fully connected layer\n",
    "        res = self.fc(res)\n",
    "        # Apply sigmoid activation (for binary classification)\n",
    "        res = self.sigmoid(res)\n",
    "        \n",
    "        return res\n",
    "\n",
    "criterion = nn.BCELoss()\n"
   ]
  },
  {
   "cell_type": "code",
   "execution_count": 126,
   "metadata": {},
   "outputs": [],
   "source": [
    "from torch.utils.data import Dataset, DataLoader \n",
    "\n",
    "# TODO: change the num_tokens \n",
    "class EmbeddingsDataset3(Dataset):\n",
    "  def __init__(self, X, y, num_tokens_per_sentence=8, word_embeddings=word_embeddings):\n",
    "    self.num_tokens_per_sentence = num_tokens_per_sentence\n",
    "    self.word_embeddings = word_embeddings\n",
    "\n",
    "    sentence_lengths = [len(nltk.word_tokenize(x)) for x in X]\n",
    "    sorted_indices = sorted(range(len(X)), key=lambda i: sentence_lengths[i])\n",
    "    \n",
    "    self.X = [X[i] for i in sorted_indices] # train_dataset['text']\n",
    "    self.y = [y[i] for i in sorted_indices] # train_dataset['label']\n",
    "\n",
    "    self.len = len(self.X)\n",
    "\n",
    "  def __getitem__(self, index):\n",
    "    # tokenize the sentence \n",
    "    tokens = self.tokenize_sentence(self.X[index])\n",
    "    # convert each token to embeddings \n",
    "    sentence_tensor = self.convert_sentence_into_indices(tokens)\n",
    "    label = torch.tensor(self.y[index], dtype=torch.float)\n",
    "    return sentence_tensor, label \n",
    "\n",
    "  def __len__(self):\n",
    "    return self.len \n",
    "\n",
    "  def tokenize_sentence(self, x): \n",
    "    '''\n",
    "    returns a list containing the embeddings of each token \n",
    "    '''\n",
    "    tokens = nltk.word_tokenize(x)\n",
    "    return tokens \n",
    "  \n",
    "  def convert_sentence_into_indices(self, tokens):\n",
    "    indices = []\n",
    "    num_tokens_used = 0 \n",
    "    for token in tokens:\n",
    "      if num_tokens_used == self.num_tokens_per_sentence:\n",
    "        break # we have enough of tokens from the sentence \n",
    "      if token in word2idx:\n",
    "        indices.append(word2idx[token])\n",
    "        num_tokens_used += 1 \n",
    "    # # if not enough tokens in the sentence, use index of ?? \n",
    "    if len(indices) < self.num_tokens_per_sentence:\n",
    "      padding = [0 for _ in range(self.num_tokens_per_sentence - len(indices))]\n",
    "      indices.extend(padding)\n",
    "\n",
    "    indices = torch.tensor(indices, dtype=torch.long)\n",
    "    return indices\n",
    "  "
   ]
  },
  {
   "cell_type": "code",
   "execution_count": 127,
   "metadata": {},
   "outputs": [],
   "source": [
    "train_dataset_ed3 = EmbeddingsDataset3(train_dataset['text'], train_dataset['label'])\n",
    "validation_dataset_ed3 = EmbeddingsDataset3(validation_dataset['text'], validation_dataset['label'])\n",
    "# test_dataset_ed2 = EmbeddingsDataset(test_dataset['text'], test_dataset['label'])\n",
    "\n",
    "\n",
    "train_dataloader3 = DataLoader(train_dataset_ed3, batch_size=BATCH_SIZE, shuffle=False)\n",
    "validation_dataloader3 = DataLoader(validation_dataset_ed3, batch_size=BATCH_SIZE, shuffle=False)"
   ]
  },
  {
   "cell_type": "code",
   "execution_count": 128,
   "metadata": {},
   "outputs": [],
   "source": [
    "def black_box_with_token(learning_rate, epoch, batch_size, num_layers, num_tokens, drop_out): # A list of hyperparameters to optimize\n",
    "    validation_acc = [] \n",
    "    train_acc = []\n",
    "    train_correct, validate_correct = 0, 0\n",
    "\n",
    "    # make sure the parameters are integers, since bayesian optimization return float\n",
    "    # refer to: https://colab.research.google.com/github/bayesian-optimization/BayesianOptimization/blob/master/examples/advanced-tour.ipynb#scrollTo=QWqhKqCnvZmn\n",
    "    epoch = int(epoch)\n",
    "    batch_size = int(batch_size)\n",
    "    num_layers = int(num_layers)\n",
    "    num_tokens = int(num_tokens)\n",
    "\n",
    "    criterion = nn.BCELoss()\n",
    "\n",
    "    RNN_embeddings_model = VarDropoutInitialRNN(input_size=EMBEDDING_DIM, hidden_size=HIDDEN_SIZE, num_layers=num_layers, num_classes=1, drop_out=drop_out)\n",
    "    optim = torch.optim.Adam(RNN_embeddings_model.parameters(), lr=learning_rate)\n",
    "\n",
    "    train_dataset_ed = EmbeddingsDataset3(train_dataset['text'], train_dataset['label'], num_tokens_per_sentence=num_tokens)\n",
    "    validation_dataset_ed = EmbeddingsDataset3(validation_dataset['text'], validation_dataset['label'], num_tokens_per_sentence=num_tokens)\n",
    "    # test_dataset_ed2 = EmbeddingsDataset(test_dataset['text'], test_dataset['label'])\n",
    "\n",
    "    train_dataloader = DataLoader(train_dataset_ed, batch_size=batch_size, shuffle=False)\n",
    "    validation_dataloader = DataLoader(validation_dataset_ed, batch_size=batch_size, shuffle=False)\n",
    "    for _ in range(epoch):\n",
    "        train_loss, train_correct = train_loop(train_dataloader, RNN_embeddings_model, criterion, optim) \n",
    "        validate_loss, validate_correct = test_loop(validation_dataloader, RNN_embeddings_model, criterion)\n",
    "        #validation_acc.append(validate_correct)\n",
    "        #train_acc.append(train_correct)\n",
    "    return validate_correct"
   ]
  },
  {
   "cell_type": "code",
   "execution_count": 129,
   "metadata": {},
   "outputs": [],
   "source": [
    "from bayes_opt import BayesianOptimization\n",
    "optimizer_dropout_initial = BayesianOptimization(\n",
    "    f=black_box_with_token,\n",
    "    pbounds={\"learning_rate\": (0.0001, 0.01), \"epoch\": (5, 60), \"batch_size\": (10, 64), \"num_layers\": (1, 4), \"num_tokens\": (16, 26), \"drop_out\": (0.1, 0.5)},\n",
    "    random_state=1,\n",
    "    verbose=2\n",
    ")\n",
    "from bayes_opt.logger import JSONLogger\n",
    "from bayes_opt.event import Events\n",
    "\n",
    "logger = JSONLogger(path=\"./logs_var_dropout_token_initial_sorted.log\")\n",
    "optimizer_dropout_initial.subscribe(Events.OPTIMIZATION_STEP, logger)"
   ]
  },
  {
   "cell_type": "code",
   "execution_count": 130,
   "metadata": {},
   "outputs": [
    {
     "ename": "KeyboardInterrupt",
     "evalue": "",
     "output_type": "error",
     "traceback": [
      "\u001b[1;31m---------------------------------------------------------------------------\u001b[0m",
      "\u001b[1;31mKeyboardInterrupt\u001b[0m                         Traceback (most recent call last)",
      "Cell \u001b[1;32mIn[130], line 1\u001b[0m\n\u001b[1;32m----> 1\u001b[0m \u001b[43moptimizer_dropout_initial\u001b[49m\u001b[38;5;241;43m.\u001b[39;49m\u001b[43mmaximize\u001b[49m\u001b[43m(\u001b[49m\u001b[43minit_points\u001b[49m\u001b[38;5;241;43m=\u001b[39;49m\u001b[38;5;241;43m10\u001b[39;49m\u001b[43m,\u001b[49m\u001b[43m \u001b[49m\u001b[43mn_iter\u001b[49m\u001b[38;5;241;43m=\u001b[39;49m\u001b[38;5;241;43m100\u001b[39;49m\u001b[43m)\u001b[49m\n",
      "File \u001b[1;32mc:\\Users\\USER\\Documents\\Github\\school\\nlp-2\\venv\\Lib\\site-packages\\bayes_opt\\bayesian_optimization.py:312\u001b[0m, in \u001b[0;36mBayesianOptimization.maximize\u001b[1;34m(self, init_points, n_iter)\u001b[0m\n\u001b[0;32m    310\u001b[0m     x_probe \u001b[38;5;241m=\u001b[39m \u001b[38;5;28mself\u001b[39m\u001b[38;5;241m.\u001b[39msuggest()\n\u001b[0;32m    311\u001b[0m     iteration \u001b[38;5;241m+\u001b[39m\u001b[38;5;241m=\u001b[39m \u001b[38;5;241m1\u001b[39m\n\u001b[1;32m--> 312\u001b[0m \u001b[38;5;28;43mself\u001b[39;49m\u001b[38;5;241;43m.\u001b[39;49m\u001b[43mprobe\u001b[49m\u001b[43m(\u001b[49m\u001b[43mx_probe\u001b[49m\u001b[43m,\u001b[49m\u001b[43m \u001b[49m\u001b[43mlazy\u001b[49m\u001b[38;5;241;43m=\u001b[39;49m\u001b[38;5;28;43;01mFalse\u001b[39;49;00m\u001b[43m)\u001b[49m\n\u001b[0;32m    314\u001b[0m \u001b[38;5;28;01mif\u001b[39;00m \u001b[38;5;28mself\u001b[39m\u001b[38;5;241m.\u001b[39m_bounds_transformer \u001b[38;5;129;01mand\u001b[39;00m iteration \u001b[38;5;241m>\u001b[39m \u001b[38;5;241m0\u001b[39m:\n\u001b[0;32m    315\u001b[0m     \u001b[38;5;66;03m# The bounds transformer should only modify the bounds after\u001b[39;00m\n\u001b[0;32m    316\u001b[0m     \u001b[38;5;66;03m# the init_points points (only for the true iterations)\u001b[39;00m\n\u001b[0;32m    317\u001b[0m     \u001b[38;5;28mself\u001b[39m\u001b[38;5;241m.\u001b[39mset_bounds(\u001b[38;5;28mself\u001b[39m\u001b[38;5;241m.\u001b[39m_bounds_transformer\u001b[38;5;241m.\u001b[39mtransform(\u001b[38;5;28mself\u001b[39m\u001b[38;5;241m.\u001b[39m_space))\n",
      "File \u001b[1;32mc:\\Users\\USER\\Documents\\Github\\school\\nlp-2\\venv\\Lib\\site-packages\\bayes_opt\\bayesian_optimization.py:245\u001b[0m, in \u001b[0;36mBayesianOptimization.probe\u001b[1;34m(self, params, lazy)\u001b[0m\n\u001b[0;32m    243\u001b[0m     \u001b[38;5;28mself\u001b[39m\u001b[38;5;241m.\u001b[39m_queue\u001b[38;5;241m.\u001b[39mappend(params)\n\u001b[0;32m    244\u001b[0m \u001b[38;5;28;01melse\u001b[39;00m:\n\u001b[1;32m--> 245\u001b[0m     \u001b[38;5;28;43mself\u001b[39;49m\u001b[38;5;241;43m.\u001b[39;49m\u001b[43m_space\u001b[49m\u001b[38;5;241;43m.\u001b[39;49m\u001b[43mprobe\u001b[49m\u001b[43m(\u001b[49m\u001b[43mparams\u001b[49m\u001b[43m)\u001b[49m\n\u001b[0;32m    246\u001b[0m     \u001b[38;5;28mself\u001b[39m\u001b[38;5;241m.\u001b[39mdispatch(Events\u001b[38;5;241m.\u001b[39mOPTIMIZATION_STEP)\n",
      "File \u001b[1;32mc:\\Users\\USER\\Documents\\Github\\school\\nlp-2\\venv\\Lib\\site-packages\\bayes_opt\\target_space.py:418\u001b[0m, in \u001b[0;36mTargetSpace.probe\u001b[1;34m(self, params)\u001b[0m\n\u001b[0;32m    416\u001b[0m     error_msg \u001b[38;5;241m=\u001b[39m \u001b[38;5;124m\"\u001b[39m\u001b[38;5;124mNo target function has been provided.\u001b[39m\u001b[38;5;124m\"\u001b[39m\n\u001b[0;32m    417\u001b[0m     \u001b[38;5;28;01mraise\u001b[39;00m \u001b[38;5;167;01mValueError\u001b[39;00m(error_msg)\n\u001b[1;32m--> 418\u001b[0m target \u001b[38;5;241m=\u001b[39m \u001b[38;5;28;43mself\u001b[39;49m\u001b[38;5;241;43m.\u001b[39;49m\u001b[43mtarget_func\u001b[49m\u001b[43m(\u001b[49m\u001b[38;5;241;43m*\u001b[39;49m\u001b[38;5;241;43m*\u001b[39;49m\u001b[43mdict_params\u001b[49m\u001b[43m)\u001b[49m\n\u001b[0;32m    420\u001b[0m \u001b[38;5;28;01mif\u001b[39;00m \u001b[38;5;28mself\u001b[39m\u001b[38;5;241m.\u001b[39m_constraint \u001b[38;5;129;01mis\u001b[39;00m \u001b[38;5;28;01mNone\u001b[39;00m:\n\u001b[0;32m    421\u001b[0m     \u001b[38;5;28mself\u001b[39m\u001b[38;5;241m.\u001b[39mregister(x, target)\n",
      "Cell \u001b[1;32mIn[128], line 25\u001b[0m, in \u001b[0;36mblack_box_with_token\u001b[1;34m(learning_rate, epoch, batch_size, num_layers, num_tokens, drop_out)\u001b[0m\n\u001b[0;32m     23\u001b[0m validation_dataloader \u001b[38;5;241m=\u001b[39m DataLoader(validation_dataset_ed, batch_size\u001b[38;5;241m=\u001b[39mbatch_size, shuffle\u001b[38;5;241m=\u001b[39m\u001b[38;5;28;01mFalse\u001b[39;00m)\n\u001b[0;32m     24\u001b[0m \u001b[38;5;28;01mfor\u001b[39;00m _ \u001b[38;5;129;01min\u001b[39;00m \u001b[38;5;28mrange\u001b[39m(epoch):\n\u001b[1;32m---> 25\u001b[0m     train_loss, train_correct \u001b[38;5;241m=\u001b[39m \u001b[43mtrain_loop\u001b[49m\u001b[43m(\u001b[49m\u001b[43mtrain_dataloader\u001b[49m\u001b[43m,\u001b[49m\u001b[43m \u001b[49m\u001b[43mRNN_embeddings_model\u001b[49m\u001b[43m,\u001b[49m\u001b[43m \u001b[49m\u001b[43mcriterion\u001b[49m\u001b[43m,\u001b[49m\u001b[43m \u001b[49m\u001b[43moptim\u001b[49m\u001b[43m)\u001b[49m \n\u001b[0;32m     26\u001b[0m     validate_loss, validate_correct \u001b[38;5;241m=\u001b[39m test_loop(validation_dataloader, RNN_embeddings_model, criterion)\n\u001b[0;32m     27\u001b[0m     \u001b[38;5;66;03m#validation_acc.append(validate_correct)\u001b[39;00m\n\u001b[0;32m     28\u001b[0m     \u001b[38;5;66;03m#train_acc.append(train_correct)\u001b[39;00m\n",
      "Cell \u001b[1;32mIn[122], line 24\u001b[0m, in \u001b[0;36mtrain_loop\u001b[1;34m(train_dataloader, model, loss_fn, optimizer)\u001b[0m\n\u001b[0;32m     22\u001b[0m     \u001b[38;5;66;03m# Backpropagation\u001b[39;00m\n\u001b[0;32m     23\u001b[0m     optimizer\u001b[38;5;241m.\u001b[39mzero_grad()\n\u001b[1;32m---> 24\u001b[0m     \u001b[43mloss\u001b[49m\u001b[38;5;241;43m.\u001b[39;49m\u001b[43mbackward\u001b[49m\u001b[43m(\u001b[49m\u001b[43m)\u001b[49m\n\u001b[0;32m     25\u001b[0m     optimizer\u001b[38;5;241m.\u001b[39mstep()\n\u001b[0;32m     27\u001b[0m train_loss \u001b[38;5;241m/\u001b[39m\u001b[38;5;241m=\u001b[39m num_batches \n",
      "File \u001b[1;32mc:\\Users\\USER\\Documents\\Github\\school\\nlp-2\\venv\\Lib\\site-packages\\torch\\_tensor.py:581\u001b[0m, in \u001b[0;36mTensor.backward\u001b[1;34m(self, gradient, retain_graph, create_graph, inputs)\u001b[0m\n\u001b[0;32m    571\u001b[0m \u001b[38;5;28;01mif\u001b[39;00m has_torch_function_unary(\u001b[38;5;28mself\u001b[39m):\n\u001b[0;32m    572\u001b[0m     \u001b[38;5;28;01mreturn\u001b[39;00m handle_torch_function(\n\u001b[0;32m    573\u001b[0m         Tensor\u001b[38;5;241m.\u001b[39mbackward,\n\u001b[0;32m    574\u001b[0m         (\u001b[38;5;28mself\u001b[39m,),\n\u001b[1;32m   (...)\u001b[0m\n\u001b[0;32m    579\u001b[0m         inputs\u001b[38;5;241m=\u001b[39minputs,\n\u001b[0;32m    580\u001b[0m     )\n\u001b[1;32m--> 581\u001b[0m \u001b[43mtorch\u001b[49m\u001b[38;5;241;43m.\u001b[39;49m\u001b[43mautograd\u001b[49m\u001b[38;5;241;43m.\u001b[39;49m\u001b[43mbackward\u001b[49m\u001b[43m(\u001b[49m\n\u001b[0;32m    582\u001b[0m \u001b[43m    \u001b[49m\u001b[38;5;28;43mself\u001b[39;49m\u001b[43m,\u001b[49m\u001b[43m \u001b[49m\u001b[43mgradient\u001b[49m\u001b[43m,\u001b[49m\u001b[43m \u001b[49m\u001b[43mretain_graph\u001b[49m\u001b[43m,\u001b[49m\u001b[43m \u001b[49m\u001b[43mcreate_graph\u001b[49m\u001b[43m,\u001b[49m\u001b[43m \u001b[49m\u001b[43minputs\u001b[49m\u001b[38;5;241;43m=\u001b[39;49m\u001b[43minputs\u001b[49m\n\u001b[0;32m    583\u001b[0m \u001b[43m\u001b[49m\u001b[43m)\u001b[49m\n",
      "File \u001b[1;32mc:\\Users\\USER\\Documents\\Github\\school\\nlp-2\\venv\\Lib\\site-packages\\torch\\autograd\\__init__.py:347\u001b[0m, in \u001b[0;36mbackward\u001b[1;34m(tensors, grad_tensors, retain_graph, create_graph, grad_variables, inputs)\u001b[0m\n\u001b[0;32m    342\u001b[0m     retain_graph \u001b[38;5;241m=\u001b[39m create_graph\n\u001b[0;32m    344\u001b[0m \u001b[38;5;66;03m# The reason we repeat the same comment below is that\u001b[39;00m\n\u001b[0;32m    345\u001b[0m \u001b[38;5;66;03m# some Python versions print out the first line of a multi-line function\u001b[39;00m\n\u001b[0;32m    346\u001b[0m \u001b[38;5;66;03m# calls in the traceback and some print out the last line\u001b[39;00m\n\u001b[1;32m--> 347\u001b[0m \u001b[43m_engine_run_backward\u001b[49m\u001b[43m(\u001b[49m\n\u001b[0;32m    348\u001b[0m \u001b[43m    \u001b[49m\u001b[43mtensors\u001b[49m\u001b[43m,\u001b[49m\n\u001b[0;32m    349\u001b[0m \u001b[43m    \u001b[49m\u001b[43mgrad_tensors_\u001b[49m\u001b[43m,\u001b[49m\n\u001b[0;32m    350\u001b[0m \u001b[43m    \u001b[49m\u001b[43mretain_graph\u001b[49m\u001b[43m,\u001b[49m\n\u001b[0;32m    351\u001b[0m \u001b[43m    \u001b[49m\u001b[43mcreate_graph\u001b[49m\u001b[43m,\u001b[49m\n\u001b[0;32m    352\u001b[0m \u001b[43m    \u001b[49m\u001b[43minputs\u001b[49m\u001b[43m,\u001b[49m\n\u001b[0;32m    353\u001b[0m \u001b[43m    \u001b[49m\u001b[43mallow_unreachable\u001b[49m\u001b[38;5;241;43m=\u001b[39;49m\u001b[38;5;28;43;01mTrue\u001b[39;49;00m\u001b[43m,\u001b[49m\n\u001b[0;32m    354\u001b[0m \u001b[43m    \u001b[49m\u001b[43maccumulate_grad\u001b[49m\u001b[38;5;241;43m=\u001b[39;49m\u001b[38;5;28;43;01mTrue\u001b[39;49;00m\u001b[43m,\u001b[49m\n\u001b[0;32m    355\u001b[0m \u001b[43m\u001b[49m\u001b[43m)\u001b[49m\n",
      "File \u001b[1;32mc:\\Users\\USER\\Documents\\Github\\school\\nlp-2\\venv\\Lib\\site-packages\\torch\\autograd\\graph.py:825\u001b[0m, in \u001b[0;36m_engine_run_backward\u001b[1;34m(t_outputs, *args, **kwargs)\u001b[0m\n\u001b[0;32m    823\u001b[0m     unregister_hooks \u001b[38;5;241m=\u001b[39m _register_logging_hooks_on_whole_graph(t_outputs)\n\u001b[0;32m    824\u001b[0m \u001b[38;5;28;01mtry\u001b[39;00m:\n\u001b[1;32m--> 825\u001b[0m     \u001b[38;5;28;01mreturn\u001b[39;00m \u001b[43mVariable\u001b[49m\u001b[38;5;241;43m.\u001b[39;49m\u001b[43m_execution_engine\u001b[49m\u001b[38;5;241;43m.\u001b[39;49m\u001b[43mrun_backward\u001b[49m\u001b[43m(\u001b[49m\u001b[43m  \u001b[49m\u001b[38;5;66;43;03m# Calls into the C++ engine to run the backward pass\u001b[39;49;00m\n\u001b[0;32m    826\u001b[0m \u001b[43m        \u001b[49m\u001b[43mt_outputs\u001b[49m\u001b[43m,\u001b[49m\u001b[43m \u001b[49m\u001b[38;5;241;43m*\u001b[39;49m\u001b[43margs\u001b[49m\u001b[43m,\u001b[49m\u001b[43m \u001b[49m\u001b[38;5;241;43m*\u001b[39;49m\u001b[38;5;241;43m*\u001b[39;49m\u001b[43mkwargs\u001b[49m\n\u001b[0;32m    827\u001b[0m \u001b[43m    \u001b[49m\u001b[43m)\u001b[49m  \u001b[38;5;66;03m# Calls into the C++ engine to run the backward pass\u001b[39;00m\n\u001b[0;32m    828\u001b[0m \u001b[38;5;28;01mfinally\u001b[39;00m:\n\u001b[0;32m    829\u001b[0m     \u001b[38;5;28;01mif\u001b[39;00m attach_logging_hooks:\n",
      "\u001b[1;31mKeyboardInterrupt\u001b[0m: "
     ]
    }
   ],
   "source": [
    "optimizer_dropout_initial.maximize(init_points=10, n_iter=100)"
   ]
  },
  {
   "cell_type": "code",
   "execution_count": null,
   "metadata": {},
   "outputs": [],
   "source": []
  }
 ],
 "metadata": {
  "kernelspec": {
   "display_name": "venv",
   "language": "python",
   "name": "python3"
  },
  "language_info": {
   "codemirror_mode": {
    "name": "ipython",
    "version": 3
   },
   "file_extension": ".py",
   "mimetype": "text/x-python",
   "name": "python",
   "nbconvert_exporter": "python",
   "pygments_lexer": "ipython3",
   "version": "3.12.0"
  }
 },
 "nbformat": 4,
 "nbformat_minor": 2
}
