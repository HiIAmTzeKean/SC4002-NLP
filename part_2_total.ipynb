{
 "cells": [
  {
   "cell_type": "markdown",
   "metadata": {},
   "source": [
    "## Part 2. Model Training & Evaluation - RNN   \n",
    "Now with the pretrained word embeddings acquired from Part 1 and the dataset acquired from\n",
    "Part 0, you need to train a deep learning model for sentiment classification using the training set,\n",
    "conforming to these requirements:\n"
   ]
  },
  {
   "cell_type": "markdown",
   "metadata": {},
   "source": [
    "• Use the pretrained word embeddings from Part 1 as inputs; do not update them during training\n",
    "(they are “frozen”).   \n",
    "\n",
    "• Design a simple recurrent neural network (RNN), taking the input word embeddings, and\n",
    "predicting a sentiment label for each sentence. To do that, you need to consider how to\n",
    "aggregate the word representations to represent a sentence.   \n",
    "\n",
    "• Use the validation set to gauge the performance of the model for each epoch during training.\n",
    "You are required to use accuracy as the performance metric during validation and evaluation. \n",
    "   \n",
    "• Use the mini-batch strategy during training. You may choose any preferred optimizer (e.g.,\n",
    "SGD, Adagrad, Adam, RMSprop). Be careful when you choose your initial learning rate and\n",
    "mini-batch size. (You should use the validation set to determine the optimal configuration.)\n",
    "Train the model until the accuracy score on the validation set is not increasing for a few\n",
    "epochs.\n",
    "   \n",
    "• Evaluate your trained model on the test dataset, observing the accuracy score."
   ]
  },
  {
   "cell_type": "markdown",
   "metadata": {},
   "source": [
    "Import dependencies"
   ]
  },
  {
   "cell_type": "code",
   "execution_count": 18,
   "metadata": {},
   "outputs": [],
   "source": [
    "import json\n",
    "# We omit warnings to keep the output clean\n",
    "import warnings\n",
    "warnings.simplefilter(action='ignore', category=UserWarning)\n",
    "\n",
    "import torch\n",
    "import torch.nn as nn\n",
    "import torch.nn.functional as F\n",
    "import numpy as np\n",
    "from datasets import load_dataset\n",
    "import matplotlib.pyplot as plt \n",
    "\n",
    "from common_utils import load_glove_embeddings, set_seed\n",
    "import nltk"
   ]
  },
  {
   "cell_type": "code",
   "execution_count": 26,
   "metadata": {},
   "outputs": [],
   "source": [
    "# set seed \n",
    "set_seed()"
   ]
  },
  {
   "cell_type": "code",
   "execution_count": 3,
   "metadata": {},
   "outputs": [],
   "source": [
    "# initialize parameters\n",
    "BATCH_SIZE = 32\n",
    "INPUT_SIZE = 100 # word embedding size \n",
    "HIDDEN_SIZE = 128 # just as a starter to see \n",
    "NUM_EPOCHS = 100 \n",
    "EMBEDDING_DIM=100"
   ]
  },
  {
   "cell_type": "code",
   "execution_count": 5,
   "metadata": {},
   "outputs": [
    {
     "name": "stdout",
     "output_type": "stream",
     "text": [
      "Training on GPU.\n"
     ]
    }
   ],
   "source": [
    "# First checking if GPU is available\n",
    "train_on_gpu=torch.cuda.is_available()\n",
    "\n",
    "if(train_on_gpu):\n",
    "    print('Training on GPU.')\n",
    "else:\n",
    "    print('No GPU available, training on CPU.')"
   ]
  },
  {
   "cell_type": "code",
   "execution_count": 6,
   "metadata": {},
   "outputs": [
    {
     "name": "stdout",
     "output_type": "stream",
     "text": [
      "Loading GloVe embeddings...\n"
     ]
    },
    {
     "name": "stderr",
     "output_type": "stream",
     "text": [
      "Repo card metadata block was not found. Setting CardData to empty.\n"
     ]
    },
    {
     "name": "stdout",
     "output_type": "stream",
     "text": [
      "Total GloVe words loaded: 400000\n"
     ]
    }
   ],
   "source": [
    "# initialize word embeddings\n",
    "word_embeddings = load_glove_embeddings()"
   ]
  },
  {
   "cell_type": "code",
   "execution_count": null,
   "metadata": {},
   "outputs": [
    {
     "data": {
      "text/plain": [
       "(400001, 100)"
      ]
     },
     "execution_count": 19,
     "metadata": {},
     "output_type": "execute_result"
    }
   ],
   "source": [
    "embeddings = [word_embeddings[word] for word in word_embeddings.keys()]\n",
    "\n",
    "embedding_matrix_np = np.array(embeddings)\n",
    "embedding_matrix_np = np.vstack((embedding_matrix_np, np.zeros((1, INPUT_SIZE))))\n",
    "\n",
    "embedding_matrix_np.shape \n"
   ]
  },
  {
   "cell_type": "code",
   "execution_count": 21,
   "metadata": {},
   "outputs": [
    {
     "name": "stdout",
     "output_type": "stream",
     "text": [
      "[0. 0. 0. 0. 0. 0. 0. 0. 0. 0. 0. 0. 0. 0. 0. 0. 0. 0. 0. 0. 0. 0. 0. 0.\n",
      " 0. 0. 0. 0. 0. 0. 0. 0. 0. 0. 0. 0. 0. 0. 0. 0. 0. 0. 0. 0. 0. 0. 0. 0.\n",
      " 0. 0. 0. 0. 0. 0. 0. 0. 0. 0. 0. 0. 0. 0. 0. 0. 0. 0. 0. 0. 0. 0. 0. 0.\n",
      " 0. 0. 0. 0. 0. 0. 0. 0. 0. 0. 0. 0. 0. 0. 0. 0. 0. 0. 0. 0. 0. 0. 0. 0.\n",
      " 0. 0. 0. 0.]\n"
     ]
    }
   ],
   "source": [
    "# check the padding token has been added\n",
    "print(embedding_matrix_np[-1])"
   ]
  },
  {
   "cell_type": "code",
   "execution_count": 8,
   "metadata": {},
   "outputs": [],
   "source": [
    "# load dataset from huggingface first \n",
    "dataset = load_dataset(\"rotten_tomatoes\")\n",
    "train_dataset = dataset['train']\n",
    "validation_dataset = dataset['validation']\n",
    "test_dataset = dataset['test']\n",
    "\n",
    "with open('result/word2idx.json', \"r\") as file:\n",
    "    word2idx = json.load(file)"
   ]
  },
  {
   "cell_type": "code",
   "execution_count": 22,
   "metadata": {},
   "outputs": [],
   "source": [
    "from torch.utils.data import Dataset, DataLoader \n",
    "\n",
    "# TODO: change the num_tokens \n",
    "class EmbeddingsDataset(Dataset):\n",
    "  def __init__(self, X, y, num_tokens_per_sentence=20, word_embeddings=word_embeddings):\n",
    "    self.num_tokens_per_sentence = num_tokens_per_sentence\n",
    "    self.word_embeddings = word_embeddings\n",
    "    self.X = X # train_dataset['text']\n",
    "    self.y = y # train_dataset['label']\n",
    "    self.len = len(self.X)\n",
    "\n",
    "  def __getitem__(self, index):\n",
    "    # tokenize the sentence \n",
    "    tokens = self.tokenize_sentence(self.X[index])\n",
    "    # convert each token to embeddings \n",
    "    sentence_tensor = self.convert_sentence_into_indices(tokens)\n",
    "    label = torch.tensor(self.y[index], dtype=torch.long)\n",
    "    return sentence_tensor, label \n",
    "\n",
    "  def __len__(self):\n",
    "    return self.len \n",
    "\n",
    "  def tokenize_sentence(self, x): \n",
    "    '''\n",
    "    returns a list containing the embeddings of each token \n",
    "    '''\n",
    "    tokens = nltk.word_tokenize(x.lower())\n",
    "    return tokens \n",
    "  \n",
    "  def convert_sentence_into_indices(self, tokens):\n",
    "    indices = []\n",
    "    num_tokens_used = 0 \n",
    "    for token in tokens:\n",
    "      if num_tokens_used == self.num_tokens_per_sentence:\n",
    "        break # we have enough of tokens from the sentence \n",
    "      if token in word2idx:\n",
    "        indices.append(word2idx[token])\n",
    "        num_tokens_used += 1 \n",
    "    # # if not enough tokens in the sentence, use index of ?? \n",
    "    if len(indices) < self.num_tokens_per_sentence:\n",
    "      padding = [(embedding_matrix_np.shape[0] - 1 ) for _ in range(self.num_tokens_per_sentence - len(indices))]\n",
    "      indices.extend(padding)\n",
    "    #print(indices)\n",
    "    indices = torch.tensor(indices, dtype=torch.long)\n",
    "    return indices\n",
    "  "
   ]
  },
  {
   "cell_type": "code",
   "execution_count": 23,
   "metadata": {},
   "outputs": [],
   "source": [
    "def train_loop_bce(train_dataloader, model, loss_fn, optimizer):\n",
    "    if train_on_gpu:\n",
    "        model.cuda()\n",
    "    model.train()\n",
    "    num_batches = len(train_dataloader)\n",
    "    size = len(train_dataloader.dataset)\n",
    "    train_loss, train_correct = 0, 0\n",
    "    for batch_no, (X_batch, y_batch) in enumerate(train_dataloader):\n",
    "        y_batch = y_batch.long()\n",
    "        if train_on_gpu:\n",
    "            X_batch = X_batch.cuda()\n",
    "            y_batch = y_batch.cuda()\n",
    "        \n",
    "        # Forward pass\n",
    "        pred = model(X_batch)\n",
    "        #print(pred, y_batch)\n",
    "        pred = pred.squeeze(1)\n",
    "        y_val = y_batch\n",
    "        loss = loss_fn(pred, y_val.float())\n",
    "        train_loss += loss.item() \n",
    "        train_correct += ((pred >= 0.5).long()==y_batch).sum().item() \n",
    "        \n",
    "        # Backpropagation\n",
    "        optimizer.zero_grad()\n",
    "        loss.backward()\n",
    "        optimizer.step()\n",
    "    \n",
    "    train_loss /= num_batches \n",
    "    train_correct /= size \n",
    "\n",
    "    return train_loss, train_correct \n",
    "   \n",
    "\n",
    "def test_loop_bce(validate_dataloader, model, loss_fn):\n",
    "    if train_on_gpu:\n",
    "        model.cuda()\n",
    "    model.eval()\n",
    "    num_batches = len(validate_dataloader)\n",
    "    size = len(validate_dataloader.dataset)\n",
    "    test_loss, test_correct = 0, 0\n",
    "\n",
    "    with torch.no_grad():\n",
    "        for X_batch, y_batch in validate_dataloader:\n",
    "            y_batch = y_batch.long()\n",
    "            if train_on_gpu:\n",
    "                X_batch = X_batch.cuda()\n",
    "                y_batch = y_batch.cuda()\n",
    "\n",
    "            pred = model(X_batch)\n",
    "            pred = pred.squeeze(1)\n",
    "            pred_binary = (pred >= 0.5).long()\n",
    "            test_loss += loss_fn(pred, y_batch.float()).item()\n",
    "            test_correct += (pred_binary == y_batch).sum().item()\n",
    "\n",
    "    test_loss /= num_batches\n",
    "    test_correct /= size\n",
    "    return test_loss, test_correct"
   ]
  },
  {
   "cell_type": "markdown",
   "metadata": {},
   "source": [
    "## Graph function"
   ]
  },
  {
   "cell_type": "code",
   "execution_count": 28,
   "metadata": {},
   "outputs": [],
   "source": [
    "def plot(x: list, y:list, x_label = \"\", y_label = \"\", title = \"\"):\n",
    "    plt.plot(x, label=x_label)\n",
    "    plt.plot(y, label=y_label)\n",
    "\n",
    "    plt.xlabel(x_label)\n",
    "    plt.ylabel(y_label)\n",
    "    plt.title(title)\n",
    "    plt.legend()\n",
    "    plt.show()"
   ]
  },
  {
   "cell_type": "markdown",
   "metadata": {},
   "source": [
    "### 1. Output vs Hidden"
   ]
  },
  {
   "cell_type": "code",
   "execution_count": null,
   "metadata": {},
   "outputs": [],
   "source": [
    "# using nn.Embeddings \n",
    "import torch\n",
    "import torch.nn as nn\n",
    "\n",
    "class VanillaRNNWithEmbedding(nn.Module):\n",
    "    def __init__(self, input_size, hidden_size, num_layers, num_classes, embedding_matrix_torch=torch.tensor(embedding_matrix_np, dtype=torch.float)):\n",
    "        super(VanillaRNNWithEmbedding, self).__init__()\n",
    "        # Embedding layer\n",
    "        self.embedding = nn.Embedding.from_pretrained(embedding_matrix_torch, freeze=True, padding_idx=embedding_matrix_np.shape[0] - 1)\n",
    "        self.num_layers = num_layers \n",
    "        self.hidden_size = hidden_size \n",
    "        self.rnn = nn.RNN(input_size, hidden_size, num_layers, batch_first=True) # this is the num rows of the input matrix \n",
    "        self.fc = nn.Linear(hidden_size, num_classes)\n",
    "        self.sigmoid = nn.Sigmoid()\n",
    " \n",
    "    def forward(self, x):\n",
    "        # Pass input through embedding layer\n",
    "        x = self.embedding(x)\n",
    "        h0 = torch.zeros(self.num_layers, x.size(0), self.hidden_size, dtype=torch.float).to(x.device)\n",
    "        # Pass the embeddings through the RNN layer\n",
    "        out, _ = self.rnn(x, h0)\n",
    "        \n",
    "        # Max pooling\n",
    "        #print(\"before max pooling\", hidden.size())\n",
    "        \n",
    "        res, _ = torch.max(out, dim=1)\n",
    "        #print(res, hidden, hidden.size(), res.size())\n",
    "         \n",
    "        #print(\"after max pooling\", res.size())\n",
    "        # Only take the last output for each sequence\n",
    "        #out = out[:, -1, :]\n",
    "        # Pass through the fully connected layer\n",
    "        res = self.fc(res)\n",
    "        # Apply sigmoid activation (for binary classification)\n",
    "        res = self.sigmoid(res)\n",
    "\n",
    "        return res\n"
   ]
  },
  {
   "cell_type": "markdown",
   "metadata": {},
   "source": [
    "### 2. Max pooling"
   ]
  },
  {
   "cell_type": "code",
   "execution_count": 24,
   "metadata": {},
   "outputs": [],
   "source": [
    "# using nn.Embeddings \n",
    "import torch\n",
    "import torch.nn as nn\n",
    "\n",
    "class VanillaRNNWithEmbedding(nn.Module):\n",
    "    def __init__(self, input_size, hidden_size, num_layers, num_classes, embedding_matrix_torch=torch.tensor(embedding_matrix_np, dtype=torch.float)):\n",
    "        super(VanillaRNNWithEmbedding, self).__init__()\n",
    "        # Embedding layer\n",
    "        self.embedding = nn.Embedding.from_pretrained(embedding_matrix_torch, freeze=True, padding_idx=embedding_matrix_np.shape[0] - 1)\n",
    "        self.num_layers = num_layers \n",
    "        self.hidden_size = hidden_size \n",
    "        self.rnn = nn.RNN(input_size, hidden_size, num_layers, batch_first=True) # this is the num rows of the input matrix \n",
    "        self.fc = nn.Linear(hidden_size, num_classes)\n",
    "        self.sigmoid = nn.Sigmoid()\n",
    " \n",
    "    def forward(self, x):\n",
    "        # Pass input through embedding layer\n",
    "        x = self.embedding(x)\n",
    "        h0 = torch.zeros(self.num_layers, x.size(0), self.hidden_size, dtype=torch.float).to(x.device)\n",
    "        # Pass the embeddings through the RNN layer\n",
    "        out, _ = self.rnn(x, h0)\n",
    "        \n",
    "        # Max pooling\n",
    "        #print(\"before max pooling\", hidden.size())\n",
    "        \n",
    "        res, _ = torch.max(out, dim=1)\n",
    "        #print(res, hidden, hidden.size(), res.size())\n",
    "         \n",
    "        #print(\"after max pooling\", res.size())\n",
    "        # Only take the last output for each sequence\n",
    "        #out = out[:, -1, :]\n",
    "        # Pass through the fully connected layer\n",
    "        res = self.fc(res)\n",
    "        # Apply sigmoid activation (for binary classification)\n",
    "        res = self.sigmoid(res)\n",
    "\n",
    "        return res\n"
   ]
  },
  {
   "cell_type": "code",
   "execution_count": 25,
   "metadata": {},
   "outputs": [
    {
     "name": "stdout",
     "output_type": "stream",
     "text": [
      "Epoch 1, Train Loss: 0.6801, Validate Loss: 0.6658\n",
      "Epoch:1 \tValidation Acc:0.6031894934333959 \tTrain Acc:0.5717467760844079\n",
      "Epoch 2, Train Loss: 0.6505, Validate Loss: 0.6559\n",
      "Epoch:2 \tValidation Acc:0.6228893058161351 \tTrain Acc:0.6241500586166471\n",
      "Epoch 3, Train Loss: 0.6187, Validate Loss: 0.6517\n",
      "Epoch:3 \tValidation Acc:0.6341463414634146 \tTrain Acc:0.6588511137162955\n",
      "Epoch 4, Train Loss: 0.5951, Validate Loss: 0.6438\n",
      "Epoch:4 \tValidation Acc:0.6397748592870544 \tTrain Acc:0.6860492379835873\n",
      "Epoch 5, Train Loss: 0.5630, Validate Loss: 0.6814\n",
      "Epoch:5 \tValidation Acc:0.5947467166979362 \tTrain Acc:0.7118405627198124\n",
      "Epoch 6, Train Loss: 0.5218, Validate Loss: 0.6703\n",
      "Epoch:6 \tValidation Acc:0.6228893058161351 \tTrain Acc:0.7468933177022274\n",
      "Epoch 7, Train Loss: 0.4834, Validate Loss: 0.6724\n",
      "Epoch:7 \tValidation Acc:0.6285178236397748 \tTrain Acc:0.7697538100820633\n",
      "Epoch 8, Train Loss: 0.4330, Validate Loss: 0.6695\n",
      "Epoch:8 \tValidation Acc:0.6463414634146342 \tTrain Acc:0.8071512309495897\n",
      "Epoch 9, Train Loss: 0.3845, Validate Loss: 0.7114\n",
      "Epoch:9 \tValidation Acc:0.6397748592870544 \tTrain Acc:0.8392731535756155\n",
      "Epoch 10, Train Loss: 0.3304, Validate Loss: 0.7187\n",
      "Epoch:10 \tValidation Acc:0.6444652908067542 \tTrain Acc:0.868464243845252\n",
      "Epoch 11, Train Loss: 0.2698, Validate Loss: 0.7506\n",
      "Epoch:11 \tValidation Acc:0.6350844277673546 \tTrain Acc:0.9014067995310668\n",
      "Epoch 12, Train Loss: 0.2289, Validate Loss: 0.8001\n",
      "Epoch:12 \tValidation Acc:0.6322701688555347 \tTrain Acc:0.9203985932004689\n",
      "Epoch 13, Train Loss: 0.1684, Validate Loss: 0.9080\n",
      "Epoch:13 \tValidation Acc:0.6219512195121951 \tTrain Acc:0.9506447831184056\n",
      "Epoch 14, Train Loss: 0.1156, Validate Loss: 0.8883\n",
      "Epoch:14 \tValidation Acc:0.651031894934334 \tTrain Acc:0.9756154747948418\n",
      "Epoch 15, Train Loss: 0.0778, Validate Loss: 0.9780\n",
      "Epoch:15 \tValidation Acc:0.626641651031895 \tTrain Acc:0.9881594372801876\n",
      "Epoch 16, Train Loss: 0.0512, Validate Loss: 1.0272\n",
      "Epoch:16 \tValidation Acc:0.6407129455909943 \tTrain Acc:0.9969519343493553\n",
      "Epoch 17, Train Loss: 0.0324, Validate Loss: 1.1178\n",
      "Epoch:17 \tValidation Acc:0.6369606003752345 \tTrain Acc:0.9987104337631888\n",
      "Epoch 18, Train Loss: 0.0189, Validate Loss: 1.1326\n",
      "Epoch:18 \tValidation Acc:0.648217636022514 \tTrain Acc:0.9998827667057444\n"
     ]
    },
    {
     "ename": "KeyboardInterrupt",
     "evalue": "",
     "output_type": "error",
     "traceback": [
      "\u001b[1;31m---------------------------------------------------------------------------\u001b[0m",
      "\u001b[1;31mKeyboardInterrupt\u001b[0m                         Traceback (most recent call last)",
      "Cell \u001b[1;32mIn[25], line 19\u001b[0m\n\u001b[0;32m     17\u001b[0m train_losses, validate_losses \u001b[38;5;241m=\u001b[39m [], []\n\u001b[0;32m     18\u001b[0m \u001b[38;5;28;01mfor\u001b[39;00m i \u001b[38;5;129;01min\u001b[39;00m \u001b[38;5;28mrange\u001b[39m(NUM_EPOCHS):\n\u001b[1;32m---> 19\u001b[0m   train_loss, train_correct \u001b[38;5;241m=\u001b[39m \u001b[43mtrain_loop_bce\u001b[49m\u001b[43m(\u001b[49m\u001b[43mtrain_dataloader2\u001b[49m\u001b[43m,\u001b[49m\u001b[43m \u001b[49m\u001b[43mRNN_embeddings_model\u001b[49m\u001b[43m,\u001b[49m\u001b[43m \u001b[49m\u001b[43mcriterion\u001b[49m\u001b[43m,\u001b[49m\u001b[43m \u001b[49m\u001b[43moptim\u001b[49m\u001b[43m)\u001b[49m \n\u001b[0;32m     20\u001b[0m   validate_loss, validate_correct \u001b[38;5;241m=\u001b[39m test_loop_bce(validation_dataloader2, RNN_embeddings_model, criterion)\n\u001b[0;32m     21\u001b[0m   validation_acc\u001b[38;5;241m.\u001b[39mappend(validate_correct)\n",
      "Cell \u001b[1;32mIn[23], line 25\u001b[0m, in \u001b[0;36mtrain_loop_bce\u001b[1;34m(train_dataloader, model, loss_fn, optimizer)\u001b[0m\n\u001b[0;32m     23\u001b[0m     \u001b[38;5;66;03m# Backpropagation\u001b[39;00m\n\u001b[0;32m     24\u001b[0m     optimizer\u001b[38;5;241m.\u001b[39mzero_grad()\n\u001b[1;32m---> 25\u001b[0m     \u001b[43mloss\u001b[49m\u001b[38;5;241;43m.\u001b[39;49m\u001b[43mbackward\u001b[49m\u001b[43m(\u001b[49m\u001b[43m)\u001b[49m\n\u001b[0;32m     26\u001b[0m     optimizer\u001b[38;5;241m.\u001b[39mstep()\n\u001b[0;32m     28\u001b[0m train_loss \u001b[38;5;241m/\u001b[39m\u001b[38;5;241m=\u001b[39m num_batches \n",
      "File \u001b[1;32mc:\\Users\\USER\\Documents\\Github\\school\\nlp-2\\venv\\Lib\\site-packages\\torch\\_tensor.py:581\u001b[0m, in \u001b[0;36mTensor.backward\u001b[1;34m(self, gradient, retain_graph, create_graph, inputs)\u001b[0m\n\u001b[0;32m    571\u001b[0m \u001b[38;5;28;01mif\u001b[39;00m has_torch_function_unary(\u001b[38;5;28mself\u001b[39m):\n\u001b[0;32m    572\u001b[0m     \u001b[38;5;28;01mreturn\u001b[39;00m handle_torch_function(\n\u001b[0;32m    573\u001b[0m         Tensor\u001b[38;5;241m.\u001b[39mbackward,\n\u001b[0;32m    574\u001b[0m         (\u001b[38;5;28mself\u001b[39m,),\n\u001b[1;32m   (...)\u001b[0m\n\u001b[0;32m    579\u001b[0m         inputs\u001b[38;5;241m=\u001b[39minputs,\n\u001b[0;32m    580\u001b[0m     )\n\u001b[1;32m--> 581\u001b[0m \u001b[43mtorch\u001b[49m\u001b[38;5;241;43m.\u001b[39;49m\u001b[43mautograd\u001b[49m\u001b[38;5;241;43m.\u001b[39;49m\u001b[43mbackward\u001b[49m\u001b[43m(\u001b[49m\n\u001b[0;32m    582\u001b[0m \u001b[43m    \u001b[49m\u001b[38;5;28;43mself\u001b[39;49m\u001b[43m,\u001b[49m\u001b[43m \u001b[49m\u001b[43mgradient\u001b[49m\u001b[43m,\u001b[49m\u001b[43m \u001b[49m\u001b[43mretain_graph\u001b[49m\u001b[43m,\u001b[49m\u001b[43m \u001b[49m\u001b[43mcreate_graph\u001b[49m\u001b[43m,\u001b[49m\u001b[43m \u001b[49m\u001b[43minputs\u001b[49m\u001b[38;5;241;43m=\u001b[39;49m\u001b[43minputs\u001b[49m\n\u001b[0;32m    583\u001b[0m \u001b[43m\u001b[49m\u001b[43m)\u001b[49m\n",
      "File \u001b[1;32mc:\\Users\\USER\\Documents\\Github\\school\\nlp-2\\venv\\Lib\\site-packages\\torch\\autograd\\__init__.py:347\u001b[0m, in \u001b[0;36mbackward\u001b[1;34m(tensors, grad_tensors, retain_graph, create_graph, grad_variables, inputs)\u001b[0m\n\u001b[0;32m    342\u001b[0m     retain_graph \u001b[38;5;241m=\u001b[39m create_graph\n\u001b[0;32m    344\u001b[0m \u001b[38;5;66;03m# The reason we repeat the same comment below is that\u001b[39;00m\n\u001b[0;32m    345\u001b[0m \u001b[38;5;66;03m# some Python versions print out the first line of a multi-line function\u001b[39;00m\n\u001b[0;32m    346\u001b[0m \u001b[38;5;66;03m# calls in the traceback and some print out the last line\u001b[39;00m\n\u001b[1;32m--> 347\u001b[0m \u001b[43m_engine_run_backward\u001b[49m\u001b[43m(\u001b[49m\n\u001b[0;32m    348\u001b[0m \u001b[43m    \u001b[49m\u001b[43mtensors\u001b[49m\u001b[43m,\u001b[49m\n\u001b[0;32m    349\u001b[0m \u001b[43m    \u001b[49m\u001b[43mgrad_tensors_\u001b[49m\u001b[43m,\u001b[49m\n\u001b[0;32m    350\u001b[0m \u001b[43m    \u001b[49m\u001b[43mretain_graph\u001b[49m\u001b[43m,\u001b[49m\n\u001b[0;32m    351\u001b[0m \u001b[43m    \u001b[49m\u001b[43mcreate_graph\u001b[49m\u001b[43m,\u001b[49m\n\u001b[0;32m    352\u001b[0m \u001b[43m    \u001b[49m\u001b[43minputs\u001b[49m\u001b[43m,\u001b[49m\n\u001b[0;32m    353\u001b[0m \u001b[43m    \u001b[49m\u001b[43mallow_unreachable\u001b[49m\u001b[38;5;241;43m=\u001b[39;49m\u001b[38;5;28;43;01mTrue\u001b[39;49;00m\u001b[43m,\u001b[49m\n\u001b[0;32m    354\u001b[0m \u001b[43m    \u001b[49m\u001b[43maccumulate_grad\u001b[49m\u001b[38;5;241;43m=\u001b[39;49m\u001b[38;5;28;43;01mTrue\u001b[39;49;00m\u001b[43m,\u001b[49m\n\u001b[0;32m    355\u001b[0m \u001b[43m\u001b[49m\u001b[43m)\u001b[49m\n",
      "File \u001b[1;32mc:\\Users\\USER\\Documents\\Github\\school\\nlp-2\\venv\\Lib\\site-packages\\torch\\autograd\\graph.py:825\u001b[0m, in \u001b[0;36m_engine_run_backward\u001b[1;34m(t_outputs, *args, **kwargs)\u001b[0m\n\u001b[0;32m    823\u001b[0m     unregister_hooks \u001b[38;5;241m=\u001b[39m _register_logging_hooks_on_whole_graph(t_outputs)\n\u001b[0;32m    824\u001b[0m \u001b[38;5;28;01mtry\u001b[39;00m:\n\u001b[1;32m--> 825\u001b[0m     \u001b[38;5;28;01mreturn\u001b[39;00m \u001b[43mVariable\u001b[49m\u001b[38;5;241;43m.\u001b[39;49m\u001b[43m_execution_engine\u001b[49m\u001b[38;5;241;43m.\u001b[39;49m\u001b[43mrun_backward\u001b[49m\u001b[43m(\u001b[49m\u001b[43m  \u001b[49m\u001b[38;5;66;43;03m# Calls into the C++ engine to run the backward pass\u001b[39;49;00m\n\u001b[0;32m    826\u001b[0m \u001b[43m        \u001b[49m\u001b[43mt_outputs\u001b[49m\u001b[43m,\u001b[49m\u001b[43m \u001b[49m\u001b[38;5;241;43m*\u001b[39;49m\u001b[43margs\u001b[49m\u001b[43m,\u001b[49m\u001b[43m \u001b[49m\u001b[38;5;241;43m*\u001b[39;49m\u001b[38;5;241;43m*\u001b[39;49m\u001b[43mkwargs\u001b[49m\n\u001b[0;32m    827\u001b[0m \u001b[43m    \u001b[49m\u001b[43m)\u001b[49m  \u001b[38;5;66;03m# Calls into the C++ engine to run the backward pass\u001b[39;00m\n\u001b[0;32m    828\u001b[0m \u001b[38;5;28;01mfinally\u001b[39;00m:\n\u001b[0;32m    829\u001b[0m     \u001b[38;5;28;01mif\u001b[39;00m attach_logging_hooks:\n",
      "\u001b[1;31mKeyboardInterrupt\u001b[0m: "
     ]
    }
   ],
   "source": [
    "RNN_embeddings_model = VanillaRNNWithEmbedding(input_size=EMBEDDING_DIM, hidden_size=HIDDEN_SIZE, num_layers=2, num_classes=1)\n",
    "optim = torch.optim.Adam(RNN_embeddings_model.parameters(), lr=0.0001)\n",
    "\n",
    "\n",
    "train_dataset_ed2 = EmbeddingsDataset(train_dataset['text'], train_dataset['label'], num_tokens_per_sentence=25)\n",
    "validation_dataset_ed2 = EmbeddingsDataset(validation_dataset['text'], validation_dataset['label'], num_tokens_per_sentence=25)\n",
    "# test_dataset_ed2 = EmbeddingsDataset(test_dataset['text'], test_dataset['label'])\n",
    "\n",
    "\n",
    "train_dataloader2 = DataLoader(train_dataset_ed2, batch_size=BATCH_SIZE, shuffle=True)\n",
    "validation_dataloader2 = DataLoader(validation_dataset_ed2, batch_size=BATCH_SIZE, shuffle=True)\n",
    "\n",
    "criterion = nn.BCELoss()\n",
    "\n",
    "validation_acc = [] \n",
    "train_acc = []\n",
    "train_losses, validate_losses = [], []\n",
    "for i in range(NUM_EPOCHS):\n",
    "  train_loss, train_correct = train_loop_bce(train_dataloader2, RNN_embeddings_model, criterion, optim) \n",
    "  validate_loss, validate_correct = test_loop_bce(validation_dataloader2, RNN_embeddings_model, criterion)\n",
    "  validation_acc.append(validate_correct)\n",
    "  train_acc.append(train_correct)\n",
    "  train_losses.append(train_loss)\n",
    "  validate_losses.append(validate_loss)\n",
    "\n",
    "  print(f\"Epoch {i+1}, Train Loss: {train_loss:.4f}, Validate Loss: {validate_loss:.4f}\")\n",
    "  #if i%10 == 0:\n",
    "  print(f\"Epoch:{i+1} \\tValidation Acc:{validate_correct} \\tTrain Acc:{train_correct}\")"
   ]
  },
  {
   "cell_type": "code",
   "execution_count": 29,
   "metadata": {},
   "outputs": [
    {
     "data": {
      "image/png": "[encoded data removed]",
      "text/plain": [
       "<Figure size 640x480 with 1 Axes>"
      ]
     },
     "metadata": {},
     "output_type": "display_data"
    }
   ],
   "source": [
    "plot(validation_acc, train_acc, x_label=\"Epochs\", y_label=\"Accuracy\", title=\"Accuracy vs Epochs\")"
   ]
  },
  {
   "cell_type": "code",
   "execution_count": null,
   "metadata": {},
   "outputs": [],
   "source": []
  }
 ],
 "metadata": {
  "kernelspec": {
   "display_name": "venv",
   "language": "python",
   "name": "python3"
  },
  "language_info": {
   "codemirror_mode": {
    "name": "ipython",
    "version": 3
   },
   "file_extension": ".py",
   "mimetype": "text/x-python",
   "name": "python",
   "nbconvert_exporter": "python",
   "pygments_lexer": "ipython3",
   "version": "3.12.0"
  }
 },
 "nbformat": 4,
 "nbformat_minor": 2
}
