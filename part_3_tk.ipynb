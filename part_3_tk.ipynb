{
 "cells": [
  {
   "cell_type": "markdown",
   "metadata": {},
   "source": [
    "# Part 3. Enhancement\n",
    "The RNN model used in Part 2 is a basic model to perform the task of sentiment classification. In\n",
    "this section, you will design strategies to improve upon the previous model you have built. You are\n",
    "required to implement the following adjustments:\n",
    "\n",
    "1. Instead of keeping the word embeddings fixed, now update the word embeddings (the same\n",
    "way as model parameters) during the training process.\n",
    "2. As discussed in Question 1(c), apply your solution in mitigating the influence of OOV words\n",
    "and train your model again.\n",
    "3. Keeping the above two adjustments, replace your simple RNN model in Part 2 with a biLSTM model and a biGRU model, incorporating recurrent computations in both directions and\n",
    "stacking multiple layers if possible.\n",
    "4. Keeping the above two adjustments, replace your simple RNN model in Part 2 with a Convolutional Neural Network (CNN) to produce sentence representations and perform sentiment\n",
    "classification.\n",
    "5. Further improve your model. You are free to use any strategy other than the above mentioned solutions. Changing hyper-parameters or stacking more layers is not counted towards\n",
    "a meaningful improvement.\n"
   ]
  },
  {
   "cell_type": "markdown",
   "metadata": {},
   "source": [
    "## Question 1\n",
    "\n",
    "Instead of keeping the word embeddings fixed, now update the word embeddings (the same\n",
    "way as model parameters) during the training process.\n",
    "\n",
    "### Approach\n",
    "\n",
    "We will use the same model as in part 2 notebook, but now we will also back propagate\n",
    "the loss into the word embeddings itself. This will mean that as the model learns,\n",
    "the word embeddings would also update, causing the encoding of the words to change."
   ]
  },
  {
   "cell_type": "code",
   "execution_count": 1,
   "metadata": {},
   "outputs": [],
   "source": [
    "import numpy as np\n",
    "import torch\n",
    "import torch.nn as nn\n",
    "import torch.optim as optim\n",
    "from common_utils import EmbeddingMatrix"
   ]
  },
  {
   "cell_type": "code",
   "execution_count": 3,
   "metadata": {},
   "outputs": [],
   "source": [
    "from common_utils import CustomDatasetPreparer, BATCH_SIZE\n",
    "\n",
    "\n",
    "dataset_preparer = CustomDatasetPreparer(\n",
    "    dataset_name=\"rotten_tomatoes\",\n",
    "    batch_size=BATCH_SIZE\n",
    ")\n",
    "\n",
    "train_loader, val_loader, test_loader = dataset_preparer.get_dataloaders()"
   ]
  },
  {
   "cell_type": "code",
   "execution_count": 4,
   "metadata": {},
   "outputs": [
    {
     "name": "stdout",
     "output_type": "stream",
     "text": [
      "Sample input: \n",
      " tensor([[14820, 16164,  6541,  ..., 16163, 16163, 16163],\n",
      "        [ 6712,  4297,    27,  ..., 16163, 16163, 16163],\n",
      "        [13575,  4461,    21,  ..., 16163, 16163, 16163],\n",
      "        ...,\n",
      "        [16042,  7778,  2215,  ..., 16163, 16163, 16163],\n",
      "        [14339, 12868,  9793,  ..., 16163, 16163, 16163],\n",
      "        [10966, 14339,  1483,  ..., 16163, 16163, 16163]])\n",
      "\n",
      "Sample label size:  torch.Size([50])\n",
      "Sample label: \n",
      " tensor([1, 0, 0, 1, 1, 0, 0, 1, 1, 1, 0, 1, 1, 0, 1, 1, 1, 0, 1, 0, 0, 1, 1, 0,\n",
      "        0, 1, 1, 0, 1, 1, 1, 0, 1, 1, 0, 1, 1, 0, 0, 0, 1, 0, 1, 1, 0, 1, 1, 1,\n",
      "        1, 1])\n",
      "\n",
      "Sample label size:  torch.Size([50])\n",
      "Sample label: \n",
      " tensor([15, 21, 38, 14,  6, 29, 14,  8, 36, 33, 12, 32, 20, 32, 25, 26, 25, 18,\n",
      "         9, 29, 25, 10, 20, 16, 30, 31, 19, 35, 42, 16, 33, 16, 26,  9, 12, 26,\n",
      "        31, 44,  4, 33, 34, 18, 24, 32, 26, 16, 25, 29, 27, 11])\n"
     ]
    }
   ],
   "source": [
    "# obtain one batch of training data\n",
    "dataiter = iter(train_loader)\n",
    "sample_x,_,lenghts, sample_y = next(dataiter)\n",
    "\n",
    "# print('Sample input size: ', sample_x.size()) # batch_size, seq_length\n",
    "print('Sample input: \\n', sample_x)\n",
    "print()\n",
    "print('Sample label size: ', sample_y.size()) # batch_size\n",
    "print('Sample label: \\n', sample_y)\n",
    "print()\n",
    "print('Sample label size: ', lenghts.size()) # batch_size\n",
    "print('Sample label: \\n', lenghts)"
   ]
  },
  {
   "cell_type": "code",
   "execution_count": 29,
   "metadata": {},
   "outputs": [
    {
     "name": "stdout",
     "output_type": "stream",
     "text": [
      "The index of <PAD> is:  16163\n"
     ]
    }
   ],
   "source": [
    "class RNN(nn.Module):\n",
    "\n",
    "    def __init__(\n",
    "        self,\n",
    "        hidden_dim: int,\n",
    "        embedding_dim: int,\n",
    "        word_embeddings: torch.Tensor,\n",
    "        pad_idx,\n",
    "        num_layers=1,\n",
    "        output_size=1,\n",
    "        dropout_rate=0\n",
    "    ):\n",
    "        super().__init__()\n",
    "        self.hidden_dim = hidden_dim\n",
    "        self.num_layers = num_layers\n",
    "        self.dropout_rate = dropout_rate\n",
    "        self.embedding = nn.Embedding.from_pretrained(word_embeddings, freeze=False, padding_idx=pad_idx)\n",
    "        self.rnn = nn.RNN(\n",
    "            embedding_dim, hidden_dim, num_layers, batch_first=True\n",
    "        )  # this is the num rows of the input matrix\n",
    "        self.fc = nn.Linear(hidden_dim, output_size)\n",
    "        self.sigmoid = nn.Sigmoid()\n",
    "        \n",
    "        self.dropout = nn.Dropout(dropout_rate)\n",
    "\n",
    "    def forward(self, x, text_lengths):\n",
    "        embedded = self.embedding(x)\n",
    "        \n",
    "        h0 = torch.zeros(self.num_layers, x.size(0), self.hidden_dim).to(x.device)\n",
    "        \n",
    "        if self.dropout_rate > 0:\n",
    "            embedded = self.dropout(self.embedding(x)).float()\n",
    "        else:\n",
    "            embedded = self.embedding(x).float()\n",
    "        \n",
    "        # output, _ = self.rnn(embedded, h0)\n",
    "\n",
    "        packed_embedded = nn.utils.rnn.pack_padded_sequence(embedded, text_lengths, batch_first=True, enforce_sorted = False)\n",
    "        packed_output, _ = self.rnn(packed_embedded)\n",
    "        output, _ = nn.utils.rnn.pad_packed_sequence(packed_output, batch_first=True)\n",
    "        # print(\"Output shape: \", output.shape)\n",
    "        output, _ = torch.max(output, dim=1)\n",
    "        \n",
    "        # print(\"Output shape with max: \", output.shape)\n",
    "        # print(output)\n",
    "        \n",
    "        # if self.dropout_rate > 0:\n",
    "        #     output = self.dropout(output)\n",
    "        # # if num_layers > 1, we need to do max pooling\n",
    "        # if self.num_layers > 1:\n",
    "        #     output, _ = torch.max(output, 1)\n",
    "        # else:\n",
    "        #     output = output[:, -1, :]\n",
    "        \n",
    "        out = self.fc(output)  # Use the last output of the RNN for classification\n",
    "        # print(\"Output shape with fc: \", out.shape)\n",
    "        # print(out)\n",
    "        \n",
    "        sig_out = self.sigmoid(out)\n",
    "        sig_out = sig_out.squeeze(1)\n",
    "        # print(\"Sig_out shape: \", sig_out.shape)\n",
    "        return sig_out\n",
    "\n",
    "from common_utils import HIDDEN_SIZE, EMBEDDING_DIM, LEARNING_RATE\n",
    "# initialize word embeddings\n",
    "word_embeddings = EmbeddingMatrix.load()\n",
    "word_embeddings.add_padding()\n",
    "word_embeddings.add_unk_token()\n",
    "\n",
    "print(\"The index of <PAD> is: \", word_embeddings.pad_idx)\n",
    "\n",
    "\n",
    "basic_RNN = RNN(\n",
    "    hidden_dim=HIDDEN_SIZE,\n",
    "    embedding_dim=EMBEDDING_DIM,\n",
    "    word_embeddings=word_embeddings.to_tensor,\n",
    "    pad_idx=word_embeddings.pad_idx,\n",
    "    num_layers=1,\n",
    ")\n"
   ]
  },
  {
   "cell_type": "code",
   "execution_count": 30,
   "metadata": {},
   "outputs": [],
   "source": [
    "device = torch.device('cuda' if torch.cuda.is_available() else 'cpu')\n",
    "model = basic_RNN\n",
    "optimizer = optim.Adam(model.parameters(), lr=0.001)\n",
    "loss_fn = nn.BCELoss()\n",
    "scheduler = torch.optim.lr_scheduler.StepLR(optimizer, step_size=3, gamma=0.05)\n",
    "\n",
    "model = model.to(device)\n",
    "loss_fn = loss_fn.to(device)\n",
    "epochs = 100\n",
    "es_patience = 15"
   ]
  },
  {
   "cell_type": "code",
   "execution_count": 31,
   "metadata": {},
   "outputs": [
    {
     "name": "stderr",
     "output_type": "stream",
     "text": [
      "  1%|          | 1/100 [00:01<03:17,  2.00s/it]"
     ]
    },
    {
     "name": "stdout",
     "output_type": "stream",
     "text": [
      "epoch 1, train_loss 0.613947 train_acc 0.655686, val_loss 0.527035, val_acc 0.760788\n"
     ]
    },
    {
     "name": "stderr",
     "output_type": "stream",
     "text": [
      " 11%|█         | 11/100 [00:22<02:58,  2.01s/it]"
     ]
    },
    {
     "name": "stdout",
     "output_type": "stream",
     "text": [
      "epoch 11, train_loss 0.187221 train_acc 0.932943, val_loss 0.474870, val_acc 0.796435\n"
     ]
    },
    {
     "name": "stderr",
     "output_type": "stream",
     "text": [
      " 18%|█▊        | 18/100 [00:38<02:54,  2.13s/it]"
     ]
    },
    {
     "name": "stdout",
     "output_type": "stream",
     "text": [
      "early stopping after 19 epochs\n",
      "best val loss: 0.4656761735677719\n",
      "best accuracy on val set: 0.7964352720450282\n"
     ]
    },
    {
     "name": "stderr",
     "output_type": "stream",
     "text": [
      "\n"
     ]
    }
   ],
   "source": [
    "# function to predict accuracy\n",
    "def acc(pred,label):\n",
    "    pred = torch.round(pred.squeeze())\n",
    "    return torch.sum(pred == label).item()\n",
    "\n",
    "# training\n",
    "def train_loop(train_loader, model, loss_fn, optimizer, scheduler, max_norm = 5):\n",
    "    train_loss = []\n",
    "    train_acc = 0.0\n",
    "    model.train()\n",
    "    for X, extra_features, lengths, Y in train_loader:\n",
    "        X, Y = X.to(device), Y.to(device)   \n",
    "\n",
    "        optimizer.zero_grad()\n",
    "        output = model(X, lengths)\n",
    "        \n",
    "        # calculate the loss and perform backprop\n",
    "        loss = loss_fn(output.squeeze(), Y.float())\n",
    "        train_loss.append(loss.item())\n",
    "        loss.backward()\n",
    "        \n",
    "        # calculating accuracy\n",
    "        accuracy = acc(output,Y)\n",
    "        train_acc += accuracy\n",
    "        \n",
    "        #`clip_grad_norm` helps prevent the exploding gradient problem in RNNs / LSTMs.\n",
    "        nn.utils.clip_grad_norm_(model.parameters(), max_norm)\n",
    "        optimizer.step()\n",
    "        \n",
    "    scheduler.step()\n",
    "    epoch_train_loss = np.mean(train_loss)\n",
    "    epoch_train_acc = train_acc/len(train_loader.dataset)\n",
    "\n",
    "    return epoch_train_loss, epoch_train_acc\n",
    "\n",
    "\n",
    "def test_loop(test_loader, model, loss_fn):\n",
    "    test_loss = []\n",
    "    test_acc = 0.0\n",
    "    model.eval()\n",
    "    with torch.no_grad():\n",
    "        for X,extra_features, lengths, Y in test_loader:\n",
    "            X, Y = X.to(device), Y.to(device)   \n",
    "\n",
    "            optimizer.zero_grad()\n",
    "            output = model(X, lengths)\n",
    "            \n",
    "            # calculate the loss and perform backprop\n",
    "            loss = loss_fn(output.squeeze(), Y.float())\n",
    "\n",
    "            test_loss.append(loss.item())\n",
    "            # calculating accuracy\n",
    "            accuracy = acc(output,Y)\n",
    "            test_acc += accuracy\n",
    "\n",
    "    epoch_test_loss = np.mean(test_loss)\n",
    "    epoch_test_acc = test_acc/len(test_loader.dataset)\n",
    "\n",
    "    return epoch_test_loss, epoch_test_acc\n",
    "\n",
    "best_val_loss = np.inf\n",
    "best_acc = 0\n",
    "train_loss_, train_acc_, val_loss_, val_acc_ = [], [], [], []\n",
    "from tqdm import tqdm\n",
    "# start training\n",
    "for epoch in tqdm(range(epochs)):\n",
    "    train_loss, train_acc = train_loop(train_loader, model, loss_fn, optimizer, scheduler)\n",
    "    val_loss, val_acc = test_loop(val_loader, model, loss_fn)\n",
    "\n",
    "    train_loss_.append(train_loss), train_acc_.append(train_acc)\n",
    "    val_loss_.append(val_loss), val_acc_.append(val_acc)\n",
    "\n",
    "    if val_acc > best_acc:\n",
    "        best_acc = val_acc\n",
    "    # early stopping\n",
    "    if val_loss < best_val_loss:\n",
    "        best_val_loss = val_loss\n",
    "        epochs_without_improvement = 0\n",
    "        best_model = model.state_dict()\n",
    "    else:\n",
    "        epochs_without_improvement += 1\n",
    "        if epochs_without_improvement >= es_patience:\n",
    "            print(f'early stopping after {epoch+1} epochs')\n",
    "            print(f'best val loss: {best_val_loss}')\n",
    "            print(f'best accuracy on val set: {best_acc}')\n",
    "            break\n",
    "\n",
    "    if epoch % 10 == 0:\n",
    "        print(f\"epoch {epoch+1}, train_loss {train_loss:>7f} train_acc {train_acc:>4f}, val_loss {val_loss:>7f}, val_acc {val_acc:>4f}\")"
   ]
  },
  {
   "cell_type": "code",
   "execution_count": 32,
   "metadata": {},
   "outputs": [
    {
     "data": {
      "image/png": "[encoded data removed]",
      "text/plain": [
       "<Figure size 2000x600 with 2 Axes>"
      ]
     },
     "metadata": {},
     "output_type": "display_data"
    }
   ],
   "source": [
    "import matplotlib.pyplot as plt\n",
    "fig = plt.figure(figsize = (20, 6))\n",
    "plt.subplot(1, 2, 1)\n",
    "plt.plot(train_acc_, label='Train Acc')\n",
    "plt.plot(val_acc_, label='Validation Acc')\n",
    "plt.title(\"Accuracy\")\n",
    "plt.legend()\n",
    "plt.grid()\n",
    "    \n",
    "plt.subplot(1, 2, 2)\n",
    "plt.plot(train_loss_, label='Train loss')\n",
    "plt.plot(val_loss_, label='Validation loss')\n",
    "plt.title(\"Loss\")\n",
    "plt.legend()\n",
    "plt.grid()\n",
    "\n",
    "plt.show()"
   ]
  },
  {
   "cell_type": "code",
   "execution_count": 33,
   "metadata": {},
   "outputs": [
    {
     "name": "stdout",
     "output_type": "stream",
     "text": [
      "test_loss 0.429601, test_acc 0.805816\n"
     ]
    }
   ],
   "source": [
    "test_loss, test_acc = test_loop(test_loader, model, loss_fn)\n",
    "print(f\"test_loss {test_loss:>7f}, test_acc {test_acc:>4f}\")"
   ]
  },
  {
   "cell_type": "markdown",
   "metadata": {},
   "source": [
    "## Question 2\n",
    "\n",
    "### Approach\n",
    "\n",
    "As discussed in part 1, we have mentioned 2 approaches to handling of the\n",
    "OOV words. We will now demonstrate the first approach, which is to replace the OOV\n",
    "words with a special token. We will replace the OOV words with a special token\n",
    "`<UNK>`."
   ]
  },
  {
   "cell_type": "code",
   "execution_count": null,
   "metadata": {},
   "outputs": [],
   "source": [
    "import json\n",
    "from common_utils import EMBEDDING_DIM, EMBEDDING_MATRIX_PATH, IDX2WORD_PATH, UNK_TOKEN, WORD2IDX_PATH, load_glove_embeddings\n",
    "\n",
    "\n",
    "w2v_model = EmbeddingMatrix.load()\n",
    "extended_vocab = w2v_model.vocab\n",
    "extended_vocab.add(UNK_TOKEN)\n",
    "\n",
    "glove_dict = load_glove_embeddings()\n",
    "\n",
    "# Collect words to be removed\n",
    "missing_words = []\n",
    "for word in extended_vocab:\n",
    "    if word not in glove_dict:\n",
    "        missing_words.append(word)\n",
    "\n",
    "# Remove missing words from vocab\n",
    "for word in missing_words:\n",
    "    extended_vocab.remove(word)\n",
    "        \n",
    "print(f\"Number of missing words: {len(missing_words)}\")\n",
    "print(f\"The missing words are: {missing_words}\")\n",
    "\n",
    "# mapping of words to indices and vice versa\n",
    "word2idx = {word: idx for idx, word in enumerate(sorted(extended_vocab))}\n",
    "idx2word = {idx: word for word, idx in word2idx.items()}\n",
    "\n",
    "print(\"Building embedding matrix...\")\n",
    "vocab_size = len(word2idx)\n",
    "print(f\"Vocab size: {vocab_size}\")\n",
    "embedding_matrix = np.zeros((vocab_size, EMBEDDING_DIM))\n",
    "\n",
    "for word, idx in word2idx.items():\n",
    "    embedding_matrix[idx] = glove_dict[word]\n",
    "\n",
    "# add random vector for unknown words\n",
    "embedding_matrix[word2idx[UNK_TOKEN]] = np.random.normal(scale=0.6, size=(EMBEDDING_DIM,))\n",
    "\n",
    "print(\"Embedding matrix built successfully.\")\n"
   ]
  },
  {
   "cell_type": "markdown",
   "metadata": {},
   "source": [
    "For the second approach, we will use the FastText embeddings, which are trained on\n",
    "subword information. This will help in encoding the OOV words as well."
   ]
  },
  {
   "cell_type": "code",
   "execution_count": null,
   "metadata": {},
   "outputs": [],
   "source": [
    "# Implementation of FastText for word embedding\n",
    "import gensim\n",
    "from gensim.models import FastText\n",
    "from common_utils import EMBEDDING_DIM\n",
    "# Create a FastText model with the same dimensions as the Word2Vec model\n",
    "fasttext_model = FastText(\n",
    "    vector_size=EMBEDDING_DIM,\n",
    "    window=5, # context window size \n",
    "    min_count=1, # threshold for word frequency\n",
    "    workers=4\n",
    ")"
   ]
  },
  {
   "cell_type": "code",
   "execution_count": null,
   "metadata": {},
   "outputs": [],
   "source": [
    "from datasets import load_dataset, Dataset\n",
    "from common_utils import EmbeddingMatrix, tokenize\n",
    "import nltk\n",
    "dataset = load_dataset(\"rotten_tomatoes\")\n",
    "train_dataset = dataset['train']\n",
    "\n",
    "corpus = []\n",
    "for example in train_dataset:\n",
    "    tokens = nltk.word_tokenize(example['text'])\n",
    "    corpus.append(tokens)\n",
    "print(\"The corpus has {} documents.\".format(len(corpus)))"
   ]
  },
  {
   "cell_type": "code",
   "execution_count": null,
   "metadata": {},
   "outputs": [],
   "source": [
    "fasttext_model.build_vocab(corpus_iterable=corpus)\n",
    "# fasttext_model.build_vocab(corpus_iterable=corpus, update=True)\n",
    "\n",
    "print(\"Length of vocabulary:\", len(fasttext_model.wv.key_to_index))\n",
    "\n",
    "\n",
    "fasttext_model.train(\n",
    "    corpus_iterable=corpus, epochs=fasttext_model.epochs,\n",
    "    total_examples=fasttext_model.corpus_count, total_words=fasttext_model.corpus_total_words,\n",
    ")"
   ]
  },
  {
   "cell_type": "code",
   "execution_count": null,
   "metadata": {},
   "outputs": [],
   "source": [
    "\"computer\" in fasttext_model.wv.key_to_index"
   ]
  },
  {
   "cell_type": "code",
   "execution_count": null,
   "metadata": {},
   "outputs": [],
   "source": [
    "fasttext_vocab = set(fasttext_model.wv.key_to_index.keys())\n",
    "w2v_model = EmbeddingMatrix.load()"
   ]
  },
  {
   "cell_type": "code",
   "execution_count": null,
   "metadata": {},
   "outputs": [],
   "source": [
    "w2v_model.vocab - fasttext_vocab"
   ]
  },
  {
   "cell_type": "code",
   "execution_count": null,
   "metadata": {},
   "outputs": [],
   "source": [
    "fasttext_vocab - w2v_model.vocab"
   ]
  },
  {
   "cell_type": "code",
   "execution_count": null,
   "metadata": {},
   "outputs": [],
   "source": [
    "print(\"The FastText model has {} words.\".format(len(fasttext_model.wv.key_to_index)))\n",
    "print(\"The Word2Vec model has {} words.\".format(len(w2v_model.vocab)))\n",
    "print(\"The FastText model has {} words that are not in the Word2Vec model.\".format(len(fasttext_vocab - w2v_model.vocab)))\n",
    "print(\"The Word2Vec model has {} words that are not in the FastText model.\".format(len(w2v_model.vocab - fasttext_vocab)))"
   ]
  },
  {
   "cell_type": "code",
   "execution_count": null,
   "metadata": {},
   "outputs": [],
   "source": [
    "# save the FastText model\n",
    "fasttext_model.save(\"fasttext_model.model\")"
   ]
  },
  {
   "cell_type": "markdown",
   "metadata": {},
   "source": [
    "# Question 3. Enhancement\n",
    "(a) Report the accuracy score on the test set when the word embeddings are updated (Part 3.1).\n",
    "   \n",
    "(b) Report the accuracy score on the test set when applying your method to deal with OOV words\n",
    "in Part 3.2.\n",
    "   \n",
    "(c) Report the accuracy scores of biLSTM and biGRU on the test set (Part 3.3).\n",
    "   \n",
    "(d) Report the accuracy scores of CNN on the test set (Part 3.4).\n",
    "   \n",
    "(e) Describe your final improvement strategy in Part 3.5. Report the accuracy on the test set\n",
    "using your improved model.\n",
    "   \n",
    "(f) Compare the results across different solutions above and describe your observations with possible discussions.\n"
   ]
  }
 ],
 "metadata": {
  "kernelspec": {
   "display_name": ".venv",
   "language": "python",
   "name": "python3"
  },
  "language_info": {
   "codemirror_mode": {
    "name": "ipython",
    "version": 3
   },
   "file_extension": ".py",
   "mimetype": "text/x-python",
   "name": "python",
   "nbconvert_exporter": "python",
   "pygments_lexer": "ipython3",
   "version": "3.12.7"
  }
 },
 "nbformat": 4,
 "nbformat_minor": 2
}
