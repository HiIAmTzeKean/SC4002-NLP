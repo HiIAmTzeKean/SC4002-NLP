{
 "cells": [
  {
   "cell_type": "markdown",
   "metadata": {},
   "source": [
    "# Part 2. Model Training & Evaluation - RNN   \n",
    "Now with the pretrained word embeddings acquired from Part 1 and the dataset acquired from\n",
    "Part 0, you need to train a deep learning model for sentiment classification using the training set,\n",
    "conforming to these requirements:\n"
   ]
  },
  {
   "cell_type": "markdown",
   "metadata": {},
   "source": [
    "• Use the pretrained word embeddings from Part 1 as inputs; do not update them during training\n",
    "(they are “frozen”).   \n",
    "\n",
    "• Design a simple recurrent neural network (RNN), taking the input word embeddings, and\n",
    "predicting a sentiment label for each sentence. To do that, you need to consider how to\n",
    "aggregate the word representations to represent a sentence.   \n",
    "\n",
    "• Use the validation set to gauge the performance of the model for each epoch during training.\n",
    "You are required to use accuracy as the performance metric during validation and evaluation. \n",
    "   \n",
    "• Use the mini-batch strategy during training. You may choose any preferred optimizer (e.g.,\n",
    "SGD, Adagrad, Adam, RMSprop). Be careful when you choose your initial learning rate and\n",
    "mini-batch size. (You should use the validation set to determine the optimal configuration.)\n",
    "Train the model until the accuracy score on the validation set is not increasing for a few\n",
    "epochs.\n",
    "   \n",
    "• Evaluate your trained model on the test dataset, observing the accuracy score."
   ]
  },
  {
   "cell_type": "markdown",
   "metadata": {},
   "source": [
    "## Setup Environment"
   ]
  },
  {
   "cell_type": "code",
   "execution_count": 1,
   "metadata": {},
   "outputs": [],
   "source": [
    "import json\n",
    "# We omit warnings to keep the output clean\n",
    "import warnings\n",
    "warnings.simplefilter(action='ignore', category=UserWarning)\n",
    "\n",
    "import torch\n",
    "import torch.nn as nn\n",
    "import torch.nn.functional as F\n",
    "from torch.utils.data import Dataset, DataLoader\n",
    "from torch.nn.utils.rnn import pad_sequence\n",
    "\n",
    "import numpy as np\n",
    "from datasets import load_dataset\n",
    "import matplotlib.pyplot as plt \n",
    "import nltk\n",
    "\n",
    "from common_utils import load_glove_embeddings, set_seed, EmbeddingMatrix, EarlyStopper, EmbeddingsDataset"
   ]
  },
  {
   "cell_type": "code",
   "execution_count": 2,
   "metadata": {},
   "outputs": [],
   "source": [
    "# set seed \n",
    "set_seed()\n",
    "\n",
    "# initialize parameters\n",
    "BATCH_SIZE = 32\n",
    "INPUT_SIZE = 100 # word embedding size \n",
    "HIDDEN_SIZE = 128 # just as a starter to see \n",
    "NUM_EPOCHS = 100 \n",
    "EMBEDDING_DIM=100\n",
    "GRADIENT_CLIP=5"
   ]
  },
  {
   "cell_type": "code",
   "execution_count": 3,
   "metadata": {},
   "outputs": [],
   "source": [
    "# load dataset from huggingface first \n",
    "dataset = load_dataset(\"rotten_tomatoes\")\n",
    "train_dataset = dataset['train']\n",
    "validation_dataset = dataset['validation']\n",
    "test_dataset = dataset['test']\n",
    "\n",
    "with open('result/word2idx.json', \"r\") as file:\n",
    "    word2idx = json.load(file)"
   ]
  },
  {
   "cell_type": "markdown",
   "metadata": {},
   "source": [
    "Let's add the padding token to the word embeddings."
   ]
  },
  {
   "cell_type": "code",
   "execution_count": 4,
   "metadata": {},
   "outputs": [
    {
     "name": "stdout",
     "output_type": "stream",
     "text": [
      "The index of <PAD> is:  16163\n",
      "tensor([0., 0., 0., 0., 0., 0., 0., 0., 0., 0., 0., 0., 0., 0., 0., 0., 0., 0., 0., 0., 0., 0., 0., 0.,\n",
      "        0., 0., 0., 0., 0., 0., 0., 0., 0., 0., 0., 0., 0., 0., 0., 0., 0., 0., 0., 0., 0., 0., 0., 0.,\n",
      "        0., 0., 0., 0., 0., 0., 0., 0., 0., 0., 0., 0., 0., 0., 0., 0., 0., 0., 0., 0., 0., 0., 0., 0.,\n",
      "        0., 0., 0., 0., 0., 0., 0., 0., 0., 0., 0., 0., 0., 0., 0., 0., 0., 0., 0., 0., 0., 0., 0., 0.,\n",
      "        0., 0., 0., 0.])\n"
     ]
    }
   ],
   "source": [
    "# initialize word embeddings\n",
    "word_embeddings = EmbeddingMatrix.load()\n",
    "word_embeddings.add_padding()\n",
    "\n",
    "print(\"The index of <PAD> is: \", word_embeddings.pad_idx)\n",
    "\n",
    "print(word_embeddings.to_tensor[word_embeddings.pad_idx])"
   ]
  },
  {
   "cell_type": "code",
   "execution_count": 5,
   "metadata": {},
   "outputs": [],
   "source": [
    "def pad_collate(batch, pad_value):\n",
    "    (xx, yy) = zip(*batch)\n",
    "    # convert xx to a tensor\n",
    "    xx = [torch.tensor(x, dtype=torch.int64) for x in xx]\n",
    "    xx_pad = pad_sequence(xx, batch_first=True, padding_value=pad_value)\n",
    "    return xx_pad, torch.tensor(yy, dtype=torch.long)"
   ]
  },
  {
   "cell_type": "markdown",
   "metadata": {},
   "source": [
    "### Datasets and Dataloaders\n",
    "\n",
    "As we are performing mini-batch processing, at each batch, the length of sequence of each input has to be the same. To tackle the issue of different sequence lengths, we used <PAD> token.\n",
    "\n",
    "Here, we create the datasets and dataloaders for the training, validation, and test sets. We also use the `pad_collate` function to pad the sequences in each batch.\n",
    "\n",
    "Noted that we have a sorted version of the dataset as well. We use it to explore if a sorted dataset helps with our training. This will be elaborated later."
   ]
  },
  {
   "cell_type": "code",
   "execution_count": 6,
   "metadata": {},
   "outputs": [
    {
     "ename": "AttributeError",
     "evalue": "'EmbeddingMatrix' object has no attribute 'unk_idx'",
     "output_type": "error",
     "traceback": [
      "\u001b[1;31m---------------------------------------------------------------------------\u001b[0m",
      "\u001b[1;31mAttributeError\u001b[0m                            Traceback (most recent call last)",
      "Cell \u001b[1;32mIn[6], line 1\u001b[0m\n\u001b[1;32m----> 1\u001b[0m train_dataset_ed \u001b[38;5;241m=\u001b[39m \u001b[43mEmbeddingsDataset\u001b[49m\u001b[43m(\u001b[49m\n\u001b[0;32m      2\u001b[0m \u001b[43m    \u001b[49m\u001b[43mtrain_dataset\u001b[49m\u001b[43m[\u001b[49m\u001b[38;5;124;43m\"\u001b[39;49m\u001b[38;5;124;43mtext\u001b[39;49m\u001b[38;5;124;43m\"\u001b[39;49m\u001b[43m]\u001b[49m\u001b[43m,\u001b[49m\u001b[43m \u001b[49m\u001b[43mtrain_dataset\u001b[49m\u001b[43m[\u001b[49m\u001b[38;5;124;43m\"\u001b[39;49m\u001b[38;5;124;43mlabel\u001b[39;49m\u001b[38;5;124;43m\"\u001b[39;49m\u001b[43m]\u001b[49m\u001b[43m,\u001b[49m\n\u001b[0;32m      3\u001b[0m \u001b[43m    \u001b[49m\u001b[43mword_embeddings\u001b[49m\u001b[38;5;241;43m=\u001b[39;49m\u001b[43mword_embeddings\u001b[49m\n\u001b[0;32m      4\u001b[0m \u001b[43m)\u001b[49m\n\u001b[0;32m      5\u001b[0m validation_dataset_ed \u001b[38;5;241m=\u001b[39m EmbeddingsDataset(\n\u001b[0;32m      6\u001b[0m     validation_dataset[\u001b[38;5;124m\"\u001b[39m\u001b[38;5;124mtext\u001b[39m\u001b[38;5;124m\"\u001b[39m], validation_dataset[\u001b[38;5;124m\"\u001b[39m\u001b[38;5;124mlabel\u001b[39m\u001b[38;5;124m\"\u001b[39m],\n\u001b[0;32m      7\u001b[0m     word_embeddings\u001b[38;5;241m=\u001b[39mword_embeddings\n\u001b[0;32m      8\u001b[0m )\n\u001b[0;32m      9\u001b[0m test_dataset_ed \u001b[38;5;241m=\u001b[39m EmbeddingsDataset(test_dataset[\u001b[38;5;124m\"\u001b[39m\u001b[38;5;124mtext\u001b[39m\u001b[38;5;124m\"\u001b[39m], test_dataset[\u001b[38;5;124m\"\u001b[39m\u001b[38;5;124mlabel\u001b[39m\u001b[38;5;124m\"\u001b[39m],\n\u001b[0;32m     10\u001b[0m     word_embeddings\u001b[38;5;241m=\u001b[39mword_embeddings)\n",
      "File \u001b[1;32mc:\\Users\\USER\\Documents\\Github\\school\\nlp-4\\common_utils.py:221\u001b[0m, in \u001b[0;36mEmbeddingsDataset.__init__\u001b[1;34m(self, X, y, word_embeddings, sort, ignore_unknown, allow_unknown)\u001b[0m\n\u001b[0;32m    219\u001b[0m \u001b[38;5;28mself\u001b[39m\u001b[38;5;241m.\u001b[39mallow_unknown \u001b[38;5;241m=\u001b[39m allow_unknown\n\u001b[0;32m    220\u001b[0m \u001b[38;5;28;01mfor\u001b[39;00m sentence \u001b[38;5;129;01min\u001b[39;00m X:\n\u001b[1;32m--> 221\u001b[0m     tokens \u001b[38;5;241m=\u001b[39m \u001b[38;5;28;43mself\u001b[39;49m\u001b[38;5;241;43m.\u001b[39;49m\u001b[43mtokenize_sentence\u001b[49m\u001b[43m(\u001b[49m\u001b[43msentence\u001b[49m\u001b[43m)\u001b[49m\n\u001b[0;32m    222\u001b[0m     tokenized_sentences\u001b[38;5;241m.\u001b[39mappend(tokens)\n\u001b[0;32m    224\u001b[0m \u001b[38;5;66;03m# Combine tokens, labels, and lengths into a list of tuples\u001b[39;00m\n",
      "File \u001b[1;32mc:\\Users\\USER\\Documents\\Github\\school\\nlp-4\\common_utils.py:253\u001b[0m, in \u001b[0;36mEmbeddingsDataset.tokenize_sentence\u001b[1;34m(self, x)\u001b[0m\n\u001b[0;32m    248\u001b[0m \u001b[38;5;66;03m# word tokens to index, skip if token is not in the word embeddings\u001b[39;00m\n\u001b[0;32m    249\u001b[0m \u001b[38;5;28;01mif\u001b[39;00m \u001b[38;5;28mself\u001b[39m\u001b[38;5;241m.\u001b[39mignore_unknown:\n\u001b[0;32m    250\u001b[0m     tokens \u001b[38;5;241m=\u001b[39m [\n\u001b[0;32m    251\u001b[0m         \u001b[38;5;28mself\u001b[39m\u001b[38;5;241m.\u001b[39mword_embeddings\u001b[38;5;241m.\u001b[39mget_idx(token)\n\u001b[0;32m    252\u001b[0m         \u001b[38;5;28;01mfor\u001b[39;00m token \u001b[38;5;129;01min\u001b[39;00m tokens\n\u001b[1;32m--> 253\u001b[0m         \u001b[38;5;28;01mif\u001b[39;00m \u001b[38;5;28;43mself\u001b[39;49m\u001b[38;5;241;43m.\u001b[39;49m\u001b[43mword_embeddings\u001b[49m\u001b[38;5;241;43m.\u001b[39;49m\u001b[43mget_idx\u001b[49m\u001b[43m(\u001b[49m\u001b[43mtoken\u001b[49m\u001b[43m)\u001b[49m \u001b[38;5;129;01mis\u001b[39;00m \u001b[38;5;129;01mnot\u001b[39;00m \u001b[38;5;28mself\u001b[39m\u001b[38;5;241m.\u001b[39mword_embeddings\u001b[38;5;241m.\u001b[39munk_idx\n\u001b[0;32m    254\u001b[0m     ]\n\u001b[0;32m    255\u001b[0m \u001b[38;5;28;01melse\u001b[39;00m:\n\u001b[0;32m    256\u001b[0m     tokens \u001b[38;5;241m=\u001b[39m [\u001b[38;5;28mself\u001b[39m\u001b[38;5;241m.\u001b[39mword_embeddings\u001b[38;5;241m.\u001b[39mget_idx(token) \u001b[38;5;28;01mfor\u001b[39;00m token \u001b[38;5;129;01min\u001b[39;00m tokens]\n",
      "File \u001b[1;32mc:\\Users\\USER\\Documents\\Github\\school\\nlp-4\\common_utils.py:195\u001b[0m, in \u001b[0;36mEmbeddingMatrix.get_idx\u001b[1;34m(self, word)\u001b[0m\n\u001b[0;32m    192\u001b[0m \u001b[38;5;28;01mdef\u001b[39;00m \u001b[38;5;21mget_idx\u001b[39m(\u001b[38;5;28mself\u001b[39m, word: \u001b[38;5;28mstr\u001b[39m) \u001b[38;5;241m-\u001b[39m\u001b[38;5;241m>\u001b[39m \u001b[38;5;28mint\u001b[39m:\n\u001b[0;32m    193\u001b[0m     \u001b[38;5;66;03m# if word not in vocab, return None\u001b[39;00m\n\u001b[0;32m    194\u001b[0m     \u001b[38;5;28;01mif\u001b[39;00m \u001b[38;5;28mself\u001b[39m\u001b[38;5;241m.\u001b[39mhandle_unknown:\n\u001b[1;32m--> 195\u001b[0m         \u001b[38;5;28;01mreturn\u001b[39;00m \u001b[38;5;28mself\u001b[39m\u001b[38;5;241m.\u001b[39mword2idx\u001b[38;5;241m.\u001b[39mget(word, \u001b[38;5;28;43mself\u001b[39;49m\u001b[38;5;241;43m.\u001b[39;49m\u001b[43munk_idx\u001b[49m)\n\u001b[0;32m    197\u001b[0m     \u001b[38;5;28;01mreturn\u001b[39;00m \u001b[38;5;28mself\u001b[39m\u001b[38;5;241m.\u001b[39mword2idx\u001b[38;5;241m.\u001b[39mget(word, \u001b[38;5;28;01mNone\u001b[39;00m)\n",
      "\u001b[1;31mAttributeError\u001b[0m: 'EmbeddingMatrix' object has no attribute 'unk_idx'"
     ]
    }
   ],
   "source": [
    "train_dataset_ed = EmbeddingsDataset(\n",
    "    train_dataset[\"text\"], train_dataset[\"label\"],\n",
    "    word_embeddings=word_embeddings\n",
    ")\n",
    "validation_dataset_ed = EmbeddingsDataset(\n",
    "    validation_dataset[\"text\"], validation_dataset[\"label\"],\n",
    "    word_embeddings=word_embeddings\n",
    ")\n",
    "test_dataset_ed = EmbeddingsDataset(test_dataset[\"text\"], test_dataset[\"label\"],\n",
    "    word_embeddings=word_embeddings)\n",
    "\n",
    "pad_value = word_embeddings.pad_idx\n",
    "# implement minibatch training\n",
    "train_dataloader = DataLoader(\n",
    "    train_dataset_ed,\n",
    "    batch_size=BATCH_SIZE,\n",
    "    shuffle=True,\n",
    "    collate_fn=lambda x: pad_collate(x, pad_value),\n",
    ")\n",
    "validation_dataloader = DataLoader(\n",
    "    validation_dataset_ed,\n",
    "    batch_size=BATCH_SIZE,\n",
    "    shuffle=True,\n",
    "    collate_fn=lambda x: pad_collate(x, pad_value),\n",
    ")\n",
    "test_dataloader = DataLoader(\n",
    "    test_dataset_ed,\n",
    "    batch_size=BATCH_SIZE,\n",
    "    shuffle=True,\n",
    "    collate_fn=lambda x: pad_collate(x, pad_value),\n",
    ")"
   ]
  },
  {
   "cell_type": "code",
   "execution_count": null,
   "metadata": {},
   "outputs": [],
   "source": [
    "train_dataset_ed_sorted = EmbeddingsDataset(\n",
    "    train_dataset[\"text\"], train_dataset[\"label\"],\n",
    "    word_embeddings=word_embeddings,\n",
    "    sort=True,\n",
    ")\n",
    "validation_dataset_ed_sorted = EmbeddingsDataset(\n",
    "    validation_dataset[\"text\"], validation_dataset[\"label\"],\n",
    "    word_embeddings=word_embeddings,\n",
    "    sort=True,\n",
    ")\n",
    "test_dataset_ed_sorted = EmbeddingsDataset(test_dataset[\"text\"], test_dataset[\"label\"],\n",
    "    word_embeddings=word_embeddings)\n",
    "\n",
    "pad_value = word_embeddings.pad_idx\n",
    "# implement minibatch training\n",
    "train_dataloader_sorted = DataLoader(\n",
    "    train_dataset_ed_sorted,\n",
    "    batch_size=BATCH_SIZE,\n",
    "    shuffle=False,\n",
    "    collate_fn=lambda x: pad_collate(x, pad_value),\n",
    ")\n",
    "validation_dataloader_sorted = DataLoader(\n",
    "    validation_dataset_ed_sorted,\n",
    "    batch_size=BATCH_SIZE,\n",
    "    shuffle=False,\n",
    "    collate_fn=lambda x: pad_collate(x, pad_value),\n",
    ")\n",
    "test_dataloader_sorted = DataLoader(\n",
    "    test_dataset_ed_sorted,\n",
    "    batch_size=BATCH_SIZE,\n",
    "    shuffle=True, # Note that we shuffle the test set, hence the test set is actually not sorted and random.\n",
    "    collate_fn=lambda x: pad_collate(x, pad_value),\n",
    ")"
   ]
  },
  {
   "cell_type": "code",
   "execution_count": 10,
   "metadata": {},
   "outputs": [
    {
     "name": "stdout",
     "output_type": "stream",
     "text": [
      "Training on GPU.\n"
     ]
    }
   ],
   "source": [
    "# First checking if GPU is available\n",
    "train_on_gpu=torch.cuda.is_available()\n",
    "\n",
    "if(train_on_gpu):\n",
    "    print('Training on GPU.')\n",
    "else:\n",
    "    print('No GPU available, training on CPU.')"
   ]
  },
  {
   "cell_type": "code",
   "execution_count": 11,
   "metadata": {},
   "outputs": [],
   "source": [
    "def train_loop_bce(train_dataloader, model, loss_fn, optimizer):\n",
    "    if train_on_gpu:\n",
    "        model.cuda()\n",
    "    model.train()\n",
    "    num_batches = len(train_dataloader)\n",
    "    size = len(train_dataloader.dataset)\n",
    "    train_loss, train_correct = 0, 0\n",
    "    for batch_no, (X_batch, y_batch) in enumerate(train_dataloader):\n",
    "        if train_on_gpu:\n",
    "            X_batch = X_batch.cuda()\n",
    "            y_batch = y_batch.cuda()\n",
    "        # if want, can do some shuffling here \n",
    "        # Forward pass\n",
    "        pred = model(X_batch)\n",
    "        \n",
    "        pred = pred.squeeze(1)\n",
    "        pred_binary = (pred >= 0.5).long()\n",
    "        loss = loss_fn(pred, y_batch.float())\n",
    "        train_loss += loss.item() \n",
    "        train_correct += (pred_binary==y_batch.long()).sum().item() \n",
    "        \n",
    "        # Backpropagation\n",
    "        optimizer.zero_grad()\n",
    "        loss.backward()\n",
    "\n",
    "        # TODO add main branch\n",
    "        torch.nn.utils.clip_grad_norm_(model.parameters(), GRADIENT_CLIP)\n",
    "        \n",
    "        optimizer.step()\n",
    "    \n",
    "    train_loss /= num_batches \n",
    "    train_correct /= size \n",
    "\n",
    "    return train_loss, train_correct \n",
    "   \n",
    "\n",
    "def test_loop_bce(validate_dataloader, model, loss_fn):\n",
    "    if train_on_gpu:\n",
    "        model.cuda()\n",
    "    model.eval()\n",
    "    num_batches = len(validate_dataloader)\n",
    "    size = len(validate_dataloader.dataset)\n",
    "    test_loss, test_correct = 0, 0\n",
    "\n",
    "    with torch.no_grad():\n",
    "        for X_batch, y_batch in validate_dataloader:\n",
    "            if train_on_gpu:\n",
    "                X_batch = X_batch.cuda()\n",
    "                y_batch = y_batch.cuda()\n",
    "\n",
    "            pred = model(X_batch)\n",
    "            pred = pred.squeeze(1)\n",
    "            pred_binary = (pred >= 0.5).long()\n",
    "            test_loss += loss_fn(pred, y_batch.float()).item()\n",
    "            test_correct += (pred_binary == y_batch.long()).sum().item()\n",
    "\n",
    "    test_loss /= num_batches\n",
    "    test_correct /= size\n",
    "    return test_loss, test_correct\n",
    "\n",
    "def test_performance(test_dataloader, model):\n",
    "    if train_on_gpu:\n",
    "        model.cuda()\n",
    "    model.eval()\n",
    "    size = len(test_dataloader.dataset)\n",
    "    test_correct = 0\n",
    "\n",
    "    with torch.no_grad():\n",
    "        for X_batch, y_batch in test_dataloader:\n",
    "            if train_on_gpu:\n",
    "                X_batch = X_batch.cuda()\n",
    "                y_batch = y_batch.cuda()\n",
    "\n",
    "            pred = model(X_batch)\n",
    "            pred = pred.squeeze(1)\n",
    "            pred_binary = (pred >= 0.5).long()\n",
    "            test_correct += (pred_binary == y_batch.long()).sum().item()\n",
    "    \n",
    "    test_correct /= size\n",
    "    return test_correct"
   ]
  },
  {
   "cell_type": "markdown",
   "metadata": {},
   "source": [
    "### Training Function with & without Early Stop"
   ]
  },
  {
   "cell_type": "markdown",
   "metadata": {},
   "source": [
    "We have two seperate train function, `train` and `train_early_stop`.\n",
    "\n",
    "`train_early_stop` utilise early stopping, a standard practice to prevent overfitting. The early stopping algorithm has a default patience of 3, so the training of the model stops if the validation loss does not decrease after 3 epochs. \n"
   ]
  },
  {
   "cell_type": "code",
   "execution_count": 12,
   "metadata": {},
   "outputs": [],
   "source": [
    "def train(model, optim, criterion, training_dataloader, validation_dataloader, epoch = NUM_EPOCHS):\n",
    "  validation_acc = [] \n",
    "  train_acc = []\n",
    "  train_losses, validate_losses = [], []\n",
    "  for i in range(epoch):\n",
    "    train_loss, train_correct = train_loop_bce(training_dataloader, model, criterion, optim) \n",
    "    validate_loss, validate_correct = test_loop_bce(validation_dataloader, model, criterion)\n",
    "    validation_acc.append(validate_correct)\n",
    "    train_acc.append(train_correct)\n",
    "    train_losses.append(train_loss)\n",
    "    validate_losses.append(validate_loss)\n",
    "\n",
    "    print(f\"Epoch {i+1}, Train Loss: {train_loss:.4f}, Validate Loss: {validate_loss:.4f}\")\n",
    "    #if i%10 == 0:\n",
    "    print(f\"Epoch:{i+1} \\t Train Acc:{train_correct} \\t Validation Acc:{validate_correct}\")\n",
    "  return train_acc, validation_acc, train_losses, validate_losses"
   ]
  },
  {
   "cell_type": "code",
   "execution_count": 13,
   "metadata": {},
   "outputs": [],
   "source": [
    "def train_early_stop(model, optim, criterion, training_dataloader, validation_dataloader, clipping = True, patience = 3):\n",
    "  validation_acc = [] \n",
    "  train_acc = []\n",
    "  train_losses, validate_losses = [], []\n",
    "  early_stopper = EarlyStopper(patience=patience)\n",
    "  i = 0\n",
    "  while True:\n",
    "    train_loss, train_correct = train_loop_bce(training_dataloader, model, criterion, optim, clipping) \n",
    "    validate_loss, validate_correct = test_loop_bce(validation_dataloader, model, criterion)\n",
    "    validation_acc.append(validate_correct)\n",
    "    train_acc.append(train_correct)\n",
    "    train_losses.append(train_loss)\n",
    "    validate_losses.append(validate_loss)\n",
    "\n",
    "    print(f\"Epoch {i+1}, Train Loss: {train_loss:.4f}, Validate Loss: {validate_loss:.4f}\")\n",
    "    #if i%10 == 0:\n",
    "    print(f\"Epoch:{i+1} \\t Train Acc:{train_correct} \\t Validation Acc:{validate_correct}\")\n",
    "    if early_stopper.early_stop(validate_loss):\n",
    "        print(\"Early stopping\")\n",
    "        break\n",
    "    i += 1\n",
    "  return train_acc, validation_acc, train_losses, validate_losses"
   ]
  },
  {
   "cell_type": "code",
   "execution_count": 14,
   "metadata": {},
   "outputs": [],
   "source": [
    "def plot(a: dict, x_label = \"\", y_label = \"\", title = \"\"):\n",
    "    for key in a:\n",
    "        plt.plot(a[key], label=key)\n",
    "\n",
    "    plt.xlabel(x_label)\n",
    "    plt.ylabel(y_label)\n",
    "    plt.title(title)\n",
    "    plt.legend()\n",
    "    plt.show()"
   ]
  },
  {
   "cell_type": "markdown",
   "metadata": {},
   "source": [
    "# Exploration"
   ]
  },
  {
   "cell_type": "markdown",
   "metadata": {},
   "source": [
    "### Base RNN Model\n",
    "\n",
    "Our base vanilla RNN will use the last hidden state (hn(w)) at the last step and then pass it as an input into the Fully Connected (FC) layer."
   ]
  },
  {
   "cell_type": "code",
   "execution_count": 15,
   "metadata": {},
   "outputs": [],
   "source": [
    "# using nn.Embeddings \n",
    "class VanillaRNNLastHidden(nn.Module):\n",
    "    def __init__(self, input_size, hidden_size, num_layers, num_classes,  embedding_matrix_torch:torch.tensor, padding_idx: int):\n",
    "        super(VanillaRNNLastHidden, self).__init__()\n",
    "        # Embedding layer\n",
    "        self.embedding = nn.Embedding.from_pretrained(embedding_matrix_torch, freeze=True, padding_idx=padding_idx)\n",
    "        self.num_layers = num_layers \n",
    "        self.hidden_size = hidden_size \n",
    "        self.rnn = nn.RNN(input_size, hidden_size, num_layers, batch_first=True) # this is the num rows of the input matrix \n",
    "        self.fc = nn.Linear(hidden_size, num_classes)\n",
    "        self.sigmoid = nn.Sigmoid()\n",
    "\n",
    " \n",
    "    def forward(self, x):\n",
    "        # Pass input through embedding layer\n",
    "        x = self.embedding(x).float()\n",
    "        h0 = torch.zeros(self.num_layers, x.size(0), self.hidden_size, dtype=torch.float).to(x.device)\n",
    "        # Pass the embeddings through the RNN layer\n",
    "        out, hidden = self.rnn(x, h0)\n",
    "        # Max pooling\n",
    "        #out, _ = torch.max(out, dim=1)\n",
    "        # Only take the last output for each sequence\n",
    "        res = hidden[-1]\n",
    "        # Pass through the fully connected layer\n",
    "        res = self.fc(res)\n",
    "        # Apply sigmoid activation (for binary classification)\n",
    "        res = self.sigmoid(res)\n",
    "        \n",
    "        return res\n"
   ]
  },
  {
   "cell_type": "markdown",
   "metadata": {},
   "source": [
    "### Fixed Length or Variable Length"
   ]
  },
  {
   "cell_type": "markdown",
   "metadata": {},
   "source": [
    "To pad the sentence, we can either \n",
    "1. Fixed Length: set a fixed length for all the sentences, pad the shorter sentences with 0s and truncate the longer sentences, or\n",
    "2. Variable Length: pad the entire sentences dynamically during batching using `torch,nn.utils.rnn.pad_sequence`. The second method is declared above."
   ]
  },
  {
   "cell_type": "markdown",
   "metadata": {},
   "source": [
    "#### Fixed Length"
   ]
  },
  {
   "cell_type": "code",
   "execution_count": 16,
   "metadata": {},
   "outputs": [
    {
     "name": "stdout",
     "output_type": "stream",
     "text": [
      "Loading GloVe embeddings...\n"
     ]
    },
    {
     "name": "stderr",
     "output_type": "stream",
     "text": [
      "Repo card metadata block was not found. Setting CardData to empty.\n"
     ]
    },
    {
     "name": "stdout",
     "output_type": "stream",
     "text": [
      "Total GloVe words loaded: 400000\n",
      "(400001, 100)\n"
     ]
    }
   ],
   "source": [
    "# initialize word embeddings\n",
    "_word_embeddings = load_glove_embeddings()\n",
    "\n",
    "_embeddings = [_word_embeddings[word] for word in _word_embeddings.keys()]\n",
    "\n",
    "embedding_matrix_no_mask = np.array(_embeddings)\n",
    "embedding_matrix_no_mask = np.vstack((embedding_matrix_no_mask, np.zeros((1, 100)))) # add a row of zeros for padding\n",
    "\n",
    "print(embedding_matrix_no_mask.shape)"
   ]
  },
  {
   "cell_type": "code",
   "execution_count": 17,
   "metadata": {},
   "outputs": [],
   "source": [
    "# TODO: change the num_tokens \n",
    "class FixedLengthEmbeddingsDataset(Dataset):\n",
    "  def __init__(self, X, y, num_tokens_per_sentence=25, word_embeddings=_word_embeddings):\n",
    "    self.num_tokens_per_sentence = num_tokens_per_sentence\n",
    "    self.word_embeddings = word_embeddings\n",
    "    self.X = X # train_dataset['text']\n",
    "    self.y = y # train_dataset['label']\n",
    "    self.len = len(self.X)\n",
    "\n",
    "  def __getitem__(self, index):\n",
    "    # tokenize the sentence \n",
    "    tokens = self.tokenize_sentence(self.X[index])\n",
    "    # convert each token to embeddings \n",
    "    sentence_tensor = self.convert_sentence_into_indices(tokens)\n",
    "    label = torch.tensor(self.y[index], dtype=torch.long)\n",
    "    return sentence_tensor, label \n",
    "\n",
    "  def __len__(self):\n",
    "    return self.len \n",
    "\n",
    "  def tokenize_sentence(self, x): \n",
    "    '''\n",
    "    returns a list containing the embeddings of each token \n",
    "    '''\n",
    "    tokens = nltk.word_tokenize(x.lower())\n",
    "    return tokens \n",
    "  \n",
    "  def convert_sentence_into_indices(self, tokens):\n",
    "    indices = []\n",
    "    num_tokens_used = 0 \n",
    "    for token in tokens:\n",
    "      if num_tokens_used == self.num_tokens_per_sentence:\n",
    "        break # we have enough of tokens from the sentence \n",
    "      if token in word2idx:\n",
    "        indices.append(word2idx[token])\n",
    "        num_tokens_used += 1 \n",
    "    # # if not enough tokens in the sentence, use index of ?? \n",
    "    if len(indices) < self.num_tokens_per_sentence:\n",
    "      padding = [(embedding_matrix_no_mask.shape[0] - 1 ) for _ in range(self.num_tokens_per_sentence - len(indices))]\n",
    "      indices.extend(padding)\n",
    "    #print(indices)\n",
    "    indices = torch.tensor(indices, dtype=torch.long)\n",
    "    return indices\n",
    "  "
   ]
  },
  {
   "cell_type": "code",
   "execution_count": 18,
   "metadata": {},
   "outputs": [],
   "source": [
    "no_mask_train_dataset_ed = FixedLengthEmbeddingsDataset(train_dataset['text'], train_dataset['label'])\n",
    "no_mask_validation_dataset_ed = FixedLengthEmbeddingsDataset(validation_dataset['text'], validation_dataset['label'])\n",
    "no_mask_test_dataset_ed = FixedLengthEmbeddingsDataset(test_dataset['text'], test_dataset['label'])\n",
    "\n",
    "# implement minibatch training \n",
    "no_mask_train_dataloader = DataLoader(no_mask_train_dataset_ed, batch_size=BATCH_SIZE, shuffle=True)\n",
    "no_mask_validation_dataloader = DataLoader(no_mask_validation_dataset_ed, batch_size=BATCH_SIZE, shuffle=True)\n",
    "no_mask_test_dataloader = DataLoader(no_mask_test_dataset_ed, batch_size=BATCH_SIZE, shuffle=True)"
   ]
  },
  {
   "cell_type": "code",
   "execution_count": 19,
   "metadata": {},
   "outputs": [
    {
     "ename": "TypeError",
     "evalue": "train() got an unexpected keyword argument 'clipping'",
     "output_type": "error",
     "traceback": [
      "\u001b[1;31m---------------------------------------------------------------------------\u001b[0m",
      "\u001b[1;31mTypeError\u001b[0m                                 Traceback (most recent call last)",
      "Cell \u001b[1;32mIn[19], line 5\u001b[0m\n\u001b[0;32m      2\u001b[0m optim \u001b[38;5;241m=\u001b[39m torch\u001b[38;5;241m.\u001b[39moptim\u001b[38;5;241m.\u001b[39mAdam(vanilla_rnn\u001b[38;5;241m.\u001b[39mparameters(), lr\u001b[38;5;241m=\u001b[39m\u001b[38;5;241m0.0001\u001b[39m)\n\u001b[0;32m      3\u001b[0m criterion \u001b[38;5;241m=\u001b[39m nn\u001b[38;5;241m.\u001b[39mBCELoss()\n\u001b[1;32m----> 5\u001b[0m train_acc_vanilla_rnn_unmask, validation_acc_vanilla_rnn_unmask, train_loss_vanilla_rnn_unmask, validation_loss_vanilla_rnn_unmask \u001b[38;5;241m=\u001b[39m \u001b[43mtrain\u001b[49m\u001b[43m(\u001b[49m\u001b[43mvanilla_rnn\u001b[49m\u001b[43m,\u001b[49m\u001b[43m \u001b[49m\u001b[43moptim\u001b[49m\u001b[43m,\u001b[49m\u001b[43m \u001b[49m\u001b[43mcriterion\u001b[49m\u001b[43m,\u001b[49m\u001b[43m \u001b[49m\u001b[43mno_mask_train_dataloader\u001b[49m\u001b[43m,\u001b[49m\u001b[43m \u001b[49m\u001b[43mno_mask_validation_dataloader\u001b[49m\u001b[43m,\u001b[49m\u001b[43m \u001b[49m\u001b[43mepoch\u001b[49m\u001b[38;5;241;43m=\u001b[39;49m\u001b[38;5;241;43m50\u001b[39;49m\u001b[43m,\u001b[49m\u001b[43m \u001b[49m\u001b[43mclipping\u001b[49m\u001b[38;5;241;43m=\u001b[39;49m\u001b[38;5;28;43;01mFalse\u001b[39;49;00m\u001b[43m)\u001b[49m\n",
      "\u001b[1;31mTypeError\u001b[0m: train() got an unexpected keyword argument 'clipping'"
     ]
    }
   ],
   "source": [
    "vanilla_rnn = VanillaRNNLastHidden(input_size=EMBEDDING_DIM, hidden_size=HIDDEN_SIZE, num_layers=2, num_classes=1, embedding_matrix_torch=torch.tensor(embedding_matrix_no_mask, dtype=torch.float), padding_idx=embedding_matrix_no_mask.shape[0]-1)\n",
    "optim = torch.optim.Adam(vanilla_rnn.parameters(), lr=0.0001)\n",
    "criterion = nn.BCELoss()\n",
    "\n",
    "train_acc_vanilla_rnn_unmask, validation_acc_vanilla_rnn_unmask, train_loss_vanilla_rnn_unmask, validation_loss_vanilla_rnn_unmask = train(vanilla_rnn, optim, criterion, no_mask_train_dataloader, no_mask_validation_dataloader, epoch=50, clipping=False)"
   ]
  },
  {
   "cell_type": "markdown",
   "metadata": {},
   "source": [
    "Let us plot the training and validation accuracy without early stopping first to see how the model is performing."
   ]
  },
  {
   "cell_type": "code",
   "execution_count": null,
   "metadata": {},
   "outputs": [],
   "source": [
    "plot({\"Train Acc\": train_acc_vanilla_rnn_unmask, \"Validation Acc\": validation_acc_vanilla_rnn_unmask}, x_label=\"Epochs\", y_label=\"Accuracy\", title=\"Fixed Length Vanilla RNN Training and Validation Accuracy\")\n",
    "plot({\"Train Loss\": train_loss_vanilla_rnn_unmask, \"Validation Loss\": validation_loss_vanilla_rnn_unmask}, x_label=\"Epochs\", y_label=\"Accuracy\", title=\"Fixed Length Vanilla RNN Training and Validation Loss\")\n",
    "\n",
    "i = validation_loss_vanilla_rnn_unmask.index(min(validation_loss_vanilla_rnn_unmask))\n",
    "print(\"best performance (lowest validation loss) with validation acc:\", validation_acc_vanilla_rnn_unmask[i], \"validation loss:\", validation_loss_vanilla_rnn_unmask[i])"
   ]
  },
  {
   "cell_type": "markdown",
   "metadata": {},
   "source": [
    "It seems the model overfits quite fast, let's try now with early stopping."
   ]
  },
  {
   "cell_type": "code",
   "execution_count": null,
   "metadata": {},
   "outputs": [],
   "source": [
    "vanilla_rnn = VanillaRNNLastHidden(input_size=EMBEDDING_DIM, hidden_size=HIDDEN_SIZE, num_layers=2, num_classes=1, embedding_matrix_torch=torch.tensor(embedding_matrix_no_mask, dtype=torch.float), padding_idx=embedding_matrix_no_mask.shape[0]-1)\n",
    "optim = torch.optim.Adam(vanilla_rnn.parameters(), lr=0.0001)\n",
    "criterion = nn.BCELoss()\n",
    "\n",
    "train_acc_vanilla_rnn, validation_acc_vanilla_rnn, train_loss_vanilla_rnn, validation_loss_vanilla_rnn = train_early_stop(vanilla_rnn, optim, criterion, no_mask_train_dataloader, no_mask_validation_dataloader, clipping=False)"
   ]
  },
  {
   "cell_type": "code",
   "execution_count": null,
   "metadata": {},
   "outputs": [],
   "source": [
    "print(\"Current model performance with validation acc:\", validation_acc_vanilla_rnn[-1], \"validation loss:\", validation_loss_vanilla_rnn[-1], \"\\n\")\n",
    "\n",
    "test_accuracy = test_performance(no_mask_test_dataloader, vanilla_rnn)\n",
    "print(\"Fixed Length Vanilla RNN (last hidden state) Test accuracy:\", test_accuracy)"
   ]
  },
  {
   "cell_type": "markdown",
   "metadata": {},
   "source": [
    "#### Variable Length"
   ]
  },
  {
   "cell_type": "code",
   "execution_count": null,
   "metadata": {},
   "outputs": [],
   "source": [
    "vanilla_rnn_hidden = VanillaRNNLastHidden(input_size=EMBEDDING_DIM, hidden_size=HIDDEN_SIZE, num_layers=2, num_classes=1, embedding_matrix_torch=word_embeddings.to_tensor, padding_idx=word_embeddings.pad_idx)\n",
    "optim = torch.optim.Adam(vanilla_rnn_hidden.parameters(), lr=0.0001)\n",
    "criterion = nn.BCELoss()\n",
    "\n",
    "train_acc_vanilla_rnn, validation_acc_vanilla_rnn, train_loss_vanilla_rnn, validation_loss_vanilla_rnn = train(vanilla_rnn_hidden, optim, criterion, train_dataloader, validation_dataloader, epoch=50, clipping=False)"
   ]
  },
  {
   "cell_type": "markdown",
   "metadata": {},
   "source": [
    "Let us plot the training and validation accuracy without early stopping first as well."
   ]
  },
  {
   "cell_type": "code",
   "execution_count": null,
   "metadata": {},
   "outputs": [],
   "source": [
    "plot({\"Train Acc\": train_acc_vanilla_rnn, \"Validation Acc\": validation_acc_vanilla_rnn}, x_label=\"Epochs\", y_label=\"Accuracy\", title=\"Variable Length Vanilla RNN Training and Validation Accuracy\")\n",
    "plot({\"Train Loss\": train_loss_vanilla_rnn, \"Validation Loss\": validation_loss_vanilla_rnn}, x_label=\"Epochs\", y_label=\"Accuracy\", title=\"Variable Length Vanilla RNN Training and Validation Loss\")\n",
    "\n",
    "i = validation_loss_vanilla_rnn.index(min(validation_loss_vanilla_rnn))\n",
    "print(\"best performance (lowest validation loss) with validation acc:\", validation_acc_vanilla_rnn[i], \"validation loss:\", validation_loss_vanilla_rnn[i])"
   ]
  },
  {
   "cell_type": "markdown",
   "metadata": {},
   "source": [
    "Let's train with early stopping now!"
   ]
  },
  {
   "cell_type": "code",
   "execution_count": null,
   "metadata": {},
   "outputs": [],
   "source": [
    "vanilla_rnn_hidden = VanillaRNNLastHidden(input_size=EMBEDDING_DIM, hidden_size=HIDDEN_SIZE, num_layers=2, num_classes=1, embedding_matrix_torch=word_embeddings.to_tensor, padding_idx=word_embeddings.pad_idx)\n",
    "optim = torch.optim.Adam(vanilla_rnn_hidden.parameters(), lr=0.0001)\n",
    "criterion = nn.BCELoss()\n",
    "\n",
    "# Since the model learns much slower, we increase the patience to 10\n",
    "train_acc_vanilla_rnn, validation_acc_vanilla_rnn, train_loss_vanilla_rnn, validation_loss_vanilla_rnn = train_early_stop(vanilla_rnn_hidden, optim, criterion, train_dataloader, validation_dataloader, clipping=False, patience=10)"
   ]
  },
  {
   "cell_type": "code",
   "execution_count": null,
   "metadata": {},
   "outputs": [],
   "source": [
    "plot({\"Train Acc\": train_acc_vanilla_rnn, \"Validation Acc\": validation_acc_vanilla_rnn}, x_label=\"Epochs\", y_label=\"Accuracy\", title=\"Variable Length Vanilla RNN Training and Validation Accuracy (with Early Stop)\")\n",
    "plot({\"Train Loss\": train_loss_vanilla_rnn, \"Validation Loss\": validation_loss_vanilla_rnn}, x_label=\"Epochs\", y_label=\"Accuracy\", title=\"Variable Length Vanilla RNN Training and Validation Loss (with Early Stop)\")\n",
    "\n",
    "i = validation_loss_vanilla_rnn.index(min(validation_loss_vanilla_rnn))\n",
    "print(\"best performance (lowest validation loss) with validation acc:\", validation_acc_vanilla_rnn[i], \"validation loss:\", validation_loss_vanilla_rnn[i])"
   ]
  },
  {
   "cell_type": "code",
   "execution_count": null,
   "metadata": {},
   "outputs": [],
   "source": [
    "print(\"Variable Length Vanilla RNN performance with validation acc:\", validation_acc_vanilla_rnn[-1], \"validation loss:\", validation_loss_vanilla_rnn[-1], \"\\n\")\n",
    "\n",
    "test_accuracy = test_performance(test_dataloader, vanilla_rnn_hidden)\n",
    "print(\"Variable Length Vanilla RNN (last hidden state) Test accuracy:\", test_accuracy)"
   ]
  },
  {
   "cell_type": "markdown",
   "metadata": {},
   "source": [
    "##### Some cool observation:\n",
    "\n",
    "Notice if learning rate is higher than 0.0001 (e.g. >0.0002 here), the model will not converge."
   ]
  },
  {
   "cell_type": "code",
   "execution_count": null,
   "metadata": {},
   "outputs": [],
   "source": [
    "vanilla_rnn_hidden = VanillaRNNLastHidden(input_size=EMBEDDING_DIM, hidden_size=HIDDEN_SIZE, num_layers=2, num_classes=1, embedding_matrix_torch=word_embeddings.to_tensor, padding_idx=word_embeddings.pad_idx)\n",
    "optim = torch.optim.Adam(vanilla_rnn_hidden.parameters(), lr=0.0002)\n",
    "criterion = nn.BCELoss()\n",
    "\n",
    "train_acc_vanilla_rnn_high, validation_acc_vanilla_rnn_high, train_loss_vanilla_rnn_high, validation_loss_vanilla_rnn_high = train(vanilla_rnn_hidden, optim, criterion, train_dataloader, validation_dataloader, epoch=50, clipping=False)"
   ]
  },
  {
   "cell_type": "code",
   "execution_count": null,
   "metadata": {},
   "outputs": [],
   "source": [
    "plot({\"Train Acc\": train_acc_vanilla_rnn_high, \"Validation Acc\": validation_acc_vanilla_rnn_high}, x_label=\"Epochs\", y_label=\"Accuracy\", title=\"Masked Vanilla RNN Training and Validation Accuracy (LR = 0.0002)\")\n",
    "plot({\"Train Loss\": train_loss_vanilla_rnn_high, \"Validation Loss\": validation_loss_vanilla_rnn_high}, x_label=\"Epochs\", y_label=\"Accuracy\", title=\"Masked Vanilla RNN Training and Validation Loss (LR = 0.0002)\")\n",
    "\n",
    "i = validation_loss_vanilla_rnn_high.index(min(validation_loss_vanilla_rnn_high))\n",
    "print(\"best performance (lowest validation loss) with validation acc:\", validation_acc_vanilla_rnn_high[i], \"validation loss:\", validation_loss_vanilla_rnn_high[i])"
   ]
  },
  {
   "cell_type": "markdown",
   "metadata": {},
   "source": [
    "### Gradient Clipping\n",
    "\n",
    "We notice that there is a drastic changes during the training.\n",
    "\n",
    "We decide to introduce gradient clipping to take a much smaller step when updating the gradient. \n",
    "\n",
    "With this, we can update the gradient much smoother and reduce the risk of overshooting during optimization. This helps the model converge more steadily, as shown below."
   ]
  },
  {
   "cell_type": "code",
   "execution_count": null,
   "metadata": {},
   "outputs": [],
   "source": [
    "vanilla_rnn_hidden = VanillaRNNLastHidden(input_size=EMBEDDING_DIM, hidden_size=HIDDEN_SIZE, num_layers=2, num_classes=1, embedding_matrix_torch=word_embeddings.to_tensor, padding_idx=word_embeddings.pad_idx)\n",
    "optim = torch.optim.Adam(vanilla_rnn_hidden.parameters(), lr=0.0001)\n",
    "criterion = nn.BCELoss()\n",
    "\n",
    "train_acc_vanilla_rnn_clip, validation_acc_vanilla_rnn_clip, train_loss_vanilla_rnn_clip, validation_loss_vanilla_rnn_clip = train(vanilla_rnn_hidden, optim, criterion, train_dataloader, validation_dataloader, epoch=50, clipping=True)"
   ]
  },
  {
   "cell_type": "code",
   "execution_count": null,
   "metadata": {},
   "outputs": [],
   "source": [
    "plot({\"Train Acc\": train_acc_vanilla_rnn_clip, \"Validation Acc\": validation_acc_vanilla_rnn_clip}, x_label=\"Epochs\", y_label=\"Accuracy\", title=\"Masked Vanilla RNN Training and Validation Accuracy (with Gradient Clipping)\")\n",
    "plot({\"Train Loss\": train_loss_vanilla_rnn_clip, \"Validation Loss\": validation_loss_vanilla_rnn_clip}, x_label=\"Epochs\", y_label=\"Accuracy\", title=\"Masked Vanilla RNN Training and Validation Loss (with Gradient Clipping)\")\n",
    "\n",
    "i = validation_loss_vanilla_rnn_clip.index(min(validation_loss_vanilla_rnn_clip))\n",
    "print(\"best performance (lowest validation loss) with validation acc:\", validation_acc_vanilla_rnn_clip[i], \"validation loss:\", validation_loss_vanilla_rnn_clip[i])"
   ]
  },
  {
   "cell_type": "markdown",
   "metadata": {},
   "source": [
    "We noticed that after implementing gradient clipping by norm and we achieved, although still steep, but at least a smaller step in the gradient update as shown below. This should hopefully prevent bad updates in our training.\n",
    "\n",
    "Let's check if the test accuracy is improved."
   ]
  },
  {
   "cell_type": "code",
   "execution_count": null,
   "metadata": {},
   "outputs": [],
   "source": [
    "vanilla_rnn_hidden = VanillaRNNLastHidden(input_size=EMBEDDING_DIM, hidden_size=HIDDEN_SIZE, num_layers=2, num_classes=1, embedding_matrix_torch=word_embeddings.to_tensor, padding_idx=word_embeddings.pad_idx)\n",
    "optim = torch.optim.Adam(vanilla_rnn_hidden.parameters(), lr=0.0001)\n",
    "criterion = nn.BCELoss()\n",
    "\n",
    "# Since the model learns much slower, we increase the patience to 10\n",
    "train_acc_vanilla_rnn_clip_2, validation_acc_vanilla_rnn_clip_2, train_loss_vanilla_rnn_clip_2, validation_loss_vanilla_rnn_clip_2 = train_early_stop(vanilla_rnn_hidden, optim, criterion, train_dataloader, validation_dataloader, clipping=True, patience=10)"
   ]
  },
  {
   "cell_type": "code",
   "execution_count": null,
   "metadata": {},
   "outputs": [],
   "source": [
    "print(\"Current Vanilla RNN (with Gradient Clipping) performance with validation acc:\", validation_acc_vanilla_rnn_clip_2[-1], \"validation loss:\", validation_loss_vanilla_rnn_clip_2[-1], \"\\n\")\n",
    "\n",
    "test_accuracy = test_performance(test_dataloader, vanilla_rnn_hidden)\n",
    "print(\"Vanilla RNN (with Gradient Clipping) Test accuracy:\", test_accuracy)"
   ]
  },
  {
   "cell_type": "markdown",
   "metadata": {},
   "source": [
    "We noticed the test accuracy is basically unchanged, as we now have 0.721 test accuracy while previously we had 0.738 test accuracy.\n",
    "\n",
    "This indicates Gradient Clipping doesn't help much in improving accuracy in our scenario. However, it should still help with preventing bad updates."
   ]
  },
  {
   "cell_type": "markdown",
   "metadata": {},
   "source": [
    "### Sorted dataset input vs Unsorted dataset input\n",
    "\n",
    "We tried sorting the dataset before training, and noticed we have a much smoother training curve. We believe this is since the model now can learn from the shortest sentence how to identify the key feature first before learning from the longer one."
   ]
  },
  {
   "cell_type": "code",
   "execution_count": null,
   "metadata": {},
   "outputs": [],
   "source": [
    "vanilla_rnn_hidden = VanillaRNNLastHidden(input_size=EMBEDDING_DIM, hidden_size=HIDDEN_SIZE, num_layers=2, num_classes=1, embedding_matrix_torch=word_embeddings.to_tensor, padding_idx=word_embeddings.pad_idx)\n",
    "optim = torch.optim.Adam(vanilla_rnn_hidden.parameters(), lr=0.0001)\n",
    "criterion = nn.BCELoss()\n",
    "\n",
    "train_acc_vanilla_rnn_sorted, validation_acc_vanilla_rnn_sorted, train_loss_vanilla_rnn_sorted, validation_loss_vanilla_rnn_sorted = train_early_stop(vanilla_rnn_hidden, optim, criterion, train_dataloader_sorted, validation_dataloader_sorted, clipping=True, patience=5)"
   ]
  },
  {
   "cell_type": "code",
   "execution_count": null,
   "metadata": {},
   "outputs": [],
   "source": [
    "plot({\"train acc\": train_acc_vanilla_rnn_sorted, \"validation acc\": validation_acc_vanilla_rnn_sorted}, x_label=\"Epochs\", y_label=\"Accuracy\", title=\"Vanilla RNN Training and Validation Accuracy (Sorted Dataset)\")\n",
    "plot({\"train loss\": train_loss_vanilla_rnn_sorted, \"validation loss\": validation_loss_vanilla_rnn_sorted}, x_label=\"Epochs\", y_label=\"Accuracy\", title=\"Vanilla RNN Training and Validation Loss (Sorted Dataset)\")\n",
    "\n",
    "i = validation_loss_vanilla_rnn_sorted.index(min(validation_loss_vanilla_rnn_sorted))\n",
    "print(\"best performance (lowest validation loss) with validation acc:\", validation_acc_vanilla_rnn_sorted[i], \"validation loss:\", validation_loss_vanilla_rnn_sorted[i])"
   ]
  },
  {
   "cell_type": "markdown",
   "metadata": {},
   "source": [
    "Let's see whether it improves the test accuracy!"
   ]
  },
  {
   "cell_type": "code",
   "execution_count": null,
   "metadata": {},
   "outputs": [],
   "source": [
    "print(\"Current Vanilla RNN (with Sorted Dataset) performance with validation acc:\", validation_acc_vanilla_rnn_sorted[-1], \"validation loss:\", validation_loss_vanilla_rnn_sorted[-1], \"\\n\")\n",
    "\n",
    "test_accuracy_sorted = test_performance(test_dataloader, vanilla_rnn_hidden)\n",
    "print(\"Vanilla RNN (with Sorted Dataset) Test accuracy:\", test_accuracy_sorted)"
   ]
  },
  {
   "cell_type": "markdown",
   "metadata": {},
   "source": [
    "We noticed we have a much smoother training curve. We believe this is since the model now can learn from the shortest sentence how to identify the key feature first before learning from the longer one."
   ]
  },
  {
   "cell_type": "markdown",
   "metadata": {},
   "source": [
    "### Max pooling, Sum pooling and Avg Pooling"
   ]
  },
  {
   "cell_type": "markdown",
   "metadata": {},
   "source": [
    "#### Last output RNN"
   ]
  },
  {
   "cell_type": "code",
   "execution_count": null,
   "metadata": {},
   "outputs": [],
   "source": [
    "# using nn.Embeddings \n",
    "class LastOutputRNN(nn.Module):\n",
    "    def __init__(self, input_size, hidden_size, num_layers, num_classes, embedding_matrix_torch:torch.tensor, padding_idx: int):\n",
    "        super(LastOutputRNN, self).__init__()\n",
    "        # Embedding layer\n",
    "        self.embedding = nn.Embedding.from_pretrained(embedding_matrix_torch, freeze=True, padding_idx=padding_idx)\n",
    "        self.num_layers = num_layers \n",
    "        self.hidden_size = hidden_size \n",
    "        self.rnn = nn.RNN(input_size, hidden_size, num_layers, batch_first=True) # this is the num rows of the input matrix \n",
    "        self.fc = nn.Linear(hidden_size, num_classes)\n",
    "        self.sigmoid = nn.Sigmoid()\n",
    " \n",
    "    def forward(self, x):\n",
    "        # Pass input through embedding layer\n",
    "        x = self.embedding(x).float()\n",
    "        \n",
    "        h0 = torch.zeros(self.num_layers, x.size(0), self.hidden_size, dtype=torch.float).to(x.device)\n",
    "        # Pass the embeddings through the RNN layer\n",
    "        out, _ = self.rnn(x, h0)\n",
    "        # Get the last output for each sequence\n",
    "        res = out[:, -1, :]\n",
    "        # Pass through the fully connected layer\n",
    "        res = self.fc(res)\n",
    "        # Apply sigmoid activation (for binary classification)\n",
    "        res = self.sigmoid(res)\n",
    "\n",
    "        return res"
   ]
  },
  {
   "cell_type": "markdown",
   "metadata": {},
   "source": [
    "Let's observe the model performance without early stopping!"
   ]
  },
  {
   "cell_type": "code",
   "execution_count": null,
   "metadata": {},
   "outputs": [],
   "source": [
    "last_output_rnn = LastOutputRNN(input_size=EMBEDDING_DIM, hidden_size=HIDDEN_SIZE, num_layers=2, num_classes=1, embedding_matrix_torch=word_embeddings.to_tensor, padding_idx=word_embeddings.pad_idx)\n",
    "optim = torch.optim.Adam(last_output_rnn.parameters(), lr=0.0001)\n",
    "criterion = nn.BCELoss()\n",
    "\n",
    "train_acc_last_output, validation_acc_last_output, train_loss_last_output, validation_loss_last_output = train(last_output_rnn, optim, criterion, train_dataloader_sorted, validation_dataloader_sorted, epoch=50)"
   ]
  },
  {
   "cell_type": "code",
   "execution_count": null,
   "metadata": {},
   "outputs": [],
   "source": [
    "plot({\"Train Acc\": train_acc_last_output, \"Validation Acc\": validation_acc_last_output}, x_label=\"Epochs\", y_label=\"Accuracy\", title=\"Last Output RNN Training and Validation Accuracy\")\n",
    "plot({\"Train Loss\": train_loss_last_output, \"Validation Loss\": validation_loss_last_output}, x_label=\"Epochs\", y_label=\"Accuracy\", title=\"Last Output RNN Training and Validation Loss\")\n",
    "\n",
    "i = validation_loss_last_output.index(min(validation_loss_last_output))\n",
    "print(\"best performance (lowest validation loss) with validation acc:\", validation_acc_last_output[i], \"validation loss:\", validation_loss_last_output[i])"
   ]
  },
  {
   "cell_type": "markdown",
   "metadata": {},
   "source": [
    "With early stopping:"
   ]
  },
  {
   "cell_type": "code",
   "execution_count": null,
   "metadata": {},
   "outputs": [],
   "source": [
    "last_output_rnn = LastOutputRNN(input_size=EMBEDDING_DIM, hidden_size=HIDDEN_SIZE, num_layers=2, num_classes=1, embedding_matrix_torch=word_embeddings.to_tensor, padding_idx=word_embeddings.pad_idx)\n",
    "optim = torch.optim.Adam(last_output_rnn.parameters(), lr=0.0001)\n",
    "criterion = nn.BCELoss()\n",
    "\n",
    "# Since the model learns much slower, we increase the patience to 10\n",
    "train_acc_last_output, validation_acc_last_output, train_loss_last_output, validation_loss_last_output = train_early_stop(last_output_rnn, optim, criterion, train_dataloader_sorted, validation_dataloader_sorted, patience = 10)"
   ]
  },
  {
   "cell_type": "code",
   "execution_count": null,
   "metadata": {},
   "outputs": [],
   "source": [
    "plot({\"Train Acc\": train_acc_last_output, \"Validation Acc\": validation_acc_last_output}, x_label=\"Epochs\", y_label=\"Accuracy\", title=\"Last Output RNN Training and Validation Accuracy (Early Stop)\")\n",
    "plot({\"Train Loss\": train_loss_last_output, \"Validation Loss\": validation_loss_last_output}, x_label=\"Epochs\", y_label=\"Accuracy\", title=\"Last Output RNN Training and Validation Loss (Early Stop)\")\n",
    "\n",
    "i = validation_loss_last_output.index(min(validation_loss_last_output))\n",
    "print(\"best performance (lowest validation loss) with validation acc:\", validation_acc_last_output[i], \"validation loss:\", validation_loss_last_output[i])"
   ]
  },
  {
   "cell_type": "code",
   "execution_count": null,
   "metadata": {},
   "outputs": [],
   "source": [
    "print(\"Last Max Pooling RNN performance with validation acc:\", validation_acc_last_output[-1], \"validation loss:\", validation_loss_last_output[-1], \"\\n\")\n",
    "\n",
    "test_accuracy_last_output = test_performance(test_dataloader_sorted, last_output_rnn)\n",
    "print(\"Masked Max Pooling RNN Test accuracy:\", test_accuracy_last_output)"
   ]
  },
  {
   "cell_type": "markdown",
   "metadata": {},
   "source": [
    "We notice this is the same as passing the last hidden state to the FC layer.\n",
    "\n",
    "After researching, we realize that the last hidden state is actually equivalent to the last output in `torch` implementation. This explains why their gradient grows the same way, and they also have similar validation accuracy and test accuracy.\n",
    "\n",
    "![title](torch_RNN.png)"
   ]
  },
  {
   "cell_type": "markdown",
   "metadata": {},
   "source": [
    "#### Max pooling RNN"
   ]
  },
  {
   "cell_type": "code",
   "execution_count": null,
   "metadata": {},
   "outputs": [],
   "source": [
    "# using nn.Embeddings \n",
    "class MaxPoolRNN(nn.Module):\n",
    "    def __init__(self, input_size, hidden_size, num_layers, num_classes, embedding_matrix_torch:torch.tensor, padding_idx: int):\n",
    "        super(MaxPoolRNN, self).__init__()\n",
    "        # Embedding layer\n",
    "        self.embedding = nn.Embedding.from_pretrained(embedding_matrix_torch, freeze=True, padding_idx=padding_idx)\n",
    "        self.num_layers = num_layers \n",
    "        self.hidden_size = hidden_size \n",
    "        self.rnn = nn.RNN(input_size, hidden_size, num_layers, batch_first=True) # this is the num rows of the input matrix \n",
    "        self.fc = nn.Linear(hidden_size, num_classes)\n",
    "        self.sigmoid = nn.Sigmoid()\n",
    " \n",
    "    def forward(self, x):\n",
    "        # Pass input through embedding layer\n",
    "        x = self.embedding(x).float()\n",
    "        \n",
    "        h0 = torch.zeros(self.num_layers, x.size(0), self.hidden_size, dtype=torch.float).to(x.device)\n",
    "        # Pass the embeddings through the RNN layer\n",
    "        out, _ = self.rnn(x, h0)\n",
    "        # Max pooling\n",
    "        # TODO: try with absolute\n",
    "        res, _ = torch.max(out, dim=1)\n",
    "        # Pass through the fully connected layer\n",
    "        res = self.fc(res)\n",
    "        # Apply sigmoid activation (for binary classification)\n",
    "        res = self.sigmoid(res)\n",
    "\n",
    "        return res"
   ]
  },
  {
   "cell_type": "code",
   "execution_count": null,
   "metadata": {},
   "outputs": [],
   "source": [
    "max_pool_rnn = MaxPoolRNN(input_size=EMBEDDING_DIM, hidden_size=HIDDEN_SIZE, num_layers=2, num_classes=1, embedding_matrix_torch=word_embeddings.to_tensor, padding_idx=word_embeddings.pad_idx)\n",
    "optim = torch.optim.Adam(max_pool_rnn.parameters(), lr=0.0001)\n",
    "criterion = nn.BCELoss()\n",
    "\n",
    "train_acc_max, validation_acc_max, train_loss_max, validation_loss_max = train(max_pool_rnn, optim, criterion, train_dataloader_sorted, validation_dataloader_sorted, epoch=50)"
   ]
  },
  {
   "cell_type": "code",
   "execution_count": null,
   "metadata": {},
   "outputs": [],
   "source": [
    "plot({\"Train Acc\": train_acc_max, \"Validation Acc\": validation_acc_max}, x_label=\"Epochs\", y_label=\"Accuracy\", title=\"Max Pooling RNN Training and Validation Accuracy\")\n",
    "plot({\"Train Loss\": train_loss_max, \"Validation Loss\": validation_loss_max}, x_label=\"Epochs\", y_label=\"Accuracy\", title=\"Max Pooling RNN Training and Validation Loss\")\n",
    "\n",
    "i = validation_loss_max.index(min(validation_loss_max))\n",
    "print(\"best performance (lowest validation loss) with validation acc:\", validation_acc_max[i], \"validation loss:\", validation_loss_max[i])"
   ]
  },
  {
   "cell_type": "markdown",
   "metadata": {},
   "source": [
    "Let's see the performance with early stopping!"
   ]
  },
  {
   "cell_type": "code",
   "execution_count": null,
   "metadata": {},
   "outputs": [],
   "source": [
    "max_pool_rnn = MaxPoolRNN(input_size=EMBEDDING_DIM, hidden_size=HIDDEN_SIZE, num_layers=2, num_classes=1, embedding_matrix_torch=word_embeddings.to_tensor, padding_idx=word_embeddings.pad_idx)\n",
    "optim = torch.optim.Adam(max_pool_rnn.parameters(), lr=0.0001)\n",
    "criterion = nn.BCELoss()\n",
    "\n",
    "train_acc_max_early_stop, validation_acc_max_early_stop, train_loss_max_early_stop, validation_loss_max_early_stop = train_early_stop(max_pool_rnn, optim, criterion, train_dataloader_sorted, validation_dataloader_sorted)"
   ]
  },
  {
   "cell_type": "code",
   "execution_count": null,
   "metadata": {},
   "outputs": [],
   "source": [
    "plot({\"Train Acc\": train_acc_max_early_stop, \"Validation Acc\": validation_acc_max_early_stop}, x_label=\"Epochs\", y_label=\"Accuracy\", title=\"Max Pooling RNN Training and Validation Accuracy (Early Stop)\")\n",
    "plot({\"Train Loss\": train_loss_max_early_stop, \"Validation Loss\": validation_loss_max_early_stop}, x_label=\"Epochs\", y_label=\"Accuracy\", title=\"Max Pooling RNN Training and Validation Loss (Early Stop)\")\n",
    "\n",
    "i = validation_loss_max_early_stop.index(min(validation_loss_max_early_stop))\n",
    "print(\"best performance (lowest validation loss) with validation acc:\", validation_acc_max_early_stop[i], \"validation loss:\", validation_loss_max_early_stop[i])"
   ]
  },
  {
   "cell_type": "code",
   "execution_count": null,
   "metadata": {},
   "outputs": [],
   "source": [
    "print(\"Last Max Pooling RNN performance with validation acc:\", validation_acc_max_early_stop[-1], \"validation loss:\", validation_loss_max_early_stop[-1], \"\\n\")\n",
    "\n",
    "test_accuracy_max_pool = test_performance(test_dataloader_sorted, max_pool_rnn)\n",
    "print(\"Masked Max Pooling RNN Test accuracy:\", test_accuracy_max_pool)"
   ]
  },
  {
   "cell_type": "markdown",
   "metadata": {},
   "source": [
    "#### Sum Pooling RNN"
   ]
  },
  {
   "cell_type": "code",
   "execution_count": null,
   "metadata": {},
   "outputs": [],
   "source": [
    "# using nn.Embeddings \n",
    "class SumPoolRNN(nn.Module):\n",
    "    def __init__(self, input_size, hidden_size, num_layers, num_classes, embedding_matrix_torch:torch.tensor, padding_idx: int):\n",
    "        super(SumPoolRNN, self).__init__()\n",
    "        # Embedding layer\n",
    "        self.embedding = nn.Embedding.from_pretrained(embedding_matrix_torch, freeze=True, padding_idx=padding_idx)\n",
    "        self.num_layers = num_layers \n",
    "        self.hidden_size = hidden_size \n",
    "        self.rnn = nn.RNN(input_size, hidden_size, num_layers, batch_first=True) # this is the num rows of the input matrix \n",
    "        self.fc = nn.Linear(hidden_size, num_classes)\n",
    "        self.sigmoid = nn.Sigmoid()\n",
    " \n",
    "    def forward(self, x):\n",
    "        # Pass input through embedding layer\n",
    "        x = self.embedding(x).float()\n",
    "        \n",
    "        h0 = torch.zeros(self.num_layers, x.size(0), self.hidden_size, dtype=torch.float).to(x.device)\n",
    "        # Pass the embeddings through the RNN layer\n",
    "        out, _ = self.rnn(x, h0)\n",
    "        # Sum pooling\n",
    "        res = torch.sum(out, dim=1)\n",
    "        # Pass through the fully connected layer\n",
    "        res = self.fc(res)\n",
    "        # Apply sigmoid activation (for binary classification)\n",
    "        res = self.sigmoid(res)\n",
    "\n",
    "        return res"
   ]
  },
  {
   "cell_type": "code",
   "execution_count": null,
   "metadata": {},
   "outputs": [],
   "source": [
    "sum_pool_rnn = SumPoolRNN(input_size=EMBEDDING_DIM, hidden_size=HIDDEN_SIZE, num_layers=2, num_classes=1, embedding_matrix_torch=word_embeddings.to_tensor, padding_idx=word_embeddings.pad_idx)\n",
    "optim = torch.optim.Adam(sum_pool_rnn.parameters(), lr=0.0001)\n",
    "criterion = nn.BCELoss()\n",
    "\n",
    "train_acc_sum_rnn, validation_acc_sum_rnn, train_loss_sum_rnn, validation_loss_sum_rnn = train_early_stop(sum_pool_rnn, optim, criterion, train_dataloader_sorted, validation_dataloader_sorted, patience=5)"
   ]
  },
  {
   "cell_type": "code",
   "execution_count": null,
   "metadata": {},
   "outputs": [],
   "source": [
    "plot({\"Train Acc\": train_acc_sum_rnn, \"Validation Acc\": validation_acc_sum_rnn}, x_label=\"Epochs\", y_label=\"Accuracy\", title=\"Sum Pooling RNN Training and Validation Accuracy (Early Stop)\")\n",
    "plot({\"Train Loss\": train_loss_sum_rnn, \"Validation Loss\": validation_loss_sum_rnn}, x_label=\"Epochs\", y_label=\"Accuracy\", title=\"Sum Pooling RNN Training and Validation Loss (Early Stop)\")\n",
    "\n",
    "\n",
    "i = validation_loss_sum_rnn.index(min(validation_loss_sum_rnn))\n",
    "print(\"best performance (lowest validation loss) with validation acc:\", validation_acc_sum_rnn[i], \"validation loss:\", validation_loss_sum_rnn[i])"
   ]
  },
  {
   "cell_type": "code",
   "execution_count": null,
   "metadata": {},
   "outputs": [],
   "source": [
    "print(\"Last Sum Pooling RNN performance with validation acc:\", validation_acc_sum_rnn[-1], \"validation loss:\", validation_loss_sum_rnn[-1], \"\\n\")\n",
    "\n",
    "test_accuracy_sum_pool = test_performance(test_dataloader_sorted, sum_pool_rnn)\n",
    "print(\"Sum Pooling RNN Test accuracy:\", test_accuracy_sum_pool)"
   ]
  },
  {
   "cell_type": "markdown",
   "metadata": {},
   "source": [
    "#### Mean Pooling RNN"
   ]
  },
  {
   "cell_type": "code",
   "execution_count": null,
   "metadata": {},
   "outputs": [],
   "source": [
    "class MeanPoolRNN(nn.Module):\n",
    "    def __init__(self, input_size, hidden_size, num_layers, num_classes, embedding_matrix_torch:torch.tensor, padding_idx: int):\n",
    "        super(MeanPoolRNN, self).__init__()\n",
    "        # Embedding layer\n",
    "        self.embedding = nn.Embedding.from_pretrained(embedding_matrix_torch, freeze=True, padding_idx=padding_idx)\n",
    "        self.num_layers = num_layers \n",
    "        self.hidden_size = hidden_size \n",
    "        self.rnn = nn.RNN(input_size, hidden_size, num_layers, batch_first=True) # this is the num rows of the input matrix \n",
    "        self.fc = nn.Linear(hidden_size, num_classes)\n",
    "        self.sigmoid = nn.Sigmoid()\n",
    " \n",
    "    def forward(self, x):\n",
    "        # Pass input through embedding layer\n",
    "        x = self.embedding(x).float()\n",
    "        \n",
    "        h0 = torch.zeros(self.num_layers, x.size(0), self.hidden_size, dtype=torch.float).to(x.device)\n",
    "        # Pass the embeddings through the RNN layer\n",
    "        out, _ = self.rnn(x, h0)\n",
    "        # Mean pooling\n",
    "        res = torch.mean(out, dim=1)\n",
    "        # Pass through the fully connected layer\n",
    "        res = self.fc(res)\n",
    "        # Apply sigmoid activation (for binary classification)\n",
    "        res = self.sigmoid(res)\n",
    "\n",
    "        return res"
   ]
  },
  {
   "cell_type": "code",
   "execution_count": null,
   "metadata": {},
   "outputs": [],
   "source": [
    "mean_pool_rnn = MeanPoolRNN(input_size=EMBEDDING_DIM, hidden_size=HIDDEN_SIZE, num_layers=2, num_classes=1, embedding_matrix_torch=word_embeddings.to_tensor, padding_idx=word_embeddings.pad_idx)\n",
    "optim = torch.optim.Adam(mean_pool_rnn.parameters(), lr=0.0001)\n",
    "criterion = nn.BCELoss()\n",
    "\n",
    "train_acc_mean_rnn, validation_acc_mean_rnn, train_loss_mean_rnn, validation_loss_mean_rnn = train_early_stop(mean_pool_rnn, optim, criterion, train_dataloader_sorted, validation_dataloader_sorted, patience=5)"
   ]
  },
  {
   "cell_type": "code",
   "execution_count": null,
   "metadata": {},
   "outputs": [],
   "source": [
    "plot({\"Train Acc\": train_acc_mean_rnn, \"Validation Acc\": validation_acc_mean_rnn}, x_label=\"Epochs\", y_label=\"Accuracy\", title=\"Mean Pooling RNN Training and Validation Accuracy (Early Stop)\")\n",
    "plot({\"Train Loss\": train_loss_mean_rnn, \"Validation Loss\": validation_loss_mean_rnn}, x_label=\"Epochs\", y_label=\"Accuracy\", title=\"Mean Pooling RNN Training and Validation Loss (Early Stop)\")\n",
    "\n",
    "i = validation_acc_mean_rnn.index(max(validation_acc_mean_rnn))\n",
    "print(\"best performance (lowest validation loss) with validation acc:\", max(validation_acc_mean_rnn), \"validation loss:\", validation_loss_mean_rnn[i])"
   ]
  },
  {
   "cell_type": "code",
   "execution_count": null,
   "metadata": {},
   "outputs": [],
   "source": [
    "print(\"Last Mean Pooling RNN performance with validation acc:\", validation_acc_mean_rnn[-1], \"validation loss:\", validation_loss_mean_rnn[-1], \"\\n\")\n",
    "\n",
    "test_accuracy_mean_pool = test_performance(test_dataloader_sorted, mean_pool_rnn)\n",
    "print(\"Mean Pooling RNN Test accuracy:\", test_accuracy_mean_pool)"
   ]
  },
  {
   "cell_type": "markdown",
   "metadata": {},
   "source": [
    "Let's collate the results of the different models and their performances."
   ]
  },
  {
   "cell_type": "code",
   "execution_count": null,
   "metadata": {},
   "outputs": [],
   "source": [
    "print(\"Vanilla RNN using hidden state\", test_accuracy_sorted)\n",
    "print(\"Vanilla RNN using last output\", test_accuracy_last_output)\n",
    "print(\"Vanilla RNN using max pooling\", test_accuracy_max_pool)\n",
    "print(\"Vanilla RNN using sum pooling\", test_accuracy_sum_pool)\n",
    "print(\"Vanilla RNN using mean pooling\", test_accuracy_mean_pool)"
   ]
  },
  {
   "cell_type": "markdown",
   "metadata": {},
   "source": [
    "The results show that max pooling achieves a better result than just passing the last layer, sum pooling and average pooling. This could be due to the fact that max pooling picks the most significant word of the sentences, that significantly determines the sentiment of the overall sentence. "
   ]
  },
  {
   "cell_type": "markdown",
   "metadata": {},
   "source": [
    "### Hyperparameter Search: Grid Search "
   ]
  },
  {
   "cell_type": "markdown",
   "metadata": {},
   "source": [
    "#### Define our final model\n",
    "\n",
    "Based on our exploration, we will now formulate our final vanilla RNN that integrates all our findings and improvements found along the way. We will use \n",
    "* 2 layers of RNN\n",
    "* Use pad_sequence to deal with paddings\n",
    "* Max Pooling\n",
    "* Sorted Dataset\n",
    "* Dropout (0.3).\n",
    "  \n",
    "We added dropout here to reduce the chances of overfitting.\n",
    "\n",
    "The graph below represents the structure of our final RNN model.\n",
    "\n",
    "![title](vanilla_RNN_final.jpg)"
   ]
  },
  {
   "cell_type": "code",
   "execution_count": null,
   "metadata": {},
   "outputs": [],
   "source": [
    "# using nn.Embeddings \n",
    "class FinalVanillaRNN(nn.Module):\n",
    "    def __init__(self, input_size, hidden_size, num_layers, num_classes,  embedding_matrix_torch:torch.tensor, padding_idx: int, drop_out=0.3):\n",
    "        super(FinalVanillaRNN, self).__init__()\n",
    "        # Embedding layer\n",
    "        self.embedding = nn.Embedding.from_pretrained(embedding_matrix_torch, freeze=True, padding_idx=padding_idx)\n",
    "        self.num_layers = num_layers \n",
    "        self.hidden_size = hidden_size \n",
    "        self.rnn = nn.RNN(input_size, hidden_size, num_layers, batch_first=True) # this is the num rows of the input matrix \n",
    "        self.fc = nn.Linear(hidden_size, num_classes)\n",
    "        self.drop_out = nn.Dropout(drop_out)\n",
    "        self.sigmoid = nn.Sigmoid()\n",
    "\n",
    " \n",
    "    def forward(self, x):\n",
    "        # Pass input through embedding layer\n",
    "        x = self.embedding(x).float()\n",
    "        h0 = torch.zeros(self.num_layers, x.size(0), self.hidden_size, dtype=torch.float).to(x.device)\n",
    "        # Pass the embeddings through the RNN layer\n",
    "        out, _ = self.rnn(x, h0)\n",
    "        # Max pooling\n",
    "        res, _ = torch.max(out, dim=1)\n",
    "        # Only take the last output for each sequence\n",
    "        res = self.drop_out(res)\n",
    "        # Pass through the fully connected layer\n",
    "        res = self.fc(res)\n",
    "        # Apply sigmoid activation (for binary classification)\n",
    "        res = self.sigmoid(res)\n",
    "        \n",
    "        return res\n"
   ]
  },
  {
   "cell_type": "code",
   "execution_count": 19,
   "metadata": {},
   "outputs": [],
   "source": [
    "# init searching configurations \n",
    "no_epochs = [100, 200, 300]\n",
    "lrs = [0.0001, 0.001]\n",
    "batch_sizes = [32, 64, 128, 256]\n",
    "optimizers = [torch.optim.Adam, torch.optim.SGD]\n",
    "\n",
    "# set fixed hyperparameters\n",
    "hidden_size=128\n",
    "num_layers=2 \n",
    "dropout=0.3"
   ]
  },
  {
   "cell_type": "code",
   "execution_count": 20,
   "metadata": {},
   "outputs": [],
   "source": [
    "import logging \n",
    "logging.basicConfig(\n",
    "    filename='find_optimal_hyperparams_mask_max_sorted.log',       # Name of the log file\n",
    "    level=logging.INFO,        # Set the logging level (INFO, DEBUG, WARNING, ERROR, CRITICAL)\n",
    "    format='%(asctime)s - %(levelname)s - %(message)s',  # Log message format\n",
    "    datefmt='%Y-%m-%d %H:%M:%S'  # Date format in log messages\n",
    ")"
   ]
  },
  {
   "cell_type": "code",
   "execution_count": null,
   "metadata": {},
   "outputs": [],
   "source": [
    "from collections import defaultdict \n",
    "def find_optimal_model_1(no_epochs, lrs, optimizers, batch_sizes, dropout=dropout, hidden_size=hidden_size, num_layers=num_layers, pad_value = word_embeddings.pad_idx):\n",
    "  \"\"\"\n",
    "    Finds optimal hyperparameters by grid search\n",
    "  \"\"\"\n",
    "  # train_dataset_ed = EmbeddingsDataset(train_dataset['text'], train_dataset['label'])\n",
    "  # validation_dataset_ed = EmbeddingsDataset(validation_dataset['text'], validation_dataset['label'])\n",
    "  criterion = nn.BCELoss()\n",
    "  results = defaultdict(list) # {[lr, batch_size, optimizer, no_epoch]: [train_loss, train_acc, validate_loss, validation_acc, min_validation_loss, early_stopped?]} \n",
    "  for lr in lrs: \n",
    "    for batch_size in batch_sizes: \n",
    "      # initialize train loader and validate loader for minibatch training \n",
    "      train_dataloader_sorted = DataLoader(\n",
    "          train_dataset_ed_sorted,\n",
    "          batch_size=batch_size,\n",
    "          shuffle=False,\n",
    "          collate_fn=lambda x: pad_collate(x, pad_value),\n",
    "      )\n",
    "      validation_dataloader_sorted = DataLoader(\n",
    "          validation_dataset_ed_sorted,\n",
    "          batch_size=batch_size,\n",
    "          shuffle=False,\n",
    "          collate_fn=lambda x: pad_collate(x, pad_value),\n",
    "      )\n",
    "      for optim_index, optimizer in enumerate(optimizers): \n",
    "        for no_epoch in no_epochs: # for each of the number of epochs configuration\n",
    "          last_min_validate_acc = None # from the EarlyStopper, it keeps track of the last min validation accuracy,\n",
    "          # this is different from last validate loss which is just from the validate testing step\n",
    "          early_stopped = False \n",
    "          early_stopper = EarlyStopper()\n",
    "          model = FinalVanillaRNN(input_size=EMBEDDING_DIM, hidden_size=hidden_size, num_layers=num_layers, num_classes=1, drop_out=dropout, embedding_matrix_torch=word_embeddings.to_tensor, padding_idx=word_embeddings.pad_idx)\n",
    "          optim = optimizer(model.parameters(), lr=lr)  \n",
    "          logging.info(f\"MODEL CONFIGURATIONS: lr: {lr}, batch_size: {batch_size}, optimizer: {optim_index}, no_epoch: {no_epoch}\")\n",
    "          print(f\"MODEL CONFIGURATIONS: lr: {lr}, batch_size: {batch_size}, optimizer: {optim_index}, no_epoch: {no_epoch}\")\n",
    "          for i in range(no_epoch): # train and validate for every epoch \n",
    "            # train loop \n",
    "            train_loss, train_acc = train_loop_bce(train_dataloader_sorted, model, criterion, optim)\n",
    "            # validate loop \n",
    "            validate_loss, validate_acc = test_loop_bce(validation_dataloader_sorted, model, criterion)\n",
    "            if early_stopper.early_stop(validate_loss):\n",
    "              # when_early_stopped = no_epoch \n",
    "              # last_train_acc_in_epochs = train_acc \n",
    "              # last_validate_acc_in_epochs = validate_acc \n",
    "              last_min_validate_loss = early_stopper.get_last_min_validation_loss()\n",
    "              \n",
    "              logging.info(f\"\\n{lr, batch_size, optim_index, no_epoch}: Early Stopped at {i+1}th epoch \\n\") \n",
    "              logging.info(f\"last_trained_acc: {train_acc}, last_validate_acc: {validate_acc}, last min validate acc: {last_min_validate_loss}\")   \n",
    "              logging.info(f\"last_train_loss: {train_loss}, last_validate_loss:  {validate_loss}\")\n",
    "              logging.info(\"============================================\")\n",
    "              print(f\"\\n{lr, batch_size, optim_index, no_epoch}: Early Stopped at {i+1}th epoch \\n\") \n",
    "              print(f\"last_trained_acc: {train_acc}, last_validate_acc: {validate_acc}, last min validate acc: {last_min_validate_loss}\")   \n",
    "              print(f\"last_train_loss: {train_loss}, last_validate_loss:  {validate_loss}\")\n",
    "              print(\"============================================\")\n",
    "              results[f\"[{lr}, {batch_size}, {optim_index}, {no_epoch}]\"] = [train_loss, train_acc, validate_loss, validate_acc, last_min_validate_loss, True] \n",
    "              \n",
    "              early_stopped = True\n",
    "              break\n",
    "          if not early_stopped:\n",
    "            logging.info(f\"\\n{lr, batch_size, optim_index, no_epoch}:\") \n",
    "            logging.info(f\"last_trained_acc: {train_acc}, last_validate_acc: {validate_acc}\")   \n",
    "            logging.info(f\"last_train_loss: {train_loss}, last_validate_loss:  {validate_loss}\")\n",
    "            logging.info(\"============================================\")\n",
    "            print(f\"\\n{lr, batch_size, optim_index, no_epoch}:\") \n",
    "            print(f\"last_trained_acc: {train_acc}, last_validate_acc: {validate_acc}\")   \n",
    "            print(f\"last_train_loss: {train_loss}, last_validate_loss:  {validate_loss}\")\n",
    "            print(\"============================================\")\n",
    "            results[f\"[{lr}, {batch_size}, {optim_index}, {no_epoch}]\"] = [train_loss, train_acc, validate_loss, validate_acc, None, False]\n",
    "\n",
    "  return results         "
   ]
  },
  {
   "cell_type": "code",
   "execution_count": 28,
   "metadata": {},
   "outputs": [
    {
     "name": "stdout",
     "output_type": "stream",
     "text": [
      "MODEL CONFIGURATIONS: lr: 0.0001, batch_size: 32, optimizer: 0, no_epoch: 100\n",
      "\n",
      "(0.0001, 32, 0, 100): Early Stopped at 33th epoch \n",
      "\n",
      "last_trained_acc: 0.7902696365767878, last_validate_acc: 0.7870544090056285, last min validate acc: 0.4793315740192638\n",
      "last_train_loss: 0.4408021465446172, last_validate_loss:  0.48100464133655324\n",
      "============================================\n",
      "MODEL CONFIGURATIONS: lr: 0.0001, batch_size: 32, optimizer: 0, no_epoch: 200\n",
      "\n",
      "(0.0001, 32, 0, 200): Early Stopped at 31th epoch \n",
      "\n",
      "last_trained_acc: 0.786400937866354, last_validate_acc: 0.7842401500938087, last min validate acc: 0.48243849330088673\n",
      "last_train_loss: 0.4457346856705705, last_validate_loss:  0.48499320359791026\n",
      "============================================\n",
      "MODEL CONFIGURATIONS: lr: 0.0001, batch_size: 32, optimizer: 0, no_epoch: 300\n",
      "\n",
      "(0.0001, 32, 0, 300): Early Stopped at 20th epoch \n",
      "\n",
      "last_trained_acc: 0.7607268464243845, last_validate_acc: 0.7654784240150094, last min validate acc: 0.49240278496461753\n",
      "last_train_loss: 0.48040384790870583, last_validate_loss:  0.4928799964049283\n",
      "============================================\n",
      "MODEL CONFIGURATIONS: lr: 0.0001, batch_size: 32, optimizer: 1, no_epoch: 100\n",
      "\n",
      "(0.0001, 32, 1, 100):\n",
      "last_trained_acc: 0.5613130128956624, last_validate_acc: 0.5966228893058161\n",
      "last_train_loss: 0.6855753637878189, last_validate_loss:  0.6853675614385044\n",
      "============================================\n",
      "MODEL CONFIGURATIONS: lr: 0.0001, batch_size: 32, optimizer: 1, no_epoch: 200\n",
      "\n",
      "(0.0001, 32, 1, 200):\n",
      "last_trained_acc: 0.5754982415005861, last_validate_acc: 0.626641651031895\n",
      "last_train_loss: 0.6835191667303164, last_validate_loss:  0.6833826776813058\n",
      "============================================\n",
      "MODEL CONFIGURATIONS: lr: 0.0001, batch_size: 32, optimizer: 1, no_epoch: 300\n",
      "\n",
      "(0.0001, 32, 1, 300):\n",
      "last_trained_acc: 0.6373974208675264, last_validate_acc: 0.6726078799249531\n",
      "last_train_loss: 0.6699411601163028, last_validate_loss:  0.6711388651062461\n",
      "============================================\n",
      "MODEL CONFIGURATIONS: lr: 0.0001, batch_size: 64, optimizer: 0, no_epoch: 100\n",
      "\n",
      "(0.0001, 64, 0, 100): Early Stopped at 21th epoch \n",
      "\n",
      "last_trained_acc: 0.7575615474794841, last_validate_acc: 0.7326454033771107, last min validate acc: 0.523841884206323\n",
      "last_train_loss: 0.49107376219176535, last_validate_loss:  0.5310374813921311\n",
      "============================================\n",
      "MODEL CONFIGURATIONS: lr: 0.0001, batch_size: 64, optimizer: 0, no_epoch: 200\n",
      "\n",
      "(0.0001, 64, 0, 200): Early Stopped at 19th epoch \n",
      "\n",
      "last_trained_acc: 0.74947245017585, last_validate_acc: 0.7392120075046904, last min validate acc: 0.5345328976126278\n",
      "last_train_loss: 0.5032299954944582, last_validate_loss:  0.5374081117265365\n",
      "============================================\n",
      "MODEL CONFIGURATIONS: lr: 0.0001, batch_size: 64, optimizer: 0, no_epoch: 300\n",
      "\n",
      "(0.0001, 64, 0, 300): Early Stopped at 16th epoch \n",
      "\n",
      "last_trained_acc: 0.7454865181711606, last_validate_acc: 0.7317073170731707, last min validate acc: 0.5316378894974204\n",
      "last_train_loss: 0.5087585494811855, last_validate_loss:  0.5348905640489915\n",
      "============================================\n",
      "MODEL CONFIGURATIONS: lr: 0.0001, batch_size: 64, optimizer: 1, no_epoch: 100\n",
      "\n",
      "(0.0001, 64, 1, 100):\n",
      "last_trained_acc: 0.523094958968347, last_validate_acc: 0.5290806754221389\n",
      "last_train_loss: 0.6918985914828172, last_validate_loss:  0.6909927690730375\n",
      "============================================\n",
      "MODEL CONFIGURATIONS: lr: 0.0001, batch_size: 64, optimizer: 1, no_epoch: 200\n",
      "\n",
      "(0.0001, 64, 1, 200):\n",
      "last_trained_acc: 0.5336459554513482, last_validate_acc: 0.5422138836772983\n",
      "last_train_loss: 0.689895755319453, last_validate_loss:  0.68950135567609\n",
      "============================================\n",
      "MODEL CONFIGURATIONS: lr: 0.0001, batch_size: 64, optimizer: 1, no_epoch: 300\n",
      "\n",
      "(0.0001, 64, 1, 300):\n",
      "last_trained_acc: 0.5731535756154748, last_validate_acc: 0.6219512195121951\n",
      "last_train_loss: 0.6832891773821702, last_validate_loss:  0.6834367022794836\n",
      "============================================\n",
      "MODEL CONFIGURATIONS: lr: 0.0001, batch_size: 128, optimizer: 0, no_epoch: 100\n",
      "\n",
      "(0.0001, 128, 0, 100): Early Stopped at 16th epoch \n",
      "\n",
      "last_trained_acc: 0.765767878077374, last_validate_acc: 0.6913696060037523, last min validate acc: 0.5633505980173746\n",
      "last_train_loss: 0.48773817384420937, last_validate_loss:  0.5711176428529952\n",
      "============================================\n",
      "MODEL CONFIGURATIONS: lr: 0.0001, batch_size: 128, optimizer: 0, no_epoch: 200\n",
      "\n",
      "(0.0001, 128, 0, 200): Early Stopped at 15th epoch \n",
      "\n",
      "last_trained_acc: 0.7634232121922626, last_validate_acc: 0.6904315196998124, last min validate acc: 0.5766453709867265\n",
      "last_train_loss: 0.496146441395603, last_validate_loss:  0.5794846382406023\n",
      "============================================\n",
      "MODEL CONFIGURATIONS: lr: 0.0001, batch_size: 128, optimizer: 0, no_epoch: 300\n",
      "\n",
      "(0.0001, 128, 0, 300): Early Stopped at 13th epoch \n",
      "\n",
      "last_trained_acc: 0.7493552168815943, last_validate_acc: 0.6772983114446529, last min validate acc: 0.5710433456632826\n",
      "last_train_loss: 0.5128064742728845, last_validate_loss:  0.5753266115983328\n",
      "============================================\n",
      "MODEL CONFIGURATIONS: lr: 0.0001, batch_size: 128, optimizer: 1, no_epoch: 100\n",
      "\n",
      "(0.0001, 128, 1, 100):\n",
      "last_trained_acc: 0.5017584994138335, last_validate_acc: 0.5150093808630394\n",
      "last_train_loss: 0.6943265511028802, last_validate_loss:  0.6925689048237271\n",
      "============================================\n",
      "MODEL CONFIGURATIONS: lr: 0.0001, batch_size: 128, optimizer: 1, no_epoch: 200\n",
      "\n",
      "(0.0001, 128, 1, 200):\n",
      "last_trained_acc: 0.5184056271981242, last_validate_acc: 0.575984990619137\n",
      "last_train_loss: 0.6926226429085234, last_validate_loss:  0.6896303097407023\n",
      "============================================\n",
      "MODEL CONFIGURATIONS: lr: 0.0001, batch_size: 128, optimizer: 1, no_epoch: 300\n",
      "\n",
      "(0.0001, 128, 1, 300):\n",
      "last_trained_acc: 0.5381008206330598, last_validate_acc: 0.5872420262664165\n",
      "last_train_loss: 0.6897111517279896, last_validate_loss:  0.6893410020404391\n",
      "============================================\n",
      "MODEL CONFIGURATIONS: lr: 0.0001, batch_size: 256, optimizer: 0, no_epoch: 100\n",
      "\n",
      "(0.0001, 256, 0, 100): Early Stopped at 16th epoch \n",
      "\n",
      "last_trained_acc: 0.7644783118405627, last_validate_acc: 0.698874296435272, last min validate acc: 0.5828097343444825\n",
      "last_train_loss: 0.48957642912864685, last_validate_loss:  0.5838919758796692\n",
      "============================================\n",
      "MODEL CONFIGURATIONS: lr: 0.0001, batch_size: 256, optimizer: 0, no_epoch: 200\n",
      "\n",
      "(0.0001, 256, 0, 200): Early Stopped at 19th epoch \n",
      "\n",
      "last_trained_acc: 0.7685814771395076, last_validate_acc: 0.7120075046904315, last min validate acc: 0.5687103390693664\n",
      "last_train_loss: 0.4866606636958964, last_validate_loss:  0.5688433766365051\n",
      "============================================\n",
      "MODEL CONFIGURATIONS: lr: 0.0001, batch_size: 256, optimizer: 0, no_epoch: 300\n",
      "\n",
      "(0.0001, 256, 0, 300): Early Stopped at 18th epoch \n",
      "\n",
      "last_trained_acc: 0.771746776084408, last_validate_acc: 0.699812382739212, last min validate acc: 0.5727925479412079\n",
      "last_train_loss: 0.48679021877401013, last_validate_loss:  0.5728549480438232\n",
      "============================================\n",
      "MODEL CONFIGURATIONS: lr: 0.0001, batch_size: 256, optimizer: 1, no_epoch: 100\n",
      "\n",
      "(0.0001, 256, 1, 100):\n",
      "last_trained_acc: 0.5024618991793669, last_validate_acc: 0.5225140712945591\n",
      "last_train_loss: 0.6942852437496185, last_validate_loss:  0.6924436569213868\n",
      "============================================\n",
      "MODEL CONFIGURATIONS: lr: 0.0001, batch_size: 256, optimizer: 1, no_epoch: 200\n",
      "\n",
      "(0.0001, 256, 1, 200):\n",
      "last_trained_acc: 0.5099648300117233, last_validate_acc: 0.5103189493433395\n",
      "last_train_loss: 0.6933617241242352, last_validate_loss:  0.6929327964782714\n",
      "============================================\n",
      "MODEL CONFIGURATIONS: lr: 0.0001, batch_size: 256, optimizer: 1, no_epoch: 300\n",
      "\n",
      "(0.0001, 256, 1, 300):\n",
      "last_trained_acc: 0.5033997655334115, last_validate_acc: 0.5196998123827392\n",
      "last_train_loss: 0.6942466059151817, last_validate_loss:  0.6929316282272339\n",
      "============================================\n",
      "MODEL CONFIGURATIONS: lr: 0.001, batch_size: 32, optimizer: 0, no_epoch: 100\n",
      "\n",
      "(0.001, 32, 0, 100): Early Stopped at 10th epoch \n",
      "\n",
      "last_trained_acc: 0.8082063305978898, last_validate_acc: 0.7701688555347092, last min validate acc: 0.479839324074633\n",
      "last_train_loss: 0.4176817518494995, last_validate_loss:  0.4943951789070578\n",
      "============================================\n",
      "MODEL CONFIGURATIONS: lr: 0.001, batch_size: 32, optimizer: 0, no_epoch: 200\n",
      "\n",
      "(0.001, 32, 0, 200): Early Stopped at 11th epoch \n",
      "\n",
      "last_trained_acc: 0.8223915592028136, last_validate_acc: 0.774859287054409, last min validate acc: 0.46971070634968143\n",
      "last_train_loss: 0.3916850863547807, last_validate_loss:  0.49298853383344765\n",
      "============================================\n",
      "MODEL CONFIGURATIONS: lr: 0.001, batch_size: 32, optimizer: 0, no_epoch: 300\n",
      "\n",
      "(0.001, 32, 0, 300): Early Stopped at 8th epoch \n",
      "\n",
      "last_trained_acc: 0.7878077373974208, last_validate_acc: 0.7692307692307693, last min validate acc: 0.49079450701966004\n",
      "last_train_loss: 0.4464642052235228, last_validate_loss:  0.50504610117744\n",
      "============================================\n",
      "MODEL CONFIGURATIONS: lr: 0.001, batch_size: 32, optimizer: 1, no_epoch: 100\n",
      "\n",
      "(0.001, 32, 1, 100):\n",
      "last_trained_acc: 0.7191090269636576, last_validate_acc: 0.7439024390243902\n",
      "last_train_loss: 0.5486853178520774, last_validate_loss:  0.5291700249209124\n",
      "============================================\n",
      "MODEL CONFIGURATIONS: lr: 0.001, batch_size: 32, optimizer: 1, no_epoch: 200\n",
      "\n",
      "(0.001, 32, 1, 200):\n",
      "last_trained_acc: 0.7514654161781946, last_validate_acc: 0.7814258911819888\n",
      "last_train_loss: 0.49310367389787896, last_validate_loss:  0.4868718429523356\n",
      "============================================\n",
      "MODEL CONFIGURATIONS: lr: 0.001, batch_size: 32, optimizer: 1, no_epoch: 300\n",
      "\n",
      "(0.001, 32, 1, 300): Early Stopped at 242th epoch \n",
      "\n",
      "last_trained_acc: 0.7647127784290738, last_validate_acc: 0.7720450281425891, last min validate acc: 0.489680920891902\n",
      "last_train_loss: 0.4800042880050252, last_validate_loss:  0.4900094007744509\n",
      "============================================\n",
      "MODEL CONFIGURATIONS: lr: 0.001, batch_size: 64, optimizer: 0, no_epoch: 100\n",
      "\n",
      "(0.001, 64, 0, 100): Early Stopped at 5th epoch \n",
      "\n",
      "last_trained_acc: 0.7783118405627198, last_validate_acc: 0.7195121951219512, last min validate acc: 0.5285154738846947\n",
      "last_train_loss: 0.46217778758771383, last_validate_loss:  0.567915281828712\n",
      "============================================\n",
      "MODEL CONFIGURATIONS: lr: 0.001, batch_size: 64, optimizer: 0, no_epoch: 200\n",
      "\n",
      "(0.001, 64, 0, 200): Early Stopped at 5th epoch \n",
      "\n",
      "last_trained_acc: 0.7822977725674092, last_validate_acc: 0.724202626641651, last min validate acc: 0.5395603968816645\n",
      "last_train_loss: 0.45943500112686586, last_validate_loss:  0.5605337146450492\n",
      "============================================\n",
      "MODEL CONFIGURATIONS: lr: 0.001, batch_size: 64, optimizer: 0, no_epoch: 300\n",
      "\n",
      "(0.001, 64, 0, 300): Early Stopped at 5th epoch \n",
      "\n",
      "last_trained_acc: 0.7740914419695193, last_validate_acc: 0.7317073170731707, last min validate acc: 0.5259993567186243\n",
      "last_train_loss: 0.4655615588399901, last_validate_loss:  0.5384905057794908\n",
      "============================================\n",
      "MODEL CONFIGURATIONS: lr: 0.001, batch_size: 64, optimizer: 1, no_epoch: 100\n",
      "\n",
      "(0.001, 64, 1, 100):\n",
      "last_trained_acc: 0.6817116060961314, last_validate_acc: 0.6951219512195121\n",
      "last_train_loss: 0.5948748795399025, last_validate_loss:  0.5913717413649839\n",
      "============================================\n",
      "MODEL CONFIGURATIONS: lr: 0.001, batch_size: 64, optimizer: 1, no_epoch: 200\n",
      "\n",
      "(0.001, 64, 1, 200):\n",
      "last_trained_acc: 0.7261430246189918, last_validate_acc: 0.7279549718574109\n",
      "last_train_loss: 0.5364987091786826, last_validate_loss:  0.5397114332984475\n",
      "============================================\n",
      "MODEL CONFIGURATIONS: lr: 0.001, batch_size: 64, optimizer: 1, no_epoch: 300\n",
      "\n",
      "(0.001, 64, 1, 300): Early Stopped at 236th epoch \n",
      "\n",
      "last_trained_acc: 0.74021101992966, last_validate_acc: 0.7335834896810507, last min validate acc: 0.5307144540197709\n",
      "last_train_loss: 0.5189078060993507, last_validate_loss:  0.5309857761158663\n",
      "============================================\n",
      "MODEL CONFIGURATIONS: lr: 0.001, batch_size: 128, optimizer: 0, no_epoch: 100\n",
      "\n",
      "(0.001, 128, 0, 100): Early Stopped at 4th epoch \n",
      "\n",
      "last_trained_acc: 0.778546307151231, last_validate_acc: 0.6829268292682927, last min validate acc: 0.6000172628296746\n",
      "last_train_loss: 0.46201361626831455, last_validate_loss:  0.6751591165860494\n",
      "============================================\n",
      "MODEL CONFIGURATIONS: lr: 0.001, batch_size: 128, optimizer: 0, no_epoch: 200\n",
      "\n",
      "(0.001, 128, 0, 200): Early Stopped at 4th epoch \n",
      "\n",
      "last_trained_acc: 0.7749120750293084, last_validate_acc: 0.6716697936210131, last min validate acc: 0.5908401376671262\n",
      "last_train_loss: 0.4614352526059791, last_validate_loss:  0.6406432853804694\n",
      "============================================\n",
      "MODEL CONFIGURATIONS: lr: 0.001, batch_size: 128, optimizer: 0, no_epoch: 300\n",
      "\n",
      "(0.001, 128, 0, 300): Early Stopped at 4th epoch \n",
      "\n",
      "last_trained_acc: 0.773622508792497, last_validate_acc: 0.6923076923076923, last min validate acc: 0.6004292964935303\n",
      "last_train_loss: 0.4601901707364552, last_validate_loss:  0.653260330359141\n",
      "============================================\n",
      "MODEL CONFIGURATIONS: lr: 0.001, batch_size: 128, optimizer: 1, no_epoch: 100\n",
      "\n",
      "(0.001, 128, 1, 100):\n",
      "last_trained_acc: 0.6131301289566237, last_validate_acc: 0.651031894934334\n",
      "last_train_loss: 0.6744358441722926, last_validate_loss:  0.6773504018783569\n",
      "============================================\n",
      "MODEL CONFIGURATIONS: lr: 0.001, batch_size: 128, optimizer: 1, no_epoch: 200\n",
      "\n",
      "(0.001, 128, 1, 200):\n",
      "last_trained_acc: 0.7354044548651817, last_validate_acc: 0.6754221388367729\n",
      "last_train_loss: 0.5457346292574015, last_validate_loss:  0.6115669144524468\n",
      "============================================\n",
      "MODEL CONFIGURATIONS: lr: 0.001, batch_size: 128, optimizer: 1, no_epoch: 300\n",
      "\n",
      "(0.001, 128, 1, 300): Early Stopped at 264th epoch \n",
      "\n",
      "last_trained_acc: 0.7497069167643611, last_validate_acc: 0.699812382739212, last min validate acc: 0.5661905838383569\n",
      "last_train_loss: 0.5071530564507442, last_validate_loss:  0.5662900706132253\n",
      "============================================\n",
      "MODEL CONFIGURATIONS: lr: 0.001, batch_size: 256, optimizer: 0, no_epoch: 100\n",
      "\n",
      "(0.001, 256, 0, 100): Early Stopped at 5th epoch \n",
      "\n",
      "last_trained_acc: 0.7930832356389215, last_validate_acc: 0.7101313320825516, last min validate acc: 0.5996101498603821\n",
      "last_train_loss: 0.4431423842906952, last_validate_loss:  0.6143440842628479\n",
      "============================================\n",
      "MODEL CONFIGURATIONS: lr: 0.001, batch_size: 256, optimizer: 0, no_epoch: 200\n",
      "\n",
      "(0.001, 256, 0, 200): Early Stopped at 6th epoch \n",
      "\n",
      "last_trained_acc: 0.8036342321219226, last_validate_acc: 0.7082551594746717, last min validate acc: 0.5795901536941528\n",
      "last_train_loss: 0.4290194511413574, last_validate_loss:  0.5928530812263488\n",
      "============================================\n",
      "MODEL CONFIGURATIONS: lr: 0.001, batch_size: 256, optimizer: 0, no_epoch: 300\n",
      "\n",
      "(0.001, 256, 0, 300): Early Stopped at 6th epoch \n",
      "\n",
      "last_trained_acc: 0.8097303634232121, last_validate_acc: 0.7129455909943715, last min validate acc: 0.56967853307724\n",
      "last_train_loss: 0.41996125438634085, last_validate_loss:  0.594063150882721\n",
      "============================================\n",
      "MODEL CONFIGURATIONS: lr: 0.001, batch_size: 256, optimizer: 1, no_epoch: 100\n",
      "\n",
      "(0.001, 256, 1, 100): Early Stopped at 4th epoch \n",
      "\n",
      "last_trained_acc: 0.4935521688159437, last_validate_acc: 0.4981238273921201, last min validate acc: 0.6938688039779664\n",
      "last_train_loss: 0.697195927886402, last_validate_loss:  0.694078779220581\n",
      "============================================\n",
      "MODEL CONFIGURATIONS: lr: 0.001, batch_size: 256, optimizer: 1, no_epoch: 200\n",
      "\n",
      "(0.001, 256, 1, 200):\n",
      "last_trained_acc: 0.6267291910902696, last_validate_acc: 0.6172607879924953\n",
      "last_train_loss: 0.6710335068842944, last_validate_loss:  0.6817134499549866\n",
      "============================================\n",
      "MODEL CONFIGURATIONS: lr: 0.001, batch_size: 256, optimizer: 1, no_epoch: 300\n",
      "\n",
      "(0.001, 256, 1, 300): Early Stopped at 4th epoch \n",
      "\n",
      "last_trained_acc: 0.48194607268464246, last_validate_acc: 0.48592870544090055, last min validate acc: 0.692800760269165\n",
      "last_train_loss: 0.6977888450903051, last_validate_loss:  0.6929914951324463\n",
      "============================================\n"
     ]
    }
   ],
   "source": [
    "results = find_optimal_model_1(no_epochs=no_epochs, lrs=lrs, optimizers=optimizers, batch_sizes=batch_sizes)"
   ]
  },
  {
   "cell_type": "code",
   "execution_count": 29,
   "metadata": {},
   "outputs": [],
   "source": [
    "import pickle \n",
    "pickle.dump(results, open(\"results_nicole_find_optimal_params_mask_max_sorted.pkl\", \"wb\"))"
   ]
  },
  {
   "cell_type": "code",
   "execution_count": 30,
   "metadata": {},
   "outputs": [],
   "source": [
    "\n",
    "sorted_results = sorted(results.items(), key=lambda x: x[1][3], reverse=True)"
   ]
  },
  {
   "cell_type": "code",
   "execution_count": 32,
   "metadata": {},
   "outputs": [
    {
     "name": "stdout",
     "output_type": "stream",
     "text": [
      "[('[0.0001, 32, 0, 100]', [0.4408021465446172, 0.7902696365767878, 0.48100464133655324, 0.7870544090056285, 0.4793315740192638, True]), ('[0.0001, 32, 0, 200]', [0.4457346856705705, 0.786400937866354, 0.48499320359791026, 0.7842401500938087, 0.48243849330088673, True]), ('[0.001, 32, 1, 200]', [0.49310367389787896, 0.7514654161781946, 0.4868718429523356, 0.7814258911819888, None, False]), ('[0.001, 32, 0, 200]', [0.3916850863547807, 0.8223915592028136, 0.49298853383344765, 0.774859287054409, 0.46971070634968143, True]), ('[0.001, 32, 1, 300]', [0.4800042880050252, 0.7647127784290738, 0.4900094007744509, 0.7720450281425891, 0.489680920891902, True]), ('[0.001, 32, 0, 100]', [0.4176817518494995, 0.8082063305978898, 0.4943951789070578, 0.7701688555347092, 0.479839324074633, True]), ('[0.001, 32, 0, 300]', [0.4464642052235228, 0.7878077373974208, 0.50504610117744, 0.7692307692307693, 0.49079450701966004, True]), ('[0.0001, 32, 0, 300]', [0.48040384790870583, 0.7607268464243845, 0.4928799964049283, 0.7654784240150094, 0.49240278496461753, True]), ('[0.001, 32, 1, 100]', [0.5486853178520774, 0.7191090269636576, 0.5291700249209124, 0.7439024390243902, None, False]), ('[0.0001, 64, 0, 200]', [0.5032299954944582, 0.74947245017585, 0.5374081117265365, 0.7392120075046904, 0.5345328976126278, True])]\n"
     ]
    }
   ],
   "source": [
    "print(sorted_results[:10])"
   ]
  },
  {
   "cell_type": "code",
   "execution_count": 31,
   "metadata": {},
   "outputs": [
    {
     "data": {
      "text/plain": [
       "[<matplotlib.lines.Line2D at 0x1b30f1af0>]"
      ]
     },
     "execution_count": 31,
     "metadata": {},
     "output_type": "execute_result"
    },
    {
     "data": {
      "image/png": "[encoded data removed]",
      "text/plain": [
       "<Figure size 1400x800 with 1 Axes>"
      ]
     },
     "metadata": {},
     "output_type": "display_data"
    }
   ],
   "source": [
    "configs = [x[0] for x in sorted_results]\n",
    "validate_accs = [x[1][3] for x in sorted_results]\n",
    "plt.figure(figsize=(14,8))\n",
    "plt.xticks(rotation=90)\n",
    "plt.xlabel(\"Configurations (lr, batch_size, optimizer, no_epoch)\")\n",
    "plt.ylabel(\"Validation Accuracy\")\n",
    "plt.title(\"Configuration vs Validation Accuracy\")\n",
    "plt.grid(True)\n",
    "plt.tight_layout()\n",
    "plt.plot(configs, validate_accs)\n"
   ]
  },
  {
   "cell_type": "code",
   "execution_count": 52,
   "metadata": {},
   "outputs": [],
   "source": [
    "# train the best model \n",
    "best_lr = 0.0001\n",
    "best_bs = 32 \n",
    "best_optimizer = torch.optim.Adam\n",
    "best_no_epoch = 100\n",
    "\n",
    "# fixed parameters\n",
    "hidden_size=128\n",
    "num_layers=2 \n",
    "dropout=0.3\n",
    "\n",
    "train_dataloader_sorted = DataLoader(\n",
    "          train_dataset_ed_sorted,\n",
    "          batch_size=best_bs,\n",
    "          shuffle=False,\n",
    "          collate_fn=lambda x: pad_collate(x, pad_value),\n",
    "      )\n",
    "\n",
    "\n",
    "\n",
    "# # use an unsorted test dataset \n",
    "test_dataset_ed_sorted = EmbeddingsDataset(test_dataset[\"text\"], test_dataset[\"label\"], sort=True)\n",
    "test_dataloader_unsorted = DataLoader(\n",
    "    test_dataset_ed_sorted,\n",
    "    batch_size=best_bs,\n",
    "    shuffle=True,\n",
    "    collate_fn=lambda x: pad_collate(x, pad_value),\n",
    ")\n",
    "\n"
   ]
  },
  {
   "cell_type": "code",
   "execution_count": null,
   "metadata": {},
   "outputs": [],
   "source": [
    "# Test loop\n",
    "# (0.0001, 32, 0, 100): Early Stopped at 33th epoch  \n",
    "\n",
    "def train_optimal_model(best_bs=best_bs, best_lr=best_lr, best_no_epoch=best_no_epoch, best_optimizer=best_optimizer, dropout=0.3, num_layers=2, hidden_size=128):\n",
    "    validation_accs = [] \n",
    "    validation_losses = [] \n",
    "    train_losses = [] \n",
    "    train_accs = [] \n",
    "    opt_model = FinalVanillaRNN(input_size=EMBEDDING_DIM, hidden_size=hidden_size, num_layers=num_layers, num_classes=1, drop_out=dropout, embedding_matrix_torch=word_embeddings.to_tensor, padding_idx=word_embeddings.pad_idx)\n",
    "    criterion = nn.BCELoss()\n",
    "    optim = best_optimizer(opt_model.parameters(), lr=best_lr)\n",
    "    for i in range(33):\n",
    "        train_loss, train_acc = train_loop_bce(train_dataloader_sorted, opt_model, criterion, optim)\n",
    "        validate_loss, validate_acc = test_loop_bce(validation_dataloader_sorted, opt_model, criterion)\n",
    "        validation_accs.append(validate_acc)\n",
    "        validation_losses.append(validate_loss)\n",
    "        train_losses.append(train_loss)\n",
    "        train_accs.append(train_acc)\n",
    "    return opt_model, validation_accs, validation_losses, train_losses, train_accs\n",
    "\n",
    "# using our best model   \n",
    "optimal_model_RNN, validation_accs, validation_losses, train_losses, train_accs = train_optimal_model()\n",
    "torch.save(optimal_model_RNN, \"optimal_model_RNN\")\n",
    "test_acc = test_performance(test_dataloader_unsorted, optimal_model_RNN)"
   ]
  },
  {
   "cell_type": "code",
   "execution_count": 56,
   "metadata": {},
   "outputs": [
    {
     "name": "stdout",
     "output_type": "stream",
     "text": [
      "The test accuracy of the optimal model is:  0.8067542213883677\n"
     ]
    }
   ],
   "source": [
    "print(\"The test accuracy of the optimal model is: \", test_acc)"
   ]
  },
  {
   "cell_type": "code",
   "execution_count": 64,
   "metadata": {},
   "outputs": [
    {
     "data": {
      "text/plain": [
       "<matplotlib.legend.Legend at 0x1bc183560>"
      ]
     },
     "execution_count": 64,
     "metadata": {},
     "output_type": "execute_result"
    },
    {
     "data": {
      "image/png": "[encoded data removed]",
      "text/plain": [
       "<Figure size 1000x800 with 1 Axes>"
      ]
     },
     "metadata": {},
     "output_type": "display_data"
    }
   ],
   "source": [
    "plt.figure(figsize=(10,8))\n",
    "plt.xticks(rotation=90)\n",
    "plt.xlabel(\"Epoch\")\n",
    "plt.ylabel(\"Loss\")\n",
    "plt.title(\"Train Loss and Validation Loss (Optimal Model) vs Epoch\")\n",
    "plt.grid(True)\n",
    "plt.tight_layout()\n",
    "plt.plot([i+1 for i in range(33)], train_losses, label=\"Train Loss\")\n",
    "plt.plot([i+1 for i in range(33)], validation_losses, label=\"Validate Loss\")\n",
    "plt.legend()"
   ]
  },
  {
   "cell_type": "code",
   "execution_count": 65,
   "metadata": {},
   "outputs": [
    {
     "data": {
      "text/plain": [
       "<matplotlib.legend.Legend at 0x1bc19c410>"
      ]
     },
     "execution_count": 65,
     "metadata": {},
     "output_type": "execute_result"
    },
    {
     "data": {
      "image/png": "[encoded data removed]",
      "text/plain": [
       "<Figure size 1000x800 with 1 Axes>"
      ]
     },
     "metadata": {},
     "output_type": "display_data"
    }
   ],
   "source": [
    "plt.figure(figsize=(10,8))\n",
    "plt.xticks(rotation=90)\n",
    "plt.xlabel(\"Epoch\")\n",
    "plt.ylabel(\"Loss\")\n",
    "plt.title(\"Train Acc and Validation Acc (Optimal Model) vs Epoch\")\n",
    "plt.grid(True)\n",
    "plt.tight_layout()\n",
    "plt.plot([i+1 for i in range(33)], train_accs, label=\"Train Acc\")\n",
    "plt.plot([i+1 for i in range(33)], validation_accs, label=\"Validate Acc\")\n",
    "plt.legend()"
   ]
  },
  {
   "cell_type": "code",
   "execution_count": 72,
   "metadata": {},
   "outputs": [
    {
     "data": {
      "text/html": [
       "<div>\n",
       "<style scoped>\n",
       "    .dataframe tbody tr th:only-of-type {\n",
       "        vertical-align: middle;\n",
       "    }\n",
       "\n",
       "    .dataframe tbody tr th {\n",
       "        vertical-align: top;\n",
       "    }\n",
       "\n",
       "    .dataframe thead th {\n",
       "        text-align: right;\n",
       "    }\n",
       "</style>\n",
       "<table border=\"1\" class=\"dataframe\">\n",
       "  <thead>\n",
       "    <tr style=\"text-align: right;\">\n",
       "      <th></th>\n",
       "      <th>Epoch</th>\n",
       "      <th>Train Loss</th>\n",
       "      <th>Validation Loss</th>\n",
       "      <th>Train Accuracy</th>\n",
       "      <th>Validation Accuracy</th>\n",
       "    </tr>\n",
       "  </thead>\n",
       "  <tbody>\n",
       "    <tr>\n",
       "      <th>0</th>\n",
       "      <td>1</td>\n",
       "      <td>0.689083</td>\n",
       "      <td>0.673196</td>\n",
       "      <td>0.527198</td>\n",
       "      <td>0.651970</td>\n",
       "    </tr>\n",
       "    <tr>\n",
       "      <th>1</th>\n",
       "      <td>2</td>\n",
       "      <td>0.656952</td>\n",
       "      <td>0.615189</td>\n",
       "      <td>0.631301</td>\n",
       "      <td>0.690432</td>\n",
       "    </tr>\n",
       "    <tr>\n",
       "      <th>2</th>\n",
       "      <td>3</td>\n",
       "      <td>0.610015</td>\n",
       "      <td>0.583338</td>\n",
       "      <td>0.673154</td>\n",
       "      <td>0.707317</td>\n",
       "    </tr>\n",
       "    <tr>\n",
       "      <th>3</th>\n",
       "      <td>4</td>\n",
       "      <td>0.587519</td>\n",
       "      <td>0.567078</td>\n",
       "      <td>0.688042</td>\n",
       "      <td>0.720450</td>\n",
       "    </tr>\n",
       "    <tr>\n",
       "      <th>4</th>\n",
       "      <td>5</td>\n",
       "      <td>0.576303</td>\n",
       "      <td>0.556518</td>\n",
       "      <td>0.696835</td>\n",
       "      <td>0.725141</td>\n",
       "    </tr>\n",
       "    <tr>\n",
       "      <th>5</th>\n",
       "      <td>6</td>\n",
       "      <td>0.566391</td>\n",
       "      <td>0.546513</td>\n",
       "      <td>0.704455</td>\n",
       "      <td>0.741088</td>\n",
       "    </tr>\n",
       "    <tr>\n",
       "      <th>6</th>\n",
       "      <td>7</td>\n",
       "      <td>0.558153</td>\n",
       "      <td>0.538687</td>\n",
       "      <td>0.715709</td>\n",
       "      <td>0.746717</td>\n",
       "    </tr>\n",
       "    <tr>\n",
       "      <th>7</th>\n",
       "      <td>8</td>\n",
       "      <td>0.549667</td>\n",
       "      <td>0.531499</td>\n",
       "      <td>0.718288</td>\n",
       "      <td>0.751407</td>\n",
       "    </tr>\n",
       "    <tr>\n",
       "      <th>8</th>\n",
       "      <td>9</td>\n",
       "      <td>0.540963</td>\n",
       "      <td>0.524709</td>\n",
       "      <td>0.726260</td>\n",
       "      <td>0.756098</td>\n",
       "    </tr>\n",
       "    <tr>\n",
       "      <th>9</th>\n",
       "      <td>10</td>\n",
       "      <td>0.534489</td>\n",
       "      <td>0.519171</td>\n",
       "      <td>0.730715</td>\n",
       "      <td>0.755159</td>\n",
       "    </tr>\n",
       "    <tr>\n",
       "      <th>10</th>\n",
       "      <td>11</td>\n",
       "      <td>0.528138</td>\n",
       "      <td>0.514203</td>\n",
       "      <td>0.733880</td>\n",
       "      <td>0.751407</td>\n",
       "    </tr>\n",
       "    <tr>\n",
       "      <th>11</th>\n",
       "      <td>12</td>\n",
       "      <td>0.522386</td>\n",
       "      <td>0.509944</td>\n",
       "      <td>0.740445</td>\n",
       "      <td>0.757036</td>\n",
       "    </tr>\n",
       "    <tr>\n",
       "      <th>12</th>\n",
       "      <td>13</td>\n",
       "      <td>0.517230</td>\n",
       "      <td>0.505745</td>\n",
       "      <td>0.743025</td>\n",
       "      <td>0.760788</td>\n",
       "    </tr>\n",
       "    <tr>\n",
       "      <th>13</th>\n",
       "      <td>14</td>\n",
       "      <td>0.511301</td>\n",
       "      <td>0.502215</td>\n",
       "      <td>0.746893</td>\n",
       "      <td>0.763602</td>\n",
       "    </tr>\n",
       "    <tr>\n",
       "      <th>14</th>\n",
       "      <td>15</td>\n",
       "      <td>0.506924</td>\n",
       "      <td>0.499353</td>\n",
       "      <td>0.749004</td>\n",
       "      <td>0.764540</td>\n",
       "    </tr>\n",
       "    <tr>\n",
       "      <th>15</th>\n",
       "      <td>16</td>\n",
       "      <td>0.503731</td>\n",
       "      <td>0.494246</td>\n",
       "      <td>0.754045</td>\n",
       "      <td>0.772983</td>\n",
       "    </tr>\n",
       "    <tr>\n",
       "      <th>16</th>\n",
       "      <td>17</td>\n",
       "      <td>0.497326</td>\n",
       "      <td>0.491898</td>\n",
       "      <td>0.754631</td>\n",
       "      <td>0.776735</td>\n",
       "    </tr>\n",
       "    <tr>\n",
       "      <th>17</th>\n",
       "      <td>18</td>\n",
       "      <td>0.492681</td>\n",
       "      <td>0.488025</td>\n",
       "      <td>0.757913</td>\n",
       "      <td>0.781426</td>\n",
       "    </tr>\n",
       "    <tr>\n",
       "      <th>18</th>\n",
       "      <td>19</td>\n",
       "      <td>0.490734</td>\n",
       "      <td>0.484862</td>\n",
       "      <td>0.760023</td>\n",
       "      <td>0.780488</td>\n",
       "    </tr>\n",
       "    <tr>\n",
       "      <th>19</th>\n",
       "      <td>20</td>\n",
       "      <td>0.486078</td>\n",
       "      <td>0.483495</td>\n",
       "      <td>0.761547</td>\n",
       "      <td>0.777674</td>\n",
       "    </tr>\n",
       "    <tr>\n",
       "      <th>20</th>\n",
       "      <td>21</td>\n",
       "      <td>0.482686</td>\n",
       "      <td>0.480461</td>\n",
       "      <td>0.765885</td>\n",
       "      <td>0.773921</td>\n",
       "    </tr>\n",
       "    <tr>\n",
       "      <th>21</th>\n",
       "      <td>22</td>\n",
       "      <td>0.478602</td>\n",
       "      <td>0.479476</td>\n",
       "      <td>0.764478</td>\n",
       "      <td>0.774859</td>\n",
       "    </tr>\n",
       "    <tr>\n",
       "      <th>22</th>\n",
       "      <td>23</td>\n",
       "      <td>0.474237</td>\n",
       "      <td>0.478242</td>\n",
       "      <td>0.771161</td>\n",
       "      <td>0.776735</td>\n",
       "    </tr>\n",
       "    <tr>\n",
       "      <th>23</th>\n",
       "      <td>24</td>\n",
       "      <td>0.471894</td>\n",
       "      <td>0.476993</td>\n",
       "      <td>0.773271</td>\n",
       "      <td>0.777674</td>\n",
       "    </tr>\n",
       "    <tr>\n",
       "      <th>24</th>\n",
       "      <td>25</td>\n",
       "      <td>0.468548</td>\n",
       "      <td>0.476628</td>\n",
       "      <td>0.775733</td>\n",
       "      <td>0.776735</td>\n",
       "    </tr>\n",
       "    <tr>\n",
       "      <th>25</th>\n",
       "      <td>26</td>\n",
       "      <td>0.465034</td>\n",
       "      <td>0.474885</td>\n",
       "      <td>0.778546</td>\n",
       "      <td>0.777674</td>\n",
       "    </tr>\n",
       "    <tr>\n",
       "      <th>26</th>\n",
       "      <td>27</td>\n",
       "      <td>0.462500</td>\n",
       "      <td>0.475065</td>\n",
       "      <td>0.777022</td>\n",
       "      <td>0.782364</td>\n",
       "    </tr>\n",
       "    <tr>\n",
       "      <th>27</th>\n",
       "      <td>28</td>\n",
       "      <td>0.460859</td>\n",
       "      <td>0.475851</td>\n",
       "      <td>0.778898</td>\n",
       "      <td>0.782364</td>\n",
       "    </tr>\n",
       "    <tr>\n",
       "      <th>28</th>\n",
       "      <td>29</td>\n",
       "      <td>0.456482</td>\n",
       "      <td>0.476309</td>\n",
       "      <td>0.781360</td>\n",
       "      <td>0.785178</td>\n",
       "    </tr>\n",
       "    <tr>\n",
       "      <th>29</th>\n",
       "      <td>30</td>\n",
       "      <td>0.453364</td>\n",
       "      <td>0.477003</td>\n",
       "      <td>0.782415</td>\n",
       "      <td>0.784240</td>\n",
       "    </tr>\n",
       "    <tr>\n",
       "      <th>30</th>\n",
       "      <td>31</td>\n",
       "      <td>0.448103</td>\n",
       "      <td>0.477379</td>\n",
       "      <td>0.787573</td>\n",
       "      <td>0.783302</td>\n",
       "    </tr>\n",
       "    <tr>\n",
       "      <th>31</th>\n",
       "      <td>32</td>\n",
       "      <td>0.445105</td>\n",
       "      <td>0.479321</td>\n",
       "      <td>0.788863</td>\n",
       "      <td>0.785178</td>\n",
       "    </tr>\n",
       "    <tr>\n",
       "      <th>32</th>\n",
       "      <td>33</td>\n",
       "      <td>0.443467</td>\n",
       "      <td>0.480271</td>\n",
       "      <td>0.788042</td>\n",
       "      <td>0.784240</td>\n",
       "    </tr>\n",
       "  </tbody>\n",
       "</table>\n",
       "</div>"
      ],
      "text/plain": [
       "    Epoch  Train Loss  Validation Loss  Train Accuracy  Validation Accuracy\n",
       "0       1    0.689083         0.673196        0.527198             0.651970\n",
       "1       2    0.656952         0.615189        0.631301             0.690432\n",
       "2       3    0.610015         0.583338        0.673154             0.707317\n",
       "3       4    0.587519         0.567078        0.688042             0.720450\n",
       "4       5    0.576303         0.556518        0.696835             0.725141\n",
       "5       6    0.566391         0.546513        0.704455             0.741088\n",
       "6       7    0.558153         0.538687        0.715709             0.746717\n",
       "7       8    0.549667         0.531499        0.718288             0.751407\n",
       "8       9    0.540963         0.524709        0.726260             0.756098\n",
       "9      10    0.534489         0.519171        0.730715             0.755159\n",
       "10     11    0.528138         0.514203        0.733880             0.751407\n",
       "11     12    0.522386         0.509944        0.740445             0.757036\n",
       "12     13    0.517230         0.505745        0.743025             0.760788\n",
       "13     14    0.511301         0.502215        0.746893             0.763602\n",
       "14     15    0.506924         0.499353        0.749004             0.764540\n",
       "15     16    0.503731         0.494246        0.754045             0.772983\n",
       "16     17    0.497326         0.491898        0.754631             0.776735\n",
       "17     18    0.492681         0.488025        0.757913             0.781426\n",
       "18     19    0.490734         0.484862        0.760023             0.780488\n",
       "19     20    0.486078         0.483495        0.761547             0.777674\n",
       "20     21    0.482686         0.480461        0.765885             0.773921\n",
       "21     22    0.478602         0.479476        0.764478             0.774859\n",
       "22     23    0.474237         0.478242        0.771161             0.776735\n",
       "23     24    0.471894         0.476993        0.773271             0.777674\n",
       "24     25    0.468548         0.476628        0.775733             0.776735\n",
       "25     26    0.465034         0.474885        0.778546             0.777674\n",
       "26     27    0.462500         0.475065        0.777022             0.782364\n",
       "27     28    0.460859         0.475851        0.778898             0.782364\n",
       "28     29    0.456482         0.476309        0.781360             0.785178\n",
       "29     30    0.453364         0.477003        0.782415             0.784240\n",
       "30     31    0.448103         0.477379        0.787573             0.783302\n",
       "31     32    0.445105         0.479321        0.788863             0.785178\n",
       "32     33    0.443467         0.480271        0.788042             0.784240"
      ]
     },
     "metadata": {},
     "output_type": "display_data"
    }
   ],
   "source": [
    "import pandas as pd\n",
    "\n",
    "# Example data\n",
    "epochs = list(range(1, 34))\n",
    "\n",
    "# Creating a DataFrame\n",
    "metrics_df = pd.DataFrame({\n",
    "    \"Epoch\": epochs,\n",
    "    \"Train Loss\": train_losses,\n",
    "    \"Validation Loss\": validation_losses,\n",
    "    \"Train Accuracy\": train_accs,\n",
    "    \"Validation Accuracy\": validation_accs\n",
    "})\n",
    "\n",
    "# Display the DataFrame\n",
    "metrics = metrics_df.reset_index(drop=True)\n",
    "display(metrics)"
   ]
  },
  {
   "cell_type": "code",
   "execution_count": 73,
   "metadata": {},
   "outputs": [],
   "source": [
    "metrics.to_csv(\"Part_2_validation_acc_opt_model.csv\")"
   ]
  },
  {
   "cell_type": "code",
   "execution_count": 80,
   "metadata": {},
   "outputs": [],
   "source": [
    "# test the optimal model \n",
    "optimal_model_RNN = torch.load(\"optimal_model_RNN\")\n",
    "test_acc = test_performance(test_dataloader_unsorted, optimal_model_RNN)\n",
    "test_acc_sorted = test_performance(test_dataloader_sorted, optimal_model_RNN)"
   ]
  },
  {
   "cell_type": "code",
   "execution_count": 81,
   "metadata": {},
   "outputs": [
    {
     "data": {
      "text/plain": [
       "0.8067542213883677"
      ]
     },
     "execution_count": 81,
     "metadata": {},
     "output_type": "execute_result"
    }
   ],
   "source": [
    "test_acc"
   ]
  },
  {
   "cell_type": "code",
   "execution_count": 82,
   "metadata": {},
   "outputs": [
    {
     "data": {
      "text/plain": [
       "0.8067542213883677"
      ]
     },
     "execution_count": 82,
     "metadata": {},
     "output_type": "execute_result"
    }
   ],
   "source": [
    "test_acc_sorted"
   ]
  }
 ],
 "metadata": {
  "kernelspec": {
   "display_name": "venv",
   "language": "python",
   "name": "python3"
  },
  "language_info": {
   "codemirror_mode": {
    "name": "ipython",
    "version": 3
   },
   "file_extension": ".py",
   "mimetype": "text/x-python",
   "name": "python",
   "nbconvert_exporter": "python",
   "pygments_lexer": "ipython3",
   "version": "3.12.0"
  }
 },
 "nbformat": 4,
 "nbformat_minor": 2
}
