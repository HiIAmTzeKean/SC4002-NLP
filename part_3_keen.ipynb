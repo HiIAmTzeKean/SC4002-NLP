{
 "cells": [
  {
   "cell_type": "markdown",
   "metadata": {},
   "source": [
    "# Part 3. Enhancement\n",
    "The RNN model used in Part 2 is a basic model to perform the task of sentiment classification. In\n",
    "this section, you will design strategies to improve upon the previous model you have built. You are\n",
    "required to implement the following adjustments:\n",
    "\n",
    "1. Instead of keeping the word embeddings fixed, now update the word embeddings (the same\n",
    "way as model parameters) during the training process.\n",
    "2. As discussed in Question 1(c), apply your solution in mitigating the influence of OOV words\n",
    "and train your model again.\n",
    "3. Keeping the above two adjustments, replace your simple RNN model in Part 2 with a biLSTM model and a biGRU model, incorporating recurrent computations in both directions and\n",
    "stacking multiple layers if possible.\n",
    "4. Keeping the above two adjustments, replace your simple RNN model in Part 2 with a Convolutional Neural Network (CNN) to produce sentence representations and perform sentiment\n",
    "classification.\n",
    "5. Further improve your model. You are free to use any strategy other than the above mentioned solutions. Changing hyper-parameters or stacking more layers is not counted towards\n",
    "a meaningful improvement.\n"
   ]
  },
  {
   "cell_type": "markdown",
   "metadata": {},
   "source": [
    "## Question 1\n",
    "\n",
    "Instead of keeping the word embeddings fixed, now update the word embeddings (the same\n",
    "way as model parameters) during the training process.\n",
    "\n",
    "### Approach\n",
    "\n",
    "We will use the same model as in part 2 notebook, but now we will also back propagate\n",
    "the loss into the word embeddings itself. This will mean that as the model learns,\n",
    "the word embeddings would also update, causing the encoding of the words to change."
   ]
  },
  {
   "cell_type": "code",
   "execution_count": 1,
   "metadata": {},
   "outputs": [
    {
     "name": "stderr",
     "output_type": "stream",
     "text": [
      "/Users/keenlim/Library/Caches/pypoetry/virtualenvs/sc4002-nlp-Ehnma5G0-py3.12/lib/python3.12/site-packages/tqdm/auto.py:21: TqdmWarning: IProgress not found. Please update jupyter and ipywidgets. See https://ipywidgets.readthedocs.io/en/stable/user_install.html\n",
      "  from .autonotebook import tqdm as notebook_tqdm\n"
     ]
    },
    {
     "data": {
      "text/plain": [
       "<torch._C.Generator at 0x1188d9230>"
      ]
     },
     "execution_count": 1,
     "metadata": {},
     "output_type": "execute_result"
    }
   ],
   "source": [
    "import numpy as np\n",
    "import torch\n",
    "import torch.nn as nn\n",
    "import torch.optim as optim\n",
    "from common_utils import UNK_TOKEN,EMBEDDING_DIM,SAVE_DIR,VOCAB_PATH,EMBEDDING_MATRIX_PATH,WORD2IDX_PATH,IDX2WORD_PATH,tokenize, EmbeddingMatrix, CustomDatasetPreparer\n",
    "np.random.seed(42)\n",
    "torch.manual_seed(0)"
   ]
  },
  {
   "cell_type": "code",
   "execution_count": 2,
   "metadata": {},
   "outputs": [],
   "source": [
    "class RNNModel(nn.Module):\n",
    "    def __init__(self, vocab_size, embedding_dim, hidden_dim, output_dim, word_embedding:np.ndarray):\n",
    "        super(RNNModel, self).__init__()\n",
    "\n",
    "        # Word2Vec embedding layer\n",
    "        # freeze=False to enable updates to embeddings\n",
    "        self.word2vec_embeddings = nn.Embedding.from_pretrained(torch.tensor(word_embedding), freeze=False)\n",
    "\n",
    "        # RNN layer\n",
    "        self.rnn = nn.RNN(embedding_dim, hidden_dim)\n",
    "\n",
    "        # Fully connected layer\n",
    "        self.fc = nn.Linear(hidden_dim, output_dim)\n",
    "\n",
    "    def forward(self, x):\n",
    "        # Look up word embeddings\n",
    "        x = self.word2vec_embeddings(x)\n",
    "\n",
    "        # Pass through RNN\n",
    "        x, _ = self.rnn(x)\n",
    "\n",
    "        # Take the last hidden state\n",
    "        x = x[:, -1, :]\n",
    "\n",
    "        # Pass through fully connected layer\n",
    "        x = self.fc(x)\n",
    "\n",
    "        return x\n",
    "\n",
    "\n",
    "hidden_dim = 128\n",
    "output_dim = 1\n",
    "# Load EmbeddingMatrix\n",
    "w2v_model = EmbeddingMatrix.load()\n",
    "\n",
    "# Create RNN model\n",
    "model = RNNModel(w2v_model.vocab_size,\n",
    "                 w2v_model.dimension,\n",
    "                 hidden_dim,\n",
    "                 output_dim,\n",
    "                 w2v_model.embedding_matrix)\n",
    "\n",
    "# Create optimizer\n",
    "optimizer = optim.Adam(model.parameters())"
   ]
  },
  {
   "cell_type": "markdown",
   "metadata": {},
   "source": [
    "## Question 2\n",
    "\n",
    "### Approach\n",
    "\n",
    "As discussed in part 1, we have mentioned 2 approaches to handling of the\n",
    "OOV words. We will now demonstrate the first approach, which is to replace the OOV\n",
    "words with a special token. We will replace the OOV words with a special token\n",
    "`<UNK>`."
   ]
  },
  {
   "cell_type": "code",
   "execution_count": 3,
   "metadata": {},
   "outputs": [
    {
     "name": "stdout",
     "output_type": "stream",
     "text": [
      "Building embedding matrix...\n",
      "Loading GloVe embeddings...\n"
     ]
    },
    {
     "name": "stderr",
     "output_type": "stream",
     "text": [
      "Repo card metadata block was not found. Setting CardData to empty.\n"
     ]
    },
    {
     "name": "stdout",
     "output_type": "stream",
     "text": [
      "Total GloVe words loaded: 400000\n",
      "Embedding matrix built successfully.\n",
      "Embedding matrix saved as './result/embedding_matrix.npy'.\n",
      "Mapping 'word2idx' saved as './result/word2idx.json'.\n",
      "Mapping 'idx2word' saved as './result/idx2word.json'.\n"
     ]
    }
   ],
   "source": [
    "import json\n",
    "from common_utils import EMBEDDING_DIM, EMBEDDING_MATRIX_PATH, IDX2WORD_PATH, UNK_TOKEN, WORD2IDX_PATH, load_glove_embeddings\n",
    "\n",
    "\n",
    "w2v_model = EmbeddingMatrix.load()\n",
    "extended_vocab = w2v_model.vocab\n",
    "extended_vocab.add(UNK_TOKEN)\n",
    "\n",
    "# mapping of words to indices and vice versa\n",
    "word2idx = {word: idx for idx, word in enumerate(sorted(extended_vocab))}\n",
    "idx2word = {idx: word for word, idx in word2idx.items()}\n",
    "\n",
    "vocab_size_extended = len(extended_vocab)\n",
    "embedding_matrix = np.zeros((vocab_size_extended, EMBEDDING_DIM))\n",
    "\n",
    "print(\"Building embedding matrix...\")\n",
    "\n",
    "glove_dict = load_glove_embeddings()\n",
    "\n",
    "for word in extended_vocab:\n",
    "    idx = word2idx[word]\n",
    "    # if word is in glove vocab, use glove vector\n",
    "    if word in glove_dict:\n",
    "        embedding_matrix[idx] = glove_dict[word]\n",
    "    else:\n",
    "        # use random vector for unknown words\n",
    "        if word == UNK_TOKEN:\n",
    "            embedding_matrix[idx] = np.random.normal(scale=0.6, size=(EMBEDDING_DIM,))\n",
    "        else:\n",
    "            # remove the unknown word from the vocab\n",
    "            # embedding_matrix[idx] = embedding_matrix[word2idx[UNK_TOKEN]]\n",
    "            word2idx.pop(word)\n",
    "            idx2word.pop(idx)\n",
    "\n",
    "print(\"Embedding matrix built successfully.\")\n",
    "\n",
    "np.save(EMBEDDING_MATRIX_PATH, embedding_matrix)\n",
    "print(f\"Embedding matrix saved as '{EMBEDDING_MATRIX_PATH}'.\")\n",
    "\n",
    "with open(WORD2IDX_PATH, 'w', encoding='utf-8') as f:\n",
    "    json.dump(word2idx, f, ensure_ascii=False, indent=4)\n",
    "print(f\"Mapping 'word2idx' saved as '{WORD2IDX_PATH}'.\")\n",
    "\n",
    "with open(IDX2WORD_PATH, 'w', encoding='utf-8') as f:\n",
    "    json.dump(idx2word, f, ensure_ascii=False, indent=4)\n",
    "print(f\"Mapping 'idx2word' saved as '{IDX2WORD_PATH}'.\")\n"
   ]
  },
  {
   "cell_type": "markdown",
   "metadata": {},
   "source": [
    "For the second approach, we will use the FastText embeddings, which are trained on\n",
    "subword information. This will help in encoding the OOV words as well."
   ]
  },
  {
   "cell_type": "code",
   "execution_count": 41,
   "metadata": {},
   "outputs": [],
   "source": [
    "# Implementation of FastText for word embedding\n",
    "from gensim.models import FastText\n",
    "\n",
    "# Load Word2Vec model\n",
    "w2v_model = EmbeddingMatrix.load()\n",
    "\n",
    "# Create a list of words from the Word2Vec model\n",
    "words = list(w2v_model.vocab)\n",
    "\n",
    "# Create a FastText model with the same dimensions as the Word2Vec model\n",
    "# fasttext_model = FastText(size=w2v_model.dimension, window=5, min_count=1, workers=4)\n",
    "\n",
    "# Build the FastText vocabulary\n",
    "# fasttext_model.build_vocab(words)\n",
    "\n",
    "# Initialize embeddings with Word2Vec embeddings\n",
    "# for word in words:\n",
    "#     fasttext_model.wv[word] = w2v_model[word]\n"
   ]
  },
  {
   "cell_type": "markdown",
   "metadata": {},
   "source": [
    "### Part 3.2 BiGru Model\n",
    "\n",
    "The weight matrix will be created by BatchIterator class  based on the Glove word vectors we want to use and vocabularly word2index dictionary. For each word, index pair from word2index, the weight matrix at the position equals index will be set with the Glove vector that represents given word. \n",
    "\n",
    "For words that haven't been found in the Glove mapping, the random vector will be initialised. Then the weight matrix will be passed to the embedding layer as its parameters. \n",
    "\n",
    "It is very important to set the embedding_layer.weight.requires_grad = False, so that weights will not be updated during the training. After the GRU layer, extra features will be concatenated toehter with max-pooled, avg-pooled and last hidden size. The concatenated tensor will be next passed to the linear layer, so we have to set the input size to hidden_size * 3 + num_features."
   ]
  },
  {
   "cell_type": "code",
   "execution_count": 4,
   "metadata": {},
   "outputs": [
    {
     "data": {
      "text/plain": [
       "<torch._C.Generator at 0x1188d9230>"
      ]
     },
     "execution_count": 4,
     "metadata": {},
     "output_type": "execute_result"
    }
   ],
   "source": [
    "import os\n",
    "import numpy as np\n",
    "import torch\n",
    "import torch.nn as nn\n",
    "import torch.optim as optim\n",
    "import torch.utils.data as data\n",
    "from common_utils import EmbeddingMatrix, UNK_TOKEN, EMBEDDING_DIM, tokenize\n",
    "from torch.nn.utils.rnn import pad_sequence\n",
    "import torch.nn.functional as F\n",
    "np.random.seed(42)\n",
    "torch.manual_seed(0)"
   ]
  },
  {
   "cell_type": "code",
   "execution_count": 5,
   "metadata": {},
   "outputs": [],
   "source": [
    "# Load word2vec embedding matrix\n",
    "w2v_model = EmbeddingMatrix.load()\n",
    "word2idx = w2v_model.word2idx"
   ]
  },
  {
   "cell_type": "code",
   "execution_count": 6,
   "metadata": {},
   "outputs": [],
   "source": [
    "BATCH_SIZE = 64\n",
    "dataset_preparer = CustomDatasetPreparer(\n",
    "    dataset_name=\"rotten_tomatoes\",\n",
    "    word2idx=word2idx,\n",
    "    unk_token=UNK_TOKEN,\n",
    "    max_len=512,\n",
    "    batch_size=BATCH_SIZE\n",
    ")\n",
    "\n",
    "train_loader, val_loader, test_loader = dataset_preparer.get_dataloaders()"
   ]
  },
  {
   "cell_type": "code",
   "execution_count": 7,
   "metadata": {},
   "outputs": [],
   "source": [
    "class BiGRU(nn.Module):\n",
    "    \"\"\"\n",
    "    BiDirectional GRU neural network model with pre-trained word embeddings.\n",
    "\n",
    "    Parameters\n",
    "    -----------\n",
    "    hidden_size: int \n",
    "        Number of features in the hidden state\n",
    "    weight_matrix: numpy.ndarray \n",
    "        Matrix of pre-trained word embeddings (word_embedding)\n",
    "    output_size: int\n",
    "        Number of classes \n",
    "    n_layer: int, optional (default=1)\n",
    "        Number of stacked recurrent layers. \n",
    "    dropout: float, optional (default=0.2)\n",
    "        Probability of an element of the tensor to be zeroed.\n",
    "    spatial_dropout: boolean, optional (default=True)\n",
    "        Whether to use the spatial dropout. \n",
    "    bidirectional: boolean, optional (default=True)\n",
    "        Whether to use the bidirectional GRU. \n",
    "    \"\"\"\n",
    "\n",
    "    def __init__(self, hidden_size, weights_matrix, output_size, n_layers=1, dropout=0.2, spatial_dropout=True, bidirectional=True):\n",
    "\n",
    "        # Inherit everything from the nn.Module\n",
    "        super(BiGRU, self).__init__()\n",
    "\n",
    "        # Initialise attributes\n",
    "        self.hidden_size = hidden_size \n",
    "        self.weights_matrix = weights_matrix\n",
    "        self.output_size = output_size\n",
    "        self.n_layers = n_layers\n",
    "        self.dropout_p = dropout\n",
    "        self.spatial_dropout = spatial_dropout\n",
    "        self.bidirectional = bidirectional\n",
    "        self.n_directions = 2 if self.bidirectional else 1\n",
    "\n",
    "        self.vocab_size, self.embedding_dim = self.weights_matrix.shape \n",
    "\n",
    "        # Embedding layer - Convert words into vectors of numbers that capture their meaning from pretrained word embeddings.\n",
    "        self.embedding = nn.Embedding.from_pretrained(torch.tensor(weights_matrix, dtype=torch.float), freeze=False)\n",
    "\n",
    "        # Define dropout layers - Randomly set some neurons to zero during training to prevent overfitting\n",
    "        self.dropout = nn.Dropout(self.dropout_p)\n",
    "        if self.spatial_dropout:\n",
    "            self.spatial_dropout1d = nn.Dropout1d(self.dropout_p)\n",
    "        \n",
    "        # Define GRU layer \n",
    "        self.gru = nn.GRU(self.embedding_dim, self.hidden_size, num_layers=self.n_layers, dropout=(0 if n_layers == 1 else self.dropout_p), batch_first=True, bidirectional=self.bidirectional)\n",
    "\n",
    "        # Linear layer input size is equal to hidden_size * 3 + n_extra_feat, becuase\n",
    "        # we are concatenating max_pooling ,avg_pooling, last hidden state and additional features\n",
    "        self.linear = nn.Linear(self.hidden_size * 3, self.output_size)\n",
    "    \n",
    "    def forward(self, input_seq, input_feat, input_lengths, hidden=None):\n",
    "        \"\"\"Forward propagate through the neural network model.\n",
    "        \n",
    "        Parameters\n",
    "        ----------\n",
    "        input_seq: torch.Tensor\n",
    "            Batch of input sequences.\n",
    "        input_feat: torch.Tensor\n",
    "            Batch of additional features.\n",
    "        input_lengths: torch.LongTensor\n",
    "            Batch containing sequences lengths.\n",
    "        hidden: torch.FloatTensor, optional (default=None)\n",
    "            Tensor containing initial hidden state.\n",
    "            \n",
    "        Returns\n",
    "        -------\n",
    "        torch.Tensor\n",
    "            Logarithm of softmaxed input tensor.\n",
    "        \n",
    "        \"\"\"\n",
    "        # Extract input_size (Batch size)\n",
    "        self.input_size = input_seq.size(0)\n",
    "        \n",
    "        # Embeddings shapes of input\n",
    "        # Input: (input_size,  seq_length)\n",
    "        # Output: (input_size, seq_length, embedding_dim)\n",
    "        emb_out = self.embedding(input_seq)\n",
    "        \n",
    "\n",
    "        # Pass the emebedding layer to the dropout layer\n",
    "        if self.spatial_dropout:\n",
    "            # Convert to (input_size, embedding_dim, seq_length)\n",
    "            emb_out = emb_out.permute(0, 2, 1)\n",
    "            # Dropout1d layer\n",
    "            emb_out = self.spatial_dropout1d(emb_out)\n",
    "            # Convert back to (input_size, seq_length, embedding_dim)\n",
    "            emb_out = emb_out.permute(0, 2, 1)\n",
    "\n",
    "        else:\n",
    "            emb_out = self.dropout(emb_out)\n",
    "        \n",
    "        # Pack padded batch of sequences for RNN module\n",
    "        # Removes the padding and concatenates the sequences along the time dimension\n",
    "        packed_emb = nn.utils.rnn.pack_padded_sequence(emb_out, input_lengths, batch_first=True, enforce_sorted=False)\n",
    "\n",
    "        # Pass through the GRU Layer      \n",
    "        gru_out, hidden = self.gru(packed_emb, hidden)\n",
    "        # gru_out: tensor containing the output features h_t from the last layer of the GRU\n",
    "        # hidden (h_n) comprises the hidden states after the entire sequence\n",
    "\n",
    "        \n",
    "        # Extract and sum last hidden state\n",
    "        # Input hidden shape: (n_layers x num_directions, input_size, hidden_size)\n",
    "        # Separate hidden state layers\n",
    "        # Process the hidden layer\n",
    "        hidden = hidden.view(self.n_layers, self.n_directions, self.input_size, self.hidden_size)\n",
    "        last_hidden = hidden[-1]\n",
    "\n",
    "        # Since Bidirectional: Sum the last hidden state of forward and backward layer\n",
    "        last_hidden = torch.sum(last_hidden, dim=0)\n",
    "\n",
    "        \n",
    "        # Pad a packed batch\n",
    "        gru_out, lengths = nn.utils.rnn.pad_packed_sequence(gru_out, batch_first=True)\n",
    "              \n",
    "        # Combine the GRU outputs\n",
    "        if self.bidirectional:\n",
    "            gru_out = gru_out[:,:,:self.hidden_size] + gru_out[:,:,self.hidden_size:]\n",
    "        \n",
    "        \n",
    "        # Get Max and Average Pooling\n",
    "        # Select the maximum value over each dimension of the hidden representation (max pooling)\n",
    "        max_pool = F.adaptive_max_pool1d(gru_out.permute(0,2,1), (1,)).view(self.input_size,-1)\n",
    "        \n",
    "        # Consider the average of the representations (mean pooling)\n",
    "        # Sum along the batch axis and divide by the corresponding lengths (FloatTensor)\n",
    "        # Output shape: (input_size, hidden_size)\n",
    "        avg_pool = torch.sum(gru_out, dim=1) / lengths.view(-1,1).type(torch.FloatTensor) \n",
    "\n",
    "        # Concatenate max_pooling, avg_pooling, hidden state and input_feat tensor (Combining all features)\n",
    "        concat_out = torch.cat([last_hidden, max_pool, avg_pool, input_feat], dim=1)\n",
    "\n",
    "        # Pass through the linear layer and apply Softmax layer\n",
    "        out = self.linear(concat_out)\n",
    "        return out\n",
    "\n",
    "  "
   ]
  },
  {
   "cell_type": "code",
   "execution_count": 8,
   "metadata": {},
   "outputs": [
    {
     "name": "stdout",
     "output_type": "stream",
     "text": [
      "BiGRU(\n",
      "  (embedding): Embedding(16164, 100)\n",
      "  (dropout): Dropout(p=0.5, inplace=False)\n",
      "  (spatial_dropout1d): Dropout1d(p=0.5, inplace=False)\n",
      "  (gru): GRU(100, 8, batch_first=True, bidirectional=True)\n",
      "  (linear): Linear(in_features=24, out_features=2, bias=True)\n",
      ")\n"
     ]
    }
   ],
   "source": [
    "device = torch.device('cuda' if torch.cuda.is_available() else 'cpu')\n",
    "hidden_size = 8\n",
    "output_size = 2\n",
    "n_layers = 1\n",
    "dropout = 0.5\n",
    "learning_rate = 0.001\n",
    "num_epochs = 40 \n",
    "spatial_dropout = True\n",
    "\n",
    "# Load the weights matrix\n",
    "weights = np.load('result/embedding_matrix.npy')\n",
    "\n",
    "# Create BiGru model \n",
    "model = BiGRU(hidden_size, weights, output_size, n_layers, dropout, spatial_dropout, bidirectional=True)\n",
    "print(model)\n",
    "\n",
    "# Create loss function\n",
    "# criterion = nn.NLLLoss()\n",
    "criterion = nn.CrossEntropyLoss()\n",
    "\n",
    "# Create optimizer\n",
    "optimizer = torch.optim.Adam(model.parameters(), lr=learning_rate,  weight_decay=1e-5)\n",
    "scheduler = torch.optim.lr_scheduler.StepLR(optimizer, step_size=3, gamma=0.1)\n",
    "\n",
    "model = model.to(device)"
   ]
  },
  {
   "cell_type": "code",
   "execution_count": 9,
   "metadata": {},
   "outputs": [],
   "source": [
    "train_losses = []\n",
    "val_losses = []\n",
    "train_accuracies = []\n",
    "val_accuracies = []\n",
    "def train(model, train_loader, val_loader, criterion, optimizer, num_epochs, scheduler):\n",
    "\n",
    "    model.train()\n",
    "    best_val_loss = np.inf\n",
    "    patience = 3 # Number of epochs to wait before stopping\n",
    "    trigger_times = 0\n",
    "\n",
    "    for epoch in range(num_epochs):\n",
    "        total_loss = 0\n",
    "        correct_preds = 0 \n",
    "        total_samples = 0\n",
    "        for batch in train_loader:\n",
    "            sequences, features, lengths, labels = batch \n",
    "\n",
    "            # Move tensors to device (GPU or CPU)\n",
    "            sequences = sequences.to(device)\n",
    "            features = features.to(device)\n",
    "            lengths = lengths.to(device)\n",
    "            labels = labels.to(device)\n",
    "\n",
    "            # Zero the gradients\n",
    "            optimizer.zero_grad()\n",
    "\n",
    "            # Forward pass \n",
    "            outputs = model(sequences, features, lengths)\n",
    "\n",
    "            # Compute loss\n",
    "            loss = criterion(outputs, labels)\n",
    "            total_loss += loss.item()\n",
    "            \n",
    "            # Backward pass and optimization\n",
    "            loss.backward()\n",
    "            optimizer.step()\n",
    "\n",
    "            _, predicted = torch.max(outputs, 1)\n",
    "            correct_preds += (predicted==labels).sum().item()\n",
    "            total_samples += labels.size(0)\n",
    "        scheduler.step()\n",
    "        epoch_loss = total_loss / len(train_loader)\n",
    "        epoch_accuracy = correct_preds / total_samples\n",
    "\n",
    "        train_losses.append(epoch_loss)\n",
    "        train_accuracies.append(epoch_accuracy)\n",
    "\n",
    "        val_loss, val_accuracy = evaluate(model, val_loader)\n",
    "        val_losses.append(val_loss)\n",
    "        val_accuracies.append(val_accuracy)\n",
    "\n",
    "        if val_loss < best_val_loss:\n",
    "            best_val_loss = val_loss \n",
    "            trigger_times = 0\n",
    "        else:\n",
    "            trigger_times += 1\n",
    "            if trigger_times >= patience:\n",
    "                print(f'Early Stopping at {epoch+1}')\n",
    "                break\n",
    "\n",
    "        \n",
    "\n",
    "        print(f\"Epoch [{epoch+1}/{num_epochs}], \"\n",
    "            f\"Train Loss: {epoch_loss:.4f}, Train Accuracy: {epoch_accuracy:.4f}, \"\n",
    "            f\"Val Loss: {val_loss:.4f}, Val Accuracy: {val_accuracy:.4f}\")\n",
    "\n",
    "        \n",
    "def evaluate(model, data_loader):\n",
    "    model.eval()\n",
    "    total_loss = 0\n",
    "    correct_pred = 0\n",
    "    total_samples = 0\n",
    "    \n",
    "    with torch.no_grad():\n",
    "        for batch in data_loader:\n",
    "            sequences, features, lengths, labels = batch\n",
    "            \n",
    "            # Move tensors to device\n",
    "            sequences = sequences.to(device)\n",
    "            features = features.to(device)\n",
    "            lengths = lengths.to(device)\n",
    "            labels = labels.to(device)\n",
    "            \n",
    "            outputs = model(sequences, features, lengths)\n",
    "            loss = criterion(outputs, labels)\n",
    "            total_loss += loss.item()\n",
    "            \n",
    "            # Predictions\n",
    "            _, predicted = torch.max(outputs, 1)\n",
    "            total_samples += labels.size(0)\n",
    "            correct_pred += (predicted == labels).sum().item()\n",
    "    \n",
    "    avg_loss = total_loss / len(data_loader)\n",
    "    accuracy = correct_pred / total_samples\n",
    "    # print(f'Validation Loss: {avg_loss:.4f}, Accuracy: {accuracy:.4f}')\n",
    "    return avg_loss, accuracy\n",
    "    "
   ]
  },
  {
   "cell_type": "code",
   "execution_count": 10,
   "metadata": {},
   "outputs": [
    {
     "name": "stdout",
     "output_type": "stream",
     "text": [
      "Epoch [1/40], Train Loss: 0.6896, Train Accuracy: 0.5397, Val Loss: 0.6736, Val Accuracy: 0.5826\n",
      "Epoch [2/40], Train Loss: 0.6029, Train Accuracy: 0.6985, Val Loss: 0.5655, Val Accuracy: 0.7158\n",
      "Epoch [3/40], Train Loss: 0.4201, Train Accuracy: 0.8059, Val Loss: 0.4855, Val Accuracy: 0.7636\n",
      "Epoch [4/40], Train Loss: 0.2757, Train Accuracy: 0.8903, Val Loss: 0.4782, Val Accuracy: 0.7683\n",
      "Epoch [5/40], Train Loss: 0.2588, Train Accuracy: 0.8977, Val Loss: 0.4790, Val Accuracy: 0.7692\n",
      "Epoch [6/40], Train Loss: 0.2441, Train Accuracy: 0.9042, Val Loss: 0.4811, Val Accuracy: 0.7720\n",
      "Early Stopping at 7\n"
     ]
    }
   ],
   "source": [
    "EPOCHS = 40\n",
    "train(model, train_loader, val_loader, criterion, optimizer, EPOCHS, scheduler)"
   ]
  },
  {
   "cell_type": "code",
   "execution_count": 11,
   "metadata": {},
   "outputs": [
    {
     "data": {
      "text/plain": [
       "(0.48137613079127145, 0.7720450281425891)"
      ]
     },
     "execution_count": 11,
     "metadata": {},
     "output_type": "execute_result"
    }
   ],
   "source": [
    "evaluate(model, val_loader)"
   ]
  },
  {
   "cell_type": "code",
   "execution_count": 12,
   "metadata": {},
   "outputs": [
    {
     "data": {
      "text/plain": [
       "(0.4265192002058029, 0.799249530956848)"
      ]
     },
     "execution_count": 12,
     "metadata": {},
     "output_type": "execute_result"
    }
   ],
   "source": [
    "evaluate(model, test_loader)"
   ]
  },
  {
   "cell_type": "code",
   "execution_count": 13,
   "metadata": {},
   "outputs": [
    {
     "name": "stdout",
     "output_type": "stream",
     "text": [
      "Test Loss: 0.4265, Test Accuracy: 0.7992\n"
     ]
    }
   ],
   "source": [
    "test_loss, test_accuracy = evaluate(model, test_loader)\n",
    "print(f\"Test Loss: {test_loss:.4f}, Test Accuracy: {test_accuracy:.4f}\")"
   ]
  },
  {
   "cell_type": "code",
   "execution_count": 14,
   "metadata": {},
   "outputs": [
    {
     "data": {
      "image/png": "[encoded data removed]",
      "text/plain": [
       "<Figure size 2000x600 with 2 Axes>"
      ]
     },
     "metadata": {},
     "output_type": "display_data"
    }
   ],
   "source": [
    "import matplotlib.pyplot as plt\n",
    "fig = plt.figure(figsize = (20, 6))\n",
    "plt.subplot(1, 2, 1)\n",
    "plt.plot(train_accuracies, label='Train Acc')\n",
    "plt.plot(val_accuracies, label='Validation Acc')\n",
    "plt.title(\"Accuracy\")\n",
    "plt.legend()\n",
    "plt.grid()\n",
    "    \n",
    "plt.subplot(1, 2, 2)\n",
    "plt.plot(train_losses, label='Train loss')\n",
    "plt.plot(val_losses, label='Validation loss')\n",
    "plt.title(\"Loss\")\n",
    "plt.legend()\n",
    "plt.grid()\n",
    "\n",
    "plt.show()"
   ]
  },
  {
   "cell_type": "markdown",
   "metadata": {},
   "source": [
    "# Question 3. Enhancement\n",
    "(a) Report the accuracy score on the test set when the word embeddings are updated (Part 3.1).\n",
    "   \n",
    "(b) Report the accuracy score on the test set when applying your method to deal with OOV words\n",
    "in Part 3.2.\n",
    "   \n",
    "(c) Report the accuracy scores of biLSTM and biGRU on the test set (Part 3.3).\n",
    "   \n",
    "(d) Report the accuracy scores of CNN on the test set (Part 3.4).\n",
    "   \n",
    "(e) Describe your final improvement strategy in Part 3.5. Report the accuracy on the test set\n",
    "using your improved model.\n",
    "   \n",
    "(f) Compare the results across different solutions above and describe your observations with possible discussions.\n"
   ]
  }
 ],
 "metadata": {
  "kernelspec": {
   "display_name": "venv",
   "language": "python",
   "name": "python3"
  },
  "language_info": {
   "codemirror_mode": {
    "name": "ipython",
    "version": 3
   },
   "file_extension": ".py",
   "mimetype": "text/x-python",
   "name": "python",
   "nbconvert_exporter": "python",
   "pygments_lexer": "ipython3",
   "version": "3.12.7"
  }
 },
 "nbformat": 4,
 "nbformat_minor": 2
}
