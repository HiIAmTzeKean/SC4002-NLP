{
 "cells": [
  {
   "cell_type": "code",
   "execution_count": 1,
   "metadata": {},
   "outputs": [
    {
     "name": "stdout",
     "output_type": "stream",
     "text": [
      "Requirement already satisfied: datasets in ./.venv/lib/python3.12/site-packages (3.0.2)\n",
      "Requirement already satisfied: filelock in ./.venv/lib/python3.12/site-packages (from datasets) (3.16.1)\n",
      "Requirement already satisfied: numpy>=1.17 in ./.venv/lib/python3.12/site-packages (from datasets) (1.26.4)\n",
      "Requirement already satisfied: pyarrow>=15.0.0 in ./.venv/lib/python3.12/site-packages (from datasets) (18.0.0)\n",
      "Requirement already satisfied: dill<0.3.9,>=0.3.0 in ./.venv/lib/python3.12/site-packages (from datasets) (0.3.8)\n",
      "Requirement already satisfied: pandas in ./.venv/lib/python3.12/site-packages (from datasets) (2.2.3)\n",
      "Requirement already satisfied: requests>=2.32.2 in ./.venv/lib/python3.12/site-packages (from datasets) (2.32.3)\n",
      "Requirement already satisfied: tqdm>=4.66.3 in ./.venv/lib/python3.12/site-packages (from datasets) (4.66.6)\n",
      "Requirement already satisfied: xxhash in ./.venv/lib/python3.12/site-packages (from datasets) (3.5.0)\n",
      "Requirement already satisfied: multiprocess<0.70.17 in ./.venv/lib/python3.12/site-packages (from datasets) (0.70.16)\n",
      "Requirement already satisfied: fsspec<=2024.9.0,>=2023.1.0 in ./.venv/lib/python3.12/site-packages (from fsspec[http]<=2024.9.0,>=2023.1.0->datasets) (2024.9.0)\n",
      "Requirement already satisfied: aiohttp in ./.venv/lib/python3.12/site-packages (from datasets) (3.10.10)\n",
      "Requirement already satisfied: huggingface-hub>=0.23.0 in ./.venv/lib/python3.12/site-packages (from datasets) (0.26.2)\n",
      "Requirement already satisfied: packaging in ./.venv/lib/python3.12/site-packages (from datasets) (24.1)\n",
      "Requirement already satisfied: pyyaml>=5.1 in ./.venv/lib/python3.12/site-packages (from datasets) (6.0.2)\n",
      "Requirement already satisfied: aiohappyeyeballs>=2.3.0 in ./.venv/lib/python3.12/site-packages (from aiohttp->datasets) (2.4.3)\n",
      "Requirement already satisfied: aiosignal>=1.1.2 in ./.venv/lib/python3.12/site-packages (from aiohttp->datasets) (1.3.1)\n",
      "Requirement already satisfied: attrs>=17.3.0 in ./.venv/lib/python3.12/site-packages (from aiohttp->datasets) (24.2.0)\n",
      "Requirement already satisfied: frozenlist>=1.1.1 in ./.venv/lib/python3.12/site-packages (from aiohttp->datasets) (1.5.0)\n",
      "Requirement already satisfied: multidict<7.0,>=4.5 in ./.venv/lib/python3.12/site-packages (from aiohttp->datasets) (6.1.0)\n",
      "Requirement already satisfied: yarl<2.0,>=1.12.0 in ./.venv/lib/python3.12/site-packages (from aiohttp->datasets) (1.17.0)\n",
      "Requirement already satisfied: typing-extensions>=3.7.4.3 in ./.venv/lib/python3.12/site-packages (from huggingface-hub>=0.23.0->datasets) (4.12.2)\n",
      "Requirement already satisfied: charset-normalizer<4,>=2 in ./.venv/lib/python3.12/site-packages (from requests>=2.32.2->datasets) (3.4.0)\n",
      "Requirement already satisfied: idna<4,>=2.5 in ./.venv/lib/python3.12/site-packages (from requests>=2.32.2->datasets) (3.10)\n",
      "Requirement already satisfied: urllib3<3,>=1.21.1 in ./.venv/lib/python3.12/site-packages (from requests>=2.32.2->datasets) (2.2.3)\n",
      "Requirement already satisfied: certifi>=2017.4.17 in ./.venv/lib/python3.12/site-packages (from requests>=2.32.2->datasets) (2024.8.30)\n",
      "Requirement already satisfied: python-dateutil>=2.8.2 in ./.venv/lib/python3.12/site-packages (from pandas->datasets) (2.9.0.post0)\n",
      "Requirement already satisfied: pytz>=2020.1 in ./.venv/lib/python3.12/site-packages (from pandas->datasets) (2024.2)\n",
      "Requirement already satisfied: tzdata>=2022.7 in ./.venv/lib/python3.12/site-packages (from pandas->datasets) (2024.2)\n",
      "Requirement already satisfied: six>=1.5 in ./.venv/lib/python3.12/site-packages (from python-dateutil>=2.8.2->pandas->datasets) (1.16.0)\n",
      "Requirement already satisfied: propcache>=0.2.0 in ./.venv/lib/python3.12/site-packages (from yarl<2.0,>=1.12.0->aiohttp->datasets) (0.2.0)\n",
      "\n",
      "\u001b[1m[\u001b[0m\u001b[34;49mnotice\u001b[0m\u001b[1;39;49m]\u001b[0m\u001b[39;49m A new release of pip is available: \u001b[0m\u001b[31;49m24.0\u001b[0m\u001b[39;49m -> \u001b[0m\u001b[32;49m24.3\u001b[0m\n",
      "\u001b[1m[\u001b[0m\u001b[34;49mnotice\u001b[0m\u001b[1;39;49m]\u001b[0m\u001b[39;49m To update, run: \u001b[0m\u001b[32;49mpip install --upgrade pip\u001b[0m\n",
      "Note: you may need to restart the kernel to use updated packages.\n"
     ]
    }
   ],
   "source": [
    "%pip install datasets"
   ]
  },
  {
   "cell_type": "code",
   "execution_count": 2,
   "metadata": {},
   "outputs": [],
   "source": [
    "import time\n",
    "from datasets import load_dataset, Dataset"
   ]
  },
  {
   "cell_type": "code",
   "execution_count": 3,
   "metadata": {},
   "outputs": [
    {
     "name": "stdout",
     "output_type": "stream",
     "text": [
      "Elapsed time to load dataset: 6.4368 seconds\n"
     ]
    }
   ],
   "source": [
    "start_time = time.time()\n",
    "\n",
    "dataset = load_dataset(\"rotten_tomatoes\")\n",
    "train_dataset = dataset['train']\n",
    "validation_dataset = dataset['validation']\n",
    "test_dataset = dataset['test']\n",
    "\n",
    "end_time = time.time()\n",
    "print(f\"Elapsed time to load dataset: {end_time - start_time:.4f} seconds\")"
   ]
  },
  {
   "cell_type": "code",
   "execution_count": 4,
   "metadata": {},
   "outputs": [
    {
     "data": {
      "text/plain": [
       "DatasetDict({\n",
       "    train: Dataset({\n",
       "        features: ['text', 'label'],\n",
       "        num_rows: 8530\n",
       "    })\n",
       "    validation: Dataset({\n",
       "        features: ['text', 'label'],\n",
       "        num_rows: 1066\n",
       "    })\n",
       "    test: Dataset({\n",
       "        features: ['text', 'label'],\n",
       "        num_rows: 1066\n",
       "    })\n",
       "})"
      ]
     },
     "execution_count": 4,
     "metadata": {},
     "output_type": "execute_result"
    }
   ],
   "source": [
    "dataset"
   ]
  },
  {
   "cell_type": "code",
   "execution_count": 5,
   "metadata": {},
   "outputs": [
    {
     "data": {
      "text/plain": [
       "{'text': ['the rock is destined to be the 21st century\\'s new \" conan \" and that he\\'s going to make a splash even greater than arnold schwarzenegger , jean-claud van damme or steven segal .',\n",
       "  'the gorgeously elaborate continuation of \" the lord of the rings \" trilogy is so huge that a column of words cannot adequately describe co-writer/director peter jackson\\'s expanded vision of j . r . r . tolkien\\'s middle-earth .',\n",
       "  'effective but too-tepid biopic',\n",
       "  'if you sometimes like to go to the movies to have fun , wasabi is a good place to start .',\n",
       "  \"emerges as something rare , an issue movie that's so honest and keenly observed that it doesn't feel like one .\"],\n",
       " 'label': [1, 1, 1, 1, 1]}"
      ]
     },
     "execution_count": 5,
     "metadata": {},
     "output_type": "execute_result"
    }
   ],
   "source": [
    "train_dataset[:5]"
   ]
  },
  {
   "cell_type": "markdown",
   "metadata": {},
   "source": [
    "# Part 1. Preparing Word Embeddings   \n",
    "As the first step of building your model, you need to prepare the word embeddings to form the\n",
    "input layer of your model. You are required to choose only from Word2vec or Glove to initialize\n",
    "your word embedding matrix. The word embedding matrix stores the pre-trained word vectors\n",
    "(taken from Word2vec or Glove) where each row corresponds to a vector for a specific word in the\n",
    "vocabulary formed from your task dataset.\n"
   ]
  },
  {
   "cell_type": "code",
   "execution_count": 6,
   "metadata": {},
   "outputs": [],
   "source": [
    "import json\n",
    "import os\n",
    "from collections import defaultdict\n",
    "\n",
    "import numpy as np\n",
    "import regex as re\n",
    "\n",
    "UNK_TOKEN = \"<UNK>\"\n",
    "EMBEDDING_DIM = 100 # glove embedding are usually 50,100,200,300\n",
    "SAVE_DIR = './result/'\n",
    "VOCAB_PATH = os.path.join(SAVE_DIR, 'vocab.json')\n",
    "EMBEDDING_MATRIX_PATH = os.path.join(SAVE_DIR, 'embedding_matrix.npy')\n",
    "WORD2IDX_PATH = os.path.join(SAVE_DIR, 'word2idx.json')\n",
    "IDX2WORD_PATH = os.path.join(SAVE_DIR, 'idx2word.json')\n",
    "\n",
    "os.makedirs(SAVE_DIR, exist_ok=True)"
   ]
  },
  {
   "cell_type": "markdown",
   "metadata": {},
   "source": [
    "## Preparing Vocab"
   ]
  },
  {
   "cell_type": "code",
   "execution_count": 7,
   "metadata": {},
   "outputs": [
    {
     "data": {
      "text/plain": [
       "\"emerges as something rare , an issue movie that's so honest and keenly observed that it doesn't feel like one .\""
      ]
     },
     "execution_count": 7,
     "metadata": {},
     "output_type": "execute_result"
    }
   ],
   "source": [
    "train_string = train_dataset[4][\"text\"]\n",
    "train_string"
   ]
  },
  {
   "cell_type": "code",
   "execution_count": 8,
   "metadata": {},
   "outputs": [
    {
     "data": {
      "text/plain": [
       "{' ',\n",
       " \"'s\",\n",
       " \"'t\",\n",
       " ',',\n",
       " '.',\n",
       " 'an',\n",
       " 'and',\n",
       " 'as',\n",
       " 'doesn',\n",
       " 'emerges',\n",
       " 'feel',\n",
       " 'honest',\n",
       " 'issue',\n",
       " 'it',\n",
       " 'keenly',\n",
       " 'like',\n",
       " 'movie',\n",
       " 'observed',\n",
       " 'one',\n",
       " 'rare',\n",
       " 'so',\n",
       " 'something',\n",
       " 'that'}"
      ]
     },
     "execution_count": 8,
     "metadata": {},
     "output_type": "execute_result"
    }
   ],
   "source": [
    "# Pattern is adapted from GPT2: https://github.com/huggingface/transformers/blob/4fb28703adc2b44ed66a44dd04740787010c5e11/src/transformers/models/gpt2/tokenization_gpt2.py#L167\n",
    "pattern = re.compile(r\"\"\"'s|'t|'re|'ve|'m|'ll|'d|\\p{L}+|\\p{N}+|[^\\s\\p{L}\\p{N}]+|\\s+(?!\\S)|\\s+\"\"\")\n",
    "tokens_re = pattern.findall(train_string)\n",
    "tokens_re = set(tokens_re)\n",
    "tokens_re"
   ]
  },
  {
   "cell_type": "code",
   "execution_count": 9,
   "metadata": {},
   "outputs": [
    {
     "name": "stdout",
     "output_type": "stream",
     "text": [
      "Requirement already satisfied: nltk in ./.venv/lib/python3.12/site-packages (3.9.1)\n",
      "Requirement already satisfied: click in ./.venv/lib/python3.12/site-packages (from nltk) (8.1.7)\n",
      "Requirement already satisfied: joblib in ./.venv/lib/python3.12/site-packages (from nltk) (1.4.2)\n",
      "Requirement already satisfied: regex>=2021.8.3 in ./.venv/lib/python3.12/site-packages (from nltk) (2024.9.11)\n",
      "Requirement already satisfied: tqdm in ./.venv/lib/python3.12/site-packages (from nltk) (4.66.6)\n",
      "\n",
      "\u001b[1m[\u001b[0m\u001b[34;49mnotice\u001b[0m\u001b[1;39;49m]\u001b[0m\u001b[39;49m A new release of pip is available: \u001b[0m\u001b[31;49m24.0\u001b[0m\u001b[39;49m -> \u001b[0m\u001b[32;49m24.3\u001b[0m\n",
      "\u001b[1m[\u001b[0m\u001b[34;49mnotice\u001b[0m\u001b[1;39;49m]\u001b[0m\u001b[39;49m To update, run: \u001b[0m\u001b[32;49mpip install --upgrade pip\u001b[0m\n",
      "Note: you may need to restart the kernel to use updated packages.\n"
     ]
    }
   ],
   "source": [
    "%pip install nltk\n"
   ]
  },
  {
   "cell_type": "code",
   "execution_count": 10,
   "metadata": {},
   "outputs": [
    {
     "name": "stderr",
     "output_type": "stream",
     "text": [
      "[nltk_data] Downloading package punkt_tab to\n",
      "[nltk_data]     /Users/ngtzekean/nltk_data...\n",
      "[nltk_data]   Package punkt_tab is already up-to-date!\n"
     ]
    },
    {
     "data": {
      "text/plain": [
       "{\"'s\",\n",
       " ',',\n",
       " '.',\n",
       " 'an',\n",
       " 'and',\n",
       " 'as',\n",
       " 'does',\n",
       " 'emerges',\n",
       " 'feel',\n",
       " 'honest',\n",
       " 'issue',\n",
       " 'it',\n",
       " 'keenly',\n",
       " 'like',\n",
       " 'movie',\n",
       " \"n't\",\n",
       " 'observed',\n",
       " 'one',\n",
       " 'rare',\n",
       " 'so',\n",
       " 'something',\n",
       " 'that'}"
      ]
     },
     "execution_count": 10,
     "metadata": {},
     "output_type": "execute_result"
    }
   ],
   "source": [
    "import nltk\n",
    "nltk.download('punkt_tab')\n",
    "tokens_nltk = nltk.word_tokenize(train_string)\n",
    "tokens_nltk = set(tokens_nltk)\n",
    "tokens_nltk"
   ]
  },
  {
   "cell_type": "code",
   "execution_count": 11,
   "metadata": {},
   "outputs": [
    {
     "data": {
      "text/plain": [
       "{'does', \"n't\"}"
      ]
     },
     "execution_count": 11,
     "metadata": {},
     "output_type": "execute_result"
    }
   ],
   "source": [
    "tokens_nltk - tokens_re"
   ]
  },
  {
   "cell_type": "code",
   "execution_count": 12,
   "metadata": {},
   "outputs": [
    {
     "data": {
      "text/plain": [
       "{' ', \"'t\", 'doesn'}"
      ]
     },
     "execution_count": 12,
     "metadata": {},
     "output_type": "execute_result"
    }
   ],
   "source": [
    "tokens_re - tokens_nltk"
   ]
  },
  {
   "cell_type": "markdown",
   "metadata": {},
   "source": [
    "It does seem like NLTK tokenizer performs a better job at tokenizing the overall dataset.\n",
    "In light of that, we will use the tokenizer that was introduced in the lectures\n",
    "to obtain an overall more comprehensive tokenization process."
   ]
  },
  {
   "cell_type": "code",
   "execution_count": 13,
   "metadata": {},
   "outputs": [],
   "source": [
    "def tokenize(dataset: Dataset) -> set:\n",
    "    \"\"\"Tokenize the text in the dataset using NTLK\n",
    "\n",
    "    :param dataset: The dataset to tokenize\n",
    "    :type dataset: Dataset\n",
    "    :return: The set of tokens in the dataset\n",
    "    :rtype: set\n",
    "    \"\"\"\n",
    "    vocab = set()\n",
    "    \n",
    "    for example in dataset:\n",
    "        tokens = nltk.word_tokenize(example['text'])\n",
    "        vocab.update(tokens)\n",
    "    \n",
    "    print(f\"Vocabulary Size: {len(vocab)}\")\n",
    "\n",
    "    with open(VOCAB_PATH, 'w', encoding='utf-8') as f:\n",
    "        json.dump(list(vocab), f, ensure_ascii=False, indent=4)\n",
    "\n",
    "    print(f\"Vocabulary saved to {VOCAB_PATH}\")\n",
    "    return vocab"
   ]
  },
  {
   "cell_type": "code",
   "execution_count": 14,
   "metadata": {},
   "outputs": [
    {
     "name": "stdout",
     "output_type": "stream",
     "text": [
      "Vocabulary Size: 18030\n",
      "Vocabulary saved to ./result/vocab.json\n"
     ]
    }
   ],
   "source": [
    "vocab = tokenize(train_dataset)"
   ]
  },
  {
   "cell_type": "markdown",
   "metadata": {},
   "source": [
    "## Initialize Word Embedding Matrix with Glove"
   ]
  },
  {
   "cell_type": "code",
   "execution_count": 15,
   "metadata": {},
   "outputs": [],
   "source": [
    "def load_glove_vocab():\n",
    "    \"\"\"Load Glove vocab\n",
    "\n",
    "    :return: GloVe vocab\n",
    "    :rtype: Set\n",
    "    \"\"\"\n",
    "    print(\"Loading GloVe vocab...\")\n",
    "    glove_vocab:set = set()\n",
    "    # https://huggingface.co/datasets/SLU-CSCI4750/glove.6B.100d.txt\n",
    "    dataset = load_dataset(\"SLU-CSCI4750/glove.6B.100d.txt\")\n",
    "    dataset = dataset['train']\n",
    "    \n",
    "    for example in dataset:\n",
    "        word = example[\"text\"].split()[0]\n",
    "        glove_vocab.add(word)\n",
    "    print(\"GloVe vocab loaded.\")\n",
    "    return glove_vocab"
   ]
  },
  {
   "cell_type": "code",
   "execution_count": 16,
   "metadata": {},
   "outputs": [
    {
     "name": "stdout",
     "output_type": "stream",
     "text": [
      "Loading GloVe vocab...\n"
     ]
    },
    {
     "name": "stderr",
     "output_type": "stream",
     "text": [
      "Repo card metadata block was not found. Setting CardData to empty.\n"
     ]
    },
    {
     "name": "stdout",
     "output_type": "stream",
     "text": [
      "GloVe vocab loaded.\n",
      "Size of GloVe vocab: 400000\n",
      "Number of OOV Words: 1867\n"
     ]
    }
   ],
   "source": [
    "glove_vocab = load_glove_vocab()\n",
    "print(f\"Size of GloVe vocab: {len(glove_vocab)}\")\n",
    "\n",
    "oov_words = vocab - glove_vocab\n",
    "print(f\"Number of OOV Words: {len(oov_words)}\")"
   ]
  },
  {
   "cell_type": "code",
   "execution_count": 17,
   "metadata": {},
   "outputs": [],
   "source": [
    "def load_glove_embeddings() -> dict:\n",
    "    \"\"\"Load GloVe embeddings\n",
    "\n",
    "    :return: GloVe embeddings\n",
    "    :rtype: Dict\n",
    "    \"\"\"\n",
    "    print(\"Loading GloVe embeddings...\")\n",
    "    glove_dict = {}\n",
    "    word_embedding_glove = load_dataset(\"SLU-CSCI4750/glove.6B.100d.txt\")\n",
    "    word_embedding_glove = word_embedding_glove['train']\n",
    "    \n",
    "    for example in word_embedding_glove:\n",
    "        split_line = example[\"text\"].strip().split()\n",
    "        word = split_line[0]\n",
    "        vector = np.array(split_line[1:], dtype='float32')\n",
    "        glove_dict[word] = vector\n",
    "\n",
    "    print(f\"Total GloVe words loaded: {len(glove_dict)}\")\n",
    "    return glove_dict"
   ]
  },
  {
   "cell_type": "code",
   "execution_count": 18,
   "metadata": {},
   "outputs": [
    {
     "name": "stdout",
     "output_type": "stream",
     "text": [
      "Loading GloVe embeddings...\n"
     ]
    },
    {
     "name": "stderr",
     "output_type": "stream",
     "text": [
      "Repo card metadata block was not found. Setting CardData to empty.\n"
     ]
    },
    {
     "name": "stdout",
     "output_type": "stream",
     "text": [
      "Total GloVe words loaded: 400000\n",
      "Number of missing words: 1867\n",
      "The missing words are: ['too-spectacular', 'chabrolian', 'must-own', 'sugar-coating', 'revigorates', \"'issues\", 'gangster/crime', 'retadora', 'perdona', 'sytle', 'puportedly', 'apallingly', 'guilt-trip', 'only-in', 'title-bout', 'razor-sided', 'walking-dead', 'covardia', 'made-for-movie', \"'no\", \"'right-thinking\", 'disney-fied', 'heartbeat-like', 'eyeball-to-eyeball', 'not-so-divine', 'silly-looking', 'self-promoter', 'bergmanesque', 'unsuspenseful', 'skeeved', 'pie-type', 'frustrado', 'disposible', 'cadness', 'slowtime', 'pseudo-witty', 'grade-grubbers', 'the-loose', 'dogwalker', 'tear-jerking', 'parka-wrapped', 'full-throated', 'italicizes', 'well-mounted', 'sock-you-in-the-eye', 'underdramatized', 'of-a-sequel', 'gosto', 'cirulnick', \"'bowling\", 'out-outrage', 'unrecommendable', 'meets-john', \"'why\", 'less-than-thrilling', 'splat-man', \"'laugh\", 'consegue', 'shoplifts', 'slummy', 'mock-tarantino', \"'amateur\", \"'unfaithful\", 'heart-string', 'escapa', 'scene-stealing', 'bond-inspired', 'action/effects', \"'men\", 'predecesora', 'waydowntown', 'post-colonialist', 'ventually', 'bug-eye', \"'let\", 'headline-fresh', 'new-agey', \"'butterfingered\", 'espite', 'right-thinking', \"early-'80s\", 'throat-singing', '-the-night', 'action-thriller/dark', 'stuporously', 'schneidermeister', 'emotiva', 'luvvies', 'pop-induced', 'romething', 'dog-paddle', 'age-wise', 'often-deadly', 'surface-obsession', 'spook-a-rama', 'fizzability', 'jazz-playing', 'scary-funny', 'makmalbaf', 'cop-flick', 'girls-behaving-badly', 'action/comedy', \"'anyone\", 'forgettably', \"'60s-homage\", 'tough-man', 'too-long', 'quasi-improvised', 'luv-spreading', 'enviará', 'unplundered', 'fully-written', 'messing-about', 'preciosista', 'brain-deadening', 're-voiced', 'sillified', 'boom-box', 'self-', \"'jason\", 'superlarge', 'globetrotters-generals', 'deutchland', \"'evelyn\", 'oídos', 'amuse-bouche', 'college-spawned', 'long-faced', 'drama/character', 'smart-aleck', 'acabamos', 'goombah', 'whip-crack', 'espetáculo', \"'alabama\", 'costumey', 'snow-and-stuntwork', 'blade-thin', 'inhospitability', 'pseudo-serious', 'romantic/comedy', 'television-', 'anti-hollywood', 'art-conscious', 'raw-nerved', 'cineasts', 'hyper-artificiality', 'precollegiate', 'sarcástica', 'bible-study', 'actuación', 'channel-style', '129-minute', 'elegiacally', 'kibbitzes', 'snore-fest', 'truck-loving', 'je-gyu', 'family-film', 'lovers-on-the-run', 'teen-targeted', 'consciousness-raiser', 'flame-like', 'contando', 'snazzy-looking', \"so-bad-it's-funny\", '8217', 'vulakoro', 'profundamente', 'hard-to-believe', \"'solid\", 'style-free', 'unfakable', 'sex-reassignment', 'witch-style', 'narcotized', 'non-exploitive', 'hell-jaunt', 'verete', \"'it\", 'obligada', 'movie\\x97if', 'audacious-impossible', \"'qatsi\", 'speeds/', 'dewy-eyed', 'hidden-agenda', 'strainingly', 'lame-old', 'superada', 'watstein', 'hastier', 'head-turner', 'paint-by-number', 'writer-producer-director', 'shock-you-into-laughter', 'second-guess', 'semi-humorous', 'siuation', \"'rare\", 'uberviolence', 'monster-in-the-', 'dime-store', 'roteiro', 'fine-looking', 'self-flagellation', 'melodramáticos', 'universos', 'multi-character', 'sad-sack', 'saído', 'hamfisted', 'ultra-manipulative', 'suspenser', 'cliche-drenched', 'rough-trade', 'demented-funny', 'satirizado', 'policiales', 'non-porn', 'by-the-numbers', 'pg-rated', 'technology-of-the-moment', 'laser-beam', 'gasp-inducing', 'wonder-what-', 'tv-style', 'who-wrote-shakespeare', 'not-at-all-good', 'atacar', 'skate/surf', 'soul-killing', 'therapy-dependent', 'super-wealthy', 'food-for-thought', 'orquídeas', \"'korean\", 'absolutamente', 'travel-agency', 'janklowicz-mann', 'ultra-provincial', 'updatings', 'intacto', 'schlock-filled', 'wewannour', 'wince-inducing', \"'cultural\", 'rough-around-the-edges', 'high-wattage', 'unconned', 'meat-and-potatoes', 'stagecrafts', 'unencouraging', \"'thank\", '28k', \"'blundering\", 'non-britney', 'difficult-to-swallow', 'hjelje', 'memória', \"'garth\", 'melodrama/character', 'ho-ho-ho', 'touchy-feely', 'new/old', 'mean-spiritedness', \"'this\", \"'artístico\", 'affirmational', 'hubac', 'sense-of-humour', 'overly-familiar', \"'jackass\", 'suspeito', 'recoing', 'stadium-seat', 'handsome-looking', 'genre-busting', \"'deadly\", 'hyper-cliched', 'stage-trained', 'happily-ever', 'easter-egg-colored', 'pseudo-hip', 'live-honed', 'demencial', \"'fish\", 'originalidad', 'low-heat', 'minac', 'not-so-bright', 'guilt-free', 'half-dimensional', 'lower-wit', \"'get\", 'super-simple', 'hammily', 'out-stealth', 'sweet-tempered', 'drenched-in-the-', 'out-bad-act', 'cannier', 'qutting', 'male-ridden', 'not-so-funny', 'woman-', 'ótimo', \"soul's-eye\", 'fast-edit', \"'comedian\", 'bore-athon', 'estranhos', 'razzle-dazzle', 'pulpiness', 'munchausen-by-proxy', 'rip-roaring', 'socio-histo-political', 'romance-novel', 'corruscating', 'same-old', '\\x96', \"'blue\", 'ink-and-paint', \"'drama\", 'skid-row', 'papai', 'flick-knife', \"'if\", 'beast-within', 'semi-improvised', 'extra-dry', 'masterpeice', 'disaffected-indie-film', 'haunted-house', 'duración', 'well-observed', 'too-conscientious', 'hat-in-hand', 'slam-bang', 'video-viewing', \"'analyze\", 'conmovedora', 'stalk-and-slash', 'untugged', 'intentando', 'exhilarate', 'monster/science', 'roisterous', 'writer/director/producer', 'decidiram', 'sub-sophomoric', 'nail-biter', 'abandone', 'interspliced', 'action-fantasy', 'half-bad', 'monkeyfun', \"'quit\", 'coming-of-age/coming-out', 'well-conceived', 'movilizador', 'movie-star', \"'safe\", 'less-', \"'co-stars\", 'sitcom-cute', 'caper-comedy', 'rise-and-fall', 'migraine-inducing', 'candy-like', 'she-cute', 'meet-cute', 'over-familiarity', 'oscar-sweeping', 'star-splashed', \"'just\", 'step-printing', 'near-xenophobic', 'dudsville', 'green-guts', 'splatterfests', \"aren't-kids-cute\", 'komediant', 'teen-gang', 'modern-office', 'and-', 'thesps', 'ear-splitting', 'sychowski', 'vidgame', \"'tadpole\", 'loosey-goosey', \"'tweener\", 'decirles', 'eye-filling', 'message-mongering', 'medium-grade', 'atacarse', 'constatação', 'auteil', \"'swept\", 'chloroform-soaked', 'gone-to-seed', 'actress-producer', 'hit-', 'merchant-ivory', 'truncheoning', 'big-bug', 'ooky-spookies', 'shimmeringly', 'two-wrongs-make-a-right', 'oh-so-hollywood', 'recurre', 'street-realist', \"'love\", 'old-form', 'pussy-ass', \"mid-'90s\", 'paint-by-numbers', 'glass-shattering', \"'dragonfly\", 'video-game-based', 'neo-fascism', \"'ick\", 'condensada', 'pollyana', 'early-on', 'thing-type', 'middle-agers', 'half-asleep', 'over-25s', 'girl-on-girl', 'mouglalis', 'stultifyingly', 'teen-exploitation', 'first-timer', 'string-pulling', 'desfecho', 'unslick', 'headbangingly', \"'si\", 'delibrately', 'japanimator', 'steinis', 'party-hearty', 'sitcom-worthy', 'likableness', 'two-drink-minimum', 'camera-work', 'not-quite-dead', 'creature-feature', 'sappier', 'makeup-deep', 'stop-and-start', 'bar-scrapping', \"'classic\", 'possui', 'film-culture', '3-year-olds', 'whoopee-cushion', 'sequel-for-the-sake-', \"'wayne\", 'dysfunctionally', 'crappola', 'paródia', '170-minute', 'meets-new', 'out-of-field', 'mistaken-identity', 'dust-caked', 'colosal', 'deseos', \"'challenging\", 'dialogue-heavy', \"'inspirational\", 'b+', 'artnering', 'joylessly', 'bliss-less', 'fuhgeddaboutit', \"'frankly\", 'no-surprise', 'wafer-thin', 'picture-perfect', 'oft-described', 'ever-escalating', 'thekids', 'ourside', 'blighter', 'pee-related', \"it's-surreal\", 'mix-and-', 'divertida', 'miscasts', 're-assess', 'pin-like', 'bang-the-drum', \"'scooby\", 'lástima', 'less-compelling', 'cutesy-pie', 'hour-and-a-half', 'substance-free', 'neo-augustinian', 'sorprenderá', 'reconceptualize', 'dullingly', 'clutchy', 'cinemantic', 'glacier-paced', 'montaje', \"'are\", 'rose-tinted', 'well-put-together', 'incompetência', 'pseudo-rock-video', 'witlessness', 'hollywood-action', 'groan-to-guffaw', \"'surprises\", 'conflict-powered', 'shmear', 'am-radio', \"'refreshing\", 'self-congratulatory', \"'chops\", 'soul-stripping', 'candy-coat', 'co-writer/director', 'techno-sex', 'kaputschnik', 'frankenstein-monster', \"'edgy\", 'É', 'transforma', 'giggle-inducing', 'poorly-constructed', 'scuzbag', 'aqueles', 'smarty-pants', 'patriotero', 'næs', 'soon-to-be-forgettable', 'exotic-looking', 'prejuicios', 'ninguém', 'not-so-hot', 'mcklusky', 'início', 'techno-tripe', 'cold-fish', 'gender-provoking', 'djeinaba', 'nrelentingly', 'shrieky', 'collosum', 'nonethnic', \"keep-'em-guessing\", 'jar-jar', 'lynch-like', 'talking-head', 'third-act', 'go-for-broke', \"'funny\", 'foot-age', 'hobnail', 'whimsicality', \"'ace\", 'miedos', \"'uplifting\", 'wish-fulfilling', 'heavy-handedness', 'lump-in-the-throat', 'anteing', 'patient/doctor', 'blank-faced', 'quasi-shakespearean', 'blutarsky', 'brothers/abrahams', 'low-wattage', 'close-to-solid', 'episódio', 'nuttgens', \"'scream\", 'even-toned', 'often-mined', 'morning-glory', 'highly-praised', 'a-bornin', 'indieflick', 'warmed-over', 'acting-workshop', \"'great\", 'character-oriented', 'white-trash', 'multi-layers', 'sumamente', 'warm-milk', 'slice-of-depression', 'brazil-like', \"'frailty\", 'gone-to-pot', 'lesser-praised', \"'laughing\", 'self-involved', 'director-writer', \"'too\", 'huge-screen', 'hit-to-miss', \"'real\", 'grunge-pirate', 'i-2-spoofing', 'sequer', 'freak-out', 'kitchen-sink', 'humor-seeking', 'pokepie', 'impotentes', 'well-wrought', 'still-contemporary', 'koshashvili', 'precisa', '79-minute', 'dogma-like', 'hard-to-swallow', 'hard-to-predict', 'mind-bending', 'fantasti', 'shiver-inducing', 'two-hour-and-fifteen-minute', 'eye-rolling', 'light-footed', 'italianas', 'stumblings', 'collage-form', 'seventy-minute', 'wise-beyond-her-years', 'like-themed', 'silbersteins', 'transfigures', \"'empowerment\", 'none-too-original', 'dès', 'mollà', 'igualmente', 'squirm-inducing', 'unlaughable', 'gender-war', 'bizzarre', 'semi-surrealist', 'teeth-clenching', 'jaw-droppingly', 'holiday-season', \"'sacre\", 'esfera', 'prewarned', \"'assassin\", \"hors-d'oeuvre\", 'baca-asay', 'tv-insider', 'slap-happy', 'not-quite-urban', 'sogginess', 'time-it-is', 'under-rehearsed', 'desee', \"'solaris\", 'off-puttingly', 'glizty', 'animated-movie', 'slo-mo', 'feardotcom', \"'girls\", 'manqué', \"'urban\", 'minute-by-minute', 'wollter', 'rusted-out', 'necessidade', 'media-soaked', 'self-congratulation', \"'suits\", 'stortelling', 'flck', \"'orphans\", 'sticky-sweet', 'sparklingly', 'one-sidedness', 'enfrentados', 'kid-empowerment', 'flower-power', '1/2-hour', 'exibi-lo', 'smashups', 'sincera', \"'blade\", 'mullinski', 'non-god', 'not-so-big', 'beloved-major-', 'overplotted', 'loosely-connected', 'pérdida', 'money-grubbing', 'code-talk', 'premisa', 'heidegger-', 'hyper-real', \"'seeking\", 'dialed-up', 'spell-casting', 'sex-as-war', 'tear-stained', 'têm', 'over-dramatic', 'hanky-panky', 'alientation', 'cliche-riddled', 'crowdpleaser', 'diciness', 'in-the-ring', \"'ah\", 'conan-esque', 'às', 'non-firsthand', \"'spectacular\", 'gut-bustingly', 'good-deed/bad-deed', 'docu-makers', 'half-lit', 'war/adventure', 'romijn-stamos', 'sweet-and-sour', \"'dog\", 'acontecimentos', 'kasem-furnished', 'single-mindedness', 'out-sized', 'head-banging', 'bierbichler', 'heart-on-its-sleeve', 'east-vs', 'excrescence', 'ozpetek', 'white-empowered', 'memory-as-identity', 'desaponta', 'blue-light-special', 'drippiness', \"'truth\", 'mid-film', 'super-serious', 'hard-', 'ningún', 'existência', 'self-defeatingly', 'lapdance', 'b-flick', 'cliche-ridden', 'less-than-magic', 'future-world', 'zinger-filled', 'post-camp', 'cheap-shot', 'margolo', 'quick-cut', 'chopsocky', 'overmanipulative', 'skyscraper-trapeze', 'peace-and-love', 'montied', 'últimos', 'shagster', 'light-heartedness', 'lip-non-synching', 'large-frame', 'mind-destroying', 'one-trick', 'mediocridade', 'old-fashioned-movie', \"'top\", 'junk-calorie', 'fillm', 'fleshed-out', 'shapelessly', 'half-sleep', 'laissez-passer', \"'drumline\", 'mother/daughter', 'laugh-a-minute', 'b-scene', 'leplouff', '-hollywood', 'post-9/11', 'bottomlessly', 'not-quite-suburban', 'kafka-inspired', 'brother-man', 'grand-scale', 'rambo-', 'work-hours', 'evolução', 'pro-fat', \"'james\", 'age-inspired', 'kiddie-oriented', 'star/producer', 'small-budget', 'obviation', 'director-chef', 'debuter', 'unhibited', 'unforgivingly', 'super-cool', \"'belgium\", 'então', 'enrapturing', 'surface-effect', 'sub-aquatic', 'nolden', 'fear-inducing', 'soft-porn', 'havia', 'glad-handing', 'rah-rah', 'hoity-toity', 'digital-video', 'laser-projected', \"bull's-eye\", \"'sophisticated\", 'qatsi', 'overcoming-obstacles', 'pie-like', \"'ejemplo\", 'narcotizing', 'hack-artist', \"'difficult\", 'singer/composer', 'manga-like', \"'topless\", 'única', 'gymkata', 'líquido', 'self-mutilating', \"show-don't-tell\", 'cinema-and-self', 'denlopp', 'open-endedness', 'long-on-the-shelf', 'triple-crosses', \"'t\", \"'magnifique\", \"'grandeur\", 'bazadona', 'gay-niche', 'kid-pleasing', \"'santa\", 'ever-watchful', \"'dumb\", 'surehanded', 'bolly-holly', 'surfacey', 'hyper-realistic', 'crash-and-bash', 'not-so-stock', 'accordion/harmonica/banjo', 'human-scale', 'lived-in', 'often-cute', 'live-style', 'shakesperean', 'squaddie', 'shlockmeister', 'odd-couple', 'singer-turned', 'bone-chilling', 'banderas-lucy', 'snap-crackle', 'shuck-and-jive', 'actory', 'gilliam-esque', \"'life\", \"'requiem\", 'adapted-', \"'naturalistic\", \"'hosts\", \"'reality\", 'jirí', 'bone-crushing', 'well-trod', 'stand-up-comedy', 'fluff-ball', 'true-blue', 'perfervid', 'nerfs', 'slash-and-hack', 'hopped-up', 'scene-by-scene', 'Último', 'middle-fingered', 'worldly-wise', 'logra', \"'god\", 'crowd-pleaser', 'preocupar', 'frissons', 'dridi', \"mid-'70s\", \"'we\", 'direção', \"'performance\", 'cativante', 'you-are-there', 'equlibrium', 'non-shakespeare', 'yawn-provoking', 'bowel-curdling', \"'guy\", 'brain-slappingly', 'heart-tugging', 'ápice', 'thrift-shop', 'twist-and-turn', 'kid-movie', 'daneses', 'clung-to', 'teen-catholic-movie', 'imaginación', 'nebrida', 'pouquíssimos', 'fílmica', 'video-shot', 'sober-minded', 'estava', 'white-knuckled', 'toolbags', 'stomach-turning', 'kahlories', 'out-shock', 'criar', 'opera-ish', 'animé', 'old-movie', 'b-ball', 'double-pistoled', 'four-', \"'estupendamente\", 'half-wit', 'mcbeal-style', 'majority-oriented', 'sex-soaked', '\\x91direct-to-video', 'anti-kieslowski', \"'bad\", 'cat-and-mouser', 'character-', 'oscar-winners', 'desarrollarse', 'hoo-ha', 'strafings', 'románticas', \"'uhhh\", 'cyber-horror', 'higuchinsky', \"'types\", 'estrogen-free', 'bruckheimeresque', \"'charly\", 'often-funny', 'slam-bam', 'mibii', 'altman-esque', \"'twist\", 'armenian-canadian', 'ugly-duckling', 'self-revealing', 'ham-fisted', \"'angels\", 'hyper-time', \"'wow\", 'hour-and-a-half-long', 'audience-abuse', 'accomodates', 'beseechingly', 'all-too-familiar', 'real\\x97she', 'smile-button', 'colocar', 'pell-mell', 'perde-se', \"'compleja\", 'preocupe', \"'chan\", 'emocionante', 'life-embracing', 'kids-and-family-oriented', 'vintage-tv', 'save-the-planet', 'rat-a-tat', 'often-hilarious', 'emocionalmente', 'heremakono', '4/5ths', 'weapon-derived', 'estudo', 'pressure-cooker', 'kalvert', 'complejos', 'direct-to-void', 'substitutable', 'star-making', 'witch-', 'co-dependence', 'over-amorous', 'captivatingly', 'friday-night', 'resultan', 'techno-horror', 'jeong-hyang', 'police-oriented', 'post-full', \"'comedy\", 'culminando', 'bigger-than-life', \"'picture\", 'wifty', 'mood-altering', 'over-indulgent', \"'true\", 'pseudo-sophisticated', 'entreter', \"'tron\", \"'scratch\", 'sitcomishly', 'opera-to-film', 'thinly-conceived', 'torna-se', 'show-stoppingly', 'campaign-trail', \"'masterpiece\", 'prep-school', 'non-mystery', 'cipherlike', 'drek', 'outgag', 'pun-laden', \"'interesante\", 'waters-like', \"'divertida\", 'versión', 'non-reactionary', 'dead-eyed', 'leatherbound', 'self-serious', 'trailer-trash', '\\x91what', '-inevitable', 'quizá', 'semi-stable', 'corniest', 'oscar-caliber', 'self-dramatizing', '3/4th', 'long-dreaded', 'star-power', 'give-a-damn', 'show-tunes', 'guy-in-a-dress', 'queasy-stomached', \"'home\", 'delicia', 'well-meaningness', '179-minute', 'curse-free', 'incoloro', 'blown-out', 'overemphatic', \"'who\", 'cheese-laced', 'amoses', 'single-mindedly', 'zzzzzzzzz', 'pile-ups', \"'you\", 'girl-power', \"cam'ron\", 'utilizar', 'repellantly', 'water-bound', 'dateflick', 'girl-woman', 'eye-opener', 'annie-mary', 'tongue-tied', 'clarke-williams', 'materalism', 'volletta', 'near-masterpiece', 'musicais', \"'chick\", 'trend-hoppy', 'all-wise-guys-all-the-time', 'just-above-average', 'half-assed', 'hard-sell', 'movie-of-the-week', 'fleet-footed', 'not-being', 'dominatrixes', 'bio-doc', 'hard-partying', 'goose-pimple', \"'red\", 'self-glorified', 'out-depress', 'marine/legal', 'ball-and-chain', 'amped-up', 'wind-in-the-hair', 'jean-claud', 'little-remembered', 'open-hearted', 'cool-j', 'allodi', 'unsalvageability', 'industrial-model', 'guión', 'time-switching', 'shayamalan', \"'what\", \"'credit\", \"'under\", '102-minute', 'fang-baring', \"'perfection\", 'poor-me', 'no-bull', 'off-', 'image-mongering', 'half-formed', 'decasia', 'skippable', 'company-style', 'self-caricature', 'ryanovich', 'actorish', 'dreadfulness', 'all-over-the-map', 'lifetime-channel', 'crummles', 'unentertaining', 'well-contructed', 'raunch-fests', 'malfitano-domingo', 'do-over', \"'guests\", 'navel-gazing', 'idemoto', 'grandiosa', 'less-is-more', \"'snow\", 'wise-cracker', 'eroti-comedy', 'beat-charged', 'unembarrassing', 'runteldat', 'hellstenius', 'puréed', 'guessable', 'out-of-kilter', 'brothers-style', 'again-courage', 'focus-grouped', 'dead-center', \"'worse\", 'fill-in-', 'nutjob', \"'artistically\", 'kinetically-charged', 'aceitou', \"'enigma\", 'achronological', 'self-destructiveness', 'slam-dunk', 'flatula', 'art-directed', 'epic-horror', 're-fried', 'decent-enough', 'mini-mod-madness', \"'film\", \"'very\", 'brûlée', 'wound-licking', '112-minute', 'spy-on-the-run', 'halfwit', 'so-inept-', 'big-fisted', \"'face\", 'crass-a-thons', 'soberbio', '-after', 'sandlerian', 'american-russian', 'go-round', 'clunk-on-the-head', 'else-', 'connect-the-dots', 'claustrophic', \"fun-for-fun's-sake\", '-stunning', 'shapable', 'screen-eating', 'semi-coherent', 'oh-so-important', 'certamente', 'crime-land', \"'baran\", 'daytime-drama', 'b-minus', 'ballistic-pyrotechnic', \"'been\", \"'bartleby\", 're-', 'digital-effects-heavy', 'autocritique', 'peter/spider-man', \"ain't-\", 'horror/action', 's1m0ne', 'snake-down-the-throat', 'fire-red', 'once-over', \"'tradition\", 'bait-and-tackle', 'over-romanticize', 'esteticamente', 'european-set', 'decades-spanning', 'get-out', \"'stoked\", 'saucer-eyed', \"'have-yourself-a-happy-little-holocaust\", 'sleep-inducingly', 'two-actor', 'idoosyncratic', 'gender-bender-baller', '99-minute', 'prescinde', 'ricture', 'date-night', \"so-bad-it's-good\", 'nonchallenging', 'birot', \"'all\", 'simbolizando', 'exporing', 'coma-like', '\\x97', 'well-detailed', 'comedy/thriller', 'teeny-bopper', 'nohe', 'personagens', \"'some\", 'faux-contemporary', 'término', 'colonics', 'head-trip', 'flakeball', 'snail-like', 'dull-witted', 'six-packs', \"'alternate\", 'war-movie', 'movie-starring', 'kazmierski', 'down-and-dirty', 'hotsies', 'chou-chou', 'time-vaulting', 'front-loaded', 'emptily', 'still-raw', 'still-inestimable', 'junk-food', 'blood-curdling', 'port-of-call', 'french-produced', 'dumbfoundingly', 'foot-dragging', 'sequel-itis', 'sermonize', \"'do\", 'doofus-on-', 'uncinematic', 'unemotive', 'estafeta', 'péssima', 'pop-cyber', 'intelectualmente', 'consumer-advice', 'aborbing', 'mass-murdering', 'voices-from-the-other-side', 'government/', 'neo-hitchcockianism', 'and-miss', 'than-likely', 'contemplarse', 'farewell-to-innocence', \"'moore\", 'genial-rogue', 'portent-heavy', 'super-', 'ki-deok', 'democracie', 'salaciously', 'pre-shooting', 'award-worthy', '-a', 'ya-yas', \"'in\", 'villians', 'killer-thrillers', 'juiceless', 'playboy-mansion', 'fascinantes', 'desnudo', 'buzz-obsessed', 'fato', 'disappearing/reappearing', 'aproveitar', 'oh-those-wacky-brits', 'ruh-roh', \"'epic\", 'eighth-grader', 'sweaty-palmed', 'self-glorification', 'prechewed', 'reeses', 'super-dooper-adorability', 'nerve-rattling', 'super-stupid', 'capturou', 'good-bad', \"'terrible\", 'techno-saturation', 'self-amused', 'soaringly', \"'synthetic\", 'ho-tep', 'disease-of-', 'low-', 'inquestionável', \"'they\", 'everlyn', 'spaniel-eyed', '-the-cash', 'misty-eyed', 'humbuggery', 'baseball-playing', 'thrill-kill', 'explicados', 'grato', \"'lovely\", 'manipulador', 'uplifter', 'late-twenty-somethings', 'sun-drenched', \"stalk'n'slash\", 'nit-picky', 'provocatuers', 'ho-hum', 'sleep-inducing', 'rintarô', \"'videodrome\", 'fuddled', \"'blood\", 'old-world-', 'girl-', 'camareras', \"'lick\", 'force-feed', 'greasiest', 'ages-old', 'copmovieland', 'plot-lines', 're-do', 'reeboir', \"'juvenile\", 'self-regarding', 'upper-crust', 'gut-buster', 'snoots', 'tone-deaf', 'out-to-change-the-world', \"'christian\", 'entretenida', 'trash-cinema', 'phonce', 'dead-eye', 'bling-bling', 'maelström', 'gooeyness', 'affectation-free', 'less-than-compelling', 'strung-together', 'screwed-up', 'mind-numbingly', 'tear-drenched', 'ill-starred', 'overstylized', 'redneck-versus-blueblood', 'kid-vid', 'buddy-cop', 'francamente', 'ming-liang', 'near-disaster', 'bottom-feeder', \"'hey\", 'years/', 'involvingly', 'disfrutable', 'too-facile', 'girl-meets-girl', 'cringe-inducing', 'flex-a-thon', 'crime-busting', 'tv-cops', 'guilty-pleasure', 'cameo-packed', 'remain-nameless', 'tv-to-movie', 'plot-wise', 'best-foreign-film', 'solondzian', 'too-tepid', 'clichês', 'well-shot', 'gang-infested', 'unclassifiably', 'jae-eun', 'retro-refitting', 'responsável', 'risk-takers', \"'tap\", 'not-great', 'nietzsche-referencing', 'murder-on-campus', 'landbound', 'cheap-looking', 'media-constructed', 'grace-in-rebellion', 'sugar-sweet', 'damon/bourne', 'documentary-making', 'petin', 'stable-full', 'bibbidy-bobbidi-bland', 'hotdogging', 'timewaster', 'kosashvili', 'pretention', \"'yes\", 'slash-dash', 'young-guns', 'kiddie-flick', 'old-hat', '-doing-it-for', 'esforço', 'melodic/', 'expresar', 'otto-sallies', 'social/economic/urban', 'mid-section', \"'jackie\", 'natural-seeming', 'retrata', 'kiddie-friendly', 'middle-brow', 'the-blanks', 'cliché-laden', 'choquart', 'a-knocking', 'pigeonhole-resisting', \"'vain\", 'low-cal', 'heartwarmingly', 'pseudo-intellectual', 'espectáculo', 'narrativa', 'prefeminist', \"'action\", 'dog-tag', 'psychodramatics', 'oh-so', 'pouty-lipped', 'gore-free', 'action-movie', 'culture-clash', 'musclefest', 'kill-by-numbers', 'dearly-loved', 'off-the-rack', 'control-alt-delete', 'back-stabbing', 'crime-film', 'divertingly', 'boundary-hopping', 'dolphin-gasm', 'phoney-feeling', \"'linklater\", 'projeção', 'pretty-boy', 'cor-blimey-luv-a-duck', 'for-fans', \"'aunque\", \"'de\", 'done-that', 'field-sized', 'gerbosi', 'all-too', 'digno', 'freak-outs', 'teen-speak', 'diferença', 'buddy-comedy', 'montias', 'actuada', 'pseudo-bio', 'atreve', 'contrária', \"'easier\", 'disney-style', 'post-saving', 'weirded-', 'well-meant', 'drop-dead', 'wishy-washy', 'valley-girl', \"'fatal\", \"'there\", 'money-oriented', 'wife/colleague', 'wild-and-woolly', \"'memento\", 'unimpressively', 'stress-reducing', 'class-', 'penotti', 'hit-hungry', 'pincel', 'ganha', 'arriesgado', \"'swimfan\", 'mergulha', 'less-than-objective', \"matrix'-style\", 'gutterball', 'pseudo-educational', 'diretor', 'poke-mania', 'cinema-besotted', 'director/co-writer', 'comic/thriller', 'amusedly', 'ineptitudes', 'the-week', 'bad-luck', 'by-the-books', 'disease-of-the-week', \"'stock\", 'heart-affecting', 'direto', 'dictator-madman', 'convencional', 'independent-community', 'homo-eroticism', 'hawk-style', 'self-infatuated', '-of-the-week', 'been-there', 'not-exactly', 'derivativeness', 'funcionar', 'marcken', 'datedness', 'stunt-hungry', 'superficiale', 'snazziness', \"'silence\", 'euro-film', 'continuação', 'beat-the-clock', 'smack-dab', \"'german-expressionist\", \"'easily\", 'rápidamente', 'pep-talk', \"'cq\", 'quasi-original', 'lovable-loser', 'something-borrowed', 'not-quite', 'assistir', 'uncharismatically', 'gator-bashing', 'political-action', 'cat-and-cat', 'sucker-punch', 'russos', 'fuddy-duddy', 'rubber-face', 'movie-specific', 'pianista', 'funny/gritty', 'meanspirited', 'one-joke', 'interações', 'dumbed-down', 'groan-inducing', '10th-grade', 'triple-espresso', 'body-switching', 'inside-show-biz', 'shoe-loving', 'ihops', 'laugh-filled', 'mesmos', 'addessi', 'clericks', 'character-who-shall-', 'wankery', 'plaintiveness', 'ankle-deep', 'bargain-basement', 'strip-mined', 'spy-movie', 'rape-payback', 'powaqqatsi', 'critic-proof', 'racial-issues', \"'children\", 'spring-break', 'rap-metal', 'boom-bam', 'apesar', \"'date\", 'bump-in', 're-hash', 'tardier', '-west', 'female-bonding', 'well-realized', 'bollywood/hollywood', 'non-bondish', 'finding-herself', 'edge-of-your-seat', 'car-wreck', 'flim-flam', 'jump-in-your-seat', \"'manhunter\", 'thriller-noir', \"'my\", 'lhe', 'fear-reducing', 'gaï', 'black-', 'ultra-low-budget', \"'intro\", 'talancón', \"'tonight\", 'stiff-upper-lip', 'poo-poo', 'pretenciosas', 'bait-and-switch', 'sub-formulaic', 'be-all-end-all', 'wisegirls', 'challenge-hungry', 'gantzes', \"'best\", 'barn-burningly', 'mystery/thriller', 'botch-jobs', 'realidade', 'visualmente', 'fresh-squeezed', 'drama/action', 'ga-zillionth', 'também', 'indie-heads', \"'bold\", 'coriat', 'gorefests', 'cliff-notes', 'repulsively', 'elemento', 'action-filled', 'well-edited', 'anti-date', 'enfrentará', 'imponderably', 'under-inspired', 'self-exploitation', 'fustily', '-greaseballs', 'double-', 'hirosue', 'ego-destroying', 'surfer-girl', 'slasher-movie', 'seldahl', 'engaña', 'from-television', 'played-out', \"'hannibal\", 'spiritual-uplift', 'vietnamese-born', 'badly-rendered', 'love-jealousy-', 'spy-action', 'community-therapy', \"'abandon\", 'wham-bam', 'fish-out-of-water', 'travil', 'chick-flick', 'well-honed', 'ultra-loud', 'push-the-limits', 'adventues', 'bone-dry', 'downy-cheeked', 'toe-tapping', 'un-bear-able', 'oscar-worthy', \"'barbershop\", 'well-told', 'rocky-like', 'esquerdo', \"'literary\", 'kilt-wearing', 'corporate-sports', 'brush-up', 'entretiene', 'fulford-wierzbicki', 'bottom-rung', 'kidlets', 'punch-drunk', 'nickelodeon-esque', 'premissa', \"'praise\", 'sports-movie', 'poster-boy', 'achival', 'instante', 'fluxing', 'talk-heavy', 'hayseeds-vs', 'teary-eyed', 'complementares', 'mad-libs', 'phoned-in', \"'carente\", 'handbag-clutching', 'laboriousness', 'turkey-on-rolls', 'perseguição', 'pathos-filled', 'inconsequentiality', 'movie-esque', 'enternecedora', 'predecible', 'gabbiest', 'cliché-riddled', '\\x9170s', 'screeching-metal', 'giant-screen', 'christmas-tree', 'south-of-the-border', 'cliche-bound', 'stuffiest', \"'significant\", 'fever-pitched', 'sinais', 'comedy-deficient', 'side-splittingly', 'real-live', 'roteirista', 'aburrido', 'ultra-cheesy', '-white', 'irony-free', 'outré', 'pencil-thin', 'efteriades', 'sixties-style', 'jacked-up', \"shoot-'em-up\", 'all-in-all', 'brit-com', 'off-hollywood', 'gut-busting', 'graças', \"'woods\", \"'shindler\", 'swordfights', 'artsploitation', 'marveilleux', 'not-so-small', 'ill-wrought', 'mothball-y', \"'triumph\", 'good-naturedness', 'bjorkness', 'bodice-ripper', 'felinni', 'jaglomized', \"'the\", 'already-shallow', \"'nicholas\", 'right-on', 'sheerly', \"'zany\", 'começamos', 'deadeningly', 'unreligious', 'period-perfect', \"'like\", 'andamento', \"'hungry-man\", 'kickass', 'docu-dogma', 'kalesniko', 'haphazardness', \"'brazil\", 'tissue-thin', 'gal-pal', 'creepy-crawly', 'dark-as-pitch', 'book-on-tape', 'lascivious-minded', 'sailboaters', \"'how\", 'unamusing', 'cutting-room', 'representando', 'eardrum-dicing', 'live-wire', 'cletis', 'próprio', 'saímos', 'destinees', 'tolerable-to-adults', \"'small\", \"'possession\", 'dead-undead', 'hollywood-predictable', 'anti-darwinian', 'b-film', 'twinkly-eyed', 'stop-go', 'mid-to-low', 'hitler-study']\n",
      "Building embedding matrix...\n",
      "Vocab size: 16163\n",
      "\n",
      "Embedding matrix built successfully.\n",
      "Embedding matrix saved as './result/embedding_matrix.npy'.\n",
      "Mapping 'word2idx' saved as './result/word2idx.json'.\n",
      "Mapping 'idx2word' saved as './result/idx2word.json'.\n"
     ]
    }
   ],
   "source": [
    "glove_dict = load_glove_embeddings()\n",
    "\n",
    "# Collect words to be removed\n",
    "missing_words = []\n",
    "for word in vocab:\n",
    "    if word not in glove_dict:\n",
    "        missing_words.append(word)\n",
    "\n",
    "# Remove missing words from vocab\n",
    "for word in missing_words:\n",
    "    vocab.remove(word)\n",
    "        \n",
    "print(f\"Number of missing words: {len(missing_words)}\")\n",
    "print(f\"The missing words are: {missing_words}\")\n",
    "\n",
    "# mapping of words to indices and vice versa\n",
    "word2idx = {word: idx for idx, word in enumerate(sorted(vocab))}\n",
    "idx2word = {idx: word for word, idx in word2idx.items()}\n",
    "\n",
    "print(\"Building embedding matrix...\")\n",
    "vocab_size = len(word2idx)\n",
    "print(f\"Vocab size: {vocab_size}\")\n",
    "embedding_matrix = np.zeros((vocab_size, EMBEDDING_DIM))\n",
    "\n",
    "for word, idx in word2idx.items():\n",
    "    embedding_matrix[idx] = glove_dict[word]\n",
    "\n",
    "print()\n",
    "print(\"Embedding matrix built successfully.\")\n",
    "\n",
    "np.save(EMBEDDING_MATRIX_PATH, embedding_matrix)\n",
    "print(f\"Embedding matrix saved as '{EMBEDDING_MATRIX_PATH}'.\")\n",
    "\n",
    "with open(WORD2IDX_PATH, 'w', encoding='utf-8') as f:\n",
    "    json.dump(word2idx, f, ensure_ascii=False, indent=4)\n",
    "print(f\"Mapping 'word2idx' saved as '{WORD2IDX_PATH}'.\")\n",
    "\n",
    "with open(IDX2WORD_PATH, 'w', encoding='utf-8') as f:\n",
    "    json.dump(idx2word, f, ensure_ascii=False, indent=4)\n",
    "print(f\"Mapping 'idx2word' saved as '{IDX2WORD_PATH}'.\")\n"
   ]
  },
  {
   "cell_type": "code",
   "execution_count": 19,
   "metadata": {},
   "outputs": [
    {
     "name": "stdout",
     "output_type": "stream",
     "text": [
      "Shape of the embedding matrix:  (16163, 100)\n",
      "Data type of the elements:  float64\n",
      "First few rows of the embedding matrix: \n",
      "[ 0.38472     0.49351001  0.49096    -1.54340005 -0.33614001  0.62220001\n",
      "  0.32264999  0.075331    0.65591002 -0.23517001  1.21140003  0.06193\n",
      " -0.62004     0.31371     0.38947999 -0.24381    -0.065643    0.58797002\n",
      " -0.86382002  0.63165998  0.68362999  0.39647001 -0.62388003 -0.25094\n",
      "  0.92830998  1.51520002 -0.43917     0.22249     1.36950004 -0.53097999\n",
      "  0.39811     0.77113998  0.49043     0.58853     0.2376      0.31619999\n",
      " -0.011962   -0.047074    0.34584999 -1.29439998  0.18596999  0.27002001\n",
      " -0.70602    -0.20652001 -0.25194001 -0.48679999 -0.71538001 -0.23886999\n",
      " -0.041612   -0.55488002 -0.54225999  0.21235999  0.025341    0.96517003\n",
      " -0.88182998 -1.86810005  0.32657     1.16890001  1.17589998 -0.17393\n",
      " -0.3371      0.87535    -1.01139998 -0.61809999  1.00800002  0.31505999\n",
      "  0.24417     0.064393    0.33678001  0.33632001  0.45975     0.22813\n",
      " -0.37505001 -0.37507999  0.089301    0.53862     0.039714   -0.0036392\n",
      " -0.25023001 -0.18223999  0.42730999 -0.79118001 -0.29409    -0.40693\n",
      " -1.09080005 -0.16475999 -0.41457999 -0.67899001  0.28319001  0.30937001\n",
      "  0.49304    -0.067002    0.50221997  0.73958999 -0.47350001 -0.47341999\n",
      " -0.20242     0.026263    0.39052001  0.52217001]\n"
     ]
    }
   ],
   "source": [
    "import numpy as np \n",
    "\n",
    "# Load the embedding matrix\n",
    "embedding_matrix = np.load('result/embedding_matrix.npy')\n",
    "\n",
    "# Display basic information\n",
    "print(\"Shape of the embedding matrix: \", embedding_matrix.shape)\n",
    "print(\"Data type of the elements: \", embedding_matrix.dtype)\n",
    "\n",
    "# Display the first few entries\n",
    "print(\"First few rows of the embedding matrix: \")\n",
    "print(embedding_matrix[0])"
   ]
  },
  {
   "cell_type": "markdown",
   "metadata": {},
   "source": [
    "Let's also try to define a class that will help us to handle the loading and the\n",
    "handling of the embedding matrix! This will help with the downstream tasks as well.\n",
    "\n",
    "We define core APIs that will help us to load the embeddings and also to get the\n",
    "embeddings for a given word."
   ]
  },
  {
   "cell_type": "code",
   "execution_count": 20,
   "metadata": {},
   "outputs": [],
   "source": [
    "import torch\n",
    "\n",
    "\n",
    "class EmbeddingMatrix():\n",
    "    def __init__(self) -> None:\n",
    "        self.d = 0 \n",
    "        self.v = 0\n",
    "        self.pad_idx:int\n",
    "        self.embedding_matrix:np.ndarray\n",
    "        self.word2idx:dict\n",
    "    @classmethod\n",
    "    def load(cls) -> \"EmbeddingMatrix\":\n",
    "        # load vectors from file\n",
    "        embedding_matrix:np.ndarray = np.load(EMBEDDING_MATRIX_PATH)\n",
    "        # set attributes\n",
    "        em = cls()\n",
    "        em.embedding_matrix = embedding_matrix\n",
    "        \n",
    "        with open(WORD2IDX_PATH, 'r', encoding='utf-8') as f:\n",
    "            word2idx:dict = json.load(f)\n",
    "            em.word2idx = word2idx\n",
    "        em.v, em.d = embedding_matrix.shape\n",
    "        return em\n",
    "    @property\n",
    "    def to_tensor(self) -> torch.Tensor:\n",
    "        return torch.tensor(self.embedding_matrix, dtype=torch.float64)\n",
    "    def add_padding(self) -> None:\n",
    "        if \"<PAD>\" in self.word2idx:\n",
    "            return\n",
    "        padding = np.zeros((1, self.d), dtype='float32')\n",
    "        self.embedding_matrix = np.vstack((self.embedding_matrix, padding))\n",
    "        \n",
    "        self.v += 1\n",
    "        self.pad_idx = self.v - 1\n",
    "        self.word2idx[\"<PAD>\"] = self.pad_idx \n",
    "    @property\n",
    "    def dimension(self) -> int:\n",
    "        \"\"\"Dimension of the embedding matrix\n",
    "        \n",
    "        :return: The dimension of the embedding matrix\n",
    "        :rtype: int\n",
    "        \"\"\"\n",
    "        return self.d\n",
    "    @property\n",
    "    def vocab_size(self) -> int:\n",
    "        \"\"\"Vocabulary size of the embedding matrix\n",
    "\n",
    "        :return: The vocabulary size of the embedding matrix\n",
    "        :rtype: int\n",
    "        \"\"\"\n",
    "        return self.v\n",
    "    @property\n",
    "    def vocab(self) -> set[str]:\n",
    "        \"\"\"Vocabulary of the embedding matrix\n",
    "        \n",
    "        Set of words in the embedding matrix\n",
    "\n",
    "        :return: The vocabulary of the embedding matrix\n",
    "        :rtype: set[str]\n",
    "        \"\"\"\n",
    "        return set(self.word2idx.keys())\n",
    "    def __getitem__(self, word:str) -> np.ndarray:\n",
    "        return self.embedding_matrix[self.word2idx[word]]\n",
    "    def get_idx(self, word:str) -> int:\n",
    "        # if word not in vocab, return None\n",
    "        return self.word2idx.get(word, None)"
   ]
  },
  {
   "cell_type": "markdown",
   "metadata": {},
   "source": [
    "# Question 1. Word Embedding\n",
    "(a) What is the size of the vocabulary formed from your training data?   \n",
    "The size of the vocabulary is `18030`, after removing the OOV words from Glove embeddings, the\n",
    "final size of the vocabulary is `16163`.\n",
    "\n",
    "(b) We use OOV (out-of-vocabulary) to refer to those words appeared in the training data but not in the Word2vec (or Glove) dictionary. How many OOV words exist in your training data?    \n",
    "`1867`\n",
    "   \n",
    "(c) The existence of the OOV words is one of the well-known limitations of Word2vec (or Glove).\n",
    "Without using any transformer-based language models (e.g., BERT, GPT, T5), what do you\n",
    "think is the best strategy to mitigate such limitation? Implement your solution in your source\n",
    "code. Show the corresponding code snippet. \n",
    "\n",
    "Answer:\n",
    "\n",
    "(1) Using an <UNK> Token, with its Embeddings randomized. Map any OOV words to the <UNK> Token\n",
    "\n",
    "We explore the code snippet below\n",
    "\n",
    "```python\n",
    "for word in extended_vocab:\n",
    "    idx = word2idx[word]\n",
    "    # if word is in glove vocab, use glove vector\n",
    "    if word in glove_dict:\n",
    "        embedding_matrix[idx] = glove_dict[word]\n",
    "    else:\n",
    "        # use random vector for unknown words\n",
    "        if word == UNK_TOKEN:\n",
    "            embedding_matrix[idx] = np.random.normal(scale=0.6, size=(EMBEDDING_DIM,))\n",
    "        else:\n",
    "            embedding_matrix[idx] = embedding_matrix[word2idx[UNK_TOKEN]]\n",
    "```\n",
    "\n",
    "This is a useful strategy as we can use the embeddings of the <UNK> token to\n",
    "represent any unknown words. Thus, now for any unknown words, we can use the\n",
    "<UNK> token to represent them and for the vocabulary words that are not in the\n",
    "pretrained embeddings, we can use the embeddings of the <UNK> token to represent\n",
    "it.\n",
    "\n",
    "(2) There are many kinds of static embeddings. An extension of word2vec, fasttext (Bojanowski et al., 2017), addresses a problem with word2vec as we have presented it so far: it has no good way to deal with unknown words—words that appear in a test corpus but were unseen in the training corpus.\n",
    "\n",
    "A related problem is word sparsity, such as in languages with rich morphology, where some of the many forms for each noun and verb may only occur rarely. Fasttext deals with these problems by using subword models, representing each word as itself plus a bag of constituent n-grams, with special boundary symbols < and > added to each word."
   ]
  },
  {
   "cell_type": "markdown",
   "metadata": {},
   "source": []
  }
 ],
 "metadata": {
  "kernelspec": {
   "display_name": ".venv",
   "language": "python",
   "name": "python3"
  },
  "language_info": {
   "codemirror_mode": {
    "name": "ipython",
    "version": 3
   },
   "file_extension": ".py",
   "mimetype": "text/x-python",
   "name": "python",
   "nbconvert_exporter": "python",
   "pygments_lexer": "ipython3",
   "version": "3.12.7"
  }
 },
 "nbformat": 4,
 "nbformat_minor": 2
}
