{
 "cells": [
  {
   "cell_type": "code",
   "execution_count": 121,
   "metadata": {},
   "outputs": [
    {
     "name": "stdout",
     "output_type": "stream",
     "text": [
      "Requirement already satisfied: datasets in c:\\users\\snorl\\appdata\\local\\pypoetry\\cache\\virtualenvs\\sc4002-nlp-liajfnhk-py3.12\\lib\\site-packages (3.0.2)\n",
      "Requirement already satisfied: filelock in c:\\users\\snorl\\appdata\\local\\pypoetry\\cache\\virtualenvs\\sc4002-nlp-liajfnhk-py3.12\\lib\\site-packages (from datasets) (3.16.1)\n",
      "Requirement already satisfied: numpy>=1.17 in c:\\users\\snorl\\appdata\\local\\pypoetry\\cache\\virtualenvs\\sc4002-nlp-liajfnhk-py3.12\\lib\\site-packages (from datasets) (1.26.4)\n",
      "Requirement already satisfied: pyarrow>=15.0.0 in c:\\users\\snorl\\appdata\\local\\pypoetry\\cache\\virtualenvs\\sc4002-nlp-liajfnhk-py3.12\\lib\\site-packages (from datasets) (18.0.0)\n",
      "Requirement already satisfied: dill<0.3.9,>=0.3.0 in c:\\users\\snorl\\appdata\\local\\pypoetry\\cache\\virtualenvs\\sc4002-nlp-liajfnhk-py3.12\\lib\\site-packages (from datasets) (0.3.8)\n",
      "Requirement already satisfied: pandas in c:\\users\\snorl\\appdata\\local\\pypoetry\\cache\\virtualenvs\\sc4002-nlp-liajfnhk-py3.12\\lib\\site-packages (from datasets) (2.2.3)\n",
      "Requirement already satisfied: requests>=2.32.2 in c:\\users\\snorl\\appdata\\local\\pypoetry\\cache\\virtualenvs\\sc4002-nlp-liajfnhk-py3.12\\lib\\site-packages (from datasets) (2.32.3)\n",
      "Requirement already satisfied: tqdm>=4.66.3 in c:\\users\\snorl\\appdata\\local\\pypoetry\\cache\\virtualenvs\\sc4002-nlp-liajfnhk-py3.12\\lib\\site-packages (from datasets) (4.66.6)\n",
      "Requirement already satisfied: xxhash in c:\\users\\snorl\\appdata\\local\\pypoetry\\cache\\virtualenvs\\sc4002-nlp-liajfnhk-py3.12\\lib\\site-packages (from datasets) (3.5.0)\n",
      "Requirement already satisfied: multiprocess<0.70.17 in c:\\users\\snorl\\appdata\\local\\pypoetry\\cache\\virtualenvs\\sc4002-nlp-liajfnhk-py3.12\\lib\\site-packages (from datasets) (0.70.16)\n",
      "Requirement already satisfied: fsspec<=2024.9.0,>=2023.1.0 in c:\\users\\snorl\\appdata\\local\\pypoetry\\cache\\virtualenvs\\sc4002-nlp-liajfnhk-py3.12\\lib\\site-packages (from fsspec[http]<=2024.9.0,>=2023.1.0->datasets) (2024.9.0)\n",
      "Requirement already satisfied: aiohttp in c:\\users\\snorl\\appdata\\local\\pypoetry\\cache\\virtualenvs\\sc4002-nlp-liajfnhk-py3.12\\lib\\site-packages (from datasets) (3.10.10)\n",
      "Requirement already satisfied: huggingface-hub>=0.23.0 in c:\\users\\snorl\\appdata\\local\\pypoetry\\cache\\virtualenvs\\sc4002-nlp-liajfnhk-py3.12\\lib\\site-packages (from datasets) (0.26.2)\n",
      "Requirement already satisfied: packaging in c:\\users\\snorl\\appdata\\local\\pypoetry\\cache\\virtualenvs\\sc4002-nlp-liajfnhk-py3.12\\lib\\site-packages (from datasets) (24.1)\n",
      "Requirement already satisfied: pyyaml>=5.1 in c:\\users\\snorl\\appdata\\local\\pypoetry\\cache\\virtualenvs\\sc4002-nlp-liajfnhk-py3.12\\lib\\site-packages (from datasets) (6.0.2)\n",
      "Requirement already satisfied: aiohappyeyeballs>=2.3.0 in c:\\users\\snorl\\appdata\\local\\pypoetry\\cache\\virtualenvs\\sc4002-nlp-liajfnhk-py3.12\\lib\\site-packages (from aiohttp->datasets) (2.4.3)\n",
      "Requirement already satisfied: aiosignal>=1.1.2 in c:\\users\\snorl\\appdata\\local\\pypoetry\\cache\\virtualenvs\\sc4002-nlp-liajfnhk-py3.12\\lib\\site-packages (from aiohttp->datasets) (1.3.1)\n",
      "Requirement already satisfied: attrs>=17.3.0 in c:\\users\\snorl\\appdata\\local\\pypoetry\\cache\\virtualenvs\\sc4002-nlp-liajfnhk-py3.12\\lib\\site-packages (from aiohttp->datasets) (24.2.0)\n",
      "Requirement already satisfied: frozenlist>=1.1.1 in c:\\users\\snorl\\appdata\\local\\pypoetry\\cache\\virtualenvs\\sc4002-nlp-liajfnhk-py3.12\\lib\\site-packages (from aiohttp->datasets) (1.5.0)\n",
      "Requirement already satisfied: multidict<7.0,>=4.5 in c:\\users\\snorl\\appdata\\local\\pypoetry\\cache\\virtualenvs\\sc4002-nlp-liajfnhk-py3.12\\lib\\site-packages (from aiohttp->datasets) (6.1.0)\n",
      "Requirement already satisfied: yarl<2.0,>=1.12.0 in c:\\users\\snorl\\appdata\\local\\pypoetry\\cache\\virtualenvs\\sc4002-nlp-liajfnhk-py3.12\\lib\\site-packages (from aiohttp->datasets) (1.17.0)\n",
      "Requirement already satisfied: typing-extensions>=3.7.4.3 in c:\\users\\snorl\\appdata\\local\\pypoetry\\cache\\virtualenvs\\sc4002-nlp-liajfnhk-py3.12\\lib\\site-packages (from huggingface-hub>=0.23.0->datasets) (4.12.2)\n",
      "Requirement already satisfied: charset-normalizer<4,>=2 in c:\\users\\snorl\\appdata\\local\\pypoetry\\cache\\virtualenvs\\sc4002-nlp-liajfnhk-py3.12\\lib\\site-packages (from requests>=2.32.2->datasets) (3.4.0)\n",
      "Requirement already satisfied: idna<4,>=2.5 in c:\\users\\snorl\\appdata\\local\\pypoetry\\cache\\virtualenvs\\sc4002-nlp-liajfnhk-py3.12\\lib\\site-packages (from requests>=2.32.2->datasets) (3.10)\n",
      "Requirement already satisfied: urllib3<3,>=1.21.1 in c:\\users\\snorl\\appdata\\local\\pypoetry\\cache\\virtualenvs\\sc4002-nlp-liajfnhk-py3.12\\lib\\site-packages (from requests>=2.32.2->datasets) (2.2.3)\n",
      "Requirement already satisfied: certifi>=2017.4.17 in c:\\users\\snorl\\appdata\\local\\pypoetry\\cache\\virtualenvs\\sc4002-nlp-liajfnhk-py3.12\\lib\\site-packages (from requests>=2.32.2->datasets) (2024.8.30)\n",
      "Requirement already satisfied: colorama in c:\\users\\snorl\\appdata\\local\\pypoetry\\cache\\virtualenvs\\sc4002-nlp-liajfnhk-py3.12\\lib\\site-packages (from tqdm>=4.66.3->datasets) (0.4.6)\n",
      "Requirement already satisfied: python-dateutil>=2.8.2 in c:\\users\\snorl\\appdata\\local\\pypoetry\\cache\\virtualenvs\\sc4002-nlp-liajfnhk-py3.12\\lib\\site-packages (from pandas->datasets) (2.9.0.post0)\n",
      "Requirement already satisfied: pytz>=2020.1 in c:\\users\\snorl\\appdata\\local\\pypoetry\\cache\\virtualenvs\\sc4002-nlp-liajfnhk-py3.12\\lib\\site-packages (from pandas->datasets) (2024.2)\n",
      "Requirement already satisfied: tzdata>=2022.7 in c:\\users\\snorl\\appdata\\local\\pypoetry\\cache\\virtualenvs\\sc4002-nlp-liajfnhk-py3.12\\lib\\site-packages (from pandas->datasets) (2024.2)\n",
      "Requirement already satisfied: six>=1.5 in c:\\users\\snorl\\appdata\\local\\pypoetry\\cache\\virtualenvs\\sc4002-nlp-liajfnhk-py3.12\\lib\\site-packages (from python-dateutil>=2.8.2->pandas->datasets) (1.16.0)\n",
      "Requirement already satisfied: propcache>=0.2.0 in c:\\users\\snorl\\appdata\\local\\pypoetry\\cache\\virtualenvs\\sc4002-nlp-liajfnhk-py3.12\\lib\\site-packages (from yarl<2.0,>=1.12.0->aiohttp->datasets) (0.2.0)\n",
      "Note: you may need to restart the kernel to use updated packages.\n"
     ]
    },
    {
     "name": "stderr",
     "output_type": "stream",
     "text": [
      "DEPRECATION: Loading egg at c:\\users\\snorl\\downloads\\output\\pygrads-3.0.b1\\dir\\lib\\site-packages\\pygrads-3.0b1-py3.10.egg is deprecated. pip 24.3 will enforce this behaviour change. A possible replacement is to use pip for package installation. Discussion can be found at https://github.com/pypa/pip/issues/12330\n",
      "\n",
      "[notice] A new release of pip is available: 24.2 -> 24.3.1\n",
      "[notice] To update, run: python.exe -m pip install --upgrade pip\n"
     ]
    }
   ],
   "source": [
    "%pip install datasets"
   ]
  },
  {
   "cell_type": "code",
   "execution_count": 122,
   "metadata": {},
   "outputs": [],
   "source": [
    "import time\n",
    "from datasets import load_dataset, Dataset"
   ]
  },
  {
   "cell_type": "code",
   "execution_count": 123,
   "metadata": {},
   "outputs": [
    {
     "name": "stdout",
     "output_type": "stream",
     "text": [
      "Elapsed time to load dataset: 5.5913 seconds\n"
     ]
    }
   ],
   "source": [
    "start_time = time.time()\n",
    "\n",
    "dataset = load_dataset(\"rotten_tomatoes\")\n",
    "train_dataset = dataset['train']\n",
    "validation_dataset = dataset['validation']\n",
    "test_dataset = dataset['test']\n",
    "\n",
    "end_time = time.time()\n",
    "print(f\"Elapsed time to load dataset: {end_time - start_time:.4f} seconds\")"
   ]
  },
  {
   "cell_type": "code",
   "execution_count": 124,
   "metadata": {},
   "outputs": [
    {
     "data": {
      "text/plain": [
       "DatasetDict({\n",
       "    train: Dataset({\n",
       "        features: ['text', 'label'],\n",
       "        num_rows: 8530\n",
       "    })\n",
       "    validation: Dataset({\n",
       "        features: ['text', 'label'],\n",
       "        num_rows: 1066\n",
       "    })\n",
       "    test: Dataset({\n",
       "        features: ['text', 'label'],\n",
       "        num_rows: 1066\n",
       "    })\n",
       "})"
      ]
     },
     "execution_count": 124,
     "metadata": {},
     "output_type": "execute_result"
    }
   ],
   "source": [
    "dataset"
   ]
  },
  {
   "cell_type": "code",
   "execution_count": 125,
   "metadata": {},
   "outputs": [
    {
     "data": {
      "text/plain": [
       "{'text': ['the rock is destined to be the 21st century\\'s new \" conan \" and that he\\'s going to make a splash even greater than arnold schwarzenegger , jean-claud van damme or steven segal .',\n",
       "  'the gorgeously elaborate continuation of \" the lord of the rings \" trilogy is so huge that a column of words cannot adequately describe co-writer/director peter jackson\\'s expanded vision of j . r . r . tolkien\\'s middle-earth .',\n",
       "  'effective but too-tepid biopic',\n",
       "  'if you sometimes like to go to the movies to have fun , wasabi is a good place to start .',\n",
       "  \"emerges as something rare , an issue movie that's so honest and keenly observed that it doesn't feel like one .\"],\n",
       " 'label': [1, 1, 1, 1, 1]}"
      ]
     },
     "execution_count": 125,
     "metadata": {},
     "output_type": "execute_result"
    }
   ],
   "source": [
    "train_dataset[:5]"
   ]
  },
  {
   "cell_type": "markdown",
   "metadata": {},
   "source": [
    "# Part 1. Preparing Word Embeddings   \n",
    "As the first step of building your model, you need to prepare the word embeddings to form the\n",
    "input layer of your model. You are required to choose only from Word2vec or Glove to initialize\n",
    "your word embedding matrix. The word embedding matrix stores the pre-trained word vectors\n",
    "(taken from Word2vec or Glove) where each row corresponds to a vector for a specific word in the\n",
    "vocabulary formed from your task dataset.\n"
   ]
  },
  {
   "cell_type": "code",
   "execution_count": 126,
   "metadata": {},
   "outputs": [],
   "source": [
    "import json\n",
    "import os\n",
    "from collections import defaultdict\n",
    "\n",
    "import numpy as np\n",
    "import regex as re\n",
    "\n",
    "UNK_TOKEN = \"<UNK>\"\n",
    "EMBEDDING_DIM = 100 # glove embedding are usually 50,100,200,300\n",
    "SAVE_DIR = './result/'\n",
    "VOCAB_PATH = os.path.join(SAVE_DIR, 'vocab.json')\n",
    "EMBEDDING_MATRIX_PATH = os.path.join(SAVE_DIR, 'embedding_matrix.npy')\n",
    "WORD2IDX_PATH = os.path.join(SAVE_DIR, 'word2idx.json')\n",
    "IDX2WORD_PATH = os.path.join(SAVE_DIR, 'idx2word.json')\n",
    "\n",
    "os.makedirs(SAVE_DIR, exist_ok=True)"
   ]
  },
  {
   "cell_type": "markdown",
   "metadata": {},
   "source": [
    "## Preparing Vocab"
   ]
  },
  {
   "cell_type": "code",
   "execution_count": 127,
   "metadata": {},
   "outputs": [
    {
     "data": {
      "text/plain": [
       "\"emerges as something rare , an issue movie that's so honest and keenly observed that it doesn't feel like one .\""
      ]
     },
     "execution_count": 127,
     "metadata": {},
     "output_type": "execute_result"
    }
   ],
   "source": [
    "train_string = train_dataset[4][\"text\"]\n",
    "train_string"
   ]
  },
  {
   "cell_type": "code",
   "execution_count": 128,
   "metadata": {},
   "outputs": [
    {
     "data": {
      "text/plain": [
       "{' ',\n",
       " \"'s\",\n",
       " \"'t\",\n",
       " ',',\n",
       " '.',\n",
       " 'an',\n",
       " 'and',\n",
       " 'as',\n",
       " 'doesn',\n",
       " 'emerges',\n",
       " 'feel',\n",
       " 'honest',\n",
       " 'issue',\n",
       " 'it',\n",
       " 'keenly',\n",
       " 'like',\n",
       " 'movie',\n",
       " 'observed',\n",
       " 'one',\n",
       " 'rare',\n",
       " 'so',\n",
       " 'something',\n",
       " 'that'}"
      ]
     },
     "execution_count": 128,
     "metadata": {},
     "output_type": "execute_result"
    }
   ],
   "source": [
    "# Pattern is adapted from GPT2: https://github.com/huggingface/transformers/blob/4fb28703adc2b44ed66a44dd04740787010c5e11/src/transformers/models/gpt2/tokenization_gpt2.py#L167\n",
    "pattern = re.compile(r\"\"\"'s|'t|'re|'ve|'m|'ll|'d|\\p{L}+|\\p{N}+|[^\\s\\p{L}\\p{N}]+|\\s+(?!\\S)|\\s+\"\"\")\n",
    "tokens_re = pattern.findall(train_string)\n",
    "tokens_re = set(tokens_re)\n",
    "tokens_re"
   ]
  },
  {
   "cell_type": "code",
   "execution_count": 129,
   "metadata": {},
   "outputs": [
    {
     "name": "stdout",
     "output_type": "stream",
     "text": [
      "Requirement already satisfied: nltk in c:\\users\\snorl\\appdata\\local\\pypoetry\\cache\\virtualenvs\\sc4002-nlp-liajfnhk-py3.12\\lib\\site-packages (3.9.1)\n",
      "Requirement already satisfied: click in c:\\users\\snorl\\appdata\\local\\pypoetry\\cache\\virtualenvs\\sc4002-nlp-liajfnhk-py3.12\\lib\\site-packages (from nltk) (8.1.7)\n",
      "Requirement already satisfied: joblib in c:\\users\\snorl\\appdata\\local\\pypoetry\\cache\\virtualenvs\\sc4002-nlp-liajfnhk-py3.12\\lib\\site-packages (from nltk) (1.4.2)\n",
      "Requirement already satisfied: regex>=2021.8.3 in c:\\users\\snorl\\appdata\\local\\pypoetry\\cache\\virtualenvs\\sc4002-nlp-liajfnhk-py3.12\\lib\\site-packages (from nltk) (2024.9.11)\n",
      "Requirement already satisfied: tqdm in c:\\users\\snorl\\appdata\\local\\pypoetry\\cache\\virtualenvs\\sc4002-nlp-liajfnhk-py3.12\\lib\\site-packages (from nltk) (4.66.6)\n",
      "Requirement already satisfied: colorama in c:\\users\\snorl\\appdata\\local\\pypoetry\\cache\\virtualenvs\\sc4002-nlp-liajfnhk-py3.12\\lib\\site-packages (from click->nltk) (0.4.6)\n",
      "Note: you may need to restart the kernel to use updated packages.\n"
     ]
    },
    {
     "name": "stderr",
     "output_type": "stream",
     "text": [
      "DEPRECATION: Loading egg at c:\\users\\snorl\\downloads\\output\\pygrads-3.0.b1\\dir\\lib\\site-packages\\pygrads-3.0b1-py3.10.egg is deprecated. pip 24.3 will enforce this behaviour change. A possible replacement is to use pip for package installation. Discussion can be found at https://github.com/pypa/pip/issues/12330\n",
      "\n",
      "[notice] A new release of pip is available: 24.2 -> 24.3.1\n",
      "[notice] To update, run: python.exe -m pip install --upgrade pip\n"
     ]
    }
   ],
   "source": [
    "%pip install nltk\n"
   ]
  },
  {
   "cell_type": "code",
   "execution_count": 130,
   "metadata": {},
   "outputs": [
    {
     "name": "stderr",
     "output_type": "stream",
     "text": [
      "[nltk_data] Downloading package punkt_tab to\n",
      "[nltk_data]     C:\\Users\\snorl\\AppData\\Roaming\\nltk_data...\n",
      "[nltk_data]   Package punkt_tab is already up-to-date!\n"
     ]
    },
    {
     "data": {
      "text/plain": [
       "{\"'s\",\n",
       " ',',\n",
       " '.',\n",
       " 'an',\n",
       " 'and',\n",
       " 'as',\n",
       " 'does',\n",
       " 'emerges',\n",
       " 'feel',\n",
       " 'honest',\n",
       " 'issue',\n",
       " 'it',\n",
       " 'keenly',\n",
       " 'like',\n",
       " 'movie',\n",
       " \"n't\",\n",
       " 'observed',\n",
       " 'one',\n",
       " 'rare',\n",
       " 'so',\n",
       " 'something',\n",
       " 'that'}"
      ]
     },
     "execution_count": 130,
     "metadata": {},
     "output_type": "execute_result"
    }
   ],
   "source": [
    "import nltk\n",
    "nltk.download('punkt_tab')\n",
    "tokens_nltk = nltk.word_tokenize(train_string)\n",
    "tokens_nltk = set(tokens_nltk)\n",
    "tokens_nltk"
   ]
  },
  {
   "cell_type": "code",
   "execution_count": 131,
   "metadata": {},
   "outputs": [
    {
     "data": {
      "text/plain": [
       "{'does', \"n't\"}"
      ]
     },
     "execution_count": 131,
     "metadata": {},
     "output_type": "execute_result"
    }
   ],
   "source": [
    "tokens_nltk - tokens_re"
   ]
  },
  {
   "cell_type": "code",
   "execution_count": 132,
   "metadata": {},
   "outputs": [
    {
     "data": {
      "text/plain": [
       "{' ', \"'t\", 'doesn'}"
      ]
     },
     "execution_count": 132,
     "metadata": {},
     "output_type": "execute_result"
    }
   ],
   "source": [
    "tokens_re - tokens_nltk"
   ]
  },
  {
   "cell_type": "markdown",
   "metadata": {},
   "source": [
    "It does seem like NLTK tokenizer performs a better job at tokenizing the overall dataset.\n",
    "In light of that, we will use the tokenizer that was introduced in the lectures\n",
    "to obtain an overall more comprehensive tokenization process."
   ]
  },
  {
   "cell_type": "code",
   "execution_count": 133,
   "metadata": {},
   "outputs": [],
   "source": [
    "def tokenize(dataset: Dataset) -> set:\n",
    "    \"\"\"Tokenize the text in the dataset using NTLK\n",
    "\n",
    "    :param dataset: The dataset to tokenize\n",
    "    :type dataset: Dataset\n",
    "    :return: The set of tokens in the dataset\n",
    "    :rtype: set\n",
    "    \"\"\"\n",
    "    vocab = set()\n",
    "    \n",
    "    for example in dataset:\n",
    "        tokens = nltk.word_tokenize(example['text'])\n",
    "        vocab.update(tokens)\n",
    "    \n",
    "    print(f\"Vocabulary Size: {len(vocab)}\")\n",
    "\n",
    "    with open(VOCAB_PATH, 'w', encoding='utf-8') as f:\n",
    "        json.dump(list(vocab), f, ensure_ascii=False, indent=4)\n",
    "\n",
    "    print(f\"Vocabulary saved to {VOCAB_PATH}\")\n",
    "    return vocab"
   ]
  },
  {
   "cell_type": "code",
   "execution_count": 134,
   "metadata": {},
   "outputs": [
    {
     "name": "stdout",
     "output_type": "stream",
     "text": [
      "Vocabulary Size: 18030\n",
      "Vocabulary saved to ./result/vocab.json\n"
     ]
    }
   ],
   "source": [
    "vocab = tokenize(train_dataset)"
   ]
  },
  {
   "cell_type": "markdown",
   "metadata": {},
   "source": [
    "## Initialize Word Embedding Matrix with Glove"
   ]
  },
  {
   "cell_type": "code",
   "execution_count": 135,
   "metadata": {},
   "outputs": [],
   "source": [
    "def load_glove_vocab():\n",
    "    \"\"\"Load Glove vocab\n",
    "\n",
    "    :return: GloVe vocab\n",
    "    :rtype: Set\n",
    "    \"\"\"\n",
    "    print(\"Loading GloVe vocab...\")\n",
    "    glove_vocab:set = set()\n",
    "    # https://huggingface.co/datasets/SLU-CSCI4750/glove.6B.100d.txt\n",
    "    dataset = load_dataset(\"SLU-CSCI4750/glove.6B.100d.txt\")\n",
    "    dataset = dataset['train']\n",
    "    \n",
    "    for example in dataset:\n",
    "        word = example[\"text\"].split()[0]\n",
    "        glove_vocab.add(word)\n",
    "    print(\"GloVe vocab loaded.\")\n",
    "    return glove_vocab"
   ]
  },
  {
   "cell_type": "code",
   "execution_count": 136,
   "metadata": {},
   "outputs": [
    {
     "name": "stdout",
     "output_type": "stream",
     "text": [
      "Loading GloVe vocab...\n"
     ]
    },
    {
     "name": "stderr",
     "output_type": "stream",
     "text": [
      "Repo card metadata block was not found. Setting CardData to empty.\n"
     ]
    },
    {
     "name": "stdout",
     "output_type": "stream",
     "text": [
      "GloVe vocab loaded.\n",
      "Size of GloVe vocab: 400000\n",
      "Number of OOV Words: 1867\n"
     ]
    }
   ],
   "source": [
    "glove_vocab = load_glove_vocab()\n",
    "print(f\"Size of GloVe vocab: {len(glove_vocab)}\")\n",
    "\n",
    "oov_words = vocab - glove_vocab\n",
    "print(f\"Number of OOV Words: {len(oov_words)}\")"
   ]
  },
  {
   "cell_type": "code",
   "execution_count": 137,
   "metadata": {},
   "outputs": [],
   "source": [
    "def load_glove_embeddings() -> dict:\n",
    "    \"\"\"Load GloVe embeddings\n",
    "\n",
    "    :return: GloVe embeddings\n",
    "    :rtype: Dict\n",
    "    \"\"\"\n",
    "    print(\"Loading GloVe embeddings...\")\n",
    "    glove_dict = {}\n",
    "    word_embedding_glove = load_dataset(\"SLU-CSCI4750/glove.6B.100d.txt\")\n",
    "    word_embedding_glove = word_embedding_glove['train']\n",
    "    \n",
    "    for example in word_embedding_glove:\n",
    "        split_line = example[\"text\"].strip().split()\n",
    "        word = split_line[0]\n",
    "        vector = np.array(split_line[1:], dtype='float32')\n",
    "        glove_dict[word] = vector\n",
    "\n",
    "    print(f\"Total GloVe words loaded: {len(glove_dict)}\")\n",
    "    return glove_dict"
   ]
  },
  {
   "cell_type": "code",
   "execution_count": 138,
   "metadata": {},
   "outputs": [
    {
     "name": "stdout",
     "output_type": "stream",
     "text": [
      "Loading GloVe embeddings...\n"
     ]
    },
    {
     "name": "stderr",
     "output_type": "stream",
     "text": [
      "Repo card metadata block was not found. Setting CardData to empty.\n"
     ]
    },
    {
     "name": "stdout",
     "output_type": "stream",
     "text": [
      "Total GloVe words loaded: 400000\n",
      "Number of missing words: 1867\n",
      "The missing words are: ['clichês', 'well-contructed', 'munchausen-by-proxy', 'lip-non-synching', 'b-film', 'snore-fest', 'splat-man', 'wafer-thin', 'wankery', 'pretty-boy', 'curse-free', 'overemphatic', 'action/comedy', 'início', 'not-exactly', \"'date\", 'instante', 'pop-induced', 'predecible', 'all-over-the-map', 'melodramáticos', 'emptily', 'snake-down-the-throat', 'real-live', 'warm-milk', 'spook-a-rama', 'channel-style', \"'reality\", 'kosashvili', 'haunted-house', 'meanspirited', \"'life\", 'condensada', 'odd-couple', 'efteriades', 'she-cute', 'trash-cinema', 'lump-in-the-throat', 'snazziness', 'stadium-seat', 'siuation', 'espetáculo', 'gilliam-esque', 'fang-baring', 'unsuspenseful', 'saucer-eyed', 'skid-row', 'pie-type', 'péssima', \"'they\", 'últimos', 'low-heat', 'dogwalker', 'who-wrote-shakespeare', 'cutesy-pie', 'mystery/thriller', 'self-glorified', \"'silence\", 'sweaty-palmed', 'gosto', 'jaglomized', 'enfrentados', \"'stoked\", 'water-bound', 'industrial-model', '\\x96', 'half-dimensional', 'mothball-y', 'rat-a-tat', 'trend-hoppy', 'interspliced', 'hell-jaunt', 'date-night', \"'praise\", 'cliche-riddled', \"'difficult\", 'sandlerian', 're-assess', 'well-conceived', 'direção', 'marcken', 'hoo-ha', 'be-all-end-all', 'guilt-trip', 'kazmierski', \"hors-d'oeuvre\", \"'let\", 'fuddled', 'east-vs', 'narcotized', 'wise-beyond-her-years', 'sarcástica', 'non-exploitive', 'kiddie-oriented', 'fine-looking', 'sytle', 'cyber-horror', 'lapdance', 'unplundered', \"'we\", 'jeong-hyang', \"'sacre\", \"'swept\", 'pussy-ass', 'bug-eye', 'witlessness', 'huge-screen', 'qutting', 'cineasts', 'poor-me', 'loosely-connected', 'sleep-inducingly', 'gore-free', 'time-it-is', 'drop-dead', 'unemotive', 'fustily', '\\x97', \"'in\", 'two-actor', 'tolerable-to-adults', 'ankle-deep', 'cat-and-mouser', 'too-long', 'wife/colleague', 'fílmica', 'decirles', 'talk-heavy', \"'ick\", 'super-wealthy', 'not-great', \"'korean\", 'blighter', 'kill-by-numbers', 'precisa', 'monster/science', 'jar-jar', \"'are\", 're-fried', 'mother/daughter', 'peace-and-love', 'clericks', 'girls-behaving-badly', 'pokepie', 'faux-contemporary', 'penotti', 'lived-in', 'docu-makers', 'gantzes', 'mediocridade', 'witch-', 'deadeningly', 'decades-spanning', 'bigger-than-life', 'out-depress', 'animated-movie', \"'swimfan\", 'unslick', 'pollyana', 'puréed', 'surface-obsession', 'ball-and-chain', 'off-', 'jean-claud', 'self-revealing', '99-minute', 'stalk-and-slash', \"'garth\", 'hopped-up', 'brain-deadening', 'near-masterpiece', 'hastier', 'rape-payback', 'star-making', 'slice-of-depression', 'paródia', \"fun-for-fun's-sake\", 'villians', 'jacked-up', 'snoots', 'so-inept-', 'diciness', \"'drama\", 'representando', 'coriat', 'mass-murdering', 'peter/spider-man', 'girl-woman', 'direct-to-void', 'digital-video', \"'alabama\", 'minute-by-minute', 'monkeyfun', 'fire-red', 'not-quite-dead', 'laugh-a-minute', 'papai', 'star/producer', 'gorefests', 'delicia', 'hard-to-predict', 'sub-sophomoric', \"'divertida\", 'a-bornin', \"'you\", 'bowel-curdling', 'fascinantes', 'edge-of-your-seat', 'overmanipulative', 'vintage-tv', 'middle-brow', 'parka-wrapped', 'stortelling', 'disfrutable', 'co-dependence', 'bierbichler', 'stunt-hungry', 'soft-porn', 'heartbeat-like', \"'truth\", \"so-bad-it's-good\", 'director-chef', 'smashups', \"'anyone\", \"'urban\", 'solondzian', 'stomach-turning', 'tone-deaf', 'tardier', 'bang-the-drum', 'badly-rendered', \"matrix'-style\", 'kitchen-sink', 'bling-bling', 'clung-to', 'book-on-tape', 'shoplifts', 'digital-effects-heavy', 'sitcom-cute', 'bottomlessly', 'tv-insider', 'art-directed', 'predecesora', 'razor-sided', 'star-power', 'audacious-impossible', 'glizty', 'good-bad', 'substitutable', 'off-hollywood', 'shapable', 'covardia', 'gangster/crime', 'phoney-feeling', 'snazzy-looking', 'humbuggery', 'overcoming-obstacles', 'out-stealth', 'inconsequentiality', 'hellstenius', 'un-bear-able', \"'tonight\", 'disney-fied', 'hyper-cliched', 'thing-type', 'sheerly', 'têm', 'not-so-divine', \"'inspirational\", 'non-shakespeare', \"'cultural\", 'star-splashed', 'headbangingly', 'money-grubbing', 'oh-so-hollywood', 'two-wrongs-make-a-right', \"'comedian\", 'spy-on-the-run', 'new-agey', 'disease-of-the-week', 'out-to-change-the-world', \"'60s-homage\", 'holiday-season', 'cameo-packed', \"'why\", 'exhilarate', 'coma-like', 'digno', 'shimmeringly', 'decasia', \"'videodrome\", 'desfecho', 'and-miss', 'critic-proof', 'ming-liang', 'bait-and-switch', 'quasi-original', 'twinkly-eyed', 'kibbitzes', '-greaseballs', \"'rare\", 'squaddie', 'super-dooper-adorability', \"'laughing\", 'fast-edit', 'crappola', 'groan-to-guffaw', 'movilizador', 'dialed-up', 'control-alt-delete', 'ruh-roh', 'misty-eyed', 'mock-tarantino', 'shuck-and-jive', 'pseudo-serious', 'slam-bam', 'meat-and-potatoes', 'mibii', 'movie-esque', 'sweet-tempered', 'anti-darwinian', \"'hosts\", 'grandiosa', 'soberbio', 'often-hilarious', 'kidlets', 'frissons', 'dolphin-gasm', 'pell-mell', 'b-flick', \"'some\", 'homo-eroticism', 'self-amused', 'dominatrixes', 'waydowntown', 'nail-biter', 'half-lit', 'beat-charged', 'not-so-small', 'hard-partying', 'french-produced', 'director-writer', 'sub-aquatic', 'valley-girl', 'sugar-coating', 'all-in-all', 'thekids', 'italicizes', 'semi-coherent', 'pseudo-hip', \"'credit\", 'pianista', 'monster-in-the-', 'hitler-study', 'surface-effect', 'wishy-washy', 'exotic-looking', 'not-quite', \"'laugh\", 'hack-artist', 'tongue-tied', 'bible-study', 'corniest', 'docu-dogma', 'projeção', 'multi-layers', 'teen-speak', 'higuchinsky', 'artnering', \"mid-'70s\", 'manipulador', 'twist-and-turn', 'none-too-original', 'realidade', 'bollywood/hollywood', 'decidiram', \"'t\", 'finding-herself', 'ourside', \"'belgium\", 'bizzarre', 'cringe-inducing', 'blade-thin', 'soon-to-be-forgettable', 'truncheoning', 'universos', 'actuada', 'connect-the-dots', 'all-too-familiar', 'pulpiness', 'migraine-inducing', 'flick-knife', '129-minute', 'light-heartedness', 'ga-zillionth', 'community-therapy', 'kalvert', 'obviation', 'dogma-like', 'gut-buster', 'idoosyncratic', 'rocky-like', 'seldahl', 'quasi-shakespearean', 'demented-funny', '-west', 'pressure-cooker', 'well-meaningness', 'brazil-like', 'merchant-ivory', 'botch-jobs', 'spiritual-uplift', 'loosey-goosey', 'off-the-rack', 'rose-tinted', 'super-stupid', \"'picture\", 'remain-nameless', 'poke-mania', 'techno-sex', \"'seeking\", 'technology-of-the-moment', 'social/economic/urban', 'shock-you-into-laughter', 'paint-by-numbers', 'oh-so', 'socio-histo-political', 'still-raw', 'bibbidy-bobbidi-bland', 'worldly-wise', 'character-oriented', 'happily-ever', \"'dumb\", 'plaintiveness', 'tv-cops', 'hour-and-a-half', 'diretor', 'igualmente', 'criar', 'title-bout', 'laugh-filled', 'arriesgado', 'euro-film', 'surfer-girl', 'recoing', 'out-sized', 'double-pistoled', 'creature-feature', 'leatherbound', 'female-bonding', 'south-of-the-border', 'bone-dry', 'government/', 'beseechingly', 'anti-date', 'turkey-on-rolls', 'grade-grubbers', 'super-serious', \"'bowling\", \"'great\", 'otto-sallies', 'resultan', 'less-than-thrilling', 'torna-se', 'sparklingly', 'love-jealousy-', 'post-full', 'adventues', 'scene-by-scene', 'daytime-drama', 'captivatingly', \"'scratch\", 'tear-drenched', 'uplifter', 'epic-horror', 'shlockmeister', 'zzzzzzzzz', 'just-above-average', '-inevitable', 'bond-inspired', 'cirulnick', 'murder-on-campus', '\\x9170s', 'blutarsky', 'perseguição', 'mouglalis', 'one-trick', 'baseball-playing', 'exibi-lo', 'freak-outs', 'bar-scrapping', 'dreadfulness', \"'it\", 'brain-slappingly', 'premissa', 'glacier-paced', 'family-film', 'ryanovich', 'pseudo-witty', 'única', 'nerfs', \"'there\", 'dewy-eyed', \"'vain\", 'banderas-lucy', 'video-viewing', 'unentertaining', 'writer-producer-director', '179-minute', 'denlopp', \"'tradition\", 'screwed-up', 'possui', 'indie-heads', 'romijn-stamos', 'ultra-provincial', 'of-a-sequel', 'out-of-field', 'comedy/thriller', 'strafings', 'affectation-free', 'pro-fat', 'not-so-funny', \"'tron\", 'wild-and-woolly', 'travil', 'gender-provoking', 'over-dramatic', 'foot-dragging', 'stop-and-start', 'heartwarmingly', 'two-drink-minimum', 'head-banging', 'sock-you-in-the-eye', 'difficult-to-swallow', 'hidden-agenda', '\\x91what', 'male-ridden', 'cheese-laced', 'little-remembered', 'unamusing', \"'magnifique\", 'hoity-toity', 'meet-cute', 'sailboaters', 'go-round', \"'barbershop\", 'kasem-furnished', \"'bad\", 'boom-box', 'bjorkness', \"'empowerment\", 'kahlories', 'junk-calorie', 'self-', 'stumblings', 'reeboir', 'same-old', 'divertingly', 'all-wise-guys-all-the-time', 'románticas', 'self-caricature', 'excrescence', 'teary-eyed', 'atacarse', 'warmed-over', 'plot-wise', 'russos', 'super-', 'semi-surrealist', 'pun-laden', 'irony-free', 'aqueles', 'buzz-obsessed', 'toolbags', \"'epic\", 'non-britney', 'consciousness-raiser', 'age-wise', 'touchy-feely', 'colonics', 'string-pulling', 'low-wattage', 'cliche-drenched', 'kiddie-flick', 'francamente', \"'carente\", 'dog-paddle', 'money-oriented', 'salaciously', 'racial-issues', \"'blundering\", 'romething', 'heart-tugging', 'singer-turned', 'musicais', \"'brazil\", 'animé', 'brush-up', 'rip-roaring', 'unreligious', 'ultra-cheesy', 'romantic/comedy', 'step-printing', '-hollywood', 'sun-drenched', 'ages-old', 'contemplarse', \"'like\", 'television-', 'culminando', 'unlaughable', 'ooky-spookies', \"'red\", \"'home\", 'autocritique', 'teen-catholic-movie', 'risk-takers', 'shoe-loving', 'natural-seeming', 'gal-pal', \"'bartleby\", 'materalism', 'phonce', 'pouquíssimos', 'disappearing/reappearing', 'post-saving', 'dead-eye', 'freak-out', 'well-shot', 'low-cal', 'fillm', 'well-trod', 'greasiest', 'guión', 'ego-destroying', 'unfakable', 'smarty-pants', 'rise-and-fall', '-stunning', 'interações', 'mean-spiritedness', 'nonchallenging', 'eye-rolling', 'slasher-movie', \"'real\", 'versión', 'self-glorification', 'hanky-panky', 'duración', 'flower-power', 'no-surprise', 'audience-abuse', 'unrecommendable', 'mollà', 'rubber-face', 'sex-as-war', 'sequel-for-the-sake-', 'vidgame', 'not-so-hot', 'necessidade', 'self-congratulation', 'hard-sell', 'blue-light-special', 'originalidad', 'consumer-advice', \"'baran\", \"'uplifting\", 'crime-film', 'minac', 'substance-free', 'style-free', \"'amateur\", 'live-honed', \"'artistically\", 'close-to-solid', 'scary-funny', 'crass-a-thons', 'direto', 'narrativa', 'dysfunctionally', 'marveilleux', 're-hash', 'daneses', 'life-embracing', 'rough-trade', 'quasi-improvised', \"'abandon\", 'personagens', 'melodic/', 'open-endedness', '-the-night', 'sex-reassignment', \"'my\", 'crime-busting', 'two-hour-and-fifteen-minute', 'hammily', 'eardrum-dicing', 'early-on', 'kid-pleasing', 'stress-reducing', 'chloroform-soaked', 'opera-ish', 'oscar-caliber', 'aborbing', 'young-guns', 'non-porn', 'guessable', 'b-minus', 'cinema-besotted', 'ultra-manipulative', 'squirm-inducing', 'miscasts', \"'qatsi\", 'documentary-making', '4/5ths', 'queasy-stomached', \"'literary\", 'kid-empowerment', \"'linklater\", 'prefeminist', 'headline-fresh', 'played-out', 'skippable', 'slap-happy', \"'do\", '170-minute', \"'action\", 'travel-agency', 'the-week', 'co-writer/director', 'self-defeatingly', 'sticky-sweet', 'stage-trained', 'weirded-', 'whimsicality', 'nolden', 'give-a-damn', \"'woods\", \"'get\", 'slo-mo', 'roisterous', 'amuse-bouche', \"'refreshing\", 'self-flagellation', 'hirosue', 'ultra-loud', 'tv-to-movie', 'frankenstein-monster', 'luvvies', 'provocatuers', 'damon/bourne', 'pathos-filled', 'long-faced', \"'easily\", 'voices-from-the-other-side', 'hit-', 'prejuicios', \"'evelyn\", 'esquerdo', 'friday-night', 'frustrado', 'post-colonialist', 'barn-burningly', 'something-borrowed', 'girl-', 'marine/legal', 'dumbed-down', 'hamfisted', \"'chan\", 'mind-numbingly', 'fato', 'datedness', 'italianas', 'collage-form', 'the-blanks', 'phoned-in', 'silbersteins', 'cold-fish', 'well-detailed', 'time-vaulting', 'by-the-numbers', 'near-disaster', 'cor-blimey-luv-a-duck', 'explicados', 'the-loose', 'idemoto', 'culture-clash', 'pencil-thin', \"'children\", 'ink-and-paint', 'strip-mined', 'over-25s', 'eyeball-to-eyeball', 'perdona', \"shoot-'em-up\", \"'chick\", 'soaringly', 'armenian-canadian', 'non-god', 'often-deadly', 'smack-dab', \"'bold\", 'pincel', 'apallingly', 'ozpetek', 'revigorates', 'well-meant', 'artsploitation', 'desarrollarse', 'simbolizando', 'oh-those-wacky-brits', 'memória', 'speeds/', 'half-sleep', 'espite', 'anti-hollywood', 'emocionante', 'open-hearted', 'ótimo', \"'manhunter\", 'laser-beam', 'cliche-bound', 'assistir', \"'terrible\", 'estafeta', 'campaign-trail', 'techno-horror', \"'triumph\", 'equlibrium', 'luv-spreading', 'koshashvili', 'made-for-movie', 'well-wrought', \"'possession\", 'like-themed', 'bore-athon', 'european-set', 'actorish', 'jirí', \"'frankly\", 'Último', 'disney-style', 'miedos', 'dialogue-heavy', 'weapon-derived', 'começamos', \"'spectacular\", 'saído', 'triple-crosses', \"'god\", 'hard-', 'slash-dash', \"'have-yourself-a-happy-little-holocaust\", 'superlarge', 'oft-described', 'collosum', 'toe-tapping', \"'types\", 'cliché-riddled', \"'topless\", 'less-compelling', 'schlock-filled', 'repulsively', 'acabamos', 'junk-food', 'party-hearty', 'movie-of-the-week', \"'alternate\", 'inside-show-biz', 'auteil', 'wonder-what-', 'tear-jerking', 'smile-button', 'hayseeds-vs', 'foot-age', 'ineptitudes', \"'edgy\", 'often-cute', 'rambo-', 'big-fisted', 'aproveitar', 'whip-crack', 'dictator-madman', 'elegiacally', 'giggle-inducing', 'nonethnic', 'good-naturedness', '-the-cash', 'próprio', 'democracie', 'estrogen-free', 'fleet-footed', 'from-television', 're-voiced', 'imaginación', 'premisa', 'exporing', 'genre-busting', \"'de\", 'over-familiarity', 'gender-war', 'spy-movie', 'lifetime-channel', 'ballistic-pyrotechnic', 'patriotero', 'redneck-versus-blueblood', 'fantasti', 'well-observed', '112-minute', \"'jackie\", 'addessi', 'ningún', 'hyper-artificiality', 'brothers-style', 'hyper-real', 'fill-in-', 'giant-screen', \"'analyze\", 'djeinaba', \"'wayne\", 'near-xenophobic', \"'scooby\", 'slash-and-hack', \"'easier\", 'half-bad', 'fully-written', 'timewaster', 'strung-together', 'code-talk', 'graças', 'middle-fingered', 'superficiale', 'even-toned', 'paint-by-number', 'pop-cyber', 'often-mined', 'fish-out-of-water', 'eroti-comedy', 'field-sized', 'funny/gritty', 'líquido', 'in-the-ring', 'dust-caked', 'suspeito', 'puportedly', 'qatsi', 'enviará', 'not-so-bright', 'oscar-winners', 'cat-and-cat', 'wifty', 'cinema-and-self', 'gymkata', 'one-sidedness', 'atacar', 'oscar-worthy', 'self-destructiveness', 'actress-producer', 'video-game-based', 'annie-mary', 'incoloro', 'halfwit', 'corporate-sports', 'drek', \"'ace\", 'sixties-style', 'affirmational', \"'tweener\", \"'lovely\", 'not-quite-urban', 'well-mounted', 'wham-bam', 'neo-fascism', 'grunge-pirate', 'profundamente', 'non-reactionary', 'brûlée', 'mid-section', \"'blood\", 'evolução', 'abandone', 'flim-flam', \"it's-surreal\", 'costumey', 'whoopee-cushion', 'playboy-mansion', 'anteing', 'ihops', \"'jackass\", 'yawn-provoking', 'half-asleep', 'candy-coat', 'blood-curdling', 'true-blue', 'war/adventure', 'sober-minded', 'chabrolian', 'uncharismatically', 'kids-and-family-oriented', 'perde-se', \"'jason\", 'altman-esque', \"'deadly\", 'well-put-together', 'choquart', 'swordfights', 'movie-star', 'allodi', 'pseudo-intellectual', 'consegue', 'lovable-loser', \"'moore\", \"'si\", 'runteldat', 'gay-niche', 'cannier', 'anti-kieslowski', 'scuzbag', 'self-dramatizing', 'messing-about', \"cam'ron\", 'message-mongering', 'mind-bending', 'teeny-bopper', 'melodrama/character', 'complementares', \"'cq\", '\\x91direct-to-video', 'cliché-laden', 'dullingly', 'lovers-on-the-run', 'best-foreign-film', 'gator-bashing', 'fluff-ball', 'underdramatized', 're-do', 'cativante', 'pep-talk', 'clarke-williams', 'sogginess', 'claustrophic', \"'intro\", 'esteticamente', 'haphazardness', 'self-mutilating', 'cinemantic', 'gone-to-pot', 'episódio', 'bait-and-tackle', 'gender-bender-baller', 'dead-undead', 'drama/character', 'cletis', \"'artístico\", 'gasp-inducing', 'been-there', 'gabbiest', 'overly-familiar', 'zinger-filled', \"'frailty\", \"'enigma\", 'heremakono', 'kilt-wearing', 'næs', 'white-empowered', 'action/effects', 'non-bondish', 'outré', 'crime-land', 'extra-dry', 'demencial', 'beat-the-clock', 'absolutamente', 'head-trip', \"'shindler\", 'guy-in-a-dress', \"'face\", 'wise-cracker', 'dridi', 'achronological', 'buddy-comedy', '10th-grade', 'self-infatuated', 'only-in', 'well-honed', 'self-involved', 'fleshed-out', 'rah-rah', 'everlyn', 'often-funny', 'amusedly', 'dark-as-pitch', \"'film\", 'pie-like', 'character-who-shall-', 'head-turner', 'under-inspired', \"'blade\", 'movie\\x97if', 'imponderably', 'half-formed', 'sense-of-humour', 'sincera', 'still-inestimable', 'jump-in-your-seat', 'teen-gang', 'hjelje', 'perfervid', 'makmalbaf', 'well-realized', \"'men\", 'wewannour', 'portent-heavy', 'pg-rated', 'ho-tep', 'right-on', 'nutjob', 'conflict-powered', 'triple-espresso', 'bump-in', 'precollegiate', 'four-', 'mcbeal-style', 'soul-killing', 'crash-and-bash', 'too-tepid', \"'german-expressionist\", 'wince-inducing', 'fuddy-duddy', 'atreve', \"'grandeur\", 'entretenida', 'screen-eating', 'late-twenty-somethings', 'ricture', 'out-shock', 'retadora', 'food-for-thought', \"'this\", 'downy-cheeked', 'i-2-spoofing', 'também', 'hotsies', 'ear-splitting', 'boundary-hopping', 'spell-casting', 'police-oriented', 'horror/action', 'petin', \"'just\", 'stultifyingly', \"'under\", \"'naturalistic\", \"'been\", 'drenched-in-the-', \"'very\", 'heart-string', 'hawk-style', 'involvingly', \"'tap\", \"so-bad-it's-funny\", 'incompetência', 'baca-asay', \"'funny\", 'apesar', \"'hannibal\", 'self-congratulatory', 'dead-eyed', \"'performance\", 'award-worthy', 'retrata', 'old-world-', 'kaputschnik', 'stand-up-comedy', \"soul's-eye\", 'grace-in-rebellion', 'college-spawned', '1/2-hour', \"'perfection\", 'pee-related', 'third-act', 'human-scale', 'age-inspired', 'entreter', 'creepy-crawly', 'cliche-ridden', 'lástima', 'heart-affecting', \"'who\", 'margolo', 'wind-in-the-hair', 'prechewed', 'bio-doc', 'hour-and-a-half-long', 'destinees', 'uberviolence', 'mistaken-identity', 'crowd-pleaser', '-doing-it-for', 'mullinski', \"'too\", \"'ah\", 'lascivious-minded', 'fresh-squeezed', 'estranhos', 'preocupar', 'show-stoppingly', 'hit-to-miss', 'às', 'dead-center', 'heart-on-its-sleeve', \"'uhhh\", 'too-conscientious', 'beast-within', 'flatula', 'media-soaked', 's1m0ne', 'hard-to-swallow', 'dateflick', 'je-gyu', 'mini-mod-madness', 'single-mindedness', 'poo-poo', 'achival', '-white', 'suspenser', 'quizá', 'large-frame', 'ill-starred', 'street-realist', 'still-contemporary', 'feardotcom', 'period-perfect', 'tough-man', 'montied', 'punch-drunk', 'surehanded', '8217', \"mid-'90s\", \"'fish\", 'already-shallow', \"'aunque\", 'cutting-room', 'too-facile', 'snail-like', \"'tadpole\", \"'solid\", 'skeeved', 'forgettably', \"ain't-\", 'teen-exploitation', \"'synthetic\", 'mid-film', 'eye-filling', 'stagecrafts', 'writer/director/producer', 'juiceless', 'steinis', \"bull's-eye\", 'hollywood-action', 'mind-destroying', 'bolly-holly', 'preciosista', \"'guy\", 'pretenciosas', 'desnudo', 'independent-community', 'old-fashioned-movie', 'psychodramatics', \"'the\", 'image-mongering', 'beloved-major-', 'leplouff', \"early-'80s\", 'chopsocky', \"'assassin\", 'white-trash', 'sitcomishly', 'semi-humorous', 'nebrida', 'gerbosi', 'sinais', \"'love\", \"'requiem\", 'satirizado', 'snap-crackle', \"'if\", 'no-bull', 'kafka-inspired', 'unclassifiably', 'esfera', 'fever-pitched', 'makeup-deep', 'shrieky', 'contando', 'deseos', \"'ejemplo\", 'new/old', 'disease-of-', 'stiff-upper-lip', 'montaje', 'handbag-clutching', 'corruscating', 'ham-fisted', 'obligada', 'laboriousness', 'orquídeas', 'globetrotters-generals', 'black-', 'saímos', 'fizzability', 'ho-ho-ho', 'push-the-limits', 'b-ball', 'old-movie', 'pouty-lipped', \"'lick\", 'upper-crust', 'drama/action', 'semi-stable', 'kinetically-charged', 'old-hat', 'chou-chou', 'morning-glory', 'blank-faced', 'neo-augustinian', 'woman-', 'non-firsthand', \"'scream\", 'teeth-clenching', \"show-don't-tell\", \"'guests\", 'half-wit', 'double-', 'gang-infested', 'self-promoter', 'desee', 'esforço', 'mood-altering', 'estava', 'unsalvageability', 'oh-so-important', 'not-at-all-good', 'nerve-rattling', 'camareras', \"'no\", \"'co-stars\", \"'suits\", 'shakesperean', 'stable-full', 'class-', \"'orphans\", 'indieflick', 'stuporously', 'less-than-compelling', 'roteiro', \"'dragonfly\", 'untugged', 'slam-dunk', 'work-hours', 'existência', \"'zany\", 'cool-j', 'live-style', 'old-form', 'shmear', 'jazz-playing', 'coming-of-age/coming-out', 'elemento', 'not-being', '79-minute', 'shapelessly', 'bad-luck', 'techno-saturation', 'stuffiest', 'by-the-books', 'likableness', 'brothers/abrahams', \"'true\", 'semi-improvised', 'ho-hum', 'skate/surf', 'too-spectacular', 'pérdida', 'rap-metal', 'clutchy', 'intacto', 'pseudo-sophisticated', 'splatterfests', 'transfigures', 'big-bug', 'kickass', 'flakeball', 'spaniel-eyed', 'repellantly', 'non-mystery', 'actory', 'mcklusky', 'diferença', 'less-than-magic', 'sillified', 'unforgivingly', 'high-wattage', 'not-so-big', 'prewarned', \"'wow\", \"'masterpiece\", 'camera-work', 'bruckheimeresque', 'cliff-notes', 'tissue-thin', 'ever-watchful', 'walking-dead', 'nuttgens', 'fear-reducing', 'over-romanticize', 'reconceptualize', \"'best\", \"'girls\", 'picture-perfect', 'dès', 'landbound', 'vietnamese-born', \"'charly\", 'thesps', 'flex-a-thon', 'bottom-feeder', 'body-switching', 'hollywood-predictable', 'sumamente', 'oscar-sweeping', 'out-bad-act', \"'right-thinking\", 'overstylized', 'decent-enough', 'lesser-praised', 'contrária', 'responsável', 'eye-opener', 'sappier', 'engaña', 'smart-aleck', \"'juvenile\", 'single-mindedly', 'logra', 'well-edited', 'raunch-fests', 'tv-style', 'screeching-metal', 'comic/thriller', 'transforma', 'glad-handing', 'green-guts', 'goose-pimple', 'american-russian', 'grato', 'jaw-droppingly', '102-minute', 'tear-stained', 'prescinde', 'cop-flick', 'ugly-duckling', 'easter-egg-colored', 'bone-crushing', \"'snow\", 'disposible', \"'hungry-man\", 'christmas-tree', 'andamento', 'get-out', 'felinni', \"stalk'n'slash\", 'narcotizing', 'unencouraging', 'slowtime', 'bottom-rung', \"'surprises\", 'farewell-to-innocence', 'montias', 'full-throated', 'acting-workshop', 'glass-shattering', 'dearly-loved', 'girl-power', 'entretiene', 'dog-tag', 'sub-formulaic', 'techno-tripe', 'cadness', 'hubac', 'volletta', \"'estupendamente\", 'enfrentará', 'sugar-sweet', 'fuhgeddaboutit', \"'interesante\", 'video-shot', 'complejos', '28k', 'less-', 'poorly-constructed', 'war-movie', 'right-thinking', 'future-world', 'aceitou', 'handsome-looking', 'second-guess', 'colosal', 'manqué', 'live-wire', 'rusted-out', 'sweet-and-sour', 'modern-office', 'enternecedora', 'sequel-itis', 'flame-like', \"'issues\", 'ever-escalating', 'singer/composer', 'roteirista', 'buddy-cop', 'caper-comedy', 'alientation', 'joylessly', 'jae-eun', 'laissez-passer', 'updatings', 'all-too', 'six-packs', 'maelström', 'término', 'out-outrage', 'actuación', 'must-own', 'gut-busting', 'nohe', \"'twist\", 'disaffected-indie-film', 'shiver-inducing', 'prep-school', 'funcionar', 'mergulha', \"'sophisticated\", 'super-simple', 'sequer', \"'james\", 'back-stabbing', 'komediant', 'meets-john', 'oídos', 'outgag', \"'worse\", \"'solaris\", 'ventually', 'port-of-call', 'dull-witted', 'focus-grouped', 'rough-around-the-edges', 'thinly-conceived', 'throat-singing', 'ki-deok', '3/4th', 'genial-rogue', 'over-indulgent', 'inquestionável', 'pin-like', 'gut-bustingly', 'seventy-minute', \"aren't-kids-cute\", 'espectáculo', 'b+', 'medium-grade', 'post-9/11', 'mad-libs', 'laser-projected', 'romance-novel', 'colocar', 'over-amorous', 'ninguém', \"'drumline\", 'skyscraper-trapeze', 'crowdpleaser', 'conan-esque', 'ganha', 'sermonize', \"'chops\", 'movie-starring', 'sex-soaked', 'multi-character', 'É', 'light-footed', 'girl-on-girl', 'super-cool', 'watstein', 'good-deed/bad-deed', 'verete', \"'classic\", 'schneidermeister', 'gone-to-seed', 'doofus-on-', \"'yes\", 'hotdogging', 'janklowicz-mann', 'kid-vid', 'kalesniko', \"'quit\", 'hat-in-hand', 'gaï', \"'hey\", 'pre-shooting', 'acontecimentos', 'for-fans', \"'stock\", 'overplotted', \"'memento\", 'estudo', 'kiddie-friendly', \"'blue\", 'silly-looking', 'fulford-wierzbicki', 'else-', 'action-movie', 'preocupe', 'emotiva', 'manga-like', 'teen-targeted', 'stop-go', 'neo-hitchcockianism', 'bliss-less', 'show-tunes', \"'christian\", 'policiales', 'real\\x97she', 'birot', 'white-knuckled', 'snow-and-stuntwork', 'eighth-grader', 'dudsville', 'pseudo-rock-video', 'guilty-pleasure', 'side-splittingly', 'bodice-ripper', 'rápidamente', 'director/co-writer', 'spy-action', 'thriller-noir', 'vulakoro', 'gutterball', 'and-', 'malfitano-domingo', 'art-conscious', 'drippiness', 'razzle-dazzle', 'patient/doctor', 'political-action', 'go-for-broke', 'cheap-looking', 'bone-chilling', 'capturou', 'sports-movie', 'escapa', 'strainingly', 're-', 'under-rehearsed', 'trailer-trash', 'pigeonhole-resisting', 'unembarrassing', \"'butterfingered\", 'pretention', 'not-quite-suburban', 'gooeyness', 'lynch-like', 'divertida', 'force-feed', 'killer-thrillers', 'navel-gazing', 'wound-licking', 'long-on-the-shelf', 'sorprenderá', 'brit-com', 'years/', 'enrapturing', 'than-likely', 'time-switching', 'emocionalmente', \"'significant\", 'not-so-stock', 'utilizar', 'film-culture', 'raw-nerved', 'debuter', 'desaponta', 'do-over', 'plot-lines', '-of-the-week', 'hit-hungry', 'shagster', \"'compleja\", 'scene-stealing', 'inhospitability', 'masterpeice', 'witch-style', 'self-serious', 'superada', 'crummles', 'dime-store', 'sychowski', 'waters-like', \"'how\", 'heavy-handedness', 'girl-meets-girl', 'musclefest', 'slummy', 'pseudo-bio', 'slam-bang', 'front-loaded', 'mid-to-low', 'challenge-hungry', 'copmovieland', 'spring-break', 'am-radio', 'então', 'majority-oriented', 'one-joke', 'humor-seeking', 'save-the-planet', 'lower-wit', 'hyper-time', 'media-constructed', 'clunk-on-the-head', 'aburrido', \"keep-'em-guessing\", \"'challenging\", 'hobnail', 'unconned', 'first-timer', 'goombah', \"'all\", 'character-', 'nrelentingly', 'conmovedora', 'again-courage', 'done-that', 'small-budget', 'derivativeness', 'groan-inducing', 'highly-praised', \"'small\", '-a', \"'fatal\", 'ill-wrought', 'dumbfoundingly', 'delibrately', 'adapted-', 'bergmanesque', 'shayamalan', 'self-exploitation', 'mix-and-', 'expresar', 'accordion/harmonica/banjo', 'flck', 'you-are-there', 'thrift-shop', 'ultra-low-budget', 'impotentes', 'hard-to-believe', 'surfacey', 'truck-loving', 'nietzsche-referencing', 'car-wreck', 'unhibited', 'post-camp', 'havia', 'company-style', 'action-thriller/dark', 'retro-refitting', 'fear-inducing', 'grand-scale', 'convencional', 'fluxing', 'self-regarding', 'heidegger-', 'cipherlike', 'intentando', \"'dog\", 'pseudo-educational', 'guilt-free', 'comedy-deficient', 'rintarô', \"'what\", 'wisegirls', 'accomodates', 'japanimator', 'nickelodeon-esque', 'half-assed', 'poster-boy', 'mesmos', 'unimpressively', 'soul-stripping', 'b-scene', 'ápice', 'ya-yas', 'recurre', 'amped-up', 'deutchland', 'continuação', 'long-dreaded', 'less-than-objective', 'out-of-kilter', 'memory-as-identity', 'wish-fulfilling', 'a-knocking', \"'santa\", 'down-and-dirty', 'well-told', \"'unfaithful\", 'pile-ups', 'lame-old', 'kid-movie', 'nit-picky', 'bargain-basement', 'constatação', 'brother-man', 'sad-sack', 'once-over', \"'top\", 'low-', 'less-is-more', 'boom-bam', 'action-fantasy', 'candy-like', 'off-puttingly', 'movie-specific', 'certamente', 'chick-flick', 'cheap-shot', 'sitcom-worthy', 'intelectualmente', 'blown-out', \"'angels\", \"'safe\", 'sleep-inducing', \"'comedy\", 'meets-new', 'reeses', 'visualmente', 'hyper-realistic', 'lhe', 'quick-cut', 'therapy-dependent', 'action-filled', \"'thank\", 'powaqqatsi', 'opera-to-film', 'uncinematic', 'sucker-punch', 'thrill-kill', 'talking-head', 'talancón', 'wollter', '3-year-olds', 'bazadona', '-after', \"'nicholas\", 'amoses', 'middle-agers']\n",
      "Building embedding matrix...\n",
      "Vocab size: 16163\n",
      "\n",
      "Embedding matrix built successfully.\n",
      "Embedding matrix saved as './result/embedding_matrix.npy'.\n",
      "Mapping 'word2idx' saved as './result/word2idx.json'.\n",
      "Mapping 'idx2word' saved as './result/idx2word.json'.\n"
     ]
    }
   ],
   "source": [
    "glove_dict = load_glove_embeddings()\n",
    "\n",
    "# Collect words to be removed\n",
    "missing_words = []\n",
    "for word in vocab:\n",
    "    if word not in glove_dict:\n",
    "        missing_words.append(word)\n",
    "\n",
    "# Remove missing words from vocab\n",
    "for word in missing_words:\n",
    "    vocab.remove(word)\n",
    "        \n",
    "print(f\"Number of missing words: {len(missing_words)}\")\n",
    "print(f\"The missing words are: {missing_words}\")\n",
    "\n",
    "# mapping of words to indices and vice versa\n",
    "word2idx = {word: idx for idx, word in enumerate(sorted(vocab))}\n",
    "idx2word = {idx: word for word, idx in word2idx.items()}\n",
    "\n",
    "print(\"Building embedding matrix...\")\n",
    "vocab_size = len(word2idx)\n",
    "print(f\"Vocab size: {vocab_size}\")\n",
    "embedding_matrix = np.zeros((vocab_size, EMBEDDING_DIM))\n",
    "\n",
    "for word, idx in word2idx.items():\n",
    "    embedding_matrix[idx] = glove_dict[word]\n",
    "\n",
    "print()\n",
    "print(\"Embedding matrix built successfully.\")\n",
    "\n",
    "np.save(EMBEDDING_MATRIX_PATH, embedding_matrix)\n",
    "print(f\"Embedding matrix saved as '{EMBEDDING_MATRIX_PATH}'.\")\n",
    "\n",
    "with open(WORD2IDX_PATH, 'w', encoding='utf-8') as f:\n",
    "    json.dump(word2idx, f, ensure_ascii=False, indent=4)\n",
    "print(f\"Mapping 'word2idx' saved as '{WORD2IDX_PATH}'.\")\n",
    "\n",
    "with open(IDX2WORD_PATH, 'w', encoding='utf-8') as f:\n",
    "    json.dump(idx2word, f, ensure_ascii=False, indent=4)\n",
    "print(f\"Mapping 'idx2word' saved as '{IDX2WORD_PATH}'.\")\n"
   ]
  },
  {
   "cell_type": "code",
   "execution_count": 139,
   "metadata": {},
   "outputs": [
    {
     "name": "stdout",
     "output_type": "stream",
     "text": [
      "Shape of the embedding matrix:  (16163, 100)\n",
      "Data type of the elements:  float64\n",
      "First few rows of the embedding matrix: \n",
      "[ 0.38472     0.49351001  0.49096    -1.54340005 -0.33614001  0.62220001\n",
      "  0.32264999  0.075331    0.65591002 -0.23517001  1.21140003  0.06193\n",
      " -0.62004     0.31371     0.38947999 -0.24381    -0.065643    0.58797002\n",
      " -0.86382002  0.63165998  0.68362999  0.39647001 -0.62388003 -0.25094\n",
      "  0.92830998  1.51520002 -0.43917     0.22249     1.36950004 -0.53097999\n",
      "  0.39811     0.77113998  0.49043     0.58853     0.2376      0.31619999\n",
      " -0.011962   -0.047074    0.34584999 -1.29439998  0.18596999  0.27002001\n",
      " -0.70602    -0.20652001 -0.25194001 -0.48679999 -0.71538001 -0.23886999\n",
      " -0.041612   -0.55488002 -0.54225999  0.21235999  0.025341    0.96517003\n",
      " -0.88182998 -1.86810005  0.32657     1.16890001  1.17589998 -0.17393\n",
      " -0.3371      0.87535    -1.01139998 -0.61809999  1.00800002  0.31505999\n",
      "  0.24417     0.064393    0.33678001  0.33632001  0.45975     0.22813\n",
      " -0.37505001 -0.37507999  0.089301    0.53862     0.039714   -0.0036392\n",
      " -0.25023001 -0.18223999  0.42730999 -0.79118001 -0.29409    -0.40693\n",
      " -1.09080005 -0.16475999 -0.41457999 -0.67899001  0.28319001  0.30937001\n",
      "  0.49304    -0.067002    0.50221997  0.73958999 -0.47350001 -0.47341999\n",
      " -0.20242     0.026263    0.39052001  0.52217001]\n"
     ]
    }
   ],
   "source": [
    "import numpy as np \n",
    "\n",
    "# Load the embedding matrix\n",
    "embedding_matrix = np.load('result/embedding_matrix.npy')\n",
    "\n",
    "# Display basic information\n",
    "print(\"Shape of the embedding matrix: \", embedding_matrix.shape)\n",
    "print(\"Data type of the elements: \", embedding_matrix.dtype)\n",
    "\n",
    "# Display the first few entries\n",
    "print(\"First few rows of the embedding matrix: \")\n",
    "print(embedding_matrix[0])"
   ]
  },
  {
   "cell_type": "markdown",
   "metadata": {},
   "source": [
    "Let's also try to define a class that will help us to handle the loading and the\n",
    "handling of the embedding matrix! This will help with the downstream tasks as well.\n",
    "\n",
    "We define core APIs that will help us to load the embeddings and also to get the\n",
    "embeddings for a given word."
   ]
  },
  {
   "cell_type": "code",
   "execution_count": 140,
   "metadata": {},
   "outputs": [],
   "source": [
    "import torch\n",
    "\n",
    "\n",
    "class EmbeddingMatrix():\n",
    "    def __init__(self) -> None:\n",
    "        self.d = 0 \n",
    "        self.v = 0\n",
    "        self.pad_idx:int\n",
    "        self.embedding_matrix:np.ndarray\n",
    "        self.word2idx:dict\n",
    "    @classmethod\n",
    "    def load(cls) -> \"EmbeddingMatrix\":\n",
    "        # load vectors from file\n",
    "        embedding_matrix:np.ndarray = np.load(EMBEDDING_MATRIX_PATH)\n",
    "        # set attributes\n",
    "        em = cls()\n",
    "        em.embedding_matrix = embedding_matrix\n",
    "        \n",
    "        with open(WORD2IDX_PATH, 'r', encoding='utf-8') as f:\n",
    "            word2idx:dict = json.load(f)\n",
    "            em.word2idx = word2idx\n",
    "        em.v, em.d = embedding_matrix.shape\n",
    "        return em\n",
    "    @property\n",
    "    def to_tensor(self) -> torch.Tensor:\n",
    "        return torch.tensor(self.embedding_matrix, dtype=torch.float64)\n",
    "    def add_padding(self) -> None:\n",
    "        if \"<PAD>\" in self.word2idx:\n",
    "            return\n",
    "        padding = np.zeros((1, self.d), dtype='float32')\n",
    "        self.embedding_matrix = np.vstack((self.embedding_matrix, padding))\n",
    "        \n",
    "        self.v += 1\n",
    "        self.pad_idx = self.v - 1\n",
    "        self.word2idx[\"<PAD>\"] = self.pad_idx \n",
    "    @property\n",
    "    def dimension(self) -> int:\n",
    "        \"\"\"Dimension of the embedding matrix\n",
    "        \n",
    "        :return: The dimension of the embedding matrix\n",
    "        :rtype: int\n",
    "        \"\"\"\n",
    "        return self.d\n",
    "    @property\n",
    "    def vocab_size(self) -> int:\n",
    "        \"\"\"Vocabulary size of the embedding matrix\n",
    "\n",
    "        :return: The vocabulary size of the embedding matrix\n",
    "        :rtype: int\n",
    "        \"\"\"\n",
    "        return self.v\n",
    "    @property\n",
    "    def vocab(self) -> set[str]:\n",
    "        \"\"\"Vocabulary of the embedding matrix\n",
    "        \n",
    "        Set of words in the embedding matrix\n",
    "\n",
    "        :return: The vocabulary of the embedding matrix\n",
    "        :rtype: set[str]\n",
    "        \"\"\"\n",
    "        return set(self.word2idx.keys())\n",
    "    def __getitem__(self, word:str) -> np.ndarray:\n",
    "        return self.embedding_matrix[self.word2idx[word]]\n",
    "    def get_idx(self, word:str) -> int:\n",
    "        # if word not in vocab, return None\n",
    "        return self.word2idx.get(word, None)"
   ]
  },
  {
   "cell_type": "markdown",
   "metadata": {},
   "source": [
    "# Question 1. Word Embedding\n",
    "(a) What is the size of the vocabulary formed from your training data?   \n",
    "The size of the vocabulary is `18030`, after removing the OOV words from Glove embeddings, the\n",
    "final size of the vocabulary is `16163`.\n",
    "\n",
    "(b) We use OOV (out-of-vocabulary) to refer to those words appeared in the training data but not in the Word2vec (or Glove) dictionary. How many OOV words exist in your training data?    \n",
    "`1867`\n",
    "   \n",
    "(c) The existence of the OOV words is one of the well-known limitations of Word2vec (or Glove).\n",
    "Without using any transformer-based language models (e.g., BERT, GPT, T5), what do you\n",
    "think is the best strategy to mitigate such limitation? Implement your solution in your source\n",
    "code. Show the corresponding code snippet. \n",
    "\n",
    "Answer:\n",
    "\n",
    "(1) Using an <UNK> Token, with its Embeddings randomized. Map any OOV words to the <UNK> Token\n",
    "\n",
    "We explore the code snippet below\n",
    "\n",
    "```python\n",
    "for word in extended_vocab:\n",
    "    idx = word2idx[word]\n",
    "    # if word is in glove vocab, use glove vector\n",
    "    if word in glove_dict:\n",
    "        embedding_matrix[idx] = glove_dict[word]\n",
    "    else:\n",
    "        # use random vector for unknown words\n",
    "        if word == UNK_TOKEN:\n",
    "            embedding_matrix[idx] = np.random.normal(scale=0.6, size=(EMBEDDING_DIM,))\n",
    "        else:\n",
    "            embedding_matrix[idx] = embedding_matrix[word2idx[UNK_TOKEN]]\n",
    "```\n",
    "\n",
    "This is a useful strategy as we can use the embeddings of the <UNK> token to\n",
    "represent any unknown words. Thus, now for any unknown words, we can use the\n",
    "<UNK> token to represent them and for the vocabulary words that are not in the\n",
    "pretrained embeddings, we can use the embeddings of the <UNK> token to represent\n",
    "it.\n",
    "\n",
    "(2) There are many kinds of static embeddings. An extension of word2vec, fasttext (Bojanowski et al., 2017), addresses a problem with word2vec as we have presented it so far: it has no good way to deal with unknown words—words that appear in a test corpus but were unseen in the training corpus.\n",
    "\n",
    "A related problem is word sparsity, such as in languages with rich morphology, where some of the many forms for each noun and verb may only occur rarely. Fasttext deals with these problems by using subword models, representing each word as itself plus a bag of constituent n-grams, with special boundary symbols < and > added to each word."
   ]
  },
  {
   "cell_type": "markdown",
   "metadata": {},
   "source": []
  }
 ],
 "metadata": {
  "kernelspec": {
   "display_name": ".venv",
   "language": "python",
   "name": "python3"
  },
  "language_info": {
   "codemirror_mode": {
    "name": "ipython",
    "version": 3
   },
   "file_extension": ".py",
   "mimetype": "text/x-python",
   "name": "python",
   "nbconvert_exporter": "python",
   "pygments_lexer": "ipython3",
   "version": "3.12.7"
  }
 },
 "nbformat": 4,
 "nbformat_minor": 2
}
