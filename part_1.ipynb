{
 "cells": [
  {
   "cell_type": "code",
   "execution_count": 1,
   "metadata": {},
   "outputs": [],
   "source": [
    "import time\n",
    "from datasets import load_dataset, Dataset"
   ]
  },
  {
   "cell_type": "code",
   "execution_count": 2,
   "metadata": {},
   "outputs": [
    {
     "name": "stdout",
     "output_type": "stream",
     "text": [
      "Elapsed time to load dataset: 8.8539 seconds\n"
     ]
    }
   ],
   "source": [
    "start_time = time.time()\n",
    "\n",
    "dataset = load_dataset(\"rotten_tomatoes\")\n",
    "train_dataset = dataset['train']\n",
    "validation_dataset = dataset['validation']\n",
    "test_dataset = dataset['test']\n",
    "\n",
    "end_time = time.time()\n",
    "print(f\"Elapsed time to load dataset: {end_time - start_time:.4f} seconds\")"
   ]
  },
  {
   "cell_type": "code",
   "execution_count": 3,
   "metadata": {},
   "outputs": [
    {
     "data": {
      "text/plain": [
       "DatasetDict({\n",
       "    train: Dataset({\n",
       "        features: ['text', 'label'],\n",
       "        num_rows: 8530\n",
       "    })\n",
       "    validation: Dataset({\n",
       "        features: ['text', 'label'],\n",
       "        num_rows: 1066\n",
       "    })\n",
       "    test: Dataset({\n",
       "        features: ['text', 'label'],\n",
       "        num_rows: 1066\n",
       "    })\n",
       "})"
      ]
     },
     "execution_count": 3,
     "metadata": {},
     "output_type": "execute_result"
    }
   ],
   "source": [
    "dataset"
   ]
  },
  {
   "cell_type": "code",
   "execution_count": 4,
   "metadata": {},
   "outputs": [
    {
     "data": {
      "text/plain": [
       "{'text': ['the rock is destined to be the 21st century\\'s new \" conan \" and that he\\'s going to make a splash even greater than arnold schwarzenegger , jean-claud van damme or steven segal .',\n",
       "  'the gorgeously elaborate continuation of \" the lord of the rings \" trilogy is so huge that a column of words cannot adequately describe co-writer/director peter jackson\\'s expanded vision of j . r . r . tolkien\\'s middle-earth .',\n",
       "  'effective but too-tepid biopic',\n",
       "  'if you sometimes like to go to the movies to have fun , wasabi is a good place to start .',\n",
       "  \"emerges as something rare , an issue movie that's so honest and keenly observed that it doesn't feel like one .\"],\n",
       " 'label': [1, 1, 1, 1, 1]}"
      ]
     },
     "execution_count": 4,
     "metadata": {},
     "output_type": "execute_result"
    }
   ],
   "source": [
    "train_dataset[:5]"
   ]
  },
  {
   "cell_type": "markdown",
   "metadata": {},
   "source": [
    "# Part 1. Preparing Word Embeddings   \n",
    "As the first step of building your model, you need to prepare the word embeddings to form the\n",
    "input layer of your model. You are required to choose only from Word2vec or Glove to initialize\n",
    "your word embedding matrix. The word embedding matrix stores the pre-trained word vectors\n",
    "(taken from Word2vec or Glove) where each row corresponds to a vector for a specific word in the\n",
    "vocabulary formed from your task dataset.\n"
   ]
  },
  {
   "cell_type": "code",
   "execution_count": 5,
   "metadata": {},
   "outputs": [],
   "source": [
    "import json\n",
    "import os\n",
    "from collections import defaultdict\n",
    "\n",
    "import numpy as np\n",
    "import regex as re\n",
    "\n",
    "UNK_TOKEN = \"<UNK>\"\n",
    "EMBEDDING_DIM = 100 # glove embedding are usually 50,100,200,300\n",
    "SAVE_DIR = './result/'\n",
    "VOCAB_PATH = os.path.join(SAVE_DIR, 'vocab.json')\n",
    "EMBEDDING_MATRIX_PATH = os.path.join(SAVE_DIR, 'embedding_matrix.npy')\n",
    "WORD2IDX_PATH = os.path.join(SAVE_DIR, 'word2idx.json')\n",
    "IDX2WORD_PATH = os.path.join(SAVE_DIR, 'idx2word.json')\n",
    "\n",
    "os.makedirs(SAVE_DIR, exist_ok=True)"
   ]
  },
  {
   "cell_type": "markdown",
   "metadata": {},
   "source": [
    "## Preparing Vocab"
   ]
  },
  {
   "cell_type": "code",
   "execution_count": 6,
   "metadata": {},
   "outputs": [
    {
     "data": {
      "text/plain": [
       "\"emerges as something rare , an issue movie that's so honest and keenly observed that it doesn't feel like one .\""
      ]
     },
     "execution_count": 6,
     "metadata": {},
     "output_type": "execute_result"
    }
   ],
   "source": [
    "train_string = train_dataset[4][\"text\"]\n",
    "train_string"
   ]
  },
  {
   "cell_type": "code",
   "execution_count": 7,
   "metadata": {},
   "outputs": [
    {
     "data": {
      "text/plain": [
       "{' ',\n",
       " \"'s\",\n",
       " \"'t\",\n",
       " ',',\n",
       " '.',\n",
       " 'an',\n",
       " 'and',\n",
       " 'as',\n",
       " 'doesn',\n",
       " 'emerges',\n",
       " 'feel',\n",
       " 'honest',\n",
       " 'issue',\n",
       " 'it',\n",
       " 'keenly',\n",
       " 'like',\n",
       " 'movie',\n",
       " 'observed',\n",
       " 'one',\n",
       " 'rare',\n",
       " 'so',\n",
       " 'something',\n",
       " 'that'}"
      ]
     },
     "execution_count": 7,
     "metadata": {},
     "output_type": "execute_result"
    }
   ],
   "source": [
    "# Pattern is adapted from GPT2: https://github.com/huggingface/transformers/blob/4fb28703adc2b44ed66a44dd04740787010c5e11/src/transformers/models/gpt2/tokenization_gpt2.py#L167\n",
    "pattern = re.compile(r\"\"\"'s|'t|'re|'ve|'m|'ll|'d|\\p{L}+|\\p{N}+|[^\\s\\p{L}\\p{N}]+|\\s+(?!\\S)|\\s+\"\"\")\n",
    "tokens_re = pattern.findall(train_string)\n",
    "tokens_re = set(tokens_re)\n",
    "tokens_re"
   ]
  },
  {
   "cell_type": "code",
   "execution_count": 8,
   "metadata": {},
   "outputs": [
    {
     "name": "stderr",
     "output_type": "stream",
     "text": [
      "[nltk_data] Downloading package punkt_tab to\n",
      "[nltk_data]     C:\\Users\\USER\\AppData\\Roaming\\nltk_data...\n",
      "[nltk_data]   Package punkt_tab is already up-to-date!\n"
     ]
    },
    {
     "data": {
      "text/plain": [
       "{\"'s\",\n",
       " ',',\n",
       " '.',\n",
       " 'an',\n",
       " 'and',\n",
       " 'as',\n",
       " 'does',\n",
       " 'emerges',\n",
       " 'feel',\n",
       " 'honest',\n",
       " 'issue',\n",
       " 'it',\n",
       " 'keenly',\n",
       " 'like',\n",
       " 'movie',\n",
       " \"n't\",\n",
       " 'observed',\n",
       " 'one',\n",
       " 'rare',\n",
       " 'so',\n",
       " 'something',\n",
       " 'that'}"
      ]
     },
     "execution_count": 8,
     "metadata": {},
     "output_type": "execute_result"
    }
   ],
   "source": [
    "import nltk\n",
    "nltk.download('punkt_tab')\n",
    "tokens_nltk = nltk.word_tokenize(train_string)\n",
    "tokens_nltk = set(tokens_nltk)\n",
    "tokens_nltk"
   ]
  },
  {
   "cell_type": "code",
   "execution_count": 9,
   "metadata": {},
   "outputs": [
    {
     "data": {
      "text/plain": [
       "{'does', \"n't\"}"
      ]
     },
     "execution_count": 9,
     "metadata": {},
     "output_type": "execute_result"
    }
   ],
   "source": [
    "tokens_nltk - tokens_re"
   ]
  },
  {
   "cell_type": "code",
   "execution_count": 10,
   "metadata": {},
   "outputs": [
    {
     "data": {
      "text/plain": [
       "{' ', \"'t\", 'doesn'}"
      ]
     },
     "execution_count": 10,
     "metadata": {},
     "output_type": "execute_result"
    }
   ],
   "source": [
    "tokens_re - tokens_nltk"
   ]
  },
  {
   "cell_type": "markdown",
   "metadata": {},
   "source": [
    "It does seem like NLTK tokenizer performs a better job at tokenizing the overall dataset.\n",
    "In light of that, we will use the tokenizer that was introduced in the lectures\n",
    "to obtain an overall more comprehensive tokenization process."
   ]
  },
  {
   "cell_type": "code",
   "execution_count": 11,
   "metadata": {},
   "outputs": [],
   "source": [
    "def tokenize(dataset: Dataset) -> set:\n",
    "    \"\"\"Tokenize the text in the dataset using NTLK\n",
    "\n",
    "    :param dataset: The dataset to tokenize\n",
    "    :type dataset: Dataset\n",
    "    :return: The set of tokens in the dataset\n",
    "    :rtype: set\n",
    "    \"\"\"\n",
    "    vocab = set()\n",
    "    \n",
    "    for example in dataset:\n",
    "        tokens = nltk.word_tokenize(example['text'])\n",
    "        vocab.update(tokens)\n",
    "    \n",
    "    print(f\"Vocabulary Size: {len(vocab)}\")\n",
    "\n",
    "    with open(VOCAB_PATH, 'w', encoding='utf-8') as f:\n",
    "        json.dump(list(vocab), f, ensure_ascii=False, indent=4)\n",
    "\n",
    "    print(f\"Vocabulary saved to {VOCAB_PATH}\")\n",
    "    return vocab"
   ]
  },
  {
   "cell_type": "code",
   "execution_count": 12,
   "metadata": {},
   "outputs": [
    {
     "name": "stdout",
     "output_type": "stream",
     "text": [
      "Vocabulary Size: 18030\n",
      "Vocabulary saved to ./result/vocab.json\n"
     ]
    }
   ],
   "source": [
    "vocab = tokenize(train_dataset)"
   ]
  },
  {
   "cell_type": "markdown",
   "metadata": {},
   "source": [
    "## Initialize Word Embedding Matrix with Glove"
   ]
  },
  {
   "cell_type": "code",
   "execution_count": 13,
   "metadata": {},
   "outputs": [],
   "source": [
    "def load_glove_vocab():\n",
    "    \"\"\"Load Glove vocab\n",
    "\n",
    "    :return: GloVe vocab\n",
    "    :rtype: Set\n",
    "    \"\"\"\n",
    "    print(\"Loading GloVe vocab...\")\n",
    "    glove_vocab:set = set()\n",
    "    # https://huggingface.co/datasets/SLU-CSCI4750/glove.6B.100d.txt\n",
    "    dataset = load_dataset(\"SLU-CSCI4750/glove.6B.100d.txt\")\n",
    "    dataset = dataset['train']\n",
    "    \n",
    "    for example in dataset:\n",
    "        word = example[\"text\"].split()[0]\n",
    "        glove_vocab.add(word)\n",
    "    print(\"GloVe vocab loaded.\")\n",
    "    return glove_vocab"
   ]
  },
  {
   "cell_type": "code",
   "execution_count": 14,
   "metadata": {},
   "outputs": [
    {
     "name": "stdout",
     "output_type": "stream",
     "text": [
      "Loading GloVe vocab...\n"
     ]
    },
    {
     "name": "stderr",
     "output_type": "stream",
     "text": [
      "Repo card metadata block was not found. Setting CardData to empty.\n"
     ]
    },
    {
     "name": "stdout",
     "output_type": "stream",
     "text": [
      "GloVe vocab loaded.\n",
      "Size of GloVe vocab: 400000\n",
      "Number of OOV Words: 1867\n"
     ]
    }
   ],
   "source": [
    "glove_vocab = load_glove_vocab()\n",
    "print(f\"Size of GloVe vocab: {len(glove_vocab)}\")\n",
    "\n",
    "oov_words = vocab - glove_vocab\n",
    "print(f\"Number of OOV Words: {len(oov_words)}\")"
   ]
  },
  {
   "cell_type": "code",
   "execution_count": 15,
   "metadata": {},
   "outputs": [],
   "source": [
    "def load_glove_embeddings() -> dict:\n",
    "    \"\"\"Load GloVe embeddings\n",
    "\n",
    "    :return: GloVe embeddings\n",
    "    :rtype: Dict\n",
    "    \"\"\"\n",
    "    print(\"Loading GloVe embeddings...\")\n",
    "    glove_dict = {}\n",
    "    word_embedding_glove = load_dataset(\"SLU-CSCI4750/glove.6B.100d.txt\")\n",
    "    word_embedding_glove = word_embedding_glove['train']\n",
    "    \n",
    "    for example in word_embedding_glove:\n",
    "        split_line = example[\"text\"].strip().split()\n",
    "        word = split_line[0]\n",
    "        vector = np.array(split_line[1:], dtype='float32')\n",
    "        glove_dict[word] = vector\n",
    "\n",
    "    print(f\"Total GloVe words loaded: {len(glove_dict)}\")\n",
    "    return glove_dict"
   ]
  },
  {
   "cell_type": "code",
   "execution_count": 16,
   "metadata": {},
   "outputs": [
    {
     "name": "stdout",
     "output_type": "stream",
     "text": [
      "Building embedding matrix...\n",
      "Loading GloVe embeddings...\n"
     ]
    },
    {
     "name": "stderr",
     "output_type": "stream",
     "text": [
      "Repo card metadata block was not found. Setting CardData to empty.\n"
     ]
    },
    {
     "name": "stdout",
     "output_type": "stream",
     "text": [
      "Total GloVe words loaded: 400000\n",
      "Embedding matrix built successfully.\n",
      "Embedding matrix saved as './result/embedding_matrix.npy'.\n",
      "Mapping 'word2idx' saved as './result/word2idx.json'.\n",
      "Mapping 'idx2word' saved as './result/idx2word.json'.\n"
     ]
    }
   ],
   "source": [
    "# mapping of words to indices and vice versa\n",
    "word2idx = {word: idx for idx, word in enumerate(sorted(vocab))}\n",
    "idx2word = {idx: word for word, idx in word2idx.items()}\n",
    "\n",
    "vocab_size = len(vocab)\n",
    "embedding_matrix = np.zeros((vocab_size, EMBEDDING_DIM))\n",
    "\n",
    "print(\"Building embedding matrix...\")\n",
    "\n",
    "glove_dict = load_glove_embeddings()\n",
    "\n",
    "for word in vocab:\n",
    "    idx = word2idx[word]\n",
    "    # if word is in glove vocab, use glove vector\n",
    "    if word in glove_dict:\n",
    "        embedding_matrix[idx] = glove_dict[word]\n",
    "    else:\n",
    "    # word is not in glove vocab, we remove it from our vocab\n",
    "        # embedding_matrix[idx] = np.zeros(EMBEDDING_DIM)\n",
    "        word2idx.pop(word)\n",
    "        idx2word.pop(idx)\n",
    "\n",
    "print(\"Embedding matrix built successfully.\")\n",
    "\n",
    "np.save(EMBEDDING_MATRIX_PATH, embedding_matrix)\n",
    "print(f\"Embedding matrix saved as '{EMBEDDING_MATRIX_PATH}'.\")\n",
    "\n",
    "with open(WORD2IDX_PATH, 'w', encoding='utf-8') as f:\n",
    "    json.dump(word2idx, f, ensure_ascii=False, indent=4)\n",
    "print(f\"Mapping 'word2idx' saved as '{WORD2IDX_PATH}'.\")\n",
    "\n",
    "with open(IDX2WORD_PATH, 'w', encoding='utf-8') as f:\n",
    "    json.dump(idx2word, f, ensure_ascii=False, indent=4)\n",
    "print(f\"Mapping 'idx2word' saved as '{IDX2WORD_PATH}'.\")\n"
   ]
  },
  {
   "cell_type": "markdown",
   "metadata": {},
   "source": [
    "# Question 1. Word Embedding"
   ]
  },
  {
   "cell_type": "markdown",
   "metadata": {},
   "source": [
    "\n",
    "(a) What is the size of the vocabulary formed from your training data?   \n",
    "\n",
    "Answer:\n",
    "`16570`"
   ]
  },
  {
   "cell_type": "markdown",
   "metadata": {},
   "source": [
    "(b) We use OOV (out-of-vocabulary) to refer to those words appeared in the training data but not in the Word2vec (or Glove) dictionary. How many OOV words exist in your training data?\n",
    "\n",
    "Answer:\n",
    "`638`"
   ]
  },
  {
   "cell_type": "markdown",
   "metadata": {},
   "source": [
    "(c) The existence of the OOV words is one of the well-known limitations of Word2vec (or Glove).\n",
    "Without using any transformer-based language models (e.g., BERT, GPT, T5), what do you\n",
    "think is the best strategy to mitigate such limitation? Implement your solution in your source\n",
    "code. Show the corresponding code snippet. \n",
    "\n",
    "Answer:\n",
    "\n",
    "(1) Using an <UNK> Token, with its Embeddings randomized. Map any OOV words to the <UNK> Token\n",
    "\n",
    "We explore the code snippet below\n",
    "\n",
    "```python\n",
    "for word in extended_vocab:\n",
    "    idx = word2idx[word]\n",
    "    # if word is in glove vocab, use glove vector\n",
    "    if word in glove_dict:\n",
    "        embedding_matrix[idx] = glove_dict[word]\n",
    "    else:\n",
    "        # use random vector for unknown words\n",
    "        if word == UNK_TOKEN:\n",
    "            embedding_matrix[idx] = np.random.normal(scale=0.6, size=(EMBEDDING_DIM,))\n",
    "        else:\n",
    "            embedding_matrix[idx] = embedding_matrix[word2idx[UNK_TOKEN]]\n",
    "```\n",
    "\n",
    "This is a useful strategy as we can use the embeddings of the <UNK> token to\n",
    "represent any unknown words. Thus, now for any unknown words, we can use the\n",
    "<UNK> token to represent them and for the vocabulary words that are not in the\n",
    "pretrained embeddings, we can use the embeddings of the <UNK> token to represent\n",
    "it.\n",
    "\n",
    "(2) There are many kinds of static embeddings. An extension of word2vec, fasttext (Bojanowski et al., 2017), addresses a problem with word2vec as we have presented it so far: it has no good way to deal with unknown words—words that appear in a test corpus but were unseen in the training corpus.\n",
    "\n",
    "A related problem is word sparsity, such as in languages with rich morphology, where some of the many forms for each noun and verb may only occur rarely. Fasttext deals with these problems by using subword models, representing each word as itself plus a bag of constituent n-grams, with special boundary symbols < and > added to each word."
   ]
  },
  {
   "cell_type": "markdown",
   "metadata": {},
   "source": [
    "## Part 2. Model Training & Evaluation - RNN   \n",
    "Now with the pretrained word embeddings acquired from Part 1 and the dataset acquired from\n",
    "Part 0, you need to train a deep learning model for sentiment classification using the training set,\n",
    "conforming to these requirements:\n"
   ]
  },
  {
   "cell_type": "markdown",
   "metadata": {},
   "source": [
    "• Use the pretrained word embeddings from Part 1 as inputs; do not update them during training\n",
    "(they are “frozen”).   \n",
    "\n",
    "• Design a simple recurrent neural network (RNN), taking the input word embeddings, and\n",
    "predicting a sentiment label for each sentence. To do that, you need to consider how to\n",
    "aggregate the word representations to represent a sentence.   \n",
    "\n",
    "• Use the validation set to gauge the performance of the model for each epoch during training.\n",
    "You are required to use accuracy as the performance metric during validation and evaluation. \n",
    "   \n",
    "• Use the mini-batch strategy during training. You may choose any preferred optimizer (e.g.,\n",
    "SGD, Adagrad, Adam, RMSprop). Be careful when you choose your initial learning rate and\n",
    "mini-batch size. (You should use the validation set to determine the optimal configuration.)\n",
    "Train the model until the accuracy score on the validation set is not increasing for a few\n",
    "epochs.\n",
    "   \n",
    "• Evaluate your trained model on the test dataset, observing the accuracy score."
   ]
  },
  {
   "cell_type": "code",
   "execution_count": null,
   "metadata": {},
   "outputs": [],
   "source": [
    "# convert sentences into proper input for RNN -> sequence modelling \n",
    "# decide on RNN model? -> Vanilla Rnn / LSTM \n",
    "# dataloaders \n",
    "# train + validate -> decide on best hyperparams: optimizer = nn.optimizer.Adams\n",
    "# test "
   ]
  },
  {
   "cell_type": "markdown",
   "metadata": {},
   "source": []
  },
  {
   "cell_type": "code",
   "execution_count": 5,
   "metadata": {},
   "outputs": [
    {
     "data": {
      "text/plain": [
       "{'text': 'the rock is destined to be the 21st century\\'s new \" conan \" and that he\\'s going to make a splash even greater than arnold schwarzenegger , jean-claud van damme or steven segal .',\n",
       " 'label': 1}"
      ]
     },
     "execution_count": 5,
     "metadata": {},
     "output_type": "execute_result"
    }
   ],
   "source": [
    "# note: 1 is pos, 0 is neg, can just use Sigmoid \n",
    "train_dataset[0]"
   ]
  },
  {
   "cell_type": "code",
   "execution_count": 13,
   "metadata": {},
   "outputs": [],
   "source": [
    "import torch\n",
    "import torch.nn as nn\n",
    "from torch.utils.data import DataLoader\n",
    "from torch.utils.data import Dataset\n",
    "\n",
    "import numpy as np\n",
    "# create train, val, test dataloaders "
   ]
  },
  {
   "cell_type": "code",
   "execution_count": 12,
   "metadata": {},
   "outputs": [],
   "source": [
    "embedding_matrix = np.load(EMBEDDING_MATRIX_PATH)"
   ]
  },
  {
   "cell_type": "code",
   "execution_count": null,
   "metadata": {},
   "outputs": [],
   "source": [
    "# define hyperparams \n",
    "optimizer = nn.optimizer.Adams"
   ]
  },
  {
   "cell_type": "code",
   "execution_count": null,
   "metadata": {},
   "outputs": [],
   "source": [
    "class vanillaRNN(torch.nn.Module):\n",
    "  def __init__(self, input_dim, embedding_dim, hidden_dim, num_layers, output_dim):\n",
    "    super().__init__() \n",
    "    # self.embedding = nn.Embedding(input_dim, embedding_dim)\n",
    "    self.embedding = nn.Embedding.from_pretrained(embeddings=torch.from_numpy(embedding_matrix), freeze=True)\n",
    "    self.rnn = nn.RNN(input_dim, embedding_dim, hidden_dim, num_layers, batch_first=True) \n",
    "    # NOTE: batch_first = True, means need to input with the size of batch as the first dim\n",
    "    # NOTE: x will take the shape of (batch size, seq size, input size.)\n",
    "    self.fc = nn.Linear(hidden_dim, output_dim)\n",
    "    self.sigmoid = nn.Sigmoid()\n",
    "  def forward(self, x):\n",
    "    embedded = self.embedding(x)\n",
    "    output, _ = self.rnn(embedded)"
   ]
  },
  {
   "cell_type": "code",
   "execution_count": null,
   "metadata": {},
   "outputs": [],
   "source": [
    "# we can use an LSTM \n",
    "class LSTM(nn.Module):\n",
    "  pass "
   ]
  },
  {
   "cell_type": "code",
   "execution_count": null,
   "metadata": {},
   "outputs": [],
   "source": [
    "# rotten tomatoes dataset (train) \n",
    "# parameters --> word embeddings "
   ]
  },
  {
   "cell_type": "code",
   "execution_count": null,
   "metadata": {},
   "outputs": [],
   "source": [
    "# RNN model many (word seq) to one (sentiment)\n",
    "# vanilla RNN \n",
    "\n",
    "# LSTM (Gated RNN)\n",
    "\n",
    "# how to aggregate word representations to represent a sentence (concatenate / averaging)\n",
    "\n",
    "# sentiment classification => "
   ]
  },
  {
   "cell_type": "markdown",
   "metadata": {},
   "source": [
    "### Question 2. RNN\n",
    "(a) Report the final configuration of your best model, namely the number of training epochs,\n",
    "learning rate, optimizer, batch size.   \n",
    "\n",
    "(b) Report the accuracy score on the test set, as well as the accuracy score on the validation\n",
    "set for each epoch during training.   \n",
    "\n",
    "(c) RNNs produce a hidden vector for each word, instead of the entire sentence. Which methods\n",
    "have you tried in deriving the final sentence representation to perform sentiment classification?\n",
    "Describe all the strategies you have implemented, together with their accuracy scores on the\n",
    "test set."
   ]
  },
  {
   "cell_type": "markdown",
   "metadata": {},
   "source": [
    "## Part 3. Enhancement\n",
    "The RNN model used in Part 2 is a basic model to perform the task of sentiment classification. In\n",
    "this section, you will design strategies to improve upon the previous model you have built. You are\n",
    "required to implement the following adjustments:\n",
    "\n",
    "1. Instead of keeping the word embeddings fixed, now update the word embeddings (the same\n",
    "way as model parameters) during the training process.\n",
    "2. As discussed in Question 1(c), apply your solution in mitigating the influence of OOV words\n",
    "and train your model again.\n",
    "3. Keeping the above two adjustments, replace your simple RNN model in Part 2 with a biLSTM model and a biGRU model, incorporating recurrent computations in both directions and\n",
    "stacking multiple layers if possible.\n",
    "4. Keeping the above two adjustments, replace your simple RNN model in Part 2 with a Convolutional Neural Network (CNN) to produce sentence representations and perform sentiment\n",
    "classification.\n",
    "5. Further improve your model. You are free to use any strategy other than the above mentioned solutions. Changing hyper-parameters or stacking more layers is not counted towards\n",
    "a meaningful improvement.\n"
   ]
  },
  {
   "cell_type": "code",
   "execution_count": null,
   "metadata": {},
   "outputs": [],
   "source": []
  }
 ],
 "metadata": {
  "kernelspec": {
   "display_name": "venv",
   "language": "python",
   "name": "python3"
  },
  "language_info": {
   "codemirror_mode": {
    "name": "ipython",
    "version": 3
   },
   "file_extension": ".py",
   "mimetype": "text/x-python",
   "name": "python",
   "nbconvert_exporter": "python",
   "pygments_lexer": "ipython3",
   "version": "3.12.0"
  }
 },
 "nbformat": 4,
 "nbformat_minor": 2
}
