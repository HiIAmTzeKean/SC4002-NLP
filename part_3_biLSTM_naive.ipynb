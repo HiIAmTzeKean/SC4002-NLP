{
 "cells": [
  {
   "cell_type": "code",
   "execution_count": 1,
   "metadata": {},
   "outputs": [],
   "source": [
    "import os\n",
    "os.environ['KMP_DUPLICATE_LIB_OK']='True'\n",
    "import numpy as np\n",
    "import torch\n",
    "import torch.nn as nn\n",
    "import torch.optim as optim\n",
    "import torch.utils.data as data\n",
    "from common_utils import EmbeddingMatrix, UNK_TOKEN, EMBEDDING_DIM, tokenize, CustomDatasetPreparer, set_seed\n",
    "from torch.nn.utils.rnn import pad_sequence\n",
    "import torch.nn.functional as F\n",
    "from torch.nn.utils.rnn import pack_padded_sequence, pad_packed_sequence\n",
    "set_seed(42)"
   ]
  },
  {
   "cell_type": "markdown",
   "metadata": {},
   "source": [
    "# Part 3. Enhancement\n",
    "The RNN model used in Part 2 is a basic model to perform the task of sentiment classification. In\n",
    "this section, you will design strategies to improve upon the previous model you have built. You are\n",
    "required to implement the following adjustments:\n",
    "\n",
    "1. Instead of keeping the word embeddings fixed, now update the word embeddings (the same\n",
    "way as model parameters) during the training process.\n",
    "2. As discussed in Question 1(c), apply your solution in mitigating the influence of OOV words\n",
    "and train your model again.\n",
    "3. Keeping the above two adjustments, replace your simple RNN model in Part 2 with a biLSTM model and a biGRU model, incorporating recurrent computations in both directions and\n",
    "stacking multiple layers if possible.\n",
    "4. Keeping the above two adjustments, replace your simple RNN model in Part 2 with a Convolutional Neural Network (CNN) to produce sentence representations and perform sentiment\n",
    "classification.\n",
    "5. Further improve your model. You are free to use any strategy other than the above mentioned solutions. Changing hyper-parameters or stacking more layers is not counted towards\n",
    "a meaningful improvement.\n"
   ]
  },
  {
   "cell_type": "code",
   "execution_count": null,
   "metadata": {},
   "outputs": [],
   "source": [
    "\n"
   ]
  },
  {
   "cell_type": "markdown",
   "metadata": {},
   "source": [
    "## Import dataloaders and pre-trained embeddings from previous parts"
   ]
  },
  {
   "cell_type": "code",
   "execution_count": 2,
   "metadata": {},
   "outputs": [
    {
     "data": {
      "text/plain": [
       "16164"
      ]
     },
     "execution_count": 2,
     "metadata": {},
     "output_type": "execute_result"
    }
   ],
   "source": [
    "BATCH_SIZE = 64\n",
    "dataset_preparer = CustomDatasetPreparer(\n",
    "    dataset_name=\"rotten_tomatoes\",\n",
    "    batch_size=BATCH_SIZE\n",
    ")\n",
    "\n",
    "train_loader, val_loader, test_loader = dataset_preparer.get_dataloaders()\n",
    "word_embeddings = EmbeddingMatrix.load(fast_text=False)\n",
    "word_embeddings.add_padding()\n",
    "word_embeddings.add_unk_token()\n",
    "word_embeddings.unk_idx"
   ]
  },
  {
   "cell_type": "markdown",
   "metadata": {},
   "source": [
    "## 3(c.1) biLSTM - Naive"
   ]
  },
  {
   "cell_type": "markdown",
   "metadata": {},
   "source": [
    "Below is the first version of biLSTM which we have tried, which is a naive and simple implementation of the biLSTM model. BiLSTM is able to learn information both from the past and the future sequences in the network, compared to unidirectional which only looks at the past. LSTM makes use of 3 gates, Input gate, Forget gate, and the Output Gate to mimic a behaviour similar to human's and achieve memory persistence through a period of time."
   ]
  },
  {
   "cell_type": "markdown",
   "metadata": {},
   "source": [
    "### Definition of BiLSTM Module"
   ]
  },
  {
   "cell_type": "code",
   "execution_count": 3,
   "metadata": {},
   "outputs": [],
   "source": [
    "class BiLSTM(nn.Module):\n",
    "    \"\"\"\n",
    "    A class implementing a Bidirectional LSTM model for sequence classification.\n",
    "\n",
    "    \"\"\"\n",
    "    def __init__(self, word_embedding, hidden_dim, embedding_dim):\n",
    "        super(BiLSTM, self).__init__()\n",
    "        self.hidden_dim = hidden_dim\n",
    "        # Initialize the Embedding layer with pre-trained word embeddings, with freeze=false as required by the assignment\n",
    "        self.embedding = nn.Embedding.from_pretrained(torch.tensor(word_embedding, dtype=torch.float), freeze=False)\n",
    "        # Define the LSTM layer with 2 layers and bidirectional\n",
    "        self.lstm = nn.LSTM(embedding_dim, hidden_dim, num_layers=2, bidirectional=True, batch_first=True)\n",
    "        # Define a dropout layer to prevent overfitting\n",
    "        self.dropout = nn.Dropout(0.5)\n",
    "        # Define the fully connected layer with output size of 2 (for binary classification)\n",
    "        self.fc = nn.Linear(hidden_dim, 2)\n",
    "\n",
    "    def forward(self, input):\n",
    "        # Get the input size\n",
    "        input_size = input.size(0)\n",
    "        # Pass the input sequence into the embedding layer\n",
    "        embedded = self.embedding(input)\n",
    "        # Calculate the sequence lengths for each batch element\n",
    "        seq_lengths = torch.tensor([len(seq) for seq in embedded], dtype=torch.int64)\n",
    "        # Pack the padded sequences\n",
    "        packed_seqs = pack_padded_sequence(embedded, seq_lengths, batch_first=True, enforce_sorted=False)\n",
    "        # Pass the packed sequences through the LSTM layer to get the output and hidden states\n",
    "        lstm_out, (hidden_state_T, cell_state_T) = self.lstm(packed_seqs)\n",
    "        # Unpack the padded sequences back to normal tensors\n",
    "        unpacked_seq, _ = pad_packed_sequence(lstm_out, batch_first=True)\n",
    "        # Concatenate the final forward and backward hidden states from each sequence in the batch\n",
    "        # unpacked_seq[:,:,0:self.hidden_dim] is the forward direction and unpacked_seq[:,:,self.hidden_dim:] is the backward direction\n",
    "        unpacked_seq = unpacked_seq[:, :, :self.hidden_dim] + unpacked_seq[:, :, self.hidden_dim:]\n",
    "        # Apply dropout to prevent overfitting\n",
    "        dropout = self.dropout(unpacked_seq)\n",
    "        # Use adaptive max pooling to reduce the dimensionality of the output sequence\n",
    "        max_pooled = F.adaptive_max_pool1d(dropout.permute(0, 2, 1), (1,)).view(input_size, -1)\n",
    "        # Pass to the fully connected layer to get the final output\n",
    "        fc_out = self.fc(max_pooled)\n",
    "\n",
    "        return fc_out"
   ]
  },
  {
   "cell_type": "markdown",
   "metadata": {},
   "source": [
    "### Model creation"
   ]
  },
  {
   "cell_type": "code",
   "execution_count": 4,
   "metadata": {},
   "outputs": [
    {
     "name": "stdout",
     "output_type": "stream",
     "text": [
      "cuda\n",
      "BiLSTM(\n",
      "  (embedding): Embedding(16165, 100)\n",
      "  (lstm): LSTM(100, 8, num_layers=2, batch_first=True, bidirectional=True)\n",
      "  (dropout): Dropout(p=0.5, inplace=False)\n",
      "  (fc): Linear(in_features=8, out_features=2, bias=True)\n",
      ")\n"
     ]
    }
   ],
   "source": [
    "\"\"\"\n",
    "Model setting configuration\n",
    "\"\"\"\n",
    "# device = torch.device(\"cpu\")\n",
    "device = torch.device('cuda' if torch.cuda.is_available() else 'cpu')\n",
    "print(device)\n",
    "hidden_dim = 8\n",
    "max_norm = 5\n",
    "learning_rate = 1e-4\n",
    "epochs = 50\n",
    "es_patience = 15\n",
    "\n",
    "\"\"\"\n",
    "Model definition\n",
    "\"\"\"\n",
    "# Create LSTM model\n",
    "model = BiLSTM(word_embeddings.embedding_matrix,hidden_dim,word_embeddings.dimension)\n",
    "print(model)\n",
    "\n",
    "# Create loss function\n",
    "loss_fn = nn.CrossEntropyLoss()\n",
    "# Create optimizer\n",
    "optimizer = torch.optim.Adam(model.parameters(), lr=learning_rate, weight_decay=1e-5)\n",
    "# Create step LR scheduler\n",
    "scheduler = torch.optim.lr_scheduler.StepLR(optimizer, step_size=30, gamma=0.1)\n",
    "\n",
    "model = model.to(device)\n",
    "loss_fn = loss_fn.to(device)"
   ]
  },
  {
   "cell_type": "markdown",
   "metadata": {},
   "source": [
    "### Train-Test functions"
   ]
  },
  {
   "cell_type": "code",
   "execution_count": 5,
   "metadata": {},
   "outputs": [],
   "source": [
    "# function to predict accuracy\n",
    "def acc(pred, label):\n",
    "    _, predicted = torch.max(pred, 1)\n",
    "    return torch.sum(predicted == label).item()\n",
    "\n",
    "# training\n",
    "def train_loop(train_loader, model, loss_fn, optimizer, scheduler, max_norm=3):\n",
    "    train_loss = []\n",
    "    train_acc = 0.0\n",
    "    model.train()\n",
    "    for batch in train_loader:\n",
    "        X, _, _, Y = batch\n",
    "        X, Y = X.to(device), Y.to(device)\n",
    "\n",
    "        optimizer.zero_grad()\n",
    "        set_seed(42)  # https://datascience.stackexchange.com/a/56615 bug?\n",
    "        output = model(X)\n",
    "        # print(output)\n",
    "        # print(Y)\n",
    "        # calculate the loss and perform backpropagation\n",
    "        loss = loss_fn(output,Y)\n",
    "        loss.backward()\n",
    "        train_loss.append(loss.item())\n",
    "        # calculating accuracy\n",
    "        accuracy = acc(output, Y)\n",
    "        train_acc += accuracy\n",
    "        #helps prevent the exploding gradient problem in RNNs / LSTMs.\n",
    "        nn.utils.clip_grad_norm_(model.parameters(), max_norm)\n",
    "        optimizer.step()\n",
    "\n",
    "    epoch_train_loss = np.mean(train_loss)\n",
    "    epoch_train_acc = train_acc / len(train_loader.dataset)\n",
    "    # scheduler.step()\n",
    "    return epoch_train_loss, epoch_train_acc\n",
    "\n",
    "# testing\n",
    "def test_loop(test_loader, model, loss_fn):\n",
    "\n",
    "    test_loss = []\n",
    "    test_acc = 0.0\n",
    "    model.eval()\n",
    "    with torch.no_grad():\n",
    "        for batch in test_loader:\n",
    "            X, _, _, Y = batch\n",
    "            X, Y = X.to(device), Y.to(device)\n",
    "\n",
    "            optimizer.zero_grad()\n",
    "            set_seed(42)\n",
    "            output = model(X)\n",
    "\n",
    "            # calculate the loss and perform backpropagation\n",
    "            loss = loss_fn(output,Y)\n",
    "            test_loss.append(loss.item())\n",
    "            # calculating accuracy\n",
    "            accuracy = acc(output,Y)\n",
    "            test_acc += accuracy\n",
    "\n",
    "    epoch_test_loss = np.mean(test_loss)\n",
    "    epoch_test_acc = test_acc/len(test_loader.dataset)\n",
    "\n",
    "    return epoch_test_loss, epoch_test_acc"
   ]
  },
  {
   "cell_type": "code",
   "execution_count": 6,
   "metadata": {},
   "outputs": [
    {
     "name": "stderr",
     "output_type": "stream",
     "text": [
      "  2%|▏         | 1/50 [00:01<01:15,  1.53s/it]"
     ]
    },
    {
     "name": "stdout",
     "output_type": "stream",
     "text": [
      "epoch 1, train_loss 0.697422 train_acc 0.502579, val_loss 0.693333, val_acc 0.504690\n"
     ]
    },
    {
     "name": "stderr",
     "output_type": "stream",
     "text": [
      " 22%|██▏       | 11/50 [00:17<01:03,  1.62s/it]"
     ]
    },
    {
     "name": "stdout",
     "output_type": "stream",
     "text": [
      "epoch 11, train_loss 0.500301 train_acc 0.768464, val_loss 0.592520, val_acc 0.718574\n"
     ]
    },
    {
     "name": "stderr",
     "output_type": "stream",
     "text": [
      " 42%|████▏     | 21/50 [00:32<00:45,  1.56s/it]"
     ]
    },
    {
     "name": "stdout",
     "output_type": "stream",
     "text": [
      "epoch 21, train_loss 0.249812 train_acc 0.911020, val_loss 0.518284, val_acc 0.751407\n"
     ]
    },
    {
     "name": "stderr",
     "output_type": "stream",
     "text": [
      " 62%|██████▏   | 31/50 [00:48<00:31,  1.66s/it]"
     ]
    },
    {
     "name": "stdout",
     "output_type": "stream",
     "text": [
      "epoch 31, train_loss 0.122534 train_acc 0.965299, val_loss 0.525390, val_acc 0.750469\n"
     ]
    },
    {
     "name": "stderr",
     "output_type": "stream",
     "text": [
      " 72%|███████▏  | 36/50 [00:58<00:22,  1.62s/it]"
     ]
    },
    {
     "name": "stdout",
     "output_type": "stream",
     "text": [
      "early stopping after 37 epochs\n",
      "best val loss: 0.51705941733192\n",
      "best accuracy on val set: 0.7532833020637899\n"
     ]
    },
    {
     "name": "stderr",
     "output_type": "stream",
     "text": [
      "\n"
     ]
    }
   ],
   "source": [
    "best_val_loss = np.inf\n",
    "best_acc = 0\n",
    "train_loss_, train_acc_, val_loss_, val_acc_ = [], [], [], []\n",
    "# start training process\n",
    "\n",
    "from tqdm import tqdm\n",
    "for epoch in tqdm(range(epochs)):\n",
    "    train_loss, train_acc = train_loop(train_loader, model, loss_fn, optimizer,scheduler, max_norm)\n",
    "    val_loss, val_acc = test_loop(val_loader, model, loss_fn)\n",
    "\n",
    "    train_loss_.append(train_loss), train_acc_.append(train_acc)\n",
    "    val_loss_.append(val_loss), val_acc_.append(val_acc)\n",
    "\n",
    "    if val_acc > best_acc:\n",
    "        best_acc = val_acc\n",
    "    # early stopping\n",
    "    if val_loss < best_val_loss:\n",
    "        best_val_loss = val_loss\n",
    "        epochs_without_improvement = 0\n",
    "        best_model = model.state_dict()\n",
    "    else:\n",
    "        epochs_without_improvement += 1\n",
    "        if epochs_without_improvement >= es_patience:\n",
    "            print(f'early stopping after {epoch+1} epochs')\n",
    "            print(f'best val loss: {best_val_loss}')\n",
    "            print(f'best accuracy on val set: {best_acc}')\n",
    "            break\n",
    "\n",
    "    if epoch % 10 == 0:\n",
    "        print(f\"epoch {epoch+1}, train_loss {train_loss:>7f} train_acc {train_acc:>4f}, val_loss {val_loss:>7f}, val_acc {val_acc:>4f}\")"
   ]
  },
  {
   "cell_type": "code",
   "execution_count": 7,
   "metadata": {},
   "outputs": [
    {
     "data": {
      "image/png": "[encoded data removed]",
      "text/plain": [
       "<Figure size 2000x600 with 2 Axes>"
      ]
     },
     "metadata": {},
     "output_type": "display_data"
    }
   ],
   "source": [
    "import matplotlib.pyplot as plt\n",
    "fig = plt.figure(figsize = (20, 6))\n",
    "plt.subplot(1, 2, 1)\n",
    "plt.plot(train_acc_, label='Train Acc')\n",
    "plt.plot(val_acc_, label='Validation Acc')\n",
    "plt.title(\"Accuracy\")\n",
    "plt.legend()\n",
    "plt.grid()\n",
    "    \n",
    "plt.subplot(1, 2, 2)\n",
    "plt.plot(train_loss_, label='Train loss')\n",
    "plt.plot(val_loss_, label='Validation loss')\n",
    "plt.title(\"Loss\")\n",
    "plt.legend()\n",
    "plt.grid()\n",
    "\n",
    "plt.show()"
   ]
  },
  {
   "cell_type": "markdown",
   "metadata": {},
   "source": [
    "## 3(C) biLSTM - (naive) Results"
   ]
  },
  {
   "cell_type": "code",
   "execution_count": 8,
   "metadata": {},
   "outputs": [
    {
     "name": "stdout",
     "output_type": "stream",
     "text": [
      "test_loss 0.516879, test_acc 0.771107\n"
     ]
    }
   ],
   "source": [
    "test_loss, test_acc = test_loop(test_loader, model, loss_fn)\n",
    "print(f\"test_loss {test_loss:>7f}, test_acc {test_acc:>4f}\")"
   ]
  },
  {
   "cell_type": "markdown",
   "metadata": {},
   "source": [
    "For this naive simple model, we received a test accuracy of 0.771 on the test set, which is decent but has room for improvement. Hence, we will be taking a look in the next notebook to see if we can improve our results with an improved biGRU model, and try apply biLSTM to it as well since the structures of both models are quite similar."
   ]
  },
  {
   "cell_type": "markdown",
   "metadata": {},
   "source": [
    "# Question 3. Enhancement\n",
    "(a) Report the accuracy score on the test set when the word embeddings are updated (Part 3.1).\n",
    "   \n",
    "(b) Report the accuracy score on the test set when applying your method to deal with OOV words\n",
    "in Part 3.2.\n",
    "   \n",
    "(c) Report the accuracy scores of biLSTM and biGRU on the test set (Part 3.3).\n",
    "   \n",
    "(d) Report the accuracy scores of CNN on the test set (Part 3.4).\n",
    "   \n",
    "(e) Describe your final improvement strategy in Part 3.5. Report the accuracy on the test set\n",
    "using your improved model.\n",
    "   \n",
    "(f) Compare the results across different solutions above and describe your observations with possible discussions.\n"
   ]
  }
 ],
 "metadata": {
  "kernelspec": {
   "display_name": "Python 3",
   "language": "python",
   "name": "python3"
  },
  "language_info": {
   "codemirror_mode": {
    "name": "ipython",
    "version": 3
   },
   "file_extension": ".py",
   "mimetype": "text/x-python",
   "name": "python",
   "nbconvert_exporter": "python",
   "pygments_lexer": "ipython3",
   "version": "3.12.7"
  }
 },
 "nbformat": 4,
 "nbformat_minor": 2
}
